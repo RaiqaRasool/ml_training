{
  "nbformat": 4,
  "nbformat_minor": 0,
  "metadata": {
    "colab": {
      "provenance": [],
      "toc_visible": true,
      "authorship_tag": "ABX9TyObyw6+dT+EKd+kcwity+8i",
      "include_colab_link": true
    },
    "kernelspec": {
      "name": "python3",
      "display_name": "Python 3"
    },
    "language_info": {
      "name": "python"
    }
  },
  "cells": [
    {
      "cell_type": "markdown",
      "metadata": {
        "id": "view-in-github",
        "colab_type": "text"
      },
      "source": [
        "<a href=\"https://colab.research.google.com/github/RaiqaRasool/ml_training/blob/main/7_Layers.ipynb\" target=\"_parent\"><img src=\"https://colab.research.google.com/assets/colab-badge.svg\" alt=\"Open In Colab\"/></a>"
      ]
    },
    {
      "cell_type": "markdown",
      "source": [
        "#Layers\n",
        "Layers discussed:\n",
        "\n",
        "1. Fully Connected (Dense) Layer - nn.Linear\n",
        "2. Convolutional Layer\n",
        "3. Pooling Layer\n",
        "4. Dropout Layer\n",
        "5. Batch Normalization Layer\n",
        "6. Recurrent Layer (RNN, LSTM, GRU)\n",
        "7. Transformer\n",
        "\n"
      ],
      "metadata": {
        "id": "cfGTAztns2up"
      }
    },
    {
      "cell_type": "markdown",
      "source": [
        "## Dense Layer `(nn.Linear)` -- 2D input only .shape = (batch_size,input_size)\n",
        "`Even if you are working with a single input, you should add an extra dimension to represent the batch size. Input and output batch size always remain same but output each data point length can be different than input`"
      ],
      "metadata": {
        "id": "LyM90TDds4fs"
      }
    },
    {
      "cell_type": "code",
      "source": [
        "import torch\n",
        "import torch.nn as nn"
      ],
      "metadata": {
        "id": "eqlb4i461NWZ"
      },
      "execution_count": null,
      "outputs": []
    },
    {
      "cell_type": "markdown",
      "source": [
        "### Scalar"
      ],
      "metadata": {
        "id": "TWKZTuZb3dbH"
      }
    },
    {
      "cell_type": "markdown",
      "source": [
        "##### Input preparation for Linear layer"
      ],
      "metadata": {
        "id": "lzfQNUKv3mOW"
      }
    },
    {
      "cell_type": "code",
      "source": [
        "input=torch.tensor(4.)  # needed to be float as weights are float too and mat1 and mat2 should have same datatype\n",
        "input.shape"
      ],
      "metadata": {
        "colab": {
          "base_uri": "https://localhost:8080/"
        },
        "id": "JGsgzjUL3fi1",
        "outputId": "53affa21-2900-4ce3-f4fd-c59976617e62"
      },
      "execution_count": null,
      "outputs": [
        {
          "output_type": "execute_result",
          "data": {
            "text/plain": [
              "torch.Size([])"
            ]
          },
          "metadata": {},
          "execution_count": 67
        }
      ]
    },
    {
      "cell_type": "code",
      "source": [
        "input=input.unsqueeze(0)\n",
        "input.shape, input #1D"
      ],
      "metadata": {
        "colab": {
          "base_uri": "https://localhost:8080/"
        },
        "id": "4Jz5ht9N3q3W",
        "outputId": "f5dc7eb9-a431-45ea-cc3d-971663fb9ed2"
      },
      "execution_count": null,
      "outputs": [
        {
          "output_type": "execute_result",
          "data": {
            "text/plain": [
              "(torch.Size([1]), tensor([4.]))"
            ]
          },
          "metadata": {},
          "execution_count": 68
        }
      ]
    },
    {
      "cell_type": "code",
      "source": [
        "input=input.unsqueeze(0)\n",
        "input.shape, input #2D -- ready for linear layer"
      ],
      "metadata": {
        "colab": {
          "base_uri": "https://localhost:8080/"
        },
        "id": "Q6AWPeRA34xh",
        "outputId": "67b5ba36-b37c-49c7-cbb9-4476c888e2c4"
      },
      "execution_count": null,
      "outputs": [
        {
          "output_type": "execute_result",
          "data": {
            "text/plain": [
              "(torch.Size([1, 1]), tensor([[4.]]))"
            ]
          },
          "metadata": {},
          "execution_count": 69
        }
      ]
    },
    {
      "cell_type": "markdown",
      "source": [
        "##### Model initialization"
      ],
      "metadata": {
        "id": "hxo2EzoB3_5E"
      }
    },
    {
      "cell_type": "code",
      "source": [
        "model=nn.Linear(input.shape[1],2) #output shape will be (input.shape[0],2)\n",
        "model(input)"
      ],
      "metadata": {
        "colab": {
          "base_uri": "https://localhost:8080/"
        },
        "id": "TBcvhvZL3_My",
        "outputId": "ccaabf36-5cc5-40b1-ed87-7d45817612a4"
      },
      "execution_count": null,
      "outputs": [
        {
          "output_type": "execute_result",
          "data": {
            "text/plain": [
              "tensor([[2.6815, 0.7771]], grad_fn=<AddmmBackward0>)"
            ]
          },
          "metadata": {},
          "execution_count": 70
        }
      ]
    },
    {
      "cell_type": "code",
      "source": [
        "model=nn.Linear(input.shape[1],5) #output.shape[1]= 5\n",
        "model(input)"
      ],
      "metadata": {
        "colab": {
          "base_uri": "https://localhost:8080/"
        },
        "id": "HCfpvrby4mOA",
        "outputId": "937a0e99-ed0f-40a3-e52b-78c04d07c6bc"
      },
      "execution_count": null,
      "outputs": [
        {
          "output_type": "execute_result",
          "data": {
            "text/plain": [
              "tensor([[-3.0011, -1.8380, -1.5534, -2.6417, -0.2251]],\n",
              "       grad_fn=<AddmmBackward0>)"
            ]
          },
          "metadata": {},
          "execution_count": 71
        }
      ]
    },
    {
      "cell_type": "markdown",
      "source": [
        "### Vector"
      ],
      "metadata": {
        "id": "Al6SvoZE8fd9"
      }
    },
    {
      "cell_type": "markdown",
      "source": [
        "##### Input preparation for Linear layer"
      ],
      "metadata": {
        "id": "uELvo42U8mB_"
      }
    },
    {
      "cell_type": "code",
      "source": [
        "input=torch.randn(5)\n",
        "input.shape #1D"
      ],
      "metadata": {
        "colab": {
          "base_uri": "https://localhost:8080/"
        },
        "id": "NyDyvOns8m1X",
        "outputId": "abd5c103-158f-4a30-efbd-4ef403e255ae"
      },
      "execution_count": null,
      "outputs": [
        {
          "output_type": "execute_result",
          "data": {
            "text/plain": [
              "torch.Size([5])"
            ]
          },
          "metadata": {},
          "execution_count": 96
        }
      ]
    },
    {
      "cell_type": "code",
      "source": [
        "input=input.unsqueeze(0)\n",
        "input.shape #2D -- batch_size=1, input_size=5"
      ],
      "metadata": {
        "colab": {
          "base_uri": "https://localhost:8080/"
        },
        "id": "CjNFJ0Tx8p0b",
        "outputId": "068ed7ea-049e-41d9-fc24-8a3fd6f4637a"
      },
      "execution_count": null,
      "outputs": [
        {
          "output_type": "execute_result",
          "data": {
            "text/plain": [
              "torch.Size([1, 5])"
            ]
          },
          "metadata": {},
          "execution_count": 97
        }
      ]
    },
    {
      "cell_type": "markdown",
      "source": [
        "##### Model initialization"
      ],
      "metadata": {
        "id": "TmRV97rn8xob"
      }
    },
    {
      "cell_type": "code",
      "source": [
        "model=nn.Linear(input.shape[1],1)\n",
        "model(input)"
      ],
      "metadata": {
        "colab": {
          "base_uri": "https://localhost:8080/"
        },
        "id": "ytYstPo480xB",
        "outputId": "cdd4a8f6-8c84-4984-961b-8e197cd1bdf5"
      },
      "execution_count": null,
      "outputs": [
        {
          "output_type": "execute_result",
          "data": {
            "text/plain": [
              "tensor([[-0.2903]], grad_fn=<AddmmBackward0>)"
            ]
          },
          "metadata": {},
          "execution_count": 98
        }
      ]
    },
    {
      "cell_type": "markdown",
      "source": [
        "### Matrix"
      ],
      "metadata": {
        "id": "jaEWRmmewjhf"
      }
    },
    {
      "cell_type": "code",
      "source": [
        "input=torch.randn(3,8) # batch of 3 data points each of length 8\n",
        "input,input.shape"
      ],
      "metadata": {
        "colab": {
          "base_uri": "https://localhost:8080/"
        },
        "id": "KItaH3uS2G2R",
        "outputId": "d9b86e05-b986-48aa-c814-a126d8b0f24e"
      },
      "execution_count": null,
      "outputs": [
        {
          "output_type": "execute_result",
          "data": {
            "text/plain": [
              "(tensor([[-0.8877,  0.5589, -0.9284,  0.2638,  0.3865,  0.4690,  0.7408, -0.0692],\n",
              "         [-0.9729, -0.5995, -0.5392,  0.6817,  1.0942, -0.5135, -1.6977,  0.4975],\n",
              "         [-1.7352,  0.3303, -0.1278,  1.6519,  1.0609,  0.0554,  1.7864, -0.1639]]),\n",
              " torch.Size([3, 8]))"
            ]
          },
          "metadata": {},
          "execution_count": 52
        }
      ]
    },
    {
      "cell_type": "code",
      "source": [
        "model=nn.Linear(input.shape[1],5)"
      ],
      "metadata": {
        "id": "P4C6UyXz1Kyz"
      },
      "execution_count": null,
      "outputs": []
    },
    {
      "cell_type": "code",
      "source": [
        "model(input) # output is a batch of 3 with length of each equal to 5"
      ],
      "metadata": {
        "colab": {
          "base_uri": "https://localhost:8080/"
        },
        "id": "C8sfjJPt24_S",
        "outputId": "632ed9a6-a3d5-4b4f-f61a-4f4342b51a8d"
      },
      "execution_count": null,
      "outputs": [
        {
          "output_type": "execute_result",
          "data": {
            "text/plain": [
              "tensor([[-0.8965, -0.1802, -0.5719, -0.2444,  0.5147],\n",
              "        [ 0.1034,  0.2418, -0.3384,  0.0944,  0.1544],\n",
              "        [-1.3951, -0.8635, -1.6050, -0.9343,  1.0534]],\n",
              "       grad_fn=<AddmmBackward0>)"
            ]
          },
          "metadata": {},
          "execution_count": 56
        }
      ]
    },
    {
      "cell_type": "markdown",
      "source": [
        "### Tensor"
      ],
      "metadata": {
        "id": "__qOcK1G5AuF"
      }
    },
    {
      "cell_type": "markdown",
      "source": [
        "##### 3D Tensor (one image)"
      ],
      "metadata": {
        "id": "piKJFTQh7X_-"
      }
    },
    {
      "cell_type": "code",
      "source": [
        "input=torch.randn(3,5,5) # one image with three channels\n",
        "input.shape"
      ],
      "metadata": {
        "colab": {
          "base_uri": "https://localhost:8080/"
        },
        "id": "sWIWZ_tI5DpH",
        "outputId": "4a77dc95-c885-4b60-bca4-0292e5386f66"
      },
      "execution_count": null,
      "outputs": [
        {
          "output_type": "execute_result",
          "data": {
            "text/plain": [
              "torch.Size([3, 5, 5])"
            ]
          },
          "metadata": {},
          "execution_count": 88
        }
      ]
    },
    {
      "cell_type": "code",
      "source": [
        "flattened_image=input.view(1,-1)"
      ],
      "metadata": {
        "id": "mb6brAcU5MqV"
      },
      "execution_count": null,
      "outputs": []
    },
    {
      "cell_type": "code",
      "source": [
        "flattened_image.shape,flattened_image"
      ],
      "metadata": {
        "colab": {
          "base_uri": "https://localhost:8080/"
        },
        "id": "0f27q71V5unP",
        "outputId": "3fbe07f0-b4f5-4b12-ac5b-e5318fbeef4f"
      },
      "execution_count": null,
      "outputs": [
        {
          "output_type": "execute_result",
          "data": {
            "text/plain": [
              "(torch.Size([1, 75]),\n",
              " tensor([[ 0.4162,  2.0206,  0.9126, -0.3866,  1.4161,  0.3294,  1.6526,  0.6594,\n",
              "           0.5001, -2.4255, -1.2787, -0.3596, -0.4397,  1.3108, -0.8028,  0.0918,\n",
              "          -2.1638,  1.6110, -0.2180, -0.0803,  1.4637,  0.0816,  0.1082, -0.0191,\n",
              "          -0.3243,  1.9196,  0.9102, -1.1283, -0.4406,  1.3143, -0.4867,  1.2873,\n",
              "           0.0211,  0.7991, -0.4079,  0.2982,  0.8687, -0.9220, -0.2073, -0.1015,\n",
              "           1.4433, -0.4142,  0.7382, -1.3669,  1.2289, -0.2272,  0.6644,  0.4128,\n",
              "           1.8189,  1.2196, -0.4952, -0.1414,  0.7924, -0.1583,  1.5227,  0.0430,\n",
              "           0.3893, -0.0815,  0.8887,  0.3572, -0.1158,  0.1548,  0.6541,  1.2165,\n",
              "           0.2760, -0.2892, -1.0382, -1.4647,  1.0138,  0.1559,  0.0713,  0.8063,\n",
              "          -0.0953,  0.4947,  0.7453]]))"
            ]
          },
          "metadata": {},
          "execution_count": 90
        }
      ]
    },
    {
      "cell_type": "code",
      "source": [
        "model=nn.Linear(flattened_image.shape[1],4) # 75 input to 4 output of batch 1"
      ],
      "metadata": {
        "id": "YbrQ0Jk87InB"
      },
      "execution_count": null,
      "outputs": []
    },
    {
      "cell_type": "code",
      "source": [
        "model(flattened_image)"
      ],
      "metadata": {
        "colab": {
          "base_uri": "https://localhost:8080/"
        },
        "id": "d6JT7zsi7Rv5",
        "outputId": "bbeadbda-f758-40e0-ef9b-3f1d37271d30"
      },
      "execution_count": null,
      "outputs": [
        {
          "output_type": "execute_result",
          "data": {
            "text/plain": [
              "tensor([[-0.2190,  0.1244, -0.5459,  1.2035]], grad_fn=<AddmmBackward0>)"
            ]
          },
          "metadata": {},
          "execution_count": 92
        }
      ]
    },
    {
      "cell_type": "markdown",
      "source": [
        "##### 4D Tensor (batch of images)"
      ],
      "metadata": {
        "id": "xJTKwr_w1go8"
      }
    },
    {
      "cell_type": "code",
      "source": [
        "input=torch.randn(5,3,2,2) #batch of 5 rgb images of size 2 by 2\n",
        "input.shape, input"
      ],
      "metadata": {
        "colab": {
          "base_uri": "https://localhost:8080/"
        },
        "id": "ELCmGqZi7hAE",
        "outputId": "1762fbfe-7701-4226-f3d7-f98b24088b3c"
      },
      "execution_count": null,
      "outputs": [
        {
          "output_type": "execute_result",
          "data": {
            "text/plain": [
              "(torch.Size([5, 3, 2, 2]),\n",
              " tensor([[[[ 9.0368e-01, -2.5509e-01],\n",
              "           [ 3.5766e-01, -1.5153e+00]],\n",
              " \n",
              "          [[-7.3570e-01,  1.9678e-01],\n",
              "           [-6.2169e-01, -6.3124e-01]],\n",
              " \n",
              "          [[-4.3807e-01, -5.1239e-01],\n",
              "           [-4.6905e-01, -4.6107e-01]]],\n",
              " \n",
              " \n",
              "         [[[ 1.0498e+00, -4.8479e-01],\n",
              "           [-1.2236e+00,  8.5175e-01]],\n",
              " \n",
              "          [[ 5.9461e-01,  2.2837e-01],\n",
              "           [-2.2460e+00,  1.5308e+00]],\n",
              " \n",
              "          [[-4.2225e-01,  1.9882e-01],\n",
              "           [-2.0032e+00, -8.8111e-01]]],\n",
              " \n",
              " \n",
              "         [[[ 1.0937e+00,  5.4494e-01],\n",
              "           [ 1.4776e+00,  1.1494e-03]],\n",
              " \n",
              "          [[ 2.0263e-01,  2.1724e+00],\n",
              "           [-8.1181e-01,  1.3381e-01]],\n",
              " \n",
              "          [[ 2.0608e-01,  4.6331e-01],\n",
              "           [-2.2816e-02,  6.6122e-01]]],\n",
              " \n",
              " \n",
              "         [[[-1.4409e-01, -6.5565e-02],\n",
              "           [-9.6574e-01, -1.9926e-01]],\n",
              " \n",
              "          [[-1.3056e-01,  7.5614e-01],\n",
              "           [-6.4310e-01,  1.2153e+00]],\n",
              " \n",
              "          [[-7.6127e-01, -2.2336e+00],\n",
              "           [-1.2508e-01,  9.6948e-01]]],\n",
              " \n",
              " \n",
              "         [[[-1.4750e+00,  2.2051e-01],\n",
              "           [ 1.5523e+00,  4.1996e-01]],\n",
              " \n",
              "          [[-4.1591e-01,  6.5646e-01],\n",
              "           [-1.2139e+00, -8.1091e-01]],\n",
              " \n",
              "          [[ 2.0942e+00,  7.5359e-01],\n",
              "           [ 9.2317e-01,  1.5110e+00]]]]))"
            ]
          },
          "metadata": {},
          "execution_count": 93
        }
      ]
    },
    {
      "cell_type": "code",
      "source": [
        "input=input.view(input.shape[0],-1) # -1 as second arg adjust all the remaining elements in this dim -- (batch_size,3*2*2)\n",
        "input.shape"
      ],
      "metadata": {
        "colab": {
          "base_uri": "https://localhost:8080/"
        },
        "id": "PD5wWmXo7uJB",
        "outputId": "21d81934-e473-49fc-f986-71c207236316"
      },
      "execution_count": null,
      "outputs": [
        {
          "output_type": "execute_result",
          "data": {
            "text/plain": [
              "torch.Size([5, 12])"
            ]
          },
          "metadata": {},
          "execution_count": 94
        }
      ]
    },
    {
      "cell_type": "code",
      "source": [
        "model=nn.Linear(input.shape[1],24)\n",
        "model(input) # output = batch of 5 datapoints with each of length 24"
      ],
      "metadata": {
        "colab": {
          "base_uri": "https://localhost:8080/"
        },
        "id": "3_on8WUR7_D6",
        "outputId": "6d373851-80e1-41d2-aa9e-a6a1086b5666"
      },
      "execution_count": null,
      "outputs": [
        {
          "output_type": "execute_result",
          "data": {
            "text/plain": [
              "tensor([[ 0.0585, -0.7096,  0.0058,  0.1185, -0.6390,  0.0305, -0.1158, -0.4213,\n",
              "         -0.6294, -0.0989, -0.5064,  0.8272, -0.0708,  0.1998, -0.9683,  0.4492,\n",
              "         -0.6693, -0.5318, -0.0774,  0.1644, -0.4504,  0.5158,  0.4498, -0.5372],\n",
              "        [-0.0576, -0.0856,  0.2581,  0.2658, -0.2735, -0.7777, -1.1239, -1.1011,\n",
              "          1.1810,  1.2452,  0.1039, -0.0719, -0.8328, -0.8279, -0.3986, -0.9016,\n",
              "          0.5757, -0.3830,  0.0745, -0.9567, -0.6612, -0.3153,  0.2573,  0.8959],\n",
              "        [-0.9415, -0.7363,  0.1603, -0.1438, -0.8056,  0.3152,  0.3112,  0.1220,\n",
              "         -0.0373,  0.1894, -0.2095,  0.4371,  0.4021,  0.5422, -0.0510, -0.5914,\n",
              "         -0.4021,  0.3254, -0.4129, -0.5451, -0.0852, -0.0219, -0.5807, -0.8710],\n",
              "        [ 0.1499, -0.5062, -0.6375,  0.1653, -0.4776, -0.0809, -0.0062, -0.6016,\n",
              "         -0.5522, -0.6284, -0.7045, -0.2489,  0.3511,  0.2680, -0.9011,  0.0674,\n",
              "         -0.3803, -0.4561,  0.5177,  0.6564, -0.0342, -0.3129,  0.0334, -0.0286],\n",
              "        [-0.6412,  0.3484, -0.0634,  0.4578,  0.6997, -0.1104,  1.1209,  0.1579,\n",
              "          0.0467, -1.0254,  0.5140, -0.4967,  1.3398,  1.6379,  1.1464, -0.7837,\n",
              "          0.4707,  0.5450, -0.5559,  0.5857,  0.1700,  0.7539, -0.5846, -0.6233]],\n",
              "       grad_fn=<AddmmBackward0>)"
            ]
          },
          "metadata": {},
          "execution_count": 95
        }
      ]
    },
    {
      "cell_type": "markdown",
      "source": [
        "## CNN\n",
        "\n",
        "`scalar, vector, matrices and 3D tensors should be unsqueezed to 4D tensor for conv2D and 5D for conv3D`"
      ],
      "metadata": {
        "id": "J8Fqol9o9h5Z"
      }
    },
    {
      "cell_type": "markdown",
      "source": [
        "![Screenshot 2023-10-27 at 12.23.08 PM.png](data:image/png;base64,iVBORw0KGgoAAAANSUhEUgAABG4AAACcCAYAAAAu2O1rAAAMbmlDQ1BJQ0MgUHJvZmlsZQAASImVVwdYU8kWnluSkJDQAghICb0JIjWAlBBaAOlFEJWQBBJKjAlBxV4WFVwLIqJY0VURxbYCIjbsyqLY+2JBRVkXdbGh8iYkoOu+8r2Tb+79c+bMf0pmcu8BQPMDVyLJQ7UAyBcXSOPDghhjU9MYpGcAgR8aIIPhXJ5MwoqNjQJQBu9/l3c3oC2Uq04Krn/O/1fR4QtkPACQdIgz+TJePsTHAcDX8STSAgCICr3llAKJAs+BWFcKA4S4XIGzlXiHAmcqcfOATWI8G+LLAKhRuVxpNgAa96CeUcjLhjwanyF2EfNFYgA0R0DszxNy+RArYh+Rnz9JgSshtoP2EohhPICZ+R1n9t/4M4f4udzsIazMa0DUgkUySR532v9Zmv8t+XnyQR82cFCF0vB4Rf6whrdyJ0UqMBXibnFmdIyi1hB/EPGVdQcApQjl4UlKe9SYJ2PD+gF9iF343OBIiI0hDhXnRUep9JlZolAOxHC3oFNFBZxEiA0gXiSQhSSobDZJJ8WrfKH1WVI2S6U/x5UO+FX4eiDPTWKp+N8IBRwVP6ZRJExMgZgCsVWhKDkaYg2InWW5CZEqm9FFQnb0oI1UHq+I3wrieIE4LEjJjxVmSUPjVfYl+bLBfLFNQhEnWoX3FwgTw5X1wU7xuAPxw1ywywIxK2mQRyAbGzWYC18QHKLMHXsuECclqHg+SAqC4pVrcYokL1Zlj1sI8sIUeguI3WWFCaq1eHIB3JxKfjxLUhCbqIwTL8rhRsQq48GXgyjABsGAAeRwZIJJIAeI2robuuE35Uwo4AIpyAYC4KTSDK5IGZgRw2sCKAJ/QCQAsqF1QQOzAlAI9V+GtMqrE8gamC0cWJELnkKcDyJBHvwuH1glHvKWDJ5Ajegf3rlw8GC8eXAo5v+9flD7TcOCmiiVRj7okaE5aEkMIQYTw4mhRHvcCPfHffEoeA2EwxVn4t6DeXyzJzwltBMeEa4TOgi3J4rmSX+IcgzogPyhqlpkfl8L3AZyeuBBuB9kh8y4Pm4EnHB36IeFB0DPHlDLVsWtqArjB+6/ZfDdr6GyI7uQUfIwciDZ7seVGg4aHkMsilp/Xx9lrJlD9WYPzfzon/1d9fnwHvmjJbYIO4CdxU5g57FmrAEwsGNYI9aKHVHgod31ZGB3DXqLH4gnF/KI/uGPq/KpqKTMpdaly+Wzcq5AMLVAcfDYkyTTpKJsYQGDBZ8OAgZHzHMewXB1cXUDQPGsUf59vY0beIYg+q3fdPN/B8DvWH9//+FvuohjAOzzgsf/0DedHRMAbXUAzh3iyaWFSh2uuBDgv4QmPGmGwBRYAjuYjyvwBL4gEISACBADEkEqmACrLIT7XAqmgBlgLigGpWA5WAXWgo1gC9gBdoP9oAE0gxPgDLgILoPr4C7cPZ3gJegB70AfgiAkhIbQEUPEDLFGHBFXhIn4IyFIFBKPpCIZSDYiRuTIDGQ+UoqUIWuRzUgNsg85hJxAziPtyG3kIdKFvEE+oRhKRXVRE9QGHYkyURYaiSai49FsdDJahC5Al6KVaDW6C61HT6AX0etoB/oS7cUApo7pY+aYE8bE2FgMloZlYVJsFlaCVWDVWB3WBH/nq1gH1o19xIk4HWfgTnAHh+NJOA+fjM/Cl+Br8R14PX4Kv4o/xHvwrwQawZjgSPAhcAhjCdmEKYRiQgVhG+Eg4TQ8S52Ed0QiUZ9oS/SCZzGVmEOcTlxCXE/cQzxObCc+JvaSSCRDkiPJjxRD4pIKSMWkNaRdpGOkK6RO0gc1dTUzNVe1ULU0NbHaPLUKtZ1qR9WuqD1T6yNrka3JPuQYMp88jbyMvJXcRL5E7iT3UbQpthQ/SiIlhzKXUkmpo5ym3KO8VVdXt1D3Vo9TF6nPUa9U36t+Tv2h+keqDtWByqamU+XUpdTt1OPU29S3NBrNhhZIS6MV0JbSamgnaQ9oHzToGs4aHA2+xmyNKo16jSsarzTJmtaaLM0JmkWaFZoHNC9pdmuRtWy02FpcrVlaVVqHtG5q9WrTtUdpx2jnay/R3ql9Xvu5DknHRidEh6+zQGeLzkmdx3SMbkln03n0+fSt9NP0Tl2irq0uRzdHt1R3t26bbo+ejp67XrLeVL0qvSN6HfqYvo0+Rz9Pf5n+fv0b+p+GmQxjDRMMWzysbtiVYe8NhhsEGggMSgz2GFw3+GTIMAwxzDVcYdhgeN8IN3IwijOaYrTB6LRR93Dd4b7DecNLhu8ffscYNXYwjjeebrzFuNW418TUJMxEYrLG5KRJt6m+aaBpjmm56VHTLjO6mb+ZyKzc7JjZC4Yeg8XIY1QyTjF6zI3Nw83l5pvN28z7LGwtkizmWeyxuG9JsWRaZlmWW7ZY9liZWY2xmmFVa3XHmmzNtBZar7Y+a/3extYmxWahTYPNc1sDW45tkW2t7T07ml2A3WS7artr9kR7pn2u/Xr7yw6og4eD0KHK4ZIj6ujpKHJc79g+gjDCe4R4RPWIm05UJ5ZToVOt00Nnfeco53nODc6vRlqNTBu5YuTZkV9dPFzyXLa63B2lMypi1LxRTaPeuDq48lyrXK+50dxC3Wa7Nbq9dnd0F7hvcL/lQfcY47HQo8Xji6eXp9SzzrPLy8orw2ud102mLjOWuYR5zpvgHeQ927vZ+6OPp0+Bz36fP32dfHN9d/o+H207WjB66+jHfhZ+XL/Nfh3+DP8M/03+HQHmAdyA6oBHgZaB/MBtgc9Y9qwc1i7WqyCXIGnQwaD3bB/2TPbxYCw4LLgkuC1EJyQpZG3Ig1CL0OzQ2tCeMI+w6WHHwwnhkeErwm9yTDg8Tg2nJ8IrYmbEqUhqZELk2shHUQ5R0qimMeiYiDErx9yLto4WRzfEgBhOzMqY+7G2sZNjD8cR42LjquKexo+KnxF/NoGeMDFhZ8K7xKDEZYl3k+yS5EktyZrJ6ck1ye9TglPKUjrGjhw7c+zFVKNUUWpjGiktOW1bWu+4kHGrxnWme6QXp98Ybzt+6vjzE4wm5E04MlFzInfigQxCRkrGzozP3BhuNbc3k5O5LrOHx+at5r3kB/LL+V0CP0GZ4FmWX1ZZ1vNsv+yV2V3CAGGFsFvEFq0Vvc4Jz9mY8z43Jnd7bn9eSt6efLX8jPxDYh1xrvjUJNNJUye1SxwlxZKOyT6TV03ukUZKt8kQ2XhZY4EufKlvldvJf5I/LPQvrCr8MCV5yoGp2lPFU1unOUxbPO1ZUWjRL9Px6bzpLTPMZ8yd8XAma+bmWciszFktsy1nL5jdOSdszo65lLm5c3+b5zKvbN5f81PmNy0wWTBnweOfwn6qLdYolhbfXOi7cOMifJFoUdtit8VrFn8t4ZdcKHUprSj9vIS35MLPo36u/Ll/adbStmWeyzYsJy4XL7+xImDFjjLtsqKyxyvHrKwvZ5SXlP+1auKq8xXuFRtXU1bLV3dURlU2rrFas3zN57XCtdergqr2rDNet3jd+/X89Vc2BG6o22iysXTjp02iTbc2h22ur7aprthC3FK45enW5K1nf2H+UrPNaFvpti/bxds7dsTvOFXjVVOz03jnslq0Vl7btSt91+Xdwbsb65zqNu/R31O6F+yV732xL2Pfjf2R+1sOMA/U/Wr967qD9IMl9Uj9tPqeBmFDR2NqY/uhiEMtTb5NBw87H97ebN5cdUTvyLKjlKMLjvYfKzrWe1xyvPtE9onHLRNb7p4ce/LaqbhTbacjT587E3rm5FnW2WPn/M41n/c5f+gC80LDRc+L9a0erQd/8/jtYJtnW/0lr0uNl70vN7WPbj96JeDKiavBV89c41y7eD36evuNpBu3bqbf7LjFv/X8dt7t13cK7/TdnXOPcK/kvtb9igfGD6p/t/99T4dnx5GHwQ9bHyU8uvuY9/jlE9mTz50LntKeVjwze1bz3PV5c1do1+UX4150vpS87Osu/kP7j3Wv7F79+mfgn609Y3s6X0tf979Z8tbw7fa/3P9q6Y3tffAu/13f+5IPhh92fGR+PPsp5dOzvimfSZ8rv9h/afoa+fVef35/v4Qr5Q68CmBwoFlZALzZDgAtFQA67Nso45S94IAgyv51AIH/hJX94oB4AlAH39/juuHbzU0A9m6F7Rfk14S9aiwNgERvgLq5DQ2VyLLcXJVcVNinEB7097+FPRtpJQBflvf391X393/ZAoOFveNxsbIHVQgR9gybQr5k5meCfyPK/vS7HH+8A0UE7uDH+78AFfSQmnRsMewAAACKZVhJZk1NACoAAAAIAAQBGgAFAAAAAQAAAD4BGwAFAAAAAQAAAEYBKAADAAAAAQACAACHaQAEAAAAAQAAAE4AAAAAAAAAkAAAAAEAAACQAAAAAQADkoYABwAAABIAAAB4oAIABAAAAAEAAARuoAMABAAAAAEAAACcAAAAAEFTQ0lJAAAAU2NyZWVuc2hvdJLDkjEAAAAJcEhZcwAAFiUAABYlAUlSJPAAAAHXaVRYdFhNTDpjb20uYWRvYmUueG1wAAAAAAA8eDp4bXBtZXRhIHhtbG5zOng9ImFkb2JlOm5zOm1ldGEvIiB4OnhtcHRrPSJYTVAgQ29yZSA2LjAuMCI+CiAgIDxyZGY6UkRGIHhtbG5zOnJkZj0iaHR0cDovL3d3dy53My5vcmcvMTk5OS8wMi8yMi1yZGYtc3ludGF4LW5zIyI+CiAgICAgIDxyZGY6RGVzY3JpcHRpb24gcmRmOmFib3V0PSIiCiAgICAgICAgICAgIHhtbG5zOmV4aWY9Imh0dHA6Ly9ucy5hZG9iZS5jb20vZXhpZi8xLjAvIj4KICAgICAgICAgPGV4aWY6UGl4ZWxZRGltZW5zaW9uPjE1NjwvZXhpZjpQaXhlbFlEaW1lbnNpb24+CiAgICAgICAgIDxleGlmOlBpeGVsWERpbWVuc2lvbj4xMTM0PC9leGlmOlBpeGVsWERpbWVuc2lvbj4KICAgICAgICAgPGV4aWY6VXNlckNvbW1lbnQ+U2NyZWVuc2hvdDwvZXhpZjpVc2VyQ29tbWVudD4KICAgICAgPC9yZGY6RGVzY3JpcHRpb24+CiAgIDwvcmRmOlJERj4KPC94OnhtcG1ldGE+Ch1KUNgAAAAcaURPVAAAAAIAAAAAAAAATgAAACgAAABOAAAATgAAo1wxC+Y/AABAAElEQVR4AexdBYCVxROfO7qlu7ukEYs8QEUQFQxEQWmRLhUwAAEpi5KQsv3bBQqC2IpSItIhqHQ33P1/v9lv3/veu3dwwCGCu3Dvq/12dmdnZmfnm52Nimlwe5zES1ESh39R3n1miMZPbHQU7uGE/+NwHsUneinROOe94A2cxeKP9/GWLUuf414U8pq39U7Yj4Pv8O/oz/IM+cTxn5M/Tv668ceNv1Q+nP7h9C+nfzr928wgVD9y8w83/3LzTzOPVobAqZt/X7b2hyhruKGhAK00BhbMGONi42CMgZrI2aORj4YovF/m1+cRnpkXopFTKUff0Eko8saF3DYwmcHBN7hQPDn8O/pz/Ofkj5O/bvxx46/TPyLoWE7/cvqn078xP4nAG27+QaSETLTMvA633fwLqAlMS4knnXG5+adO8t38/1KZf0fF1IfHDWprvmWSkKkSROhAfWJyeX0Mjxvk5iv6zLIALth6MEcUZId5bj1ogowSeMe75eAbHDn8O/pz/OfkT7wBRGWsk7+Ukm78MWOsG3+tfhEgCaoVTv9w+pfTP53+7eYfbv7l5p86P3fzbzOrvHzsD+pxo83hYK9WFk4OgkYE1YLCnlFN4j/9HKozDL7LnFESGxXrvc9rk8dvwOG9WMCJotbpJQcfuArDseKX+AMW+d/fNw7/jv4c/xnZorxBOYJLJ3+c/HXjjxt/jf5CeWBkhNM/PPVBJaTTv5z+6fRvN/9w8y+qjUw6ywqbY7n5F7GimHHzzzDaIF4u9vzLGG5gSFG3S0vGytP4wTqpKDyLY4ANX0waY2TQW4i9wSboC6oo6bk21OtvPkMe/OAGzvmfxdn7+tjBd/hXNdujExIiCcPRn+M/J3+c/HXjjxt/7fhg1AiqE1zG7fQPp385/ROMoBqTRwu8pLqtB/w6/dtDCHDB/27+4eZfbv5p5IKKBzf/vtTm3zDcNIO0hyQLGGfMZBmSzkh+PeEpFSfk09s8gx+eSkA+oWeqfYYLalTMjTIZhFgzmMe4zyfm17yplOPgO/wr3VAJo7FCE8nIS47+HP85+WNlrJO/bvxx46/TPyAP+HEDY6TTv6xsBDKc/kkkOP3bzT/c/MvNP938mwOkN6XE2WVhf4iqh12ldH5MbxhOmD1jjG0eG6o9z4YzC/KZr1z6wLzCd/ShOZgnzGuKI6bikMeoGHxKOGaCbhy7+Z6D7/BPulBiMTRCUtFE2sCJoz/Hf07+OPmLcYrigEmHLDf+ABNBGamIIW5wS1GjItWNv07/AEFoAkE4/Qu8gWVjVit1+qcnTFVYUHp4tMJDULY4/d/Nf9z8z+kfVjo4/YtDKbERlJFWcF5I/QseN7cBqnFDtvAtYD1iQItD70R7xhZ2VDB5FcYNqgT6TE+8G94hEMSb13iFKqTRKHFDBwgHXzEZRCcRY5LDv6M/x39O/jj5izGDY5EVjDwGBaYbf9z46/QPsITTv/xiQdHh9E9DFpSYTv8mebj5h5t/WUXC6BD6G1QnyComufmXm3/9C+dfGuMmXOlVS5GlWxxpuDEeMTinzNNn+pZvkPSumZ95yAQ8VzHJ8OZw5o2ml4257z3UwvRNyzQ4BmEYWA4+kAIBwnlKEDcevi3eAhqbl4f3kRz+OUw7+nP85+SPk79u/HHjrxkXvcHR6R/U1agnWD0iRMewz3DT6R9Uppz+5dGLRxmKEzMh8PRR0hLzkJ54jn9O/3L6p9M/nf7p9M+k0z+DS6UoZYOyFxKXg7W9GfqIt/1fMZhLE4W1vwxeeBI85DZHQD4DDLpe8pkmfyYH3+DSw44fNTx3+PfQ45GOHhz9GaQQD5pAKY7/LCZU6hi8OPmjhOLkrxt/3Pjr9A8jFEPHDqd/GXw4/Sve+On0T6d/u/mHJx6s7OTRzT9CxxDKTjf/iCc/A4RyHvp3VExDLJWiiZwJhGc9OtRODqTH4h6fkib5G81FCwrQ3OSHmPDENV9xKIjW9mi8HWRyc08DFsMIbYxDHlAW4uA7/JPXlRTwncbRn+M/J3+c/DVDg/668ceNv07/8FQ2ykanf0EuhCanfzr9280/3PzLzT/d/PtytT9E1avfDE4vtJhg8KMxxVpZPKWAwdsY34aPmeyRYoFaQ1QsDDN4368/ME9AodAX9I6+rwUQnjcdiYsDah18h3+ShKM/x39O/ljRqDLUyV83/rjx1+kfqkZhiLRHp38BE07/dPq3m3+4+Zebf7r5t7Eu6C/HyMve/hCDXaU8G4pqBfq1InCDeDD+Dz5XEJ1g09Zi51gmC5UrLntStCkCI/3wKULdcMkjivbyeiD4qoNv8OhX0fQ86Arl8A8Dj6M/x39O/hjp7OQvxhJ6gbrxx42/Tv+gYoW/yMnpX07/dPq3m3+4+Rfko5t/EglmuODA4Obfl479IaY+tgOPhtILzxfTc9SB/QYY9qg+CVMHqBzYqRPz8Nq+h/y4jMM6qyh+FQFFxPKoReFK10/jWotAHgff4d/Rn+Ey8o3jP5UZwRHFyR8rYUEkXlLhiXMe7VMnf82HA2CEfOTGHzf+Ov3D6V9O/3T6t5t/uPmXm3+qvujm3yAEygNVoS9N+4PuKmXVfp0RmDZhqAvetVODwBzBmyoYUw9UZVhkaJThhBO+m6o1K1K0QGbmfS8PC0MKlInzICRzwXcd/CBWArgKnBicOfwTD47+HP85+ePkL2SBG3/c+Ov0DzCCp5RS0WJy+pfTP53+beYo1KGRfKq0m394+FDEYNrh5l+cV7j5l+ESH6/4mIbYcfNP0snFmX9G0eNGpRi5FhxLaxx+eaGV0qVLHPjhXcNAP9Zap7oA32FWJmSJCrire7e1o4MMoGf40YkmXgh77OA7/Dv6c/xHKaMChZLIyR96Qzr568YfN/46/cPpX07/xNhIPZH6NvVuDpVMvHb6t5mzAB2KFiIIOPEwZbQKXLr5h2pWSj8+9ABNRr44/cvQjNM/nf79b51/qMcNJJsmMiyJVVNA3nknoQfNpTtOIbsSOCWAt9rKFGB/WZ63pAqngS/DWB6lyTvw3MF3+Hf05/gvIBcUFaGCx7ty8gdIcvJXdU03/oAbOGlz4y+YwqdPqBwxkgKnVD7wH8/VEOr0D4MeH76c/uX0L6d/Of1LBQPlgtO/gAQPEaEHM6rgHmxdTv8ANpz+AWL4J+0fGpzYDOFKo2rJJ8OiHh6tehzMK5PMY/OU+iKJl5Ss58GXvNxq1vFMN+acWfhH3Uk/Jns5FSbK0fL4DPdZtPnllUm8xyGW9x18D18O/47+wBKcmHhMY5gFfAKx6vjPSAvFBVHEPyd/nPx1448nJngAU7jx3xtPiQugxOkfJAyjcfGMyelfpA1DHU7/9PjF6Z9O/wRLOP3TE5AqKfnj9G83/0j6+ZfncWO/tZghOXSY5hDl7YZOrY5WJTjQMOgwQg6bI+/rCEZC5duaAfe8c73Hcw52IGS+y/wBE5WDb771GBxZTAFBSA7/jv4c/6noc/LHyV83/rjx1+kfTv9y+qfTv938w82/dC6JGZObf5qpt5t/Y878H7A/xDS4jXZSNRDQTGA+ueGoPsW8H5pobrF3/efGwEDbmleW76GaZXTShTMPp4pcmzdwROHMxyIcfIOLUPSr6cvh3yDFR2IkHPxz9Of4z8kf8oJfUDj5C9ngxh8Y/dz46/QPqFaqQEARC+hdnszksOr0L6d/khyc/m14gTzhS36d03/OAdfpn07/dvq3079V+fYJhwuhf/ti3PggQVAZMWQ+b4YIJN8YH5Tt5qZ9ZEWYlXcsORolwj9HjyzPlMknNjn4RmMw+HD4J4U4+qOB0/GfTyGwQgZs4uSP1S2d/OWIZUnDjT9GYvhHVjf+Ov3D6V9O/6QcoHQwEsLp31ZG6mRLRxCnfxMDbv5BDnHzDzf/+HfOv8x24JDfgaVPFF7UgBH50tyzLGwFPidMyKABIgyLg8tZgE/2aQF8iHvMy2fBQUKzm6cmi4Pv8G9dnx39Of5T8eHkj5O/+q1CJxnBCYcbf9z4S50CSoOqFN7R6R9O/yI9cOwwCqzqlk7/JK/gz+nfhh7wGyAT746usnH6J/BC0y5ohTzk5n9u/qs84eb/xoT377J/BD1uyKyqCFGaUdBzTRMtjqww75iKM5u5BxbnA2axCdfMZ77sIJd50ZxQsWJiHrxIZIQkXjK/Jlw4+A7/jv7ADY7/jBhx8ocy00hNDxdEjJO/ZsjgL8cW/Ljxx3wrdOMvaEL1ChKG4RylEad/AA0ePiz3KJ58F07/cvqX0790UHH6hxlXnf7h9C8zajj9U3nhIurfMNw0A3hWAwovlRtcqbnGnOLDFp7YheG4p8sTjIk6oBPxJkmaq6aZWBZ/eTRPArZc74nJZQojKTj4Dv+O/hz/OflDAenkL0YEN/7oWOnGX6d/OP3LC4zo9E+nf3O24uYfmF4ZI4Ixzrv5l5t/uvn3f8n+EBXT8HYjB2FmURcZHALJE5C8NqYY/0kglzmBpm3sPkQfph6Bd/kmEjXxKD4jAK80HmxWB9/DGXBiUwCHAYz5Tmwm7+jw7+iPLKzmU8tUltdAI47/nPxx8heMYHlCmcWNP1ZUuPEXMhIKCcnDJjf+Ah8GIZ7G5vSPACIskXhHp385/UuHFDf/CQ6qlB1kGB5w7vQPIMLiRIkliCo3/rrx9yz0j+BSKU9JUY8aj6YCJMZryCN6TvK5Nb9YnxrrVxNgUhChfVeZlu/jPVs2n5nkGwUdfCAIeANKKOMsZvTIa4d/R3+O/5z8gUBw8heiEgOIG3+MT6sbf80XZzNqUrNw+gf5g7qDJuoPuLC6BZ+ZpNqFd8oMTv+wOLKY0SPx5/Qvp385/cvpXxAITv/iCGtGWeoeTv+4CPpHTIPbOTaZntAzb5SHkAqM/Liv3jTsLaVaZmQGjmbMj1MkqksmBrO51t71nnl3zAH34hBcMDrOhJzUmyxb8zr4qmU5/AfoinTh6A/ocPzn5I+TvxAGHCjc+OPGX6d/OP3L6Z9O/zbTCjf/cPMvN/+kEcFLPNE5tb3hHXHPzb8vbfsDPG5u067VjRLxWUY92my/67XfgoAHHjHogW8qlZgvfzQ4cCcU3rNfeHTCrfnwo/f5VYd5PFjMqMXAiKPwvCJ5T68d/BDuA+rUkMGDw79HLI7+aPV2/Ofkj5O/HFuMbKR9x40/dpwgMnjuxl+nf5BHnP5l1FAqUWQNp386/dvNf9z8T4dJIxPc/BP2ADf/htak9GCIAr9Glbq482/1uCG3BrbXNHVkVXFXUxwGeSo7ytT6xdd7EHZgfl8TQ56aZ/w1Bei1BeLgO/w7+gthHssaZKLLif8yZkovKVOklOPHjsv+/QeMkHH87/jf8f9/gv/d+O/0Hwp9p/+B3e0g78Y/N/658e+SHf8yZEgvqVKlklMnT8qevftC5r32ws1/2b1u/p9U+o/GuLHjB4nMEBhRTC+GYOLXyzh+vvTQr1/4mRuDThSCTplOwSVHI+Qzi6CYn28EyzN39DV+9PGeG7i8MBCC+U0O3HfwHf4d/YEdDKddqvzXseMDUrJkcVm67FeZMe0VZW+KASsXHP+Hyksn/wwGnPznmGm4w/KIco0bf53+4fQvp396I6jTv938w82//tn5Z8uWzaRy1cqyfv1GeeH5iRiW/1n4bv7937M/6FIpuk9HQxvkBIrKIZcoMVFB5K+ihc8pE/Weyctz5jTfT0JdcTixjFbzje++0b7jleDgO/w7+jO8dLnzX4cObaQUDTdLl8v06a+qBHH87/jf8f9/g//5occkozmw1Y7/Hf87/nf8T4lwues/Tv5dfvK/5T13SpWqFdVwM/aFF3V4c/NfN/+/kPaPqPrYDpzWF/2hWUb1KU+pUh7zzml/4XN83VFDDbPykblrzjU/fzxjDU+91yUWFzDc2EueUIfjgK3n9olm8HLxmb3v4AMXxKHDv6M/0gE4g2xiqOKS4b/28LgpTcPNkl9l2oxXHP9TxlEWWjn3H5B/yaKjJU/uXHLsxAnZv2+fLpsLb3+WLFnk5KmTWE6331C4k/8GD07+O/1D9YB/Tv5zGUCuHDnlwMFDsm/fXok9BWYMG3/y5Mkt23fslBMnToJOnf5ndDUj24krp/8CCU7/t6O8GfOBEjf/MTwSPv4H+Mdi7F88/t9zzx0w3NDjZoOMfWGSk39O/oMGKO8MbV8I+R/cDhwwgskEeyVcJs4luAQzFlJGF1BxoqEu2nziPadQtl/T9AU80PGbLGl8cjQzf5BXY+YEboSfOPgGawYvik78OPw7+rvU+a8Dl0qVKibLl6yQadPNUqlw7qfEOxP9p0uXXipVKi/Hjh3FBJ8cckpiKW9ozeJlMtAK5FE0ZFZ08uSSOmVKWbToFzl69JiTPxdB/kbDk7NGjWpS/sqyUrhIQfRHKu0m9vWuXbvk66+/k++/+wn9eUxSp0otPXt3gXFvmXz88RzN58afiyP/K1a6Euv3U8qp4yflJLmS+yKTxXBg3ELqCFEwxKVIHi0pU6aWZVgCuX8fYlcxpqFv/K9SuaIkT55MTp4En4JX+YzLOpIlS6Z/KcGffPfAgYMskZC0bFwQnNM/gAQ7/ufPn0/KlC4t6dKlkbT6l14ypE8t69dtlnff/dBDGJDmw7/V5YjPxOhfKdHndevW1GWt+fPnhTiNVvjs+M2b/pD587+RX5f/CpkbK3ny5pWePTvK5EkzZdWqNUkC3/W/o39Ls+fC/xkyZZDKlSoorSc4/2DBXiK96X/IJBom/9y2Tbb+sUWOHz/xr5U/tWpfI5kyZpQ06dJKesqBtOnwl0ZmTn9N/t6+7Zz4P1++PFK2XFktJx3KSouy06VLJ1s3b5E33n5fJbPBE/Qr6BFM2j//4flfCxhuqlWrKOvWbYLhBh43ihAg5jzkr5N/Tv6dTv4FDDcquMCWmhk/cbFwdYKyrbYYw5/KpPaH+fV5hGdhlKuvaLnIix3APYLmbb5squfgG1w4/BuScPR3efJf+wfbSMnixTFJ41Kpl8+Z/3PnySV9+3ZTERJfBFHoM8qWjpyAYaTMkEEjZNfePU7+BNDyz8jf9OnTSatWLaRY0SKYssfJsiXLZevWvyQ27pQUKFBACmAiekWWTHIQX/RfmjJLrrq6itSoXk2+mPelfPTJHDNMaC8Gf6659iooS5Vl29/b5fO5C2TXzl3BhzquhAw0ZpRBc934AzSdRf937dFZChbIp/jz85kd/4lq//3nnp0gmzZtApBQ/Pfp0xVeVrmBf4xwgE+l34757DiePzNmvGzBZInAnPxPWP43aFBXGt4Yo/oXkW/xvwSGzpkzXlNshuNf9QrmDekWvqlPFP8851X+gvnkvnvvlmxZs8ihI0eUX//6e5tO4AqAFgoWzC+p06TWvpo+7VVp17615MqVU16c+JIx3GiNgoDSIG+dOjVhbCopv/72u8yft1COHYcBXfPFh+/6P2npv1SpEtpn5L+UaVLJjm07ZMfOnbLq99WyfftO9AN7wtCC9gZ+LnX+y5+/gPTo2QktM/Slv0r/OEtA/ij1m+zIA4zAiLPpj60y59PPPbpWVOkP8XWx5z8jRgzGRg8ptOeCNRMZPep5jK9/41ZA0BssJIL/aaxt3ORGbT93qNS4asDDil9XytSpMwNg/O0nf9cmf5cpqfnmzwd/HztxTvAV/fi5lOjPeNxU8i2VIi8F5R+Rpu1KBP4vxfazfaHJtf9C939UTH0slQK1UGgZ4c3fCAYc9Iy5T+rDBd/BH3hak3fLXJD6KBxBu+a5/YIWkssUY8ty8IEPIsPh39Hf5ct/HTrCcIOlUsuWYqkUPG70o805yJ80aVNLqVLF8RU/Bb70p5TCRQtJFXxhIwdRNlH+LFr0MyaRWzBJOAEX/uOy8reV+IJGV36TVPQ4+WNk+QWSv8mSJZcHO7eXgoXyyx541kzHxHILlGEmP/4rViwvtzdrqt4dyeAhxS6cN2+BfPThbKMga34zShXIn1+693wwMP4sX75CXnrpZX2H5dr+d+PP+Y+/xYoVgTdHekmeIrnkwHKZWrWugXdNctN36KSNGzfLL78sVU8ZTnTWrF4nh48cjjf+ly1XWho2rCv58uXVLmIncSncWuSnUWAb/pb/+pscOXwYZV++8s8Qp0GBn/4NZfPOmcf/XLlySD4YO/Pkzik1a10Hr0IaqUU91NRw48m/c6H/rFkzSzcY69LjK/vq1Wvk5VlvyCEYVE3NTC3pJVW/fh2p36COnIJ3QnKPHibDcPM7PW7C4NetW0saNb5Bb7Pl9Ar6auG3Wua5yn8W5vRPy9+eLCVymTz8Z82WWZo3v1VKlCzhUZV5bH6j5FTsKfkRXo6z58yTg/B0u5z0zzSp06hnbzSYIBU8OCtWvlKKQ5bZdOjQEZk9+3M5eviI4oEoiwZdJ0+RTDJkzCTlypaSAjBQWgMC6frVV/8nB7h0Vxn34tNfhYrlJEO6DFIF3h4FChZQUwGrNnr0C/AW+vOc5l85cmSD4baA5MqZA8YYyBbgjwaqX2G4mTJ1FkgLEMLaT2NPo8Y3BuC/+x74e8G35wSfhV9q8p+Gm8pVK8nG9QhOTI+bMPnHG6ZVHuI8ItQri0svz6XYfjYnpGWu/fH0n6Tuf/W4UaQT2Wpl4eAcNOIoFYY9M8SFt+iOw2dMuOR7sd4afNORJo9fgWDJsYBDa65NmjcMhh1EHHwPx76+cfgndRjacvTncRHQcSnwX8eO90uJEsXgcbMCHje+XaXOk/8zpM8ggwb3p3QBQsyedv36DJCTJ06FKBBO/sSXvylg+OrWvaN8+80P+peU8v/mm2+SejE1+QFT139vXL8hQfmfG1/tu3V/UFLpMqo4mTd3PpZKfWbGGJ/8u6lRA5RZW8cc8v/x48fl4b6PXxL0f6nTX8+eXSR//jyUvor/8eMny9q16xM1/pcqVVI6dGitX7Jp7Pnkk89k9+49WpaqA74+duM/Mcy/04//LVo0l6rVK7M3ZOlieDHOhDEc/8yb+IWOdjb6V3f1sCog+w8ckKeHj5HDmNiyCn7dkPXiv+rVqspdLZopbP5MmjhNVq5aFQ9+tx6dYLgtYOqC91as+F2mTJkReE/rGgbD9T+xYnoxIfyfTv/OkzePdO3aHoaHKJk77wsY4dbJvr37YTjNLRWuLCfValTV4on2fTDaPPfsONkDXjRaBOnn/OCbmuP3LOnvQsEvUCA/xpbOyhk0MK/FODR+7GSlQa1rBPorC+PNnXfdLumx3TPpf9vfO2Tc2Ely6BANmaZt2jcsBZcXS//KlCmjPPb4w2pkof4zetRY2bIVhhuvjmfD/378N29+i1x9TQ3ekhXLf4PHDQ03iqiQ9nft1kkKgb+N3InFB7I1MmnyNFz/e/pfhxZbQ1wk5fzTetxsWL9Jnn9hggeFaPtvtN8y0cWi//8ifGO4ASGr218QAzgDg1Lo4lkcAwzgHL+ajJKlt7D2nCKMzGwIVc8Nb+tdvUYeI9nwgP9ZnJaPE1xTkDr4Fr8GJwYxDv+O/i4v/uvQ6QEpVYK7SsFwMw1LpZKI/7kOe8iQ/kYKoUwKqz69+uNrGoUN/niDgov/ecvJH4MX4CMnvq49/HAPmfPZfJn9KZYmEX+Kn/OTP2nhQj3w8UdgiEmJyf06GT9+yhnxf1WNKqosM+O8z7+UTz6aHW/8KVGyqHTE7mQYNHT8WYVJycQJU/GGNxax/uxuPeDX9b+HEOCC/8+D/nv0fAjL2+A1wzJQ1nh8YVy3biPKZ9EJ45/xWB58qL3kQlDq997BF9mvvjP9ot3jxv9z1X9uuiEGni/1FPtLlyyRGTNet4R/1vRfrHhR6YSlrHxx9ux58tnsL86o/90LwxG3wuVLkyZOgcfN2njwGzasp95WVv5+AmPs3M8X/Kf6P0OGdFICS5Z+/nnxefEfEK1otPwXSf9OmSoFYg51kYwwOLz44nTZBK84ZVjf+HfV1dXVG0cn9Rgjt2PJ6XPYyvjoUc9QRyK4jPT/glj+R08yNovyb+XvMC7AQ0ybeZr5R9XKFaTFfXcAF+Zj0B+I9fLcc+PVE4fyLxL+WeY/Pf4Mf3oQxtnkpA4ZRY+bLTTcsBr4Pcfxr07tmtIEnjSc/61YtkqmvDQDJQKC1z7b/gY31Ad/xwASP5pFyccwyM/9fP55w79U6K+F7ipVWTasXw+PGwQn9vBjDvg9R/xfKu1XGtOeT3j8NwwBXPD/eegfkejvvwgfhptmwDYwGTDOGGWdCFIC1BOeGrXM3GYHYR2U9gCf0DMIZSDxXDU6XJPhGSBUb5rHfOrlJLqZG38OvsO/oz/lG+UKFfSGNcgvTJcL/zE4cQldKrVcZuh24EnD/6mwdv+poY+rRLHyp2fvR9RlUW86+WMICb8GFUH5WxkBaFu2ulM+mzNfPv10LmS2hyyKZy+dC/1Vrl5RWra4U0X8V19+awKnorxw+H75H42lVQMH9JFMmTJhqRQ9bmBIQgqHX658ebi/l5Pdu/bJgi8WysHDh7x8OHDMcePPBRl/1XCDYLWkHo7/Y5+fBIV142nH/3SIcdSpUxvJDaPNW2+9K99heQb7x43/pFP8nYf+07BBjNwA4w31L8a4mcUYN+dI/3fe2UyqX1VN+X8alh4u/3UF6mdSOP9Z/S9nzpzycL8eCp8xblZrcOJQ/ouCgbVmzWulcKGCGgdi4VdYJoUgx/+l/r/+umvk1tsay2MDn8LuXAzAfeHo/8YbG2IpW235+NPPYPyeryQGcIFk5W/r1i2lQoXyAfqjofwjGNWSSv7/m/T/gupx86DigO3/DbGWpk6egbMz89+j/XtL9mzZkJfzHvFiOdFAiSvwGqn9Ys9/nhr+OJaEpdK6jB45FjFutp63/K+FpVK33NJIUfTbcnjJTSW+eBk6/6PR+TosoSV/cyz4auF3yt//pv6PRP9JJX9aYqlUJW878HEanJgU4ea//5X+vxj8H1Wvwe06zKsZlQqEJ4xIeMGEqvGSBzCpsTKbp/oK39GH5mCeMK8pju/GIY9hFD7FDZTDAcIO3w4+kUu8KLIMjiwifbh1+Hf0dynzn91Vahk8bmbA4yap+D811rQPheGGrMLEQ/eejyg7Oflzevl788036NKjzxDrYPZsLE3yJn6KSP2hbDJIPRv50wATyhvwtZ0i7buffpI3X3vHKxI3TiP/ubyK6+bNUikabs4Nvht/gDn2G/6Savzt3quLFMTOIyyW6XkoqhvXb8BZsI/0AX6I/wzwhHuwU1vJnju79v9PP/3CJ6ft/6Siv/9C/9evX1duvClG8b9kMYITz2RwYpPOtv2dO7eTosUKace98sob8vOixV5Jwb6NxP/duRQKcTFenIDgxIiLY9PZwr+c9Z/rMbG97dbGMhCGm4MHsevaaeTf+dL/Q106SNEihbSYjRs2yyR4Ix5BMOhw/Ts3PC17w+iG3tX67N61W556agS8SXjDcrg+NJckg0tU/y9QKJ/0wFIpbRWE4m8rVsFwMz1R+kebtq2kbJnSRsSh/csRXD+wzFtFGUsN8ggxxvRP0v/QYU9iN8ZUWo3Ro+Bxg6VS5wu/FuJn3dIUhhu0bcVyBCd+aeYl2/9JNf5Fov+WLZub7cDheTp27Iva9/90/19s+nPw/1n+h8fNbRQ9KtBUyVMpHqA9PMIzGBQ0/J2e+56Zt/QGX6PdQUcBe/QujQOdZlNF0n6tM3dMZv31vWeesQAH3+Hf0d/lwn8dO9DjpoS3qxRj3CQN/6dJDY+bYU8ExAZlUS8abnDHyR8jlokcyni//E2WLFr6QnnPlj2bfD7nCw3YGECivnDu8ve225vI9dddrfjfu2evDB70dDz4kfq/XLky8kCb+4zhBm7XTv79e+Rf9x4PIcYNlkohkbeex/KKDRs2mWHfjt/eMQOWajz4YFvJliO7vDLrdXiELE9U/2vh9seN/6el/5iYusKYT+yLxdZwY/sB985G/vXr2x1eUTlVIi+Cge3VV99CAWfm/6ZNb0bQ6muxXNEz3Jwj/MtZ/yR+iKfHB9DjBt6B2lgSuUGW/vrwxieaEoF/5mM/c8yjd9MwjIPczt3efwX9yP7Ua+Txy/8hQx+TtGnSmFrg2XPPcVc4Lq3y0lnCNxXBu6yQd/g3jL+FEGiY8dPs+LfiN8RsmTITNTRI119zqvUO/KD9ut1zlYraJuKYcbmGDB4ReJd5Lf4vVvvZ56mgAzGNHgnDzZ9/6vnZ8H84/6nh5tabla5+Q+D4l2i4IY4CKYiwi93+iwmfMW6qIjjxOngbBbYDZ4WQzgf/poAzy18LR/tGEeEBdvAvW/xrjJtwoldLrVKNFUhgUAgwyrjgM49CArxrKcbLw/tIdKrj1rw043Mr0MB4ZR4qAAcf6LF4DMGxw7+hDSDF0R+Z6ZLnPxpu7K5S06fBcIMOTgr+584Rw55+XHHEArkbRK+ejzr5cwb5yyC/N9/cUOXPZ5/DcPPJ5z4as31zbvxXu/b10viWm9Ad7OFYeXHSdFm1cjUlv0kolo/C+5/BIBloeu7cBfIplkrRcOP4n0R98fm/ey/EuFHDjfaavPAcDDcbN5mOZAWRqCNkypABu4m1kyzYUprLd5Yv+9WN/xdA/6lXr7Y0Av+Si5YsWarbgQe+tLMvzsD/fv5r266VlEFAViYGYOWX+317952R/ypUKi+tWt2DeCpTscX0GiM/DCmcFXwjCPw0bmXDpc//3I2tCSbBNNwc1KVS2jnaQOUk4ktPzq/9DLr66MA+kjVzZnYj8C/y9v8+kG+/xvK0CPTXw+Nn1T+hpr88E55WvyzRqvB9U7fE4z8ndjzrBL5/7eU3dQvts6E/2/78MLK0bHmHvPH627r0Jinkf8ECeaVrTwQnJkKQdHtrGm7QwDPh/9777pKK2LGSyCRvmY8QnuGG5bEAW3mcnSv/2SL0fRaJZOp2ZvwPheEmNZaLs466qxRi3DCdC/4t/OthbLwNxkbinwHFaeiyzwLt/Ze0P1AfthlIs/18Pu0n/hKD/3tAq1UQ52v9hg1YOvziPw5fK2mJ5yK038EPUApP/pH+Dy6VCoUN6BQW9qafLcy534rOXJosE/OoKchBygD2tg4nuAMYdD1TMHzmz+TgO/wrYRjq8JMGzx39eeQR4CmcXAL8F1gqtcQEJ04q/k+FL4zDhj9psAE8xMbGSu9eA4AkI4z89BNAlCd/kmE73bRp08rBQ4g9YGWXJ3+43Xg0FN4Tx08EHiWW/tKkTi2nYLDmrkd++LRBcgvzY0ePnbX8o2LOL6RHjh2T2FOn/L0faJataHR0MkmLoLCcKPjh24z8CtkBHhHcxYn3rOFGC00C+VumTClp174VSqaMj5MTJ0/KLCzl4PbdSr0e/lk3Tb5KlkYgz127d8v27TvDH2lbLP9za+LUwDMnmtpuXxkKIxH9Hwn+mca/K7JklnzYuWXPnj2o4w708Yl/FL5tv4c5c/gH+N/GuLHwuf0p4xpo8uBnyphRjTaZMXmcNn0WdhnhTkMGPSEZT9P/p8M/PX4yYCeVnaCNnTt3Ka/74Ssd6A1ADet/Lieg2/yxo8dRIaN/JAcNnSIv+SsZgf65TT35lluW2/ab9ojGl6CMiOU6EytDWGAY/ITaTzouUrSQJAPP/o2t0Tk51PqYn5CqsZoWPg2vjRrRcCMSWCp1DvD5fuMmN0rdOjV5CtTEyZ69exHPY5rStx81fvjMS5yULl1Cdy46cgTBbU8DP2WKFJIsRTRweCyAf5anyQ8kAv5tseHw7eun43/STEaPZnbs2gnZidK8/v8n4Netc73c3OQmjXGjS6XYoxcIfs3rr5UmMJiTlnbv3S0jR7wAej8S7BaLKMDvBS+rvHlyA4XAB6rEyTmNGqybIT2DHf4mBv+pUqeUzp0RhBw7BDKG3YrfUBaS/31TEu5EaH/hwoWkffvWSv9jdQenw3w95H2WZelfH9ofVjAEEC48/uNY15UeN8hC/l+BmC1TsbNZYvSPrt06CuO3mPZHQZ6txK5JM7QsC1qPPvjkiRzwNLwicyY5gB3auGPXfuzeZZKXMUL7A0hOAP8pwD/E23GMpWyLTUOHPa7jIK/V4wZLpRQZiZQ/adJCp/DzLmDUrE0vscYK4jfdDhyGLlNqgvhPkTKFUJ4eOXLU5EwAfhSiYnPcPn7ihJxCWzRp56DW0HG4ocHRY14ZHkyDf9PFien/dGnTyeGjh4Eu9TELoDZrtsxSqGBBBO/OIIuXLjeylhXw4GtdEsC/zeaHb3eVWu/3uNFCUGAC7VdggJEY+rMwz7b9CsPBtz0R6P/TyZ9AprPofwXAHx//m3sXrv+jYhpiqRRNlEwAbC2q6ieDTuemLEF6pss2Fm0owZn8nISEpyi8F4eC8IvcNtY4c5l7GrAY1n0KICVsB9+g0OHf0R95nayB3+jLkP/aYzvwUiWwVGr5r96uUh7RkwPOg/79hhvKn1NQzHv1ejSe/CFy27VtLekypJV0MIDwmDpVGuW/Xj0ehUISJ0WKFNKgjYUK5Rduq6oKMIwIP/64SL6c/40aYlRkUXx58q8BYrmUxDbnadOllfTp00iaNOngth4t77/7oXy58FspWrQwlg1dIzlzZZdsWbNJcuwAcRCK3E8/LZLvv1skO3bAQBHWfqxikgfatpJ0MCqlQ7lp0qZGndNpXV/AWur1WFNt4XO7U355TwsFLC3yET5dp2OhFPXuM1BpipRFmVyuTBkpe2VpqQb33mTJAcSTv9u37ZBtO3Zo+cxL+tuy5S+ZM3suq4Z0dvI/Gg3o/0gvuQJeFwZNGAtiT2l8AW4bvG7Netm+Y3sAPoGwKswbif5TQSm8//571chGg1RaKGZp8JWRhikG/bTJjj9Zs2WRpgiuGFSyzjz+MO8br/8P2yAfjcd/XFZWp9b1UqHilZIvfx5WUivL8ZD998H7n2jQSwv/chz/evXsii2F0XbTSbqmnwqrTZkzXyGdH2orWbJkhQfGNFn9++qzwn9C/Z8eSnZMvZpy5ZXl5YorMgXgnwI9bcSuOW+9+a4aGFgPi/9y5ctILQTFTUOeRKwd7jzHPvz0k7nyxfwvNY5S2XIlJX++/Np/i35cLHO/WIB+jcOSodxy662NJLXyk+E/0t+G9ZvlBSwPYz2rYMcZBloviElhjhw5lLb/xu48C+YvkF9+Wa5GnDPpP/nhCVCz5nXCrYdTw2vQYxRMWo7Lr8uWy9vvfIRJ91ElNRJcuP4VU99nuEFw4pnwbrLtP1v6y5E9u/R9uDsM1VTOYGwF/x8CH9Bb6ncEHV6Hbd8PHcBWyInU/woALzfDqJQa8is9+oD4T5EiOQxMy2XmrNcUz379j/F68gEfJgXHP+8GDvHbvwr09e23PwSz4My2nzRTv14tyLqykgV0aZCLseFkrGzcDJp5452zkj+R4Fv566+Ahe/HP2N2NW5Mw80QyH0YmS+w/pshQ0bJgbFm/ZoN+HhgJq5sP+tk9e+U6IuhCGobHZXMVB/ybOiw0bITsiyS/E1s+zn+dezUXnLkzC4vz3hVlmIraYqLcPjh+n+RIoWlXYfWsn/ffsiVycDT/iSbf5ilUp1RBzPI0KBEw42f/rxHWlfbfh6fePJR3aGL73L1wEtTZ8oyLB1ifn//0zB444314VFcFMH14fGERrOb7fhDOfXlwm9kKWTD2fR/Uegj1apX0SWquXPlUv7buWuXcIcreqVu27Yd/RY03IwZ/byO2376C8d/Cuw8xuV7RYoWhPzLp7x5+NBhNRovAb9/8/UPkEs1YAC8WfHxKww3UxGc2C9/GPDZ6BxGPlJHoWFp6dKlMNq9DvSQX838rzF2p6JeRf2EBpU0GL8Z1HjChMmyZvV6jBeZpXr1qlIQOhflRhrELKSB8zcY/T/Fcum9oIkz0R+DM197XQ0pUrgAyigoDIp/CoahTX9shcfZd/AaWqW729XGblnEP3HCKKuDnxwhe+FZyP5MaPzBowThhxtuIvF/OP7Ppv9NPROGr1Xz/Tj4oDx0pJ/+Ljf8R9Wr3wxGP1Iset4vZXBNocTgoYyvYQjXZCONEC3MEBULxsT7BjGGepg3IND0Rb3je2iviWCwtoPv8E+ScPQXHOWBj8uR/zpwqVSpYsLgxNOnv5xk/M8vNMNHPKl8RGkUF3cKHjf9PYFl5Y1Icnw1HzFyECWUyiPmVVmGLL16PyrVq1aRZnc0xaTpN13rT+W/fPnSkh1fz5g2YlkIt3yMw4TRL/86YreskqWKB+CrTEP+n374WSeaxWHUoXfGurUb5e9tf6PMcjrhU8mJr/SceH7/w08h/c9JztMjh2hNgxLYNGncCxPhmrspIH/LlSstbdreFw/+yRMnpW8feB557aXY7tn7IUy+zQTJ3/4Q/vPeWAWl6kUoV8Qgkz0mVv5XrVIJMQKa4814I4SWt3//QVmzZq0usfh91Wo5iGuvwfHoP316s4SKdQjAxwC9Hwre4z7DjT4HOC7JI72ZWtNoFCt7du3BV7gjcgJ44TXbX7RIQSiRED74f/zoCQToHCkH9h8IgU+DXKv7W0oxGOCOwttp7mfzZM3aDYJZkdSOqSmVYMxhvb//9kd563/vg/6ornugFWte+7VypgWs16U2/tHjJh+8Fyz+x78AxXvdejZdssJAx+VRV8DThvT/3nsfycIF33hIOPf258+bGwbM+5SP6N00f8FXsmHdBl2G1eimGyRvvtzozxMK7zvg3/a/eqPcRG8Ui2+cIs3GbjtZs2aVKyuUk/kwxFavVhEThyza/7M//lw9z0rB46tDh/vxJuWD9pS+SyPVuHGTpXmzJtjVrIIs+XmZ/PnX3zDw5hbGZkqPyQLfmQ/D0EcffmpA++H7+r9KlQpyx13NJUXyZOqV9COMuFv/+AsBggvLTTc1kIwZM8BjYr+8MvNV5XVWgK8zWfzH1K0jN93cQO9xVykabmz79aa+oHf00jy01/Hp7847bperalTVvKbdoe0n/mnEWQ1eXQtDzomj4KME9L+KFcvLffe1QFkWnqmCWdKFbctx30//XRHkuFCBAob/8ZSeTXv2HoC343F46xmPxyww2mXJljXQ/oXov3ff/wjXwURo+UATbdq2kiuwO9327TCmLfhaDd2cIDImEOUfaebddz+G4RyGH74E/g/MsnGdlONv3bq15GZMXh/jUqlDCE6sNQ5t/4WEH0CqdoX+SGHIvYe6dDK4xK1de3bLsCGjA15j59P+DBkQlPzBdup1Mgv0uxTjvSYffH//02jTvmNr2bdnv4wbP1n2g+7PBz7fDcBD5zJ4NmPc2JsrfoXHDQwRfvqLhP8KWCLV6r67San6akLjPw2TPRG4nYZrGl1fnDhV9u/fD95OIaXLlJCKGB9YByZuCf/G6+/ISdL0aeY/NDLXx1bbDeBVR3KhgWY5jGDkwbx5ckmxEkUld85csvCrb+Saa64ycY1QzVFY4vinF+PGVFuRrrB5nSdvLrkXbcqJ4NSn8GV+yeKlsnnjH0r/xYoWkWLFi+oSyb///htLxCoqpf4KQ9VUGKwMFlidODy7Eri5B2feXSMwZDHkED1rNemjOOC+s+o7wZumg8aPmyrHjh/Fx7RWsmPnTugBaxUvZcqWNgG2AYkGpVGjnlPjih8+CcTOP2mYbQvvXhq2DsPbZwV2xPvzz7+lONpSvHgRGJRSqlcsvSLnL/gSBqrt0hYwKavfe+cD7IT17TnzfwsNTlwJMhoxbrhUCo0Mp79I/Oenf33pAsofB98TCNo5+oNeurjy97zgx2BXKeVMtgV/VLiCN8hmHjcGTZFK4MgWGONMFvOeKhR6g+/GTwSDlQcmcj0LYV4PhIPv8O/o7/Lmv/YwcJSGgWPpYnjczHg5yfifLvjDnx6E8oxM0Rg38LgJT3x6RaYM+AKcQepyws216578mTt3vtTApGX69Neg5K/3Xo3CUoDkMmDAw5Ieyig/ybz73gfyNQZ6Ts35Kn/SpEmNMtNLKbTt1tua4BYlIaGJHMNEf9bM19Ubg3es/Lv6mmrS/I7bAvA//OBTfK3/Em9ZgYi6XnGFMMjrdfDWqVa9ssLHtn4yDgrCWkwiLXy6J6eDYSNb1szSrPmtkgvb9BL+SXjc9IXHjU2EnyF9WrwHLQHytzU8WKjAs6pfYnIzHx4HfvgnT8XqBMr3Keqs5X9TxHbgdsBsKOtk269fO9kCr7ms61dffo2J8wLgjG7STN5D4J2BNzkRy5z1CmmECXkhfMEjnjkRemzAEK23f/ypBMWSCirTd9/9iAn7XLirHwiBf821VwNft2j7me9/b74j33rbVfOa8DNmTC9dMMGhB88ReCBMnDRVtmzaEtL/d955m1x1VTXkj5P/vfV+PC8ALUqfBvs/vP149V8//vZgcOKCMNygrqT/CTBirAWvZMdkuhOWSJC3iDP+O4YJzEgo3LuwnMkmvBaCf+blf7Y9UvuLFSsqjL2SEor31j//0p2LDh7G0j8PPpf5devREQp7Thji4lTB//sveHEhcbkCDSmMu9Gy5V3gUQZhjZO92D3nisxZYICdIJvx1ZoG3+TYhp5pA9ryAr72c9JEvssCA8/tzRpjgpRb67kVHmj79u8DD6XDMrBXg0ua4NWQL39+6dmTk0M0CPQ6evRz2N3lLy3X/tj218FX35ub3KB5f1r0i7zx2ttYvoPPZGgY+Y+eed0x2eFXZBp8hz01Rk6ewpICLQAQvPbH1KsjjRrDcAP4ixH8eRY8HAxCLcTQo4WvdkUWEob/1KlTwOuhjRTGV2uT2D8EZvsJR8gf3toHj8HZ+Br+w4+LoM8ZI6if/2gkp3cUl83c3uwWeCFkUvwvw8RuBmSsFuKD//AjPSVnjmxYIrlX3ofRL7Ckko0GPulB2BuT46w5YLjBrW07dsozo8di4ndM20+8Eb6hmftVbhP/nEQfZEBgJLwGz6aU0rVrJ8mdx6MZeCj8/ec2fWjxb3LyDbTXg29PPdEZwv/Ev4Vv3uG7wUSPm5vhcTMQHjeHsSQ3IfxfKPi2Jmy/lb/NmjcRyj/bLsaU+REfD9iOpGg/De0Pdm6rxpuXX35Dl/L54dv+p6GyXTt62hyQ8eNehHcFDVvMyZQ0+KdXHI0Hdvz5dRl3SZphyrfNBUg//gsXLojxowVkRUal/13wcnn2mYly6EhQ/vBVVpGGk2bNmuKC9Y6S99//WMdTPmaiF1v3Hg/CyJxX8f/dt9hl8c238QQvR4BP+cPA7oVh0CKevvh8oXw6+3N4i+GDkRm6lf6uu6aG3IbxK8h3cTIGPLHFi3GjwH0/ZWFcbt36bngRJ5ddWDI4A4beLVxWxWp77efHqg7wjM6jS+hYP29pGQw3ms+DHw3+zkz+RkDz229vovzNDAxCTwOyP3EpOmVxufJl4XnWMED/C7/8Vq66uqp8+MFseMV8H4J/yv0yuptXnCxf+ptMwy6kfvhW/8oOmfHQQ+0hrzOoN/TwYWOMB41XgcqVK0rLe+/EVZRsgqfdCwjAzfGkR6/OulyLnqF/Uk6H9b953escyJ9AP/nwz6ca4wbBq9ev34TgxBMVjnk3/i/RbPnP0n+g3HOEb94/vfyxNXHwLxP8x9THduAYiGn5NZSLXyrJyiEe0ZonSh+WAAwVW9YhOTCvfQ9l4JKTJ65XZFmxPDIbrzDI4QH/QyAij4Pv8O/oD8xAvri8+a9Dxza6pGjpMmwHPuOVJOP/lJjADR8xSGUN0cjYMlz6dDr5kwmTzCcex85TPvkzecp0LOVZbcphZ6gcFIlpgN1b4AbNtBpfnCci9gMqjz+bh0cj63r06Cz5CuZT+bcPLr5TJ0+XLfgqH0n+NW3SSGrVuSbA/888Mw6Tya3x4DOmx5NPPAIYJo2F18/69etxER9+FSyBaoGAeZS/jN3RDx43CclfbtVcvERhhf8ZvEhmQzm8EPK/AXAXU682JsSYIHOScxr5v2vnHkyqJ6oib/GPLtWWes2Hx1JZuf+Be/QuXaofGzhUz824hbeAlquvvkqaN28KL6d1Mnb8lHj458StJ5T5FCmTafuXckKJr8Ph7b+7RXOpWq2ywn8PS98W8uucXgX7Pw0U0ycH9VfvCS6BG/LUKDmKL3+no79Lcfyjxw3jhdj2TxiPL8tY0vBgp3aSHMZTfqUtUrhQYPxn/Jvx4yYJphvx8H+m9pNW+vbrJtmzZ1MuHD3yeXxFtYYQ0r3BP+OrtGt/PwBEIfj1KpkERTxc/7gJ3g714PWg9Qb9ffv9TzCwvavyp137+/BVvAyexcmHH34iX3zxNXrXUlycVIZnzT333hWgv8PwBBk54nnZtw9xaPSuzRsFPLQBPxVV+B9/OEfmzVugZfn5j0auPg/3gPdfMjmASergwcNgYGUZ+EOzLP1xol+37vW4L/LhR7Nl/rwv9dz8mPbXi4HhBh4kfJETJmO4QRks5xz1LxrDuJMOeUzr5P0SYjAZ+IS7YgUmVS+9ooYzP//54Te5rbHUut4YbxfjC/9MGLLD+3/Q4EdhHE+Pyc9kz3BOGMSL+W3Z8k6pwt19kE7ByPXsM2M9w1gQ/8mTY5c8xG3Jhskc4TPA8l/wPvDjn/pnacTfat+htfb/qtWrYNyZgVJD8a+d4YOfUPtN7fjUyH+cxMN/bSzZanwzPG4gpxjzhI0Pb/+FhB/e/lzw2OjTpytsAKgHxr916zYrnzJGk6W/pGg/J9OdO7eRbPDueGUWjTfLUT7xbNpftDBi2nRsBVl/SJdd7oOXSlLCt/I3f6EC0r2bNarGyXosW/rkkzna/2w/IjdrfzBGS+7ceaRw4fyI21RK49uxP5cu/RVBnt/XZbm8NrgJyn8da2C8V/pHcW+9/b5889V3KBPtBA0R/zQu9+rVFUaTaF2+Nmrkc7Ltr20h+gcya/vr168Nr7uGgBOnMcSeRyyxhOivatWK4FcYJjxYY0Dzf3A78DD+T5cmrdA4ymWjHH9p0Fz9+5qI8NNiCXIneEzpsljU4tcVK+UlBnMOJNYm2P6m2Oq+JrYPZ1sZa2sGPG7C4Vv952HIvuygB1RB8U8PmA8/QF+Q17z2sxwarbp0aa8Qj8HrbsCjg0wsMr0ThN+qdQtd2s4C586ZJ59+Ch2G5Xjtp6Gke+8uki8PlvgCwGuvvCk/Llqs8LVOUaT5c5//3gOPYhOceBM+qNFwA9g++Lb/bfv99O/mv27+759/+OnfyBjwBOkJf6R4m3RXqZCb5B0SnS8rX9DXAyfm2pA6yBIUSaKkwIXvGk6MULZAlIptHpaB5CvKBwkPHHyHfxCHoz9ynGGWAK8ETpRN+OEFeLq0+K99J7Or1HIoQtOmw3CjbbAtNRfnIn9S4QvKsOEw3EDOUC/EqA0lqT+LxzkQF0H+cMtUBjS2mP4dOx5x0hcJfgW6/be+B2XFIf7JYenff3CC+O/UsZ2uc2ffLFiwUD54D0smIsAn3NT4ivw41tBzqRcTd2WZ9OJL8eg/Jb68D3v6SYXPfAwKuxGT4kj9X7pUKSzzaK3P6I7dt/djCcLn0paixYoopX3G7cCh9ERqP+uqmfQE1cDl2dJfFngP1a1fS8qVLYOvcxm1DBbLskjamnBB+H/B0MU2MsghnynYwIlICSw964RJMtt/AB433K0lfPwxWyXXl+mYVDKmErpASYFw6KFFIwS9MVg2g0eOHvW8etT4258/fz6hIY6ViEXfD3j0STnKoNJ4J7z99F668soySn9vwXPnexgHNCVAf9omZOCRTdOECz983gs0O3Bi3gmHH95+UyB+kxC+etyo4cbU6/33P5U68FxjXSaMfwlGnH2YOPdUry72DWv6zv8+lK+/+TYE/76mJNh+xiJgkFXm3Yw4Bc9goq6ZtdQg/gl8MIxmadOmB+7i5Kkho/A1Oejlw/bXqXe9NIHxxuKcRiB68DClAO9VAn/vx/I4TSpGFwAAQABJREFU8h+B+Mcfxp9p07aV1zFx8vFHc2TuvAXx+p/4b968sVx9zdX6VZXG6en6lRgt8PE/XfRZJusyf/5X8sEHn0Tsf37x7t2nmz7bgxgMgwYNj9f+ujDccKkUisd24PjSPRMyFfUgDQXSOfZ/IQRkrQNjVwksN9CthpUwLQYtXZrx55efFsvLL7+Fm5H1vxsbYclH/TraZi7p4k5jtiQeWd2Ro4YI42xxQuvHP59VgeGUxiQj3AVLnD6C1+M3yBc6/tWuc500aXKT4l9pZgxpJhT/xAvjazyJnesYd4fwh8HQykDXvLgQ/FcX9Mc4HwOxpDM8WLxtP+t1oeD76Y9gaLDnUhsmtvu5ZycEArwndfvp3frgQ23gTZVdZr38uhpv2KdFisLTpj08bWDoHo9AxDbOSFLDZ/8XLJQPHmwPal+zzYRPvDMlhH8up2Vg9Z9+/BlBln8PeYnv+OVvahg722NZLj3VGHtu8uRp6nFoAATpr+8j3bFEKafCf8/zygmHnwNGx959u8Kwm0Jffx59s5FbtPsq7YefKg30mKFP6PhH+Udj5VYNTqyvo4EG/t13N9NYObzL2FD0NGEKh2/xfwt2lOKW4ARLww2XSlmk+eFz/nfTjQ2E4y3hL4bhJrBUSgEE28+q9MROZvnhecQyOJYOGDA4uNECblr46dNn0N0lCZ95R0Iu/IXlT0wWfgrgfejTT5i+QOHTps1ETC7EVOJLNuH+3fc0w5LYyvre72j7ZBr3vec8BrLjwsK3dy38hPDPpVJcEr5uHTxuxk5A5ZJG/iYWvpt/YxRAv/0T+o8lGtKMn///afhR9LgJUC0oltZA/Cop88xMhEi6saioeU7KJgMqsTMrE6/xrr6DS73NDLhnCVDP8KOExrJDHyObg+/w7+jvcuY/bgdeAsuJaLiZAcONTzycF//TCPO0zwhzCq77vXvDcOMDEC5/GGx0mC6vgiBCeg+xEr5ETI5I+L/yytLyACbm5M9jx0/iy9VjKr+sIOeFlX+6c1bJ4ir2FsyH4QaTW6Zw+Fb+3XHnrVLj6uqB9j+LycYfmKj65W8qeIU8/fRghY9PZFjOgW2YYbiJBL9M6ZJY791a4Z88AcNNHxhukCLB7wjDTXEYbpg++3y+BgKM1P6klv8MhFoMLvJFinBNfRE15ITIf7Txc63PHLSZmAodf4rg3S5wj2b3anDix54K4F/xije4FXmd2tfJ0KcQcBOTE3/777jjNrkGOOc9xroZS0PYpj8Uv/72t2p9F77mVUD3xsr2v3fI8OFjTD+xv/GuH/8NG9SThjfE6P15XyyUjz5Cv5+G/rSeWikWhHQJjH/dYcTKj6CU1JRYf6AO8YD2ywR8vd3+9zagI0qD9tJDRTOg/cePn4CHynOyE0uUVMHRd888/j85eADc3zGxRv9/C8PPO//7QPsnkv7x4EOgY8RnIDqnTILXHDxvLHye1PF29SH8k4hP9Ui/x3Wy4OseZEPP44a//6n/lMKX9/bt7sN983w0lyLAiyO8/8n/TbFMsub18KBDPX7DZG/K5Ok405x6Lxe+NPfFF2fe4d90LLdaip1NNIXBj8KuQCNGPomv/smRN1brzOVn/vbXq+cFJ0ZhyzBhmg6DCMslfHPCM96JzP+JaX8UgtfmzZdLSmDZWlF8BS8MPKfGZFHhKCAD4sUJL+kW0JHgN0Tw9gbkDeRfjOCls2bA44Z18qrHZW30mFyEL+GvYnLPOlv5ly1bdkz2OksaGK/ZP7/9honX1OmmVT74xL/SDJbo8PY3334vb7/1nqkcYfEMP1b/7OwZrXFbJk+aLisxoYvU/5Hkz9nqv1wq1QiGGxqYaWgmLfnbzzokRH9JAZ/F2/ZXrGxiDxH+zp274T06FYbO3RcUPpdNdcKyqZyQ+7NeeV1jmbWn0WY/jDaIabNHd1GLzH9J0X4uldJdpbT/zZbeHyMGlaU/4oZeXFyue/LkcTl08Iji5vgJGOkjjD8J9X86GBsOIVg+ywvvYN6z+g9x/yVidb3/3icmn+Y37b/77tulOpfd4oVt27fJ8GHP4mno+OeHz48/Q4c/YWgbOZ8ZDY8bLpXyERhj7wx4rJ9H/6KeeUvhoWfbT/Dh9KeGG+wsxfavWLFCpk2ZhXNUinIKZbN401DBuFdPbmgYo5c21pYfvs1K/uuObdkLFMinj5chZs+0l2bxcTz43HxgyNABCp/y75kx4zQgsx9+HgSR7w3PMRbGsidMmIpgx2vj4f9WePxdB7nMPLv37pEhg0aEVy8efCt/ztT/Gpy4WiUss92oH5sU7doe/PgQDNAe/rXkJINPUKb9bv5tMOuRpXaEYl1RdDnhXz1utFXa96bjg63kmdfw0IMSHTzRyEPIgUGIBGpMUPp68IfYg3anlOURLrme7olM3oGnHKpZlibe11PvJPSgjxx8oAg4cvh39Hep8J8qLiWxq9Sy5Zi0vJJk/J8qBWLcYJJj5YnZDhyGGyMpzBG8ooq7J380UPGIwSpu+DMZni4r9Ys7LsLkD71EHmh3H25jW+tjJzCJeoxerhH5rz2CmjK4KRODYn4Ag5DWIwy+ZkAZFRAktRW8eaz8Y6BiBln1y78UWDby9GjGcQG3451x2FVq7dqNEeGXhuGGXzKZTmJNfN8+Hh4iwGcAyWKe4eZzLJX6FHFgNIW1H2C1PvY2ikqw/aYA+6s5zcsR4Gu5eJoXu3c1bXoTvH/MV2De53agg58cLkfwVS4cfhHEH+jcpaO2/wAUZU6IwsefO+64FUucqki/vlT+vCrgWP7K8tL6gRamgrimB4Vd0hI+/jyMXXZyeF9IN2/ZKl9guQpbFNp+XKOcolhydi28LZhs8G0vp3njNO3nO+z/q2pU13hJtr2hDbcUEg4/KP9Ur2ZhbC8TBwiMvydOnELsnh8kDpMTVUTPcfztjq+lBfC1lMXSaLNv3z4E650iuxBvxI9/7v5VHt5Htv1rEch5woQpSjSJgc94UYOG9FecsE8W/fgLjDG/B9ASjv9rEeuhWAkYINHud9/5UL766lu2Hsm0vw62uaYhj/30B+LUjBnzvHls8aQ5I+sfpUqVNIGK0Wjm6Nd7oG5hG4n/m96CeE61rtWyV2IXk8ncucan/1SqUF7ubXUPqmUAf/TBp7Ib3l5Mwd7FBR+j6rchdgQnvWzFCG+pGM/5R/gxXFLR6AYUFydLl3mxY/AsmDQnLnHkf7yTGPxb+IGKePXhgUs9ymKpUeNbGkm2bFmQ1dDfug0bZByWcIYmAz8GO0YxKDDhq2fQrFdNNhaIxB15nnziYfkYwaEZa8zCZ6wPxibJny8PJotR6pUxGl/eGbA0HP/pEYtqEDyvbPoJNLOSBjwf/v3tv+Za0AyMUEykma+/Mh48eoP1YtVtRbxrezsjlnRVxld28oFtP+k/If6jXCsDL6vPZs8zW9Engv/2Q679jPhHWpEw+IpV3AuHr9VltQPJ4F/LwCk9HTp37igpUydXr0Ya2+hpxhSJ/hJq/7nA5zK4zojbkh07sDFeEw3upBc12lxg+BqcGDFmtP/R0q0wvNLD0o+vC9X+9Igpx8DtmbNcocuF8+TNC2THycIvv5H34Dlmk4XfC8t68nJZD5D8K4LsvjTVi+2Ca0t/fvynSp0aHjePB+TvGBhugjFuNKcwtg03L7DtD8TfYoFesvD1EvdvubWR1IYsI31zi3gbnJgl+uHzef0YyCEGScd7AcONFmTg6xs4Jfyu4Gd6QDHNm/slxt/ZXs5Q+ZsacQOHDXtM4bOUMc+MxzLyPxS2hc+drAY/hY9oZDzw3/SXXoZu6QXC9kol//NDTY1rqiv8zX/8Ce/NF/SpItScodxQ+ApIMwAaiue1d9BHVv7QE5AeN+s3muDEXnGBUhOSP5qBBXrpXOH75Y9W0BaoR8UUznDkf8A7X/nPErVUlHW28sfBTyL8a3Bi29HsVHYue4XnXgeZbuKVSeaxeaoDFW/gT8+DL3m5lay8odOcMwv/OHYRXiB51w4+MEJc4GDQw19emWSuzFOHf49egRRHf8BFkGg8avl38V9HxLjhFrpcMz5zGjxuDIGbuqLu5yp/UqWGu/CwJ702Y6ikx40ulUq4/Sn4RRvGEGUywJ7IL8ar10SUf2Wxy0Gbdvcqfo/Di6Vf34GAhaEW76m88tEfdzcog4kN0wJ8VfsQ20Qb03Vk+ZcfX590OQ7ys/vsOzw36InStfajxtCrBDeR7HbgkeCXLuM33JxEjJuBCcLvBE8FerwQMJdKMQDixZK/3Ha9HYxeJUrCeIP6kBamQ2nlThoGM9p0xUlBxCzo2q2T4otfOB+Dx004/5vth5NhhwxsK4tXqRhlwY5HvbD8hEohx5/f0d8aE4UvezBt+6MwQR0BLwAa+PiYyLf4p4pnSvT0ZXYUb3lpzZp1WDoEQwVuYlobgM9zZuNf+PhHY8WAx/siqGqKYF2QkXESzha+Vw09ECa9TEYjUPA2BO5NCD4fnIn/enoxbmz7J0x8SdYg5hNAhOCfsS36wejFoJSm/XHyLuM+IABlYuDTs+NBxDcgvs+2/Vzu99lnX3goMPivBY+bJk1u1LrQs4LLBMLxn1D7aYTlMgjb/316DzCBglGa0hz73ms/t5+vBS8vJhoNJk+a5rWfWeL0qzQ9T4iDAHwf7fC+pT/tC1/7x8LLjsswTHbNKXXr1UbslIbab7rNNjx4NAMroCnx9JdQ+02BhGeShc/A6d0QN+SKK7Ds0WvDgEcHY1eXwzYrjgY+l3Q1wnIp0gJ3nWFQ1ED7kYvBWxl4/CCWoR7XYMPKAjDmYvJY+3rFcyx2ChwPIyF3FLP058c/dyZikNLwZOmP+Oc5W8K/AHzUffYnoBnIvzPRP8tmU6tfVUXuvKuZKQfXtv18Hp4SA18Lwovaqx4uuTvOECyPO3r0uPfElGwea8549KfyiRkCKdj/mdFPXOqYAbuVcUfClybPQF8dCeQk8MS2PxL+tS9MtYJlolDTfuINhunqVeVOLNlhtk9gtJwHj9RAuoDw88Pjpnt37qBl+n8LgtE+A0Oo9putQBLBz4jYeQzCeyW2oedyQy6DhrlcIVv4bP/XC8yOaBY8kRIFQ+XTXrB01m3RDz/LawhcbijD5Azvf8ajeQoeN4pUZAk13Bj8+/mPsAcNelr2IQj46drfhIabmlgqBYGk24GrEdpKA5YCXLLOqFAMlkFyJzymUMNNaP+z/V0wbnP8Jv99Pm++fPLxZ/oe6++nPy4PH05PIgAgnGc1/p8x3Pjp75FHekgOLHnm+zSELcQSymAy8B9oy+WpJQE9Ch9pEFMHxqIA/9vMYfBxidxMBuN6GrgyT1mvlognWAUeN5TN3FXKe8nLHr/9fJN/SQWf+CdM7QtTLQ82Dw4++9zqf37+u5Tx73ncUJiZDjYdbQjL9D6fcJEUmk6uglWTp8pMODFMZamGb5CKNIPJz3O9x/uGZM07SrrePQff4d/RH4UKecRyCi70+nLiv/bYraA0JkJ00+XuTUYmnD//p0qFZU9YKmXlD+OR9O45ANcJyx8uQRhFww0wTv6biECr3Jo6Ev7LlCmOnS/u1+JPHMNSKXjcIORgRPnXFgYebmdJeakxbmC4MfWKLP84ARr4ONyYPcjL8cVId1DAW8QP+z8aGvnoMcO85kXBKIBtmNeirqrUoMY6ajN/FIIqoq4wgBC+xrjRXaVsq0Bf+o6Rv9z1g7uwEMrcz7BUClsl25wszcI/F/lfA94j3GVrOgx0p2s/n1n5lwVfJfv3743VYBxoEJQ1ECwW/egbf7jjR5duHbQtBw4c0l2ltOL6E3n8iUaUws4wVBUpUgjoikOQUGwzOvJZHA8F4LO9tv10Lx/4WF/cMePf4l+WYatvBrRFTyFTSP/jyiS+DZd7ut3Dy+V09GcGU74XbH+atKmF3lW2NEKx8P3t1z5MgP4UplbQtgR3YMg8dIg764T2P6/98PW55sKPplD4PbCVfP68cHP32s8lZuvXb8ZrKIfgfPivUqWyMHCjQWiUTshHPP2MfmFXl3tVJiLDZzBoBoVmfdj+d99+T5fRmOJPj39O/Mn/ii+P/9XjBoYblsc4Ni/Cuy4S/vk8iDVkwXXxEiUQT+l+nOMJ/vfq/igf4El8/m+MgMJ16sJwAwSt5JKeSYTDEvkXJ2YZRFWlP8In/e3mBAr/LP+bnMiuKYj/o0cwgQ/Tv8yE6QbkhMcNZCoNIqH9D17wwWc+P//zms8JpTl2ftoH74u5MHrxrklB+JHor5r2053Iat54Bl/F/8DOLYZA2BIDPxhE2dYTBqbT9D9Lo+dg23atUJbhvzmfzpM5n8/zmsc6h+Kfu+7d3eIOAxP4Z2ylRYt+Ns2n7NA6Rm4/g58ymKnix8uJg55F4j8amtLBkyKS/A3Fv8HLddddLfUb1IEh+Bl4Cx0J9L8f/+H9z+3Kjx5FXuDpXOSvn/65o1qXLh2wA1AO9Z6YieCx9MI7HXxtPqAnBXx2AuM6tbq/Bbb83ieHDh9CkPMC8tqrb6KPliiU8PYnJXyzHXgnbS/7jB4po0ch/hEgs25s5fnC58cj8v/V9OzAWBN7Kk71CY7nfyEIMZfr3nHXrYjxVlr7f+HC72Bo+DAEPj3YOP4ZqhEsEf0OY86Hp+3/VKlSy9Bhj6Mcpij1JlSPG6V5w3/3YFe9KlUq4Lmh/4HYhfHgQRpYE27/LTCa1lKPm2hZiQDkUybPjCd/LP3XQ/DtRjAgE/6SJUs0+Lif/njfwIrTDy6FYLhhYbohArx8I+GfHzCGI66fpb9nx2AXwC1/xOP/YsWLCT8IckzaiG3Nn39uHMDhwmt/Hngv9erdVW/RUDl86Gj19jqT/EEFkc5M/y1aIGg6AkSvXw/DjXocAuc++KbtwfYnJH/Pl/4Uxfrj4F/2+I9pcBs41xIV6RTnvKTpXgmfxBtMhs3Ntf/cEDhJzyvL91DFIsuCMEPMUMWpHdD5noPv4Yxodfh39HcZ81/79g/oZH7ZUsRj4NfhJOL/VIhxMxSDfJTKLAy2UMJ79TITrITkTzS20B6FgJhKcMA5AySuXbMhIv2FLj8yW2xbyUW29cu/tu3ukzKIi0FRaLxnPoaihosE5F+hQoXgPtzRoAL5liAGxMyZwI22xZTO3zHPwHDjpfHYhnnN2vUqbc0tq/rAcFMGu+y0ba3wT2DN/sPYVSoh+J0exC44UHxY0FzElPnko89C2h9UMiwU85hXCbVfn+DhHXfBPblGNRnYfxCMBviym0D7TYksjYVGYZcRLDWD8YnnXPLCZQw2WZhU/PjlDtU2MW6wza5RvXkHuWxGXNn+vxFLNUwARTzGxP5FTKpXw/vCwueSsaZNG2Ob1ncRDHezbpn6NDxuuDSEiV8dpyBAIyEw+UDo1ZngJ7b9CuBfOv4Gd5Uy7R+LXTQ24Os9ryK1v2271lhWUyJAf2tWr4dn2xRcc9Lo9VXgyGJwD/+LY9lTJ+xUxcRc772H7XWxVbwf5/7zhOCb9+PgtYGlUpiIUP9YydgzU6Z5JdtSeETy4Pv1H+4SxWCuXg7p2eMRkxW/rJtJpv2cuOlOUMj8+yov2Dlxw3JB/w0b1sdfXbyCDLilQZJ1y/CE4VsIPDKXhcnzmBgvxg2eLKEXozWG+zJa+j8T/T2KCeMJxO9iEFB/+wnXJl+xWpfkkKFDnhqIbctTAnVRMoOBwJf9GlJRwq9bj9uW36D45+5tGkRZW2JL5BHJw3/GTOkRo6y7biHM9q6Flw092Bi7zLa/5X13yykYN1577X98EUvliunuZgocxb3/vqGZxLaf4C38xLbf1oUwI9E/iyT8OnVqyc1Yqjew/1OQhQdxF4R4mvYnJfwU2L2sfYc2UhSeld9/t0h3U4uNPRkCPzW8NooXKyZbEFttz17slpbE8qcMdm1r3aal7N61V3evOoZlsB0QXL4AAp2/+spb8vPPi1EfpAj8Zx6YX0stmhU/icV/gQIFpBtiq9j5x9atWzWIr9JKoB9Q4DnCzwWPjzbtWknWLFlZCOLPbZI33nhbtm/fof1v+f+B+++DNw4+6iDPwq+wVErHNrbC0H/OHDmlHzxILP5/+XkJgn6/gecmRWq/xriB4Yb8R/1nzBgsldq8NYAc0h+3Na+I3fFs+4cNHSk7diAYt8INwve3/xYs+7TBiVesoMycEcjN2vjrUi+mFpZKcckmDTfQXyiHvM4J578uXTvg40lBfT5n9lyZg+WDtv1++CmSI26h7hRKaPC4eXa8xqGzfe6H/wBoqyy8nAj/px8XQW/4TjeRKAXjb83ra2BL+pyyF7HYJr84XZcIJiX/aYwbGG7WYRwc9/wk1BQ181UuvP3oJqR/jv8d/OD4a+n/Use/L8aNj9KU9DgMUWE1Tn4Bg4yPx4Oy3dy0j+wQRvJkYsnR+OWQyyNLNoMcn9jk4AckHVBisOTw7+jv8uK/TpiUl1CPG2wHPv1ly/xK8edD/6l1qdQT4JvgmOmfYEWSP8kwkRo1+imvDnH6tYRfTZjC+Y+GmHZYAkVl5CR2m+gLL5aE5F+bdnDL9ZZKfYkYN9w9IhJ8SkGm6tWryF0ISGjbPxtfoOZ8Njee/B3NpVKoM19jvJC1q9apnmPeo0Q1bae3T1usZ2dijJs+MNwkBL8TYg4Ux64xfPOLeQyoa9abs/1UIh/GLhhvwJDxAxR+Ld0CwVVC7Te4i8JSgtulBoIsjsV20OuxJXdi5T+DItashUCCqPUnH8+Wz+cuwLkH2DvQcNOtK5ZK4frgQXjcwHBjq2bho4qaiOUSCGbcAfF84ImOlsFdeu5CrK1H8OBA4uQKk3vsSDNKdxxi8Nlobb9uXQpAGzdulOe53afptjO23xbN7Anh3+YxhbIFJoXTX3j7metM+PeK0uomFfwe3o4gFv7z2LZ9w4bNuAzSnx//V1yRSfr06yFpEUCTqio9x/731gfYZeoH4NdDpFaU58H2Mx7GoEHGY44TknmfLwAtzDFZzgH/9bBUqhH6lvCXL2e8hpdPC9+P/2IlYRDATnFsI//16vGo1jgS/hmAtg4C0bIl3L1El+Hh3OK/SqXy0rJVCzXksP0TsdRsNZea4dzffj98oyt51O0dkFn7v259Gm6Mx80yGG4YN8y8G8QlS7bweWR5pkwPkSwMd/oP6ItlT5ngTfi4LgVLrP7Hr9l58+bWNj/3HOgBfGLoVQtGyaIxMG5s1FDxzxg3MzQ4cSh8234aixngvUSJ4ngzVg7C6EsDF+MpKRDvteFYGrsKHpLTENeC9c+I5XlPDHpU4bH1jJXDZRjMnpj2W/jIjneIoaTTv2JAE9yS/gnIqQOQV5HwfyHgE5ct77tLKle8UubD8PkRxiI6FoXDL4PltTSyvgh6XAV6TMr2czx64P57ZBcCEE9AbLa9+w4o/DSQCezn/Gq8eUN+gUejTUkJn/1fGEulumBXKfI/275ly98yBktHg4m5/DyT+P5PkSKl9IRRiMYblrJ58xYNds9Ax0y8Z+mvXVt44yLeDA053BXtXfW4sbmiJEWKFDJ4yEDsdMeA5NHw4liPgLeTcO4xvnfgG1b+pEaMG3rc2EdjEMR3yx9bmEUT4d/Q0AQHt+0fP24qPlKt9XLwEL/9/IhRC+Mw5S/jdU2ZPN2giFmRLHzepOHmZvA3Hy2G4YbBx23iPdt+Hh/q2lEKFS6Mt+J0F0uzrDU+/JQpUsFw84TCp0HmuWfHySbEuFEgKNPCz5AhI2RXbwQlXiMZM2aUfF7gY8In3rhMeDOMKjNmvS4HIEPYs/zjbzDFh59Y/r8HW7HT44abRXAnTENhfloKbX9Sw2criRTb/w6+6V3bt+H0dzngXw036uUM5jSmFXQ/KQDSXb+2emRIhjMNJsMggy4QI2qAFqV53AvQvhZg8KZ5+YwPvVs4MIdNDj7w4fAP8uHUDpSh5OPo73LkP7vjkp1kUAYkBf+nhiv40KGPe4KFBBSHL+MP44BzNXbElz/J8LWYW9BSiQL7YdCdoF/KItEfvQbatXtAJ5+naLjph0mlFokfHlmAHkUVYCrCvLFgPoITY/eK08m/Ro1uVMXH0v8zUFD+gMtveP+PGDVU6CVEhWXipKnwFvEmfGHwqyGOAJdkEP6pk7HSh/F4EpC/HfHVs3jx4lr9L75YIB99CMMN0Qf5nxM74PR7pKe8ji+HP2Fr67OV/3chlkH1alUDX75RqiYPTfYyXv83b36LXH11Da3TNBj3li5doYqfH36hItglBIYbtvHgAca4GcpTX//TTICEvk2HnYn6YHJptyDfhN2jXoABhsuHNAveI67pxk5D0xNPDpP9cOfnPRrUqlavBvicQB4FHNALXOBPN/5FYWmHGpyJ89PQnwLHT1LQvyIrgfYnRP/nAr87YtwUyJcv0P4XaLhZtzGE/j0CMsWj/VdfWx3bZN+qZMUqHj12XEaN4BIhE5Q3ofYPxC4ombNkVrpbge3cX8IEXZuoOCVuCcI7evwXDctcLGemyql8bPifu4txm2g+WbYc23TrZB8XSAnBt/xXvGQJGG7uR85oOYXMvWm4SUD/aYzlWNxCm/X6/fdVMmnidOSlbCBkkSxoT/8BfZS2eM2YDF8iSKmBlfD4lxxlnEK7WIpf/+LymxtvqK/4X7YEhpsZrzAH/oL074ePB6YMnnjJtr//gF4IoprVxMiA54VtP/nudPpfPxjmcubKqQUPHDjYeNeFwedSiuDEzmwHHg7fyr969YwXkdel+NI/U5dq+Pn/iiwZwYsPw4PkB3nzDSxf9DIPwNLGLFmyoGga6LDklIFdffgnTMWhBY4j+ZUeeBa+lX+Jbb8pkH3MwlhwfPzXheHQbgfOYOqajVmRLP4vBPymtzSWmtgifQ7iPs2ZQ88GXzX1ysBvgIn9DTfW09121OMmifT/sp6nzR7w+jh4tO7btz+IJsCn0YHeQAUK5MVW4a/JUhj1LgT+C2Iy798O/M8//1IDveID/XYm/jsd/du4PbZhz8N4SSO/pjD579+44KuF8CaF4aYk5EvFSlfi/AM5DtnIjQoqXFlOSXrX7t0yePDI0/Jf6lTcVerJQMcGlitq40BpoH/uZtevX3etIm+/9upb8tNPDHydMP01vZUfUK7DO1Gy6reVMgkxkcLljwLFzXqIcdPopobad0uwZHOmyiEWbuBb+Ud4XbvBcIPYP0yMRzYHsaUi4d/uNGfkTyw8brgtOvSiMPlfs+a10vTWxjDuYht0BJ3OlSsXlgRm1/hqfyIQ/da//oYn4XGFxx9tQ+Aq4fYnlv/vwfLMKlgyqjFuYJiMxP/+9ic1fNMg4DlQMM7D5K+DT+SYFECTvcaNSPSX2P6/GPgPetywrwNtIxFg4FcF1FMW8JAMxGzMqOfMTx3VJiIAT6h+8LbqKlquYsbk0lPzvn1Njw6+wz/pyRKDo7/Lkv86IMhnqVLFdDKuu0r5uhyiw0tnL38YBHUIvlT55U9PTLBUehnN2JTtkz/8ukVXXE0AOWGsWX5EKRYu/8p6XySZl3Fj+mCLbRpQIsm/B/Dlshw8bgh2wZdfyQdY5qFaGF/2wecl13H3e7in7jjB8rbBtfrp4c8C/Kl4/f/0yCGSAoFyWciLL06XVStXR4R/X+uWUhE7VRH+KZTTh0GaObFhCoNvDWls8kJ6B7GuXvtzYavNvv26qav2L3BlP1v5z+CdDOJ5AHEzRkKpOnjwQDz4Wif+sHqoGxO3nC6YP5+OI+rSjdgA7Fc//IKFCkl3fLmLw0Cj24EPfMqUjVzh40/bNli6hq+c7LCjh49qkN5diCsSkgC/d6+ukgeeA31016ATyB8tuXPnxHaj3YA+Vi4Kbv6TsZsXPJ1wnlD/88vuPnxdnmHdxROgv3D4KNRLqMy/VP6Z4MR5tP20XbwwjjFuNpp649rPf2w2bvA/tgJujyDYhVWfJC7XcJcpLH0xsW5MvvD2X3f9tdhVqbGWfeLEcRmAuAwnjqNfkDES/tNh+9iBA/vI+zA+fv8NgiB78HlSpx6C+DaBZwrUGm5tS4+bkMRKMr8mXPjwT3f79vS205Ygxk3PR9RrIVL/MwByLXhuUf9ZCf6chODEWhEf/92POB/lsbsU0zosAeKEVotOAH5JeCi2xZf6MWPGy1+YcPrb3wCT7RsQ7JiJO5nNmDYrHv2Hwyf+ib+QhMsB/ftIFux+s2YNlrMhhpbJoxIUuUP5z+I/JT0dvQCie2HsHAyjZzj/EX5M/XpYSgEDE/C/FEtB6XETkjz8MxZJF/B1MuCLX/q/WviNvIPJbTj8suXKStsH7pU58+YjsPBnpijg7/rrakjT229R/HMbehqSOBlOSP4xgPmAgX0RS+tTxBP53qtSaP+zW8Lh2/ZHkv+R2l+3Xm25GfT3mC6VMh4nkdpv7iUN/Fq1EJAbO/W9/54xDmrZaEyk/n8Iy1e44xS9rZRvfPR/ru0vjTHw/ge4PGo3tvyeokYb8lg4fBpvOnR6QHermwWviCUwQPr571zhazuUruKEwXC7YVcp0h/h/4Ug7SNgPA4kzWevzg7/3L2wxtXVyZZqIHjk0UEw7p8yePTgW/rrgR2VChTMq7z11VfwuHnnI/XQo8H3MeyMyLGsUqUKct+9dyn9n8LuW/wocQQxgZTmvE70059ZKvWEwiedjnlmApZK/REP/sP4CJMje3Zt/3yM9R9o7D2vzRHafwuMIYxxw7Ry5e+QZTPAB0yeLGDHUNAhxSD4OIMTE/4vMNy8jFhbfvzb9uOx9OjZSfJj6RoTjYlcLqUFszxNBv8pEbtn+NNPePfiYLiZKJs3bcZ1KPzmzZsirtBV8jwMO5s2booof/zww+nPgmTdTDLwEzv/NUulTHDicfiQEYn/LyR8W2vWn/h38C9/+wMMN83Q3RQD6HAqF7giL9KoSTqOxkmcCnHc4H/mJkciLy495jQiBTJRE8tiZh7NE0NMml+fMJstzNx18B3+Hf2BF8A6lzP/tYdrdKmSxc12yTMweaKgUSlxfvTPHXmeHAIvGCNZVLz0hcGCQWJVtqg8UvRS8miuVKkR0HjYIH3OJ+NhDGHMk0j4L1MOy49gkOG2k9zKlJN7rbmKulD5164ddpVCIEbm3bx5q07MjiEWg2mpVs3UEsKU3jYx9WriGrIShoLxmDCtW22WQLFov/x9YvCjkil9BubUQIGM1WGUoyB8GoIGDx4oKRGsmfBjgd8+vR6Bp4CBq9VFuXoF+HfccbtcXaMqruNk0S9L5eVZbwTaXx7GnwdatTRbj2OCyQacjfyn1w+9fzisrPBcrcPhh/c/Fct+fbtJNOIy/LJ4qbwy442I409hLH3qimCbHJoOHjogjw8cSp1ck3/8uQ67Ytx22836jHWfMeNVDeIabIzpFX6R7QZvksPY1WYgFW/cZl2J/xYIsFu1aiXci5K/tv6py6WOYTKob2qDgvivXLmi3HvvncDj67L4FwbdNOMgqdBAUsgoGVeKTHP3Uhn/emJXmnz586Dupj3jx04xQbLRnkj4t+3PnC0rJoU9JBkMj2wx2/82Ag5/8/UPOGeu+PyfHIbVfn26SzYYE/jS94hd8CZ2WElI/2iGCVQ1LDsc9tRIBECGxxTKtPDrYGJhPT5+/w27PeHrcWLxrzGjwPvsf/JU79795ZTKFdQ8rP+bII5JHeyCxPqugSyZMHGaaRt+2W5mz5M7FyYvD0nyFMlwI8oEaP3p54j6V/KoZJA1XUCIUTAyY6JJrxsC9fDfEN42DRrW0dKXLoeHCTyJ/PRv258Y+nsUBgx6q1D+0ZDBHX/88ocNCOf/qtWqICDw7Qr/jbfele++/TEi/HoNYLi5sb62X2Pc0HATRv8p06QFbrtINnpZARZ3/nkBk1Aa7VSI+OAz+Dq9Gt95m1u/w2MJ/0h/NMb37dtVsmXPpn31PXblefP1/+FZEP/sBxSo8O9ofhtoprLSzK69WIoF1EaS/+HwLf7D+9+UrEQBCEH6qw0vLOtxw13wLHxtKPJFon+Wcib8JwSfk/97MfnfjTatWrkSy0XQNPUwBB7YdIw1yZJHIxB6CuGWymXgUboVAXRHjnguSdpPo00bGG127tqjgfS5PIp4N5gxWPL3fxoYANsjjlQ+GI9eofFm6XLNe67tJ379+M8Pg6D1uGE9tm/fiR2LRiv/sVbng/8mTeFlhxhapL9TMNg8go0LjHwI9j/prwRiZXVEGwmf9fv6m281gHYDes3dGCOP9B8MA80RSQUa7gojU+48ubT/53+xEF672OCA/QYE+vmf/a/LlBBfxsrfsc/DcxjLV/3tJ/yqVSpKi5Z3shg5duwEPJRH4KPKIVzFb38G7EDGYNbZGLMHQLgkceLEqRHh82Z98PcN4G+mpYxx4y2FjCR/emG5bT56beK9uZ+bJbCR8J8ScbOehn6mQhaVfg5espuw5Cm8/Y2wDTkNR6ugN02dOsPzrgnt/4T4Pyn4756W1A8qy1p8wGCwfraFnRWOf+I9IfqP1H7mTSr6v5DtZz+ytZb+XPsvfP9HxTS83fABEG8ZBPRiEqUCpTxSgOACJyZL4BcjLbNC/cItDH2Bd/kCEkfiKD5jeV4hPNisDr6HM+DEpgAOAxjzndhM3tHh39HfJcB/HRD9v2TJYsZww92Gkoj/82LngN59ukKyWNkSBw+ckViOsdswSAT5w62hB2L7Za6s4MDzCoIABoIk8i0f/9XAThF3YLkHiyeEx7FkhrFVAsnHf22x+1QZfKU3sjNOd/GYhqCdsXEnkT0o/wpBmezctT22wsXyJ/yjgsZdlALJB58w+WXpmquv0iJCtzzGQ8BPDmPH3fc0k/LlywmDhlr4r8ItetGPCP4YQf5WrlpBuOME4e+Dkj9s2Cjs/kOvBpFWiMWRCx4nVOYDQUFZETYhPPnabzv1LuwKVB2TIk14Tk+HD7AF7I4dO3BLidVmVfgpobB27/kgXJ1zqgI8fNgY2YWvtUwBsN5JhYrltX58dvToMXnisWE6wfOPP3kxCeiGoM/czpv4+f4Hb1mFLY1lgf64zKMNvt5nwzKR7agb4Wry8E9j2IMPddBAmnyVW8ZPwcSfSnogofzMmTMpvH37D8qziDPA4k3NeUB7I+A/qeif5V/o8Zfb2vbq1UWy58imLePPG6+/LT/8gPhHZ4CfJnUaGfBYH+HuNgYnWPqD+Euvv/m2/IxdZRRZiu9A0bgXJzng4t8N2/hyKSTJjoEs58yZ68tkTksUL45J0QMawPh9fkkO8I7phdtuvUWuqwneQSmbsevRc/h6q7sIJUL+MAYVtzBWskdxgwYNl72c5PuT1/6W992BL+aVFP5WeMdwC1ulk7D+r8iJdcu7sfQRX+mBB+7YooGyFYhXMNpwA75iN2hQV4Ni/4bg2JZ0LehmlAn42kz8b/w/e9cBWFWRtU8IJCQQWtAgBKQ3RQVUWBGlY0FQQdYCC4IUG67lF0FBQERqaLKubQ26a0UpioIi1e6uCogoJaFKL9JCTf7vO3PnvZuXl5DykgDeG3jvvnvnzplz5syZmXNPScbGARZQuj8PwD87/PcUghOXQ1YbHnQjXIqYKJ8i09zRo0f9YElOp41xiOnxMKzj6NKwa+ceYcawUxr01hKVBQ39O3e+WZpdDasEPMzMfS8gg5/eskVxvQeCDV+KGEA8jsO1IWH8VIzH3frbgg0HwdoguHN70ITHG6+/JT/+uELxt/zPQKQPwR0jClaYBKJv9ZGRKnD81a6FbDT39ZLFi7801gdKM63WfPhoaJpq+9/i7yqZDr5fqPnxb8XgxB3bIxbXKGN5yEqIlAt/w7OuWnMJv2bNmtIPii0qSQ0QfgFeEPlDo3o7/y0HHae//qa/AbmEX6dOHenduzuUNntVaXMQrqyZwXfjXxwbdVreVK4cj43/m1gj/Iw2K9WVVHpmGcHfSnPmjD+3/LfzHwtcgjmxZ687ccZa4F6LuXvUyPFyFBnoTLfjujlhcXNkE//qNZCG/n5mOGTNaRqUWGPCadsN/zPQ7uMDH5TSyCDJeZrtWE0F8iuJ6kbKDHyDn3gafWG2v7FQdD+CsRUVHQUL35OwDposuzkWAvBn8GBmfyJ9Lfyvv/pW3nt3lkM7A9/S/5ZbO0rz5n9R+N9+81/Er6MinK3x4x8TEyMPPNhXzkMbLP2Z5GAM5sW9UMQpCR0S2S+O76th7Ub8abH3AixT3fS38IsWLQbX7QFyHl7QEJfvvv+vpjt3w7d1ng/l6xODH9WfxGJ6IgKf0xqLXeg6LsJLtd69eii4Y+hP8hvnFrrMnjx1QunHjHx/HNgPF7ZNGlOMin2lZQjGn1rcoP+SIX/pbu8f1GxoevqbxvOaMou/qIv+PtSyyX9a3tf/3v7bT9Rzl/5+VymHSVSj6/CURVsFAviBQp73rfqFg40DlX868PBtjvS/fDyJ2zp/+DkTZ4SCA/BppsvBmoKFwvbtO6AVPq41FhR8jvzCxN+Db+h/Xtx5eHNWVPbC3eAI3kAE9n8kTGsZRHHH9p3Ke6HiP4/++c//fbEwqweLm+UaSBMWN67xnxP6U04wKFxR8AmtS8qULm0WRMoslD9pchxWLgfgU38Mb2yPHz8pia++IYdgUTEAi5II+IXHxpYFn0VS+Kj8YQrhfViYsMz778+RCNR9E96gx5QsoQuucMTPUPmA2rmx2IeFaQqyY0ye/AKuWGnJGDd3IzhxHZVdO3bslFhshvgG7Kf/LZfVyDQTgQX1xZdcpG/ZwvHGk/CtIiYr+RNX4Tz5+0PcxEYr/Lf+865s3rJVjiBlbDwUV4x3QaUHszBR6WKlMZvGlMMH9h/AWyu21R5pEo7U0wPgmsAAkaT/ciyMmL2H7iGtYQnE+BK/oc3Wcj4n8p+bXW56d+/Zo28469eto4ECv0FgWr7B2wW3sD1cCOKoiuCRN996k8RXqijHoDh64423VOFFHOz4j698AVIW36KL2VjMFdzEmdlHhG+x9yMbCgPPfoZ0xlQCPQpF3nngEyLM6e07LFSPor/Qi5jbw4QbhQoVLoDZNnB35r9kWBZNheuKwgVsC79EdEkouG7TVPac7Xbu3Ingjus1sxeDpl4I0+82bVtICtKNTkVmiUMH6Q7hHA5827du+ueW/1mH4fLQzb/Bxl9XBJiuWDEOY6uYlMWmIzqqOPAidDPnE/p+4H/k8BFVnL3z7gey/fedTgmDPwNgV0X6dqY55w3zNO+RQkWUZvv37ZMkvE394L3ZukZw05/90+2u26HEoRWFoNwmuBitR8DrDViLpEltyJMWMOlftWo1LKqgIIV5GWEwpTjTMMeUjkF8o9L6rIV/CKnRGW/jxIlT4Pdl8hOszdz4V4FS9RbEeIiGNQJT9Cq12XbAP4YYV3vB03TB4di/GhshpsUuhYDKpTAvEQGzMgJfgi77/9iP+AcbkdJ8Trr1DwNadgE/MyMTYzAwS9x6uJBtgLk/gzPTyutiZEr5cM7HUOou862/rmxyuSprSpUCXoBnaUV6ckO6H+N8LQLMfugEGifOyt4omNX6iy5DHFe/rVmn8aAY44p0Yma8zZt+RzrjXZrKmbKTm6VOiBnEdnJ8M1uLUciCVABI+tt2BqM/N/XMrsT4FtzANoFLJV0r+Rzx2Q7rjzWQEdx8FQkPUzkVA7em2rVrqhKPpQhlGgKfr4XrooHIJ3mEqTzrBosTO/6TkOUnifSl5SAO8gwDr65atQYbwn+DZ6CEhaCxY5Q12bZY+ZOX9a8GPu8Ad5ihxh1GG+HqOSt/8gqfcRlGPjsM4zRSa1c4QMT2P5GyeBlKY1HPkijwGbIKzvv4swzjLyf4U6n76KN/lz3glRdeeNW83HDBz4r/SH/Ga+nTt6fQQmYq5ioG+s0JfEPXMATWP09uv7ML+CZcIotzro81ct+FP12eOVZo5bIdcVDeghI6t/S/BW5F11xzlfIQM7PN/+RTWIyuwDx9Aq5R8XBnbCvlypbRYOR3I1AzFTOk+5o1SVIT1qOUDV9C4eKGXw8ukt173AFld3G08ZgG6l+LsZly7BheftVSd2y6XC5fsRKu0VR4oh+VWGGYDw9i/fyHxrLZvmOHr/9pyUr4FyFgNMuvXr0WgfoXaaaluLg4uLHXhtxsiDEXLpTJFyIWjVaJqlPhdr1n1x7E7loLl+qPEA/ucnVRKlmqpM4NbviUj5QdVJquXv2bdP1rZ6lcqZKUjS0jJaCE5/jS8ugVztsHIYu/wQsAZtHqj/mCOJcFvWh1aeHT82PvbsgNuDu/h3lm2+/bUY/564UXLw0a0B2azEZpwOvO4eI/w/xp8tXX3yGe3yf60kdLOfO/m/54TOvQKrPY/xqLXMS4SUpWixuOMPus1u2Cfzr+zw18YpoeYvpfbIwd/x589o49yCHOrzz0f6HQv027zoa/2X49c3rZkeeKIq4748HR2rAgC5CbWV5LKfOYHDjmt9LEuedcMV+4lgYH+XD8XYY3LDSrrAHhxc2XEhJEJINxY7QNCpwfseH56acVukgzWqPQwC+CAAm+4V0I+Hvw/fSvDSuMJggMypS8MSVLGvYCE6SkHJHvv/1Bli79Ama/+5XlevS8AwvWsjJl8rQ88Z9Hfz/9/WM1f8e/xlRBthAuNpgyMrfjr2LFSrDOuFcVGPbtCmcnq1SmoGEGpiI0CYfChYu3556dIAcQb+W554Zh8ZMiaScRvNd5w0X8Od1xoReBLBGv/mu6vkmmuTk3aHwDTdlm5U8RuDBwQ8F6ByLejcLD8yyjrlKQaaxz8aJlcAf5Rt+KXaxxVlASjaT8I/8xZTAzn2zesiVb8rdypXgoODpItWpVTUWQvxqsD3B/wQZoJhZUtLZ5HIEICZ9N1gPnqXDveIzxbhz5a/mfSlC+ua/PNvMhpWMq2v4lFje0XsBVXmZ9SmBWenr5z4VzY7gOMVjj5s1bhCnVGXMh7jxk33DwZwweHgwqSzhUML0B//iNmzfpb73pwKd7VP9+vdQCgFYFXEiyuVTEsK/Zbz+t+FneQXpg4jToyUd5B21HIf1nypFeFn4g//HtPeErekSThwOf+DO9ebNmTZFFB8oeEsOhP9vyLQI4z0VGMOMKgdsoz2czHLiWGXx9iIsIktc+i+/c0D8U8AdAUVgBC/pTeHNJqysqRXR3gQZyIc1+K4LGcdwUR0yCKTAVN3EI0H4H/6eHDVLlBN8ckwe5GU/DCjUcY4j9xvFJBeymjVsQQ+gV4J0Rfyo3aGlxeaOGkP2lnMoN/bmp+XzBQliIfCUn4MZIsDxaQ5HWulULKGdO6PhV02LeIAqgb1EoTZm9heOPqXkNvfE04NeF60hPxIo6jje4DPDNm5b/mR0+HIqsSLh3DHx8qHS66Ua5smljZJvD213gpu0nHFTFVPKkzebNWzVjDy8Tju3/suXKQIHbForc+hIZQSWygc/+37VztwYLX7liVbr+bwc6tIAFB9tG/lXLITypcWEALzKiGJSt6yQRCgnCynC44PN5PQCWMW5ImPF4u3/85HFpdlVTaX9daygBon3wmVFPLdiUyqmyHu4BlOMHoajkWHOv/9jOVq1aaDvZ5zYYOGUy8YuKjJIZM2ZqkNQuXW9GIPPGaAprwSdkq4lUoBTxwbfNNVdT4e4yUXbuoAWfedINn64WbduCZ6AAU54hqqwc3Ull96IFSxCD7AtjEcXrSgqcBOG/vI6/Vsgq1QFZpYYiFheDqdv+d9M/FPAjOM8hw5AePpzwy57zG/gHg/+ff7/rWL+BEOgfH63xM7v4R0JhRAuxBZ8tliNYu/nq0AY5H6gvGHyLP+O4tWxzjSra1bItB/Bt/9NqZwCsLY/BGpMWbypz2K88CB/yh26I5DPy8y5Ys0yElaQSKpf9fyWUt60QpJcvlfRwaE6+/wpKGWaLpCtutWpVNRB+BViGUen//X9/lLnInmjxd/NfDBSjHW+6AVmLYMXn7hN0KFOaM7jxtq3bNasU227xt/AnT/yHMBh/ugP4X9roYrmlU0cpBaW2LUv4zELJTJgLPl8IZVM7E+MG1339j/Nff2W2vESMLchX4HsciiSlL+cHVEaZxzmXa6P335ul4/tBWMBRmcb6OQeQ/pg5lNxFUJ5ymPKb66URI56Echz9BqU6X6axXYTPly3hkB1UHL/44mtIJJGkN7ieuAvuzJWrVM6Av6Epng3C/0lrN6j7l1pE2vssmMP+Z3Biyhgqh5llkVXp4avTXnC+iZKz/gn1+A/sfx/+7iZ48M96+sPi5lZ0I/maCzGwEZjNMh79uRl3wZEopusdZtQvPqmFHf0myttFMnmf2kMd8FqOPzgmMCHjf6X4C6QzJuuqGGw8uEjh25AkmJuxHdUQTIz/K2CDxmBSNHFjkDWbDo5gCSO38Nk4xVUrYTUFi78H39Cf3MW3Fc2bN9N+X5eUjCwlyWruGI9AoVWg8Y+DBQ554v0Zs2FFcVwtLTaCHyYjGFmw/q9TtxbMsv8iRfFGftHCJWq6aZjRz38e/QuH/5lBom7t2rICipvX8HacMobHuTT+eiOQ6UX1oAQBanybP3sWlB+QNyVgucOMB+URR2Lv/n2yHRYnBx2Xi5ziz7gfjEcRg7ddhw4dURcfBoGk/KWVAN8+HTp4WK0Z+NafC8YUbFZoYaCKniDyj2/bz4f7A9Okb9nyu+xHJpC8yP82rVpgI3tSliCzFvHnWA3DYrlundo6psvDgiIOJtM0Hd+ze598993/9C27Eex8JP/mH7YnL/Kfi3O+oYwuGaXKpm14Y8sgzNmd//IK/886/1HRwzgY55fHG3TI9127d+Nt8Q5YUh3TBcHZSn+6UlwIq7MysAI8CesbbiS3440y9WQqSPjFQzve+eI9/sYHuDnP+NNKbwkUWExrq7Vi/EUhdljt2tXhHnceaF5eYs+PVUXRFlhCfAMLtm3bt4cMfn6tP0mf+CoVYX1Dnikqu+HWtW37NrjJIE5VAc0/rVo3h6vU9TLkqVFyGHLZG/95k79nsvyrFF9RLdeioMimFRrlE+dejlW7/2H/x4If9yLwPvn+dPM/AxBz7UCrQwYBp0UaX0KxTlrNXn5lQ+UrWnwe4X9YEaUc5nwPrwWVE/gIgE9FCONJXYAkBHzpsW3bNl2TqPUZRnV17L/KIMbNEQRGZn12DZECixfGSzL1qqQIifzJzfivWKkCLIbvk2Kwul4LZfWsWR8Ks6LRwjoNCqIiwJHxnIpHRagMYyyaxo0aQalUTOf/99+dqUq109GfWOqhjKek9OFPxU0jWCklJ9Hi5iWHzvgiyZXmeNJZ/7j7Py/rD22G9itbFRr5nxv6k6eCwS+LMASdOt6Il1nfaZD+Pxv+HBv52v9qcUMOggaQc789fDyBC9SO6ltKFPO5ydqCrm9lJtdv96m5x0GUhjcPN6hpMwfUIZjLvvfObFm5Cr6LQeBXr15V4zbEQoDw9n+//Z+8N2OW+i266+d5duDr6waU1LIWyQLE34NPnbyf/p1uuVGuvaY5Nngn5O03Z8gPNFnHYbuG5xXjK8hdd/5Vg7WdhEDm29kNiC7PKPLug31Kv+7hIwbjLSHNMcOwqT0ow4eNhpYfUf6119PDN4yAJwuI///s/d8PaXVp5rsSrlKvMcaNDsRzi/739IHiBtYr5Lcli5ciHfbHBk399PjPPf7Pxf53yyR7rmzu9T/I4fG/x//++f/PMv5bw+LmRqx7hw5hbLRDBm27yPHWn976y1t/Bt3/cf7Mav/JGFuVkViALukTxk1BTBtjwWvnXfvtnn8rV64MZU8/VXht2AgrmUkv5on/bFYpKrynwuI02OGGfy7L/5jSpWCp2USaw22wOOLamYx2Xxh5561/wBqhWf9ojBs7f5DhDINxy0Etnv+g9ohZFTi6bBktjUknDNoccxV3VdWk+kv/NT3DU3j+DvjMM/MD55FccvsAACMQSURBVKq98JecgkjhB2A6yjp52Lrd8Bn8jibyVaHEIXxmhfgX0l7S7I4VZRe+G0/CJ0483NeDwWeZYPh3Q1BPvsF+9533/Lhmgb8bTijgK7UKAP9uiERPE+m33/lAqWVplFf4jHlBf2YeNFdfAF9bW7e7/3m/OHhgAIR0BVgEsEwyLG6mIL5AYP/XgRtOv3t7o4yfJxMQIJJvCM9W+hP/YPyXV/rnlf9zA78/skpRcbMcLi3TqbjB4e6XzPr/bMK/LwIw10fKc8pExoeYPXsuzow8JX48zqbxz/aeTfTnPGOcAA21aY3g0d/jP7ec8cafGdMqizi+eYLjXJC/Z+L4vwJuYDcjZtLIEWM0robHfx7/Fcb6y47zc4H/ImHRNGrUcFjVpMrniAHGmDVZ7T/d8r///fdI7Zo1NAbZU089kyf5161bF2kES54kKm6wnz0T5U9+rH9oeHHxRfXhlh4D6zFaIJ8vtUBTxkey+6/Zs+bCHXUZfnvrDzf/5XX8qasUzbdgUaYbKJvy0k7inMp1C8z7gOwb+L5Jntd41WiS+BwPLpbpw+iOOtG1aydp+pemWvpICoJ6TvqHBnnMDvyYmBLILnG/xMK0j8eKlb9I4r/e0DZnF76z+9DnDbZsN1qaS/xHIv3w9h27ZZpqWU+Pf6jhm9Znn/65hT985JPop10QSkx1Zw7LhOY7e/0fCP+BB/tL9eoXQgGXqhH1qS3Piv8YiX4gYnfQJ5aKm6lQ3ATCp0/w/yGdcEnEySFfHEk5LCOGj0Wg62MgFEpzxOjhxyC3/V9Q9A/V+DsT8O9HVykqbpDuMzGRGSxyP/7OVPr3h+KQQTTJf4sdixtlOY//vPHnyR8jfh3JfS6OfyIYbP1zJshfb/4rvPmfQfSPHzvh8b9SwFt/md3Uubf+KSj5F4UkJSNHPa3uUMsQq2rmzI+csXV6+Xvf/X00niaDKD/zzPg87X+7IUkGA81TccN04AWFf7D1bzySTDDANwO2B+6/Qz3/MAHE6LFQemlD0nSP9fvWbVJNDSzMvpSua0uWIH4cD2/9G7L1b1hbpAPnGko/sNEw6ylHqOoc55xTL8H7sK5RRQmL8pa5as61PD8cJQZPncfjEVTz4Ufu1yoY1+T9GXNk2Zdf64DJLvz6iIR+T5/uPviJeGPP7DQKxoGjAILAl1SUAuP4iuGEa2gqrLILX+t28GdQr6eHDdbBSsWN0oJ1aWsy4h9q+ASTE/rnFn4pxNAYNvxJSUYGj6nqv5m7/g+Ez0DUQ4Y9AfqHCQf7uHGTDO20g5xeUno65w7//a3nX6XhZZeqq5TGuHEo7qZ/JcTGuapZE+2KL5Z+bfzwQ9z/BUV/3wDK4/gLpL/yPOibW/7PLf59YXGjWaWQvYgxbgoavsNNZsznE/734W0Og2yTRksXfymzZmNB4fEf6BE6+Ztb/iuI/g82/3n9j8Hg9X/I1h8e/xfM+udcm389+afTcr7O/578L7j9T5cunTRZwCkEP3/1lekmnspp9n+XIP7f3Xd31/3frA/myBfLvoZcdkaGfjnnmLKyM/6Nq5TNKoUYN6eBb6vNy/4zM/nfE3jFxcXKmNHYTxGQHfD5sP6kxU0LpKPfA+XXFsRjY4xF7sMSJo4i4RT+7JlzZclSxDjMB/gFsf/1EfAM23+pq5ShsvuTZk3W+ck0nS6YqdhlqcETzmmlwHg1PPhZhIsy+zZRL+Cijl9T031I8VarVg0Wl4OIO/LsiHGarlcvZPgIDj8N2SceR4pXprwlrP0I8Dn6uQSt53TwdbBYOGirxuyxvzN8B4fvxr9OnTrCeB1JSUgfC8VNQcPPKf1ziz/TA/btdzcCBm+QKUi9mdv+D4Rfq0YNuRdab47uPQgw+eyz4129kDn969erjaw9PZFeeTMsgP6hz2SH/wLh57X/C4r+RFDxw4eb/85W+JpVCm5EK39aJa8lGlcpV8c7p5n3f6j4L9T9X6XyBRITU1pTf1/Xvg2Cekajw9Jkz9498tmCxZqKey+C/dJyjRvYUMM/V+XPucb/yuBe/3v8j/UL5Xrw4+yTf578yXr9660/XJzuyT9P/oVI/kVHR2N/0guB3SvCBfG4LFy4VL79+ns5gD2me//J8ReHMAvNkbSk6VVXaEbDX5Cm/NVXXvdlu/NzaM7k7513dZUrrrgMyXU2GosbXbCjNtf+t6DG/91Ii87ECWPGTiwU+KRhQsJz5o0w1r+z8dJyMSxuCgp/7cNCpH9Bwfcpbqhe4SZaCYwPppikNYTqYoKsMFhe7we552w1UZ/RvHLz3w+bf4JIg/JnwaeL5OOP5+O+gUlkswv/6qubyq2dO2l5wp8/73OZN28Bq3AdrJd2PQY+byheCt99OefwWRePO5Dq9krE6kmCQiNjQKr8h58T+rO9ucX/DqTZYyT2wMBbeYV/6WUXS4+ed9qWwVxxjGZn0XbiIzP+i4qCeeSzT8PiBkIS/qRW60oc/ce5Q/9QjD/SJbf9H2r4fe/rLXVq1dKsUpqu1rQs2+Pf9nFe+c9HkBDBV4UUXMDMQaV3ejdR0n8Z0l1+MPtDl1jKvfw50/C3/WLxz2/56+Gf/fmXfXKmjP+0dNOyx/9Oz5z18s8b/24KeOsPT/6nE3Se/OXwwLDID/nP0AltkYK+RYvmEhkZAUXMKVmzJklf7B+DMicqOkqVGdWQoZb7z5TDR7H/nCdfwuMjFPLXBif2u0oV3vjv1bu7Zs8bM3oycMu//W9W6y9a3Nj1LzOqLoEbm7f+CC3/h7VpC1cpUNXY0pDh2CVBFDh6x5TiANRn8JzdODuXcMPcI8/Akkp/PPrYQ8gIFMdH9Hjpxdfk11/XmGpsXbhLyKeDH4/0b489NsA8iwoPHTwiQ4eOxMttRcMAICAHvmmf1aCma2Wu4LOmqhdWkQcfuhe+lQItq/FrTFdzPsM3DQd9Aed09M8L/lWrVZEHHuiv6YHXI0371Cl+i5vs9n9m8OMrG9c5vHxRXlr0+VL58KNPTtv/pP8TAx+WI0ePoj2IccPn9Smtxvw4R+hPGvsUWIpjzsdfZvT30cyhf36N/0D4/RC4l8GJVzCrFCxubP8XFHwXl+R6/Acbf40ubygxJUpoEO9UCB/2m8o/aL6YtpiZ0Hbu2OGY8ho2VdIXMP3zC38HDW/8kQKe/MnX+TfY+PP4zzWyPf7z+C8f17/e+DMyPr/X3+fi+s8lpUK6/qL8j0TMlfoX1ZUGl14k5cqUldJlSklUVLQcPnRY/jh4AOuvnbJyxS/y229r5ZRmmUVrQrD+ouKG678NiHGjL/ELUf727v03KX8+XKVGTdT1Z+D6Oz/pT7R5JEyCxY0jf2bRVQoWN0arkG6WDnn/W/h/hvWXWtwoOYm19jK3UH4linZ0wD2jXMFTfB1vqYWffC7ViQFjuigNwYRj5amh/6edpOXTEIh20DA5euy4djI/cgI/HJugkaOGQLMa6TwoMmH8FNm6ZVtQ+IRZJDxMU5MdA8zUUyeNkodS1znc8LnJKhFdQt25fABc+JcuVUqYGSfugji9nQSFhgakygR/wucGzg4gUpZKpsjiEZqOLuVISgb8iyNa+rHjx/AMuJ8EdsEnjQlYlVxB6B9RvJg+cxTBeAkrM/jUUkchZTaD9jIosJLD1f8xiG1DPCtcUEHhJ61PBp5U3GQNP7D/M4NfHJYzoxhYDIBttrKFCxbLRx/NVxhWiRcM//jKFaUYNsJJME3U5rAfg9Cf8VOiIbiPHjsKQW1oaekflkn/s0L+ZQU/K/oTf6Yir1ajmhw9ckR2bN+FAMlHMvR/fsI37Scmmfd/YcHvD/dCBu5dsWKVJDquUmhlBv7LC/3PZPwLgv88/JXzz0j+9/rfzH+FJX88+nv015d8+Tj/e/LXk7+6pjkD11+e/Au9/LMWN8lJSC0+9QVn/1A46+9efbtL+dhYGT0aiptC4r+JE8fo/omhVGZ/8LEsXfaFt/+hQHA4IxTzj1HcYMOuG2jWzc7m3pwfVDrgXhoD3OBcYfMO75tLUoT3zQP4dM6d+/yqVx8Bhe/5m3kAD+7bv19GDmfHsn4DiynccgL/EQQ5rgyLDeotCH/WbJhjLaY5FusrggDGPYS+jyURZyIK34w+zjY///xLQkULtayEXwV13Nixvd4vwXJQ2BSH4uMklDuP/99QxdniX6livFzW6BL4MjYSBuwlKMJPgTY3KXkjqYI/k4I6FW/bE1/7N34bOA0urqd57aPxRr5EyWgohqKlaNFi0P6ulNcQYLlcbDlp3bK5xFeprGZuxaMiNdX5csQB+ebLb2T9hmQFBpB6WPrf2PF6qVG1iuJIfEtEF1dl0CeffCaffrrQBz8CSo67e3VTk0GaDVKZwfKsh5m9NiBDk6U/A/s2bHwp8GwsMSVjfP1/+OBRSWI7cFj4DAj2OtKyZ9X/vn4mwfgg/+GU1++Cu1njKxu5rErCZOPGDfLzz6tl3bok2bzpd0mjZjyb/Ne5800SHx8v0eh3Q48oACsiYxAHaQesHdzwY8uXl46gH9vj5z/8UFWxYqk0Vx41AZ60d99+e4YcTUkhAj7+s/hfBvevK5tcIbVq14CVElPisViYHDxwEPy5VBaBR3WEOPjnlv8t/S3/W/jBxp/e4zhjgwPoXxjw+93bS+rWZlYpKG4wRtLTn3RnO/nNjsm7/DnT8Cdalv8Lg/4efI/+Hv8ZueyNPyNr/fOfJ3+9+cebf731h7f+ysn6807NKsVwEklOAhfQzxlGBb3+vKfP3VKufFnseai4cc1zBbj+V4sbB/9ZdJVavMwhCBe/3vorFOsvKG66YC8JKvs2x2azxKFrBJie4dRsC81lbj9hRqIt4B1ud1EHDp7rjha/ueFu1fJauYkbZHNbNm3aLBMnMqgsWZql8T+H8Pvc00PqIcOUhb/6l1/lpZcTUZdIsaJFZezYkTgjTuZLweAnLWPoh2iakiYNLq4vvXr3yAD/1IkTUNwMcZBhrSI3d+og17Zops+y1TogM8E/9VSaPPboYMWfQUhbt20hN97QXuvhh4EvshEKnx07d8sVMLM7dgKKkXUbEbtli8RXrCCXXNpALXVY/vvv/ifvvjNTTsF3k4fpiSLy0MP3yoVVqih6bvrP+3gBFDef++BTETRq1DB9lh8WPskzadILshGKG9v/HYFni2ub4Q6wJH489NRgzSsW/9S0U/LYI09lgO/uf+LvPKBV8cPUmibloTx54olHoORASzLwX5haHdHS59c1a2XN6rWg1U6tw+Jv+5/tIf4Dn3hYKsSdDwCmhbb/x4yZCMsX86yFX6dOTbkXbjtWsKbKKdm3Z78cToEF0nFYZkEpxfqrI7VdEQTFJh7HcP3ZkePgnncAz6HNTv+z/R06XS/XXNNMUV2GTFarfv5F9v6xT65o3EhatblWFTnJ6O/p09+UP/44oFTILf9nhj9xI+YWf46/rOhfGPAZC6a2ukqtlOmaDhwtzuH4P5vx1+7hh3Iee8vD3+t/yJoM8s+wBjmFB8cqZ11znv3590wb/2y/lf+FIX88+B79Pf4zo8Abf978660/8r7+6gZXqYZOOnBmGC7M9Xffvj2lXNlyyCqV4Nv/6abACD0O/HyffxMSRhso2CL5skoVIPzCpD8lSkHAD2vdrrNuc/VtPDdQzmbUdi/bYQa384W39sbKRm/omttkl+IAMGXMHdP+O27vIk1gvZGKhWkRQFpPl5vnwdyoh9YsTnJp/W0qQyV2420r0s2NqZtuNb163Ak/xov1LkEe+OMPGT4MzOLAL1OmNDK8xMjVzf+iFjJEifCnIUYLFTdaEPUUCw+X6JIlYVpWTrp0vUXizj9P8T954hQUN09p/eYjTCIjIiUishiaFiatkAKtRatr9NaGjZvktVdfx3l6/A8ePKRoEHZksQiJLhUtF8TFyV3dboflC9y8UJ74nwKu8+d9JgvgJpSWmqrw+WB85UpyP7IuMdgWy66AhcIbb7wlJ1HG0r8ELHhiSsVIHVh4dLq5gw//eY7FDclI+JygS5YqIXTzatOmpVxy2UU++BOhuNm0cTMKsf3GhSsC7eXRosXV0lLxhCUMlDv/+hesa1DOwmeZAwcO4VGH8M4Xr/Ow8NkvaShjFgp6R+ER/waXXSJ/6347lCPhCt/Pf045fuFJ1rFi5SqZ8+Ensm/3Hu1qLYHrFn7JEiWlbLkysHppLFc3a6rwWXAstM/bdu5IB79ho0sVLvnvm6+/Q4Drz2EZA4UKcWHD8eBVqIPpBi38996bKV998306/HmPKerrw7KMnm0zZsyUr1Gfts2h/xWNG8rt3W9T/v/hxxXyxutvstHa/znl/+iSJaR8ubJB8deLbLpzZIf+weDv33tADkI55T8M/bUbAvofXeijf3bg26xS5OfpsLgJBt/SPz/gmzq10bmifyD/5xR/Dz4p4NE/t+Pf47/08483/nImfz3548kfT/568483/+Ru/R1s/u3W7TZpjAQuTFSje1sjZHUZq1sjsFtm+59Qr3/79IPiBvuDMXCVyu36P6/r74SJz3GroNWo4oaeBpns/0KNvwIuRPoXFHxY3NxKKWb2XDhzA1b8sVFTU1pnsc2Fkv/wP6AdZX/abxR8CEF8q8Cdx+4nk9chffbzLwOOrcgU1k/Xcz4YQeDT7adBg4u0TjLn0ZSj8uSg4ar3MRfxNK6XKl0KCp1B2BwatGhxw7TWPmsZBWKAMrhUtzu7Up7JiZN0lYLFDY8g8Nu1by3XXddGQTFo7/NTXjRgbfvtNx/Hfwuf1XXscD2UPtfiRpq6ZL395gz54YflQenfoEF9uRvBpkhz5qiZM+djWbSIZmf28AMaPPhRKY80cDzmfQxXqc8W6nkg/LKlS8uQpwcpfDZu8sRpcE/aEhS+4nl9W4W/Icko3HLa/4Hw2e2B9G/Q4GJVnDG4K+lPrEg5fces9Df4s73Hj5+Ql19KVFcqU5IQDJ21bfjJzFPPjnrad/05CDEGJtNyDvyrrm4iXW7rJGvXrpcXpr2SAX/G9qFLXlEEPGO9K35aLq+//pbhMa2JH2lyRZPLhcpJtmIFAp+9BtcxU5kpxOvs/4cfvk+qwBWO+E+a9E/ZuGmjKeAUxmUzJPiA+wjgPzXLbHyZlmBRR8ek8FlH4GHh22rT0V8rUMg+/El/uv5NRcYuPQLg57X/+yN1Y+06tZ2sUkwHnh6+IuJGIsTw0+GvcDz4HD1KBUMKN/VxK2/yP0v+8+gPCnj85/GfN/48+ZO9+T+v8683/1HiYlYiIbz5x5t/QjD/MsbN5dg/rodRgI13atexBb3+cStuyN4FDZ8Aqbixx5zZczVEBNvBw5M/oZE/GuOGRLWbXvKxauqUzKbjqbixO2r/PX2KrTCFlEWMMNQy5lQG/P0+zcKkzizYBGzbul3Gj2OqMhzOszmFbzbBVZwKRF1P1OJGK3Taj7oZwHjU6GFoGSGkQmH0kipuCFoPF/y6detIn/49tU1U3Ax0FDembSiItlvatFfFTVtUkaYWPDpYM8GfRu14R4iicOZBtNx2bVvJ9VCG8NiyZaskTHjePOm0xcIgXB4DHuwnVatdqPAZHf0ZuOocR0BhQ3Q85Dz3yKMDYKVzgf7+BBY8n803iptA+BGIrTNm7Aitmx+McUOLm2D93xZ43gAFFfufm3kqqHLa/4HwffMlgTttJ64RERGIA9RMGiG+ToUKCPzsHMHoT/yfn/qybN261VeHjx54LgyuTRPGP6s1EMTY0ZPgKrVd6W/h0/LohhvbaZyVlQiU68a/WEQxKG0ekLgK52vf7NmzVyZMmCopR46mwz8SFliDBj0GBWEMocorLyfKL3Dbc/O/xb9586Zyc+eOKrj+998f5T//edfXdoOjVqHX/DR2sHKNvzKwKKp6YWVXYefUcBF+oApUaPE0JObmG/znXOc1IkwLIT7GbQONvagVZ5/shkXTDqvo0qK46OJ/tlcfZGH8U9CZwk/P/1Tc2KxSiYjvZOBrc/xVapsUiKnVhb+fNmxFzuFbumjtTtu1JosHq/Tgmy51ujYv8t/yv5V/Hv0NX3v8Bwp448+Tf46sdc+/nvx1plRP/nrzP8Wkt/7BgICgSLc201Wbbw7xLR5JL8oUzi08x597/2WvOzf1Ma3JmYvSw3BqPQ397+rW1VjcJOPltt0jFSB8s1gz9OjTFxY3sSbGTUHh74ZPmDbGDc9nzf5Ili7+Ch1h9r/5Qf9A+AXd/4UB3+8qRSo7Y4GnupPlb9OqdLd42dnzsYD/cDG/uRgmffoiHk39unieQ0hk//4/ZMRwauRQCwYETc8UDB/gicPwWcEfPnwwXH8QONd5ZMvWbZpZSp911REJZcDoscNx2VhvMFWbz1WKT7vg16sHxQ3MzMhYanHzGFylWJf50E/bNCpu2jkWN8nQsmoKOBZlARd8/eFwqr3cug3i3XRoh7JhsmXzVpmQYBQ3fDzdsyosRBo1giVQ97/6bn045xNZvGhpBvo//DACNleJ12rU4gbBiYPBj4AFyehxwxU+2ztpslHc6IO2kfwB+O2uo2VRW73lxpPFstv/VoK6q/YRykV/BeIUKgn3tRo1qkrNWtXxXV3i4GLGDFGG/qYvkzbAKmSyYxWiD+PDRX9jroeHQP/RUNwwFbN5noXTEHfpRmnZojksc8bLHigq9HDgd4XbXNOmVyj5GOuGijm6itnnWYz4N4Mr1W1wpbLXhz41Ug4dPmwbihIGPuuugSxT9z/QV/tx4+ZNMinhBZTLHf9b+PxOd7jwN9f98FnWttOc4UohwPe5SiHwNoMT52b8E5f85D+lHWijnWU+9NPSz4Pv0d/jP2d4GEFjPs8C+ZOuoYUg/zz4pIDDKB79vfkvF+t/b/715t8zaf61WaW4t/RZ3KigB6cG7P/yW/6r4sZxlXLvPzhm7Po1v+VvQoKxuOFObfacubIYwYkLEr4f0YKnf3pE8w9+WJv2cJWiiooHela1VXoKPSWYTmO0mlv6WYROOzrhmotUhAYejDmShorwKV1vwyb4qiaKDxmJqZkHDxxO3xcAA0Aydg7gFws3FiNhdicP+KtX/6buM7YdFn540XBY94z0bfKYznp9UjJA4qEA+Kq46dNTed24Sg3NFP+27VrJdde3UXr50oFb4Pi28Ik/wtr64LPylq2vkZtuRLBmwN+yeYskJEzNEn9muho50sbbSZMff1iJGClw2SHdST5+43jo7whUfGEVPZ8/71OZP3+R0j8QPtNojxnzjA//yZPhKrVhiz7H+livqToMSptW0q69cQmjUJo69Z9ods76PxA+aRKM/tqAAPiW/0pDSUe3rauuuhJtM/DZyH/A5W7d+iTTdtcn6T9u/CgEd2ZrRfyuUoYnCb/r7beoeePAgUOM5QmfB/wGyAx1d8+78ANiB/V8+OF8Wfj5Yt7SAm78b4MFzVVX/0Xv0IXr7bfe03N//xsyc5KJgTLq1s6Ml5MmRw6nyFND0Ae54H83fDbK9r8Cdj788DPyX27ob/iBlbO+vPV/X6QDr1sbrlIrf3aySjmdbqpPx3+2/0MJv7Dx9+DnfPx7/c+RF5rx5/Gfx385nX+98eeNP0/+ePI3FOu/c3H+CVTchHL9XQlZcmvWrKazf3bo3wQvnEuUKI49yzJdM3D/41dy+fc/ujFy9h+bNm7V2LN8wL3/y+36e+KkUc7+X2Quwnt8jvAenEO4pzoX+19Rc32Esv8z07+EtW7bBS+92WOA7O5l/OamkMGDsFXT22wbi/FgF7BAWCoUE3jedIy5xzJ2Q1kf1jYmHbi/xNNDRyL4KSwTWG8atvY5gF+mbBkZMnSgHz447cO582Qhgvvaw8Ivgo37eHWZ0SsmHThi7BgtKNvjh1/PukqByzUd+GNDMsWfSoTrYY3CAsnrN8oUKDT82BkaWfwNwQx8to9WHjchAxEeVlepCeOnnRb/sWNGSLGIonxcNsNKJ0GtdFCni/4DBvSXatUvVOCfINDuZ58u0PKB8IvB4mYMrJAIn8ekiQhOvGmTaXRA/7cHju1hccOSVHhRm0xMeGS3/wPh62/2t9bqp79eD4BPGrr5rz2snGjtZJ5Ok2VffC2zZnwUlP/GTxiJ1OjhihcjrO/YsUvbbeGXQCDjYsXCZd++gz76l40tg2xgDyF4dHEtu+a3tfLPFxPBLjDzM0/7von/fbCgqVWjBs6cuyQUTjkalKf5jN7ih6E3L508eUIGPTFcTiHtfE7534FUKPRn2/MKvx9dperW1GDbiYmwuMnh+LfwJ04cBZKCzhj/OaW/wcL0h/YVsWLFbv7DT9OdgKF4W8j2afz24Hv09/jPG38qPHwCA7+ylv9WguAJU5bPe/LHk7/e/OPeZXrzr08+UDx46w/KSx6khG//EaL595G/D0ovfwAkcP9hYfPbBx/73zs1OHFDhJMw8U61fXa5r91mWsznTOPt79Pvf+5AqnFmHc7P/l+/br2+BE+3/kUTs4t/4P5/wsTReFYRF3qILFq4RCmWG/zd+z9LPn676R8IX6kbIvqfsfDbIKuUIyGVqUhw/wVDIr2BAeIrhwmG/eLT5JFI0N75NkFakM+KFEV67mdGDvFlR2Kp16f/R5b/+LOphGX1eRRWZskafrVqVeXBh/q54IchGNJU2bKJAXa5ydJuQ2WoFpw3IQEbPOf4x7SXZe26JON2o413ygK+Km7gH8jnT5x0Z5VyGufCny5E10OJwCo2JMFl53m47GSCv4Vtv1u0bC6dOt2gVh5btsLiZsK00+L/5FOPSWy5WC1nrDVGuPBHzWjiA1AiVK9eDT/SYG2zEJmqHMWNBex8M9juuHEjjJUJOnEy04Fv2qy0J+nc/W+CMMNVCuWSkap8KrOBkWQ56P8A8OZxtLdK5SrSsdN1koiU0AcPHQoK3zzrpz+trAYNQhDm82MV/1W//KZxZYh/IP3HQWEXjlg3PBhh3cZs0eajvInv4u//ImFF1JWperUqaGMYFIsHNRaTVTC6VNE+/AcPeRz9Uk7ps3/ffhk7ZhIbgv9sUPCDd9nWY0eP63Na1kGRj7rpb2pwbrr4LxT0D8Rfm10A8PsiHXi9urV0/CdO/zdQBH5/IvzZ/2osGCB/Cor+HnyP/h7/ZZT/3vjjvHTuzz+e/PPknyf/PPkXyvWvxrhBwpAk7AWfx0t8s6DFV5Ajp/KnKGKSMtlKsP1HsP139+5dpUyZMmjHS0Ggq4jPsP6kF8wJeAyESv4nUHGDP+7kP0IW4IULl/raklP8fZuDc2T/EzL827RFOnCkyuabb9Nz+ASR/AoQgjIdzv2V/+Avyzosw9/2OZTHzzTY+VB50qPH7XJJw0t1s80yS5d8ITNnzcU9VoEyOYDPgLIMLGvgpcquXXtk9HMTuBcOCn/iJDIRXL4A7AW61sDixgb7csOvW6+e9OnTQ6s9gXTgAzUdOBuYEf926iqFODXAf8OGzTIFcWJMewz+xJn4p56Cvg7nFj6VXS1bwlXqputxPwzBdaG4GYcYN1ngzzYymHA4FGBszaFDB2XoECqj+MtP//sf6Cc1alZXWJ/C4uaT+Qt89HfDZxDg0aOHK3zWPTlhmmxCzJVg/d+uHWLc0CUMRzJivEydjLgsvgN4ESFCNFJQzwmLh7v/3fBN+TQE8zKxexJffUNW/vxzUPgGx/T0b9X6WunQ4TqFtW3b7zJu7BRC098sb+GPhcUNlTGk/1hY3GzbucvHf8H6/7rr2kvbdi0VZBq06C+++Kqs+W2dUzdi1IC2t9zSQd59ZyYslKDoAqQHHuzjU5YdTTkugwcP98E/Hf5kftI/p/yPJ5wjff8bWvnxP1Ph9+vfG+nra8pyBISeDgXunw1/9lMw/gs2/kyfpud/2/vmnn/8ny397+Hv9b/H/xjTf1L5741/b/x7498b/+eS/LvrLicdOBK4THOysRbW+rsvYsoyHfjoMUgH7uy/uSfi/le3awWw/mR8UYv/3I/mqcVNQcLnGtnCD9x/nyvzz/8DAAD//9RoMiIAAEAASURBVO1dBaBXRdY/79ElLaAISgmrqyCgfiqhhIWigAWoWIDdiqhrrrqCiV2Aa6zd3a7tWpSElEEIKAYN732/3zkz93/f4xEq8OoMvHvnzsyduXPm9H8iq2v33rm5IpKFPw14yMJDLv7FVObxSQtpxJ6zNT1LcrNyBf8lNxcls3IQydI6+ArD31q1lOMHHp28vmDBT3LNVdfJqhyURci0ZA9rar9CxfLyj39cIJUqVdT3+F0PPPiY/O+zz9fY/nXXXyXZ+MdvvOO2e2TylKnJu6Er2v7227WS444/Sj9m1aqVcu65F6EcW0h1OwCie/e9ZJ99u2nujJnfy4033Zqn/csuu1CmoJ0HH3hE3yc8WIAw6rxXBzngwP303e++/0Guv+6Wtfa/Vq2acvHF5wX4Z8mUyd/I7egHvz0N/5NOPF6aNWsGuOfKq6+8KS+//Jq1zWuq/fIVK8jV11yajMVNN94uM2Z+G3rKsvhUfC7Hv3v3Lql+fic33XSb5muVuFxx+VCZNHkaxuA/efqff/zT7fNTGNq3ayNH9DtUXnnlDXzr6wW2b5C3q44V3t2O43QcxglhyqQpcvsdI1H96vg3/LorpUyZsiiVK9defaPM+XGufWNonzetE/emzZrISScdj34jFYlvvfmOPPf8S8ixwrx23hPj1nN/GX7tTTJr1mx997BDDpJdd9s1af+csy8GTq9AHXnxv6D+p9vnd1hLiOAhwj+mJmURad16B2nbtjVoDeOPZ/Q8ad/oDxmhDnufzygYYcTKEHhDjgbeNTkk/Dj3x9X6r1mpl/icxj/i9proP93+wBOPlW23bS5jvxonI0c9mLd9PqGetfU/fvSfbT/iX6orWqX239t3+Dv+Of2BGWxI/SfN/5z/KMsvWP44/3X+6/zX+W8x4799+x8i7dq2kalTZ8ott9wOGt54+v+69N8TBh0ttWrWlGv/dYMxWuWpAOj66P8biP9ef/01iW3yPOyoN19/d5O2X5jwL8j/sTHkf1bXbr1p+1mAxZQLixBXPPNKBIQKo9pGDgw1yydnYZK+xqIMihtUd/AOHjVZI1ZXPxjpO8FYVwMP6Q8/9Jh89unnaoBaRazD6mfLBbW/Z6cOcmDP/ZAFkxEVzZ0zV4Zde7Pk0AG0hvaHDbsiGPACI/8+mTJxCr7dvjL1edJ+57ZyRN9DtP85dNycc/Ea+98VDo399jfHzbdw3Nxww6152r/s8gtlMpwKDz70KABhfUGHtFd7de4gPdAHtv0DHDfXDb9F32V+Qf1v1aq5nDDwWJTPwV+WPPvsi/LWW/9dDf6DaRC3aK5tvP76W/LiC69avfnarw2ivvAf52n7/IbouCmo/S7d9pL90U+O//fffis33nCbwieO/+XsJ+D54IPo5xrgn7//Nv650r59W+kHeI8d+7Xcd9/92nxB/c+PfzvuuL0cNaA/2suV9//7oTzxxLPhXSZl8O/a4XDclC2j8P/XNTfKXDgjdCRwSY9/5cqV5dzzTpfNqm+GCrJkxoxv5ZabbwdOhbrQDvt/+OEHy667tJdLLrlKfv31N4X/Lu13ksOPOCRp/zrg4g9w6iheMVUjecef/c8qAwxH/fmytf110V83OA3bgo60elSgwxvaSvefreZvQL8El3T/U+ih5fn8zeQp8vjjz64R/+P48/sVqKGt9Wl/8KBjpUVLc9yMhuMmb/trp/+/wn/ip0b8Iy39GfhzfP5K/739teGfj/+66N/xz+nP+Q/4BJj3n5E/zn+d/65Z/3H54/KHejlkjF6hI4JhrMv+pW3btn0bmT51howYcafplUEnTiu4WisuGxP/jh94jNTGj/3XXAPHTT4Fd1O0T+jdcMPVZhag/Reee1neeOMdQsOgupH7b5a9tVVY/Vewb+Txz+KMG4UqLkRYMycjlJmjw53/pjCB7UkdQt+h0RZ+gudLqcBu5EjFipXk3PNPl1o1amj5efPnwSt4o6xauSopu7b2s+GsufDic6VGrRrq/FmxfLlcd/2twtkBOlhraP/aYVdK2bKcG5Ald901UiZ9PdkIMTt0O9wGDOgnO+64nda1atUqOfdszLjhpyNFI6lb166dpUePvWHcC2ZfzJLhcL6k+3/FlRfBITFBHn3kSXsX/dc6UJ86bg7cH4+58j1n3NBxE0JB/R8woK/ssOPf9VNW4Luuxkyln3/6eTX4Dxo4QFr+rYV+7psglOeffzmplfCP7XfY/f/k4N49tX0WuPnGO+CsmKll87ffpRv6uX93hcmsH9jPEREa2v5lV1wk48ZNkEceeSpP/7Wy5GLjH9tXxQlaV7td2khfOsqARJxB9M0301DnuvFv/wP3lS57dlS8e/ihJ+STT/6n35eGP5seRsdNGThuUOu/rrkOjpt59gkYR2XEYfyPP+5o+dt2LfVrly1dIsOGjZCfAN+koyFyzjmnyRYNt5Bzzr5QcjAO7FVWdhnMADtPqlWvrv1/5bU35JWXXte6Mpe8/e+x/z7Srl1bufyKq83hGPCP5den/wENtf0/Qn/WeVzz9V+7Fz52U7SvjpttW8iYMWNlFGfclLL+Fzb8vf289O/4l+ZU6+a/xZ3/OP47/qflv9O/03+EwKbQf5z/lDz+0xeOG864mTZjBn70vTOiU7jn1f839vgff8IAddz8i44bDZu2ffLT6+G4ieEFTCB44/U38Yjv4P9Ctj9KTPtpxw2Brr9kcKwZN3CHK58sWLblhh+gdVA0nnkplDYfGF0HTZtuLaecPBBlySJFxn45Tkbf/xAM6VA3bgW1nwWnzUEH7y8dOu4WBl7k3/9+SL74Yqw6NOk8IlIU1P5ll18gm1WrDtdFrtx79yj5esIkbZst0nZne+UrlJPLL79Yypcvp3nIknPOGio5qJBVa+VJjoBIW0vf/odq+sKFv8rllwFRQ/vVqlSVS9Hm66+9pUuACEX+tm+uk1zZC06HHlgqxfaXLV4qN9x4q8ybN5+NsGie/m/bsoUMGnQMwAV4Ie/VV7Gs6KXX9JuoYrNR7TPaPvLow6VN6x21Gs7IeQ4zcyzkbf9kwJ9Lg/g2+3/LrXdhit/0WDRP+zuhn/37H6btL1z4i1x2qREkYVKlahW59LKh8tqrb2G5E5wVof8kDP1AqxHXvO0TFizSFrNV+mO2CuH/yy+/YubUTbJ40eI87WeqYou5Ug7jc87Zp8rmm9eVBT//jOV218uKFSvViZO//eHX/VOys+mwE7kWM25mz8VSqfAtrJd/nTvsLj179bDvRcL9o4BTX421+vDMMmy5UaNGcsaZJ8mSJYvlwqGXa1qE/y67tpfDD+ul371kyVK55aY7ZfacOXgrhkz/69SuKUOGnCWfYKbZo48+leBfLMkGC8L/5ANDQYOGfV0c//z9T+oMfY74F+HPtyP+J2U3QfuDBx8nLbBU6isslbp/JGbcsDMxbIL2C7v/3r7Rf2Hhn8Pf4U/cc/wrHP7v9Of05/Tn/Kck8d/+sAU542YaZtyo4yat025i/XsgHDe1YGdkHDcZ+yO//bOx9P/rb8w4brjy443X30rsX+f/G4b/hxk3rMwGmCzFDMOMNZWri6Rg+tHKoi2MqDoTEDGnAtLVguQ7fFsLWPkwZNH4bLFtMznqyMOlcpXKKJctH3/8qTyBZRkrVq7Am9ayXVkXSmAjj8OPgEezHZ0SWdhDZJU8/MBjcNqMwZeuu/0+hxwou+2+q37Lyy+9qs4P+2ZlHZiVkS19+x0m2/+9lZQrWw5tWP8fxFKu/8HA5nP+/m9WbTO5DE6L2P6wa0cIZ6Tw8/fYYzcs59pH/oXZRAvmY+ZGvv533nMP6Ym9UsxZlS0LFiyQm2+6Q3797bc8/a9araqcdtpgqV2nlrY/fdo0ueP2+2QllnEZeDlmmf63bv13OeroIxRGU7DU5fY77l0N/h077SY9DthHysChQRhE+D+KGTM5uaiLHUCtEf5cPnTppUO0fbqehmM2yqzZs7X9Dh12w54v++isqfns53qOv9aPtrncp2/fw7Q9Am727Dny9NPP6x4+sX1kan6E/xFw9LTfpS3az5KHH35MPv30fwXiX9WqleVyzHoyr0Au1p3eCaY6U+uK7W+xRQM5/YyTMRvLZuV8+NEn8hjgoPmhJG5Sv8HmcsyxR0vdOjXlxx/nYwri9avBv1fvg2T33XdhcaEj72bsebQQzihr31wmZYFbxx1/pDRqvBX2yblRfv55IUqTmIiHm47+Yv8j/m3q9gcOPkZawSH51ZeccfNwqet/YcPf2wd/U0e48f9Njf8Of4e/4x/kHfWFUij/nP6d/p3+Sxb9045p2661TJsGx82Iu8DX1mz/bmz6PwFLpWrVqq72Z9r+UONUbY2NS3+1a9eWCy86G83BioO/4KMPP5LHsZ1Fzirye/tz/N8A+N+1ey9AM2Uq60/+gLHOKWJ63kDQx9R0nIMClNB/OkCpTDVL1emDGHC6Zs3qcvSAI6Tx1o1QNBdLUxbKc8+9JBO/niTLli7XBsqWK6MzSDp03F22whIVhp8x6+MhGOzfTLYNhlNNILfg9jk744wzBmOpVmVZvnKlPPjvR+QHOFmWYFnMlls2kG7d9pT69evLU08+C8dHX1SD3rHv+Pv5p190NsjNN2HDqRBimwcd1EM6dNpdYTFr1hzMcHlBqoNg9ttnHzgUPtO1fRFQ6f53jvv04Ht/g7OGCsyyZcvlk48/k6/R/99+/V2at2giBx60H2YKYd8VhAkTJspozAZZsWIF3ioY/nRAnHrGibLVlg1RIhftvyLjJ3ytDoJ6m9cBY9lJdu/wf/Lv+x+RPr0PxIwZOM502HPl998Xw9GwUP6DpUezfoBjhulh/NnPTugnww/oJ/fY4fjtu293nTnyYrIkq2D48710/zn+pOl27TFrCVMMV6JPn38+Bs9tsKFVtowfN1E++/wLmY+ldPN+XCDLl6+QunXrYJPkrroxL+t77dU35SXMPErDgn0+9YyTpFL5iupxLl8OTjj2A2HF8mVwuvwkPy38We675wGdWXXOuadIXeCGOpxQ8ONPPpWlS5ah28Bh7EFTERth169XX7Zq1DBWozOTRtxyV/Ic2+fMnh4H7C0dO3eEKpoFeP4mkyZ+I1PhbJsNmBH+HTt1lLr16mCD7Ptk+vQZ+CoAQmuKtfCOsAnoj/AvrPYHYr+mltjjZsxXY+C4eYgdxh8/qHT0P+J/YcHf2zf+4/AvnfzH8d/xvzDln+Of45/jH9S9EqT/6h43cNxMnT5Tbr2ZjhvoslGtxVNB9s/G6v9AddzUkH9dfQMb1rAx2z/qqCOkNmb40AYqX6G81KldRydbpPu/dMkSWfjzr7Js5XK1/595+gWZOXOGQiYDKNf/dbDW0/5L7XGTwjTUYGa4Ta/J45BJ2VgZ344lxqxowuuHaF38bUXnh+id9WXjxJ/OnXfXE3IaNKhvLeKjf8YSmEVwJNSuW1MqV6qC9BxZCsfGe9iIlsuPlq+AYyeM8fq233CrhtLr4B7SeJvGcA7Y13GdMxGaThEiEmfenHf+meGTmcMZKNnYh2SlnI39buJsFES0fe6fcgD2K9m94/+FzY/ZK5GJ2JR45MgHZDm+OQZ+bux/F8y46aEzbrKwOfH3custd0v3vbtIx6QevmXt03Hx0kuvYFnJ+NBn1BSBzFJ45DjHxKpVqkivPgdi9tB2Ulb3d2EO58rkyo+Y0fLUMy/iJKbJmI1yMWY8VdVW+LaFXGysdZdMh9eYIY5/GTgx9j9gX+mAmUSEUWx/Evo5+r4HZCn2GoqJ8dPWZ/zb6ubEfeSpp56T/777gdSrV1d6wknUErMxWF+E/0oQexk4YehQWbp0KRx8L8qHH3zCT1yt/8Oxr83SZct0VhIVJDrF6N3NwqytcoDHosVL5Op/DpPq2GdpyNBzdOdz5mtduHFJnj1n2if+5bIOtP/FF19iid5/wlis3n5zLEHbq2tnada8qc5q0noD/L/BaWDPwOk1G05DYgr/eM0Exu1bmBbhr+1r2QDdcGOZ/OMfs9YH/oXV/omYcdNCZ9yMhzPyAXYjhNLRf/KB0jz+3n8f/5KA//xBqHzZsrJg4UJZgiXP5Nhp/lupYkWpATkzBwcokLNF+e/47/hfEvCfQrs46h9Of05/G5r++mHFBmfc0Hbi5sQGYUoDC5uS/x+PvU5rYh9Ybg8Rw8Zs/7wLzpTq1WvISqyYycWmr9xeJLN6w76ANlUZ2GBZsMEqYluSe+99AJMUppRK+2dD8R913ADWarCasQyEI85h51MCnEhIRM80SIaNArpAjgODl4kZNID1zjStgBGksSzzmGkhKRae69atK63b7CDbNGkk1apWQ2qu/IIlJ79AKZqAWSgTJ30jOUSMMNR/tv3atWvBO1hLuAxp0e+LdG8ZbkTLT6sCp8f2O7RUp9FieAgXw3m0BIb+YuxrsgIbKK+p/9WqVcGMnXqYwVJVfpwzz5YSraX/e/JYaexxw6CbE/M4cLRfoUIF2bx+HWlQr57OBpoza65ukksi+KPwr4pv2RyzO6pvVg0zVlbqfjBzZ0OBDGPQHvvLLIPDhXvKLF68WBYtWoL9W5YibSm+HGOlw5d3/Kuzn3CwVQKc5s2ZL7PmzLLx5qDrgHKM0Sm+axUwgjQkFDD+LeDc4P4wPDKdJzgZruXI1o0bS0PMsKpbp472gePyK8ZqzJdfYZbGeHUU/dnxtw9KfWZIIFhi+2vq/5rGX2vL13/Cf6tGWyr8f/t1kcydN0/mx32MCBL8KZg2UvvrA//Can/QYDsOfAz2uNHNiQmPDQz/otx/DnlpHn/vv49/ccX/Fji1sT1kVvOmTbAhfVUbSFAz9YRPP/1C3nn7PcwK5hLYLDkae85Vr1FdN/8vSP4VFv/dkPTXcMstZLvtW0mVSpV16TtPaOTed99/94M89hgPZkBYg/wvCf1XRs6LIjR6lCA2e8cZbQje/wL1Px9/Qw9FEeDNhtQ/Xf/ZtPTXry/3uNnJ9rjBtgyFCf8TBmGPm1q19EAWxTDnPyWS/2Rm3BDXKXg04EHndNoeHCaP0n7EEGcGi8RABoRKbK4KqrAXLULHDgPLhFkvlhCupaT9PXEc+IE99wUYcMQ2T5WC40ZDKel/aR//0t7/QTgOvGXLZjqLLDpuHP8BAad/lQ0JM3T5A5xw+UukMDWi8PQPKCw6Y3cP7OvGMHXqNPzNkN+xrHnLRltIY+xbVq/e5lCZcuXJx5/Gjwsr5Ehs6j99+rdy881YZm2eaUPtQtZ/NsePZHvutYc0wB5vH334iXz00f/su/4E/+FBCwdAl0kC+4bRGovlziPvvd/1P0PcIjX+pV3/8P6XbvtrY4y/LZWyzYlvHXFHodq/AwcejZOXa8kwnCrl9jckk8o1FbompgpZ/m4o/IPjpg+6QjcCHC5h1oyqi+gw5U42PHa5qkQjgf9ZOigiESZM5EyF8BuD1sXCrNNykrk8Wiffy1SmtWjZ0tD+nl06yQE99tH+f//D9zgO/FbEHf6Of6WD/gZixk1LnCrF2VOjRmOpFH8RcPwvNfyPMqU083/vf/Eb/54995NOnfeQ5atWyaM4tOCzz75EJ3RuZlCOc4WzTw7Hnm1c9r0Ke+mVLVdWZmLPg5tw8IDKNlyN0xVu/zmV/m+ttjUqhN42/NqbZdas2faNf1D/q4flYls1gtOqfl0se++A5e/c6B978o37GtPh79c6Xf8zPThz9EPhjr/zH4e/y19yKUBBjVnjyn/F/ujX/xAcnrOTfKObE9+pfI/1F4b9e9jhvfU48Ntvu6dQ2jfIGpcpjP6Xlvazuu7d2/wwGGbVQoyq2f/wbAkJw08iViS5wgAzuU/3DVw/ya9MfAGBBloW81hfqIS3WLSUtN+1216y337dFA7ffzcLZ96PCGAHXBRmyIohgWECsVQkFgp3h7/jH1FI3aeRqCKtAUeKCP0NwnHg2+JkOXXc4Djw0kb/pZ3/ef8jTSqxOv5HVlVE5X+rv7WUE+DsoKryEo425T57qsLkE7/kr9zQ/jQchFC/fgPw21yZMfM7nDB4m5VcA//thD3v2mGa/fXDsWQaewTkqXsDy/9y5cvINf+6XOWkNoROPffCS/LmG++iWeIjEoieMfyB9g/pczBO79wFcMrVAwbuvWc06mJlhBxviLv+B0BEmOBO0BRx/A/Iop/KL89E+JAKGF/X/wket38ySB1xHXhSgulfZ9y03UkPHRkxggfZRKLe9P3nJN3s7LJ66Ivz300P/01F/5mlUkFIRyckZUrstjJk6hRACuZH90v0KcZ5NcbVycxVDVAezydWpNXjXaVfTeQltsIo4miopLffbZ8uOHmqq/acp1tdN3yEQaOU9L+0j39p7//AE4+VVphx85XuccPNicllEBz/SwX/K+347/1PKJ5Ej7+iTf8nnzpImjbdGpsvrpILhlyCvfZWrVX/2Ryb7J933lm6GeP0GVgqxRMp16L/HD2gv+y44/Zy9pkXGDSCjhQho3e+v4H0r5NOHYg9erbRtviL3a04JZHH2P5V/qvLpg7EsinocOPHTpT77h2tbWCA19r/oj7+Gxr+Tv/JiAMxIpYzingp0P99/Eve+PftZzNupk2bjuPAbY8bSjVit4a18P8EGo7/Tv9/hP917d7b8CvBtIBlcNIkmGc8VZ0uprXwFRagNsHyip7QT+wEI1alIakzJoQ7yudic+PsXNvyNW/Zktd+rVo1hadQVMOmyJ336oANiOtr/1cuWyWvvPKazJ07T35ftEhmQtFTQiYRO/wTvCJ+KZoRn9RrSIRz/CuO9KebE2OTz6/GjJX7Rz2MoeVYIiS8ouTRv3UwdUWXSxP/S/Xcot5/H/9iIP9rVK8u/7hkiMqh2TiVcdjwm9ZL/hx99BHSuvUOmHEDx82N/AU2X0jh/5ChZ0ndunVwcuVQ3SNnY8t/bpzfqdMeUrN2dfnys7EybvwE+7i/yH+5lOygnj0gnnFSZ1gqleHpa+6/83+Xf4odfxH/WIfbH25/2VEugd8kOBWe4y3FfzcE/+HmxO3aYY+baTPlZuxxw2Y1bKL2Myq0j39hjH9hwB8zbnqp5NBzo+AwSHuEs/Q57UEAOgZk1BvfVCy11Wz0mnN3dKbR98DZM2pwazk+MJ2zalgmtMWCWg2cONqeFrM0fS7+7e/VpbPs36P7GvqvXZXZOEVq2LU3OvyJGgYSoAhxpPiPv6K4EkPpxP90/wcOOk5atmghY+C4GTn6QR1jDrfzn5LL/9LjXxr5v/efBF785D9nppx4yiB8fK4smL9A/vnP4SacrCuq45iwyqv/tPrbtnLCCQNkBjYnHoHNidc0/mXLl8PpH5epznTOWRfidEWoncVU/nXstLscdNB+AEeWjB2PPW7uwR43hBP6s6b+mxpY8vU/73/xpH/XP13/Xh/7g46bndq3wXHgnHFzl8oI0rzzP+f/G03+6YwbStDkeG8wWQSK02hA5wID6WxRQRvXSWmpvBeWNzGcN51PlserVaDPsZES3n6TJlvjmOutZPmKVbIqB8eak6gJFPQ7q0y2lC1TVlasWi4fvv8JUzVE0PDB4e/4V1Lob9DgY7DHTXMZi6VSI7nHjTICXJz/5GGeTv8uf1RGOP8vNPnXGkuYjh7QD4gIaoSsvuLKa+Xn+T9nEFMldeairAyPlSpVhJPnkjx73Fgerxn9p337tnJ43z5a99nnYKkUTqWKobjRP2fxHHTQ/qr/jY8zbmJncC+o/+bQQGYJ1/8IBu8/xVte/Pfxj4gBuLj+QwRJQnHif/FUqelYcjpCl0ol3UgiTv9O/xuS/+keN2kiMQRjE/wVKRNMd8mgH3yxyMQznQ/YdM4+Co/qldDfzzNpGrP6WAMDZTXr1DguMZ131u3tO/wd/5Q89FJS6G8wTpWi4+arMeNkNB03CIGTWD/12enf+Z/zP+d/yhKMLwAYufz5SnUD0xE2tv6x5VZbyllnnZK0/8ab78rzz7+kusq69J8Lzj9DFi9dpnvcpPWZqOdUgHPnwqFnC5cuMZx9FpZKQXcqrvpPB3Xc9FBmPm48jwMfFUbKxirys9h/1/9c/3X9X0nf9R+AIfKF4sj/+vfvIzvhVCnuFTbi5jvQGbd/bRMUG9WC5J/z/7/G/3WpFKevZwPGVBSpHHGKIIOBPaybYz6SLc3KMs6SFMrxlyRENHCwsvHPdlkOb5n1mZSw2lDS23f4A0Uc/wCDEk5/g7hUSjcnHiujRj0EXuD07/zP5Y/L36LH/ytWqCBXXX2p8WToLtR/3nrjHThvXlZZtTb9h06fiuXKy9Rp08Dj8uo/ZXBs9hGYabPTTq0T/ncu9rjJQQN/hP+XK1tWypWvIEsWL0Y9NpOHda/CseWoaZ36V8WKFXV51rJlK/6Q/lGpciVZvHiJ9irqfx07/R9m3ByA7xCcKvW13IPNiddX/9uyYUOpWWMz+fHH+TJvwU+Si+9nMKi5/qk/i1I/ArADJq0T/9Zn/F3/JjRJ1y5/XP78efnTv99h0rZda3Xc2ObEilXrzf8c/5z+/ij9ZXXDceCUAnqhWFBJbOLYpESIUy9gAmbXqKOGRZllqRYnH9SXTInQaHhdcvhu0oq2Q68bP9jbJwgCoPQW4grPEHf4G245/hVr+huIGTd6qtSXWCqFPW6c/p3/Of93/l9U5V8/nBjSFr+m8iRrm/GTI9/imO9xcE5MmTJVvvvuBz3GW3Uhlde8FKz/bFajGupqI+3gsGnQAAcUoGg2ZxHh5bHjxpt8S8n/F154BQcXzNX02rVqyyGHHCxVqlaUKpWr4F5ZysExNGXSVLnjjnvwi28bOIJ2lObNm8niRb/LxEnfyNNPPydLlyxTlWzXXXeWdm1bS6UqlaUq/ipXqizZZcvIk088Ix+899Fa9Q+206njHtKkyTayVaMGeL+qLF6yWPfl4+mAH7z/key+Bxw3B2PGDaTT+HET5N577zdVMKgv+fW/alWryV5dO+FEre3gtKmRtL8Kp3bNmDlTHnv0aflx3jzU5/qPAtL1P6MP1/+Ktf4X2YHKfOV/RuJFlf+vD/+xpVKccRP2uFkD/3f7NxllBavb/3/e/5E5Dhz0kwmcph4XPxnqcglmDqwsncCOOL2EWWGuI4kxW3+RotKCoAm4q/5iNYUczSYC654d9lTA1dt3+Dv+RZpRcsKlJNCfnirVspmM/XK8jBxlS6VWZwBO/07/Tv8lkf6V1ouR/K9dp7acP+RMKZddpgD+K7Js2TKZOnUGnDiT5OsJUzBrBM6GNeg/223XSo47/ijY4Wn9h6PMFyzQj0OPDmdZ8Ndb7pvA3CaNG8kpZ56UT/8SmTL5G/n0sy+k7xG95KOPPpMaNapjRmML1QinwHlz++134/0sOaRPT9lt911DI5n2H38cjhs4XvKGDP/dYosGcuRRh0v9zTeXlajpyy++km9nfKf6X/MW20izZk1l4cJf4GCajZO0OIMIM27GYnPikXDcrEH/27JhfTn+uAFSHd9KeL399n9lGmDI0zf377G3NNxyS1m2Yrk88/Tz8uEHn2j/Xf8sGfJfESQP/mtKvksG/5ih5IRLSdB/tKPe/xJl//Xtd6i0b98acmCmHQeuCIuRXgP/y8v/FSPyXRz/Xf9du/6bOG4IKHr2VVnEhRvl8dcgesU0Kx9qsbzm87XVQh7M1VytF8k4ATwgNJOtTYtZ3NsHNBz+jn8llP4GnnScbNu8uZ4qNWrUA4bsygmc/p3/uvxx+Vf05N+OO/5djjrycMnKpvJiIeo/VGHIuWIYM2a8PPfsC7JgwUIkqeauWRxXHkJQsUpFTd56m0ZyzLH9kaojLpdc8k+dtZwe/6VLlsrKHCwbQgNcAlW1ahV1bvTEJsBbNWqo+tfChb9q+ssvvy5vvP62DD7xOGnRoilqzcZBCCvl/PMu0aVTlSpWgFOnhjRt3kR6HthDypa1XQgef/xZddwUpP/t8Pft5MgBffHdZfRUrdGjH5Lvv5+l/Yn95x49dMbTwRPDeBwxfu895O15+89+NG3RBE6bY6RChbLy/Q+z5M477pPff1+ELEIxSyqULy+nnzlYGtTDjCTMRBp23QiZM2tOrDq5x/Z1plOSGiOsK4+iaVBGsuufAE0yLAZzQi3CP41/rv+7/eP2nxIHSSRPSPOfuDkx97ixpVLOf5z/blz5k9W1G5ZKgVvbXBoiHFGyAAVac6xUkLGZox41L6ogeCD3h3DgSc4mWKMHMSMoUMKqCUnevsHI4e/4V5Lpb9BgOG6wx80YniqFGTf48Un5hdO/078ZD07/JZn+U1pCsZL/28OJ0eeQXlKtWmVVb5RtQc+JjgM+U1XjfcXKFXL3HaN0f5s16T9Nmm4jJ58yMOF/ehx4Li3qdeN/q5Yt5IRBxyT615zZc2U4HBw52Bumc6cOcuDB+6n+9fXEiXL3XaNRZ17965xzT4OjZQtt6YnHMOPmg49U40vTX5XKlWXI0DN1WRYN+NvvuFcmYVkWa9JOUmcM/ecpWoNPOkEaNWSdmHEzATNu7sJx4Pn0v7I4QfO888+UunXr6DcNG3aTzP5h9mr8v2WrljJw4ABN/3rCJLnnrlFar9HF6u2jsvhJjOp7rn8CDPngr2On2Gtg4li5/DV8cf3D9Y80/wNrUz6STGDA45r4Dx03XKo6A44bPVWKL7v96/xnI/LfzKlSRDbVMsjCMkSs2JsvjyisSE53LPMYIAX4Xk5Yg6pCgYkokxYgrJmb8GXpnODkVVUCvH2DmsPf8S8KkZJGf4NxHHiLFs0w42Y8NidOnSqVj8eU1P47/3P+7/KveMr/CtisuGOHPWSntjtIvfr1VOdJ9B+oMia36XzJlqXLlsqtWOr0w/ezC9R/OPPllJPhuKHqBF3o7LN4HDjfZS1rl39bNdpSzjjz5KT9p596Xt595317D2uKWrXcFnvgVIFzfIwsX7ZytfZPOXWQbNN0a33/CSyVeg9LpVQdS+l/hx3RW3beeSf9nomTJstdmBkTv40v5tf/OAuITiMeRjF+PJwt94zWXqT1v86dO0rPnvtCzcuV7zDb5obrbkGdoRsp/p8NhfGyK4ZKFezFwzavumq4zJ83X+OETUHto2Htv+uftgel69/EB7c/0vRnFOLyd0PL3zjjZvq0mXLziNuVDzn9Of1tTP5jjhsIUp0WCZGoYpSykQKSThfk5XKBMeJERgYT8pok2cxnWaYjpnGTrZqqzyhj9SKD/1kdI0zXm7fv8I/4ZThhiOH4V9Lob9CJx0rLFjgO/Cs4bkZiOr3TvxoyTv9O/5SSJid5J2E4/yuq/I8b9DZpvo20wMyZJk2bSD0s7cnmDsYYNwybDuPMGTPlppvuND0HGo8qTsij/rMN3jnllBNsmLEs9tyzL9QftNZn/BthmdSZcNywHepfI265G3vETGfL66V/nYTZMdybhm09/vjT8j42J07zn5q1asjF/xiCbMO/0f9+EHvbjGMPNBSk//U8qAccN7shP0vGjceMm3sw4wZPiZ6H2OVXXiRVq1XV/r/3/sfyxGNPW//Rh3T7fPEkOLWaNcWSL+Tddc9I7B80ea3t88PWt/+uf6bGBbCmIy0//G1gnP8UVf5DYoj0rzTm+F9o9N9XT5XaCfuRTcOMm7uUdDg++flfmv8nfNHpz/nPn+C/cNz0gbQHliXOGWPWFISKeRph1MSiJVNBwDwglYDM4cwwE+uMR82FDh9uQqwFLJu5oSRRl6Xx5+07/B3/lG6UKkgPDEpMMVoy6I/7IbTQpVJjZbQeB+707/zP5Y/LX+AAdIXiyv+qblZVuu/dRXbfbRftBy6ceCO3wanyzdRp+mic3KJNMOPltFMGaX9J/2efwxk3zFu3/tVoq4ZyxlmnqP6Vi9M6Lxp6qSxeulSrV5FBnQs1rUn/GqT74DTj58lj3OPmvQ/z6B/bb9dSjjvuaK2flV43/GaZ9cMc1shHfOHq+t8BB+0nnTrtoSJr/LiJcNyMztM+HV2XX3Ghvs9aPv30M5mIZVAq5ArQ/3bb/f+kGRxjDE8++Zy8/98P19q+659xbACwdYy/lXT92+0P8gn8FUB/pDslZo0wWjL0T3ZnQ+N/fyyVahOOA+csS6e/tcufDQ1/tlba+H9Wl+69lc2rN5AEHJwxEb2NbknciPGGn1tslo3l6Ct8RzPtZjmGv5qF7FxEjFEyl+2YghIOF9dnZSDevgEusBeDpcPf8Q+YUALoL54qNQYzbkZjxo3Tf+CK/Bnb+S9wXIWFyQhjfgHxSwb+W5dc/pVU+b/Pvl3VgQNqVv39v+9+IE898dxq+k+TZk3k1JNPSPjf2Zhxo0ul1gP/GzfEUqmzsFQKYcVKbEB87kWIZXQEzcCFih2ro+xM61+6XBX75HA2waOPPYuTm3CqVIr/dO2yl+y3f3d7EdcrLr9Wfv4Jmy2ziTXof5xxwyPDWWZ8mHGTbr9J863RXzqqEPSj1qX/saCWlpdfel1efeXNtbZvmayb71lIt5/uv9br+qeOv8tfl79KMin6V8YRaM8oiYSPGG9roP/STH/9+x8ibdvhOHCcjHfLLXDchOD8B1hBvMGf898N6//AjJteACu9qQHIKcGn+AdC1amULKHxgJV607esGK60O1Rwxnt4xA9JiTxVvYRPOqLICBxBX0m9xxwN3r7DH4jFMzAc/0iLkTB4zxAMybY40N/gQZxx0yKcKsU9bqwPes10h52z4PTv9O/07/yvEPh/YxzBfWDP/WQkHMyLfvttveRPVnaWXHDB2VKnbm3lX5xVcufdo1bTf5o021pOOXVgwrTVcbMKmtJ66F9bYcbNmXDcsOiKVSvlvHMu1vj68v8TsEF8y5bNtK3HsVzpAyxbSvPffv0Pk7Zt26BOzKwB/734oitl8e9r7/9B2OOmI2bcMEzAjJt77h2tcX4j9b+d2+8kR/Q9RNU+qrBPPvmM/O+zz5P+x/bRnH4LPy62v2zZclSC07VUFmi14ZIRGGxnffvP9l3/JOwYDIYR/gRNnuDy1+Wvy9+1yl/ucdMOmxNPnRZOlcqwJSUnt39V1ChbcfufHPevyx/d4ya/0FNPYeDelgdMDBI1k6c5ke+jdHhGLPE0Mq6fiUm5mAecC6Um8dew/oDg3j5AEYkd9wyMA1SZ6fBXfMnAxvHPAAI6IiiKCf3RcRNPlRo1Eo4bfLvTv9O/878MCWd4XKQN5/+FIf/atm0t/eHEGHnfv2XM2AnrLX/27NpJDth/HzJlmTV7tgy/dgTezav/NGlCx80gLUP+d87ZF+H4bjv6m+PPPUc0gDD4w1m6/1wqdSaXSkGBWg6nxpAhlyCuXNReQTTqWQXpXzrrEctVGR7H5sQfYnPiNP0dOeAIadN6B81nrVf9c7jMm79grf3XGTedd9cy4ydgqdTdo/X92H7zZtvIYOzpE7/rmadfkHfefk8/W78cXYxdcPw3UBCABpu848+0DLBCNAIPjwo/wpNx178BGbc/8vOfgByKRk5/oJO/wH/69T/UZtxMny633Hyn0x8QKvJ55z9002x4/pNZKkVKVgpWkjZMVgmhlzxZTEl7EcMblBJ56+BbYQT5TpAlIYYUKiVQUJinIV1IlRWmWm46i3FvP0JGIWcXh7/jX5pQiiD9JUulvrTNiZ3+nf8Zhw+sPgoJ5/+BwRt00mTNuMu/jS//2rVvI9x48pVX3pBXX3490V/WBf/ttmuFPWKOAvfNkkmTJ8sdOJEpPX7UhJo02QabE2PpEDJY7jwsd1qJ2TOxkSOPPAybHm8jl116jcr29Pt03JweZtwsxd42Qy+47A/J/0E42W9bzHpkW489YY6bdCPcq2cf/OlH43L7bffIN1Omxk/T5Pz4x1OluMcNw4TxmHGjjht2zgh6s2rV5NLLh+q7nDb/+mtvy4vPv+L6n+u/hmZEnDSSO/9P6C8/aAim/PTHMkqgaRgSoG5/KWjygCUCagPZn/FUqWnpGTexVYd/hEQiPxJE3UDw1wZ4KUX2b1bXvbFUitpD6Hj8tUP9REA6HHiQ4qdcsoJFKwpwA1T8YcgqsGsW3stFRfS2ZePtDJOxNN2wmDvjKXNGA96+AS6AwpgM/HQOf8e/EkZ/A2E0tGyBpVJjx4VTpZz+nf+5/FEB4PxfSaGoyL+dd24jhx9xiIwfh1OS7r2fCst66T9t2mwvRx7VT/XID7Cp7uNPPqs6FDUp6kTUf7Zp2lhO5YwbKvZ4HnL+PzB7ZkXS//5H9ZWmTRrJpXDcGDyIIdZ+Q+xxc+bZdhz4kqVL5MKhlyv6xMu69K/Bg46TbVthxg30r8efwFKp9z62VwP+NcBR5+edfyYm+Zj+95+HHpNPPsWyptB+Qfpf2nEz8euJctddo7Wvaf3voovPl1o4sYqdHDt+gowkTEP/9QMKwH+eZc69f5C11vY1O1zW1X/XP4FRrn8r/q8L/9z+cfsvP//Nz//yO26c/7j9v7H9H1lduvXBj96UmJB6ZObRy4JnOmW4eRn3FzHBacUoH6mCsEAWTjXIwftE7hhYNnHo6IuaYtkajc8cYIh2b9/hT5Rw/Cvx9DeIS6WwvwI3Jx416gGnf+d/zv9d/hVJ+dd+Z+7Lcii+LVduuw2nQ30zLdGD1qb/7H/AftKlSwfVdx55+An5+ONPqRHl0X8aN24sp59xIurjfJtcGTrkUlm6fFnC/48+up80bNhArvzndavpX1vhOPCzzjxJlaxli5fJkKGXxtq1DdWuokLGB/3qTPuDTzxG9xljzmO6OTFOlconf4dccJbU27yuft87b/9XnnnmBRbXYrzn7z/3uOnUGTNuUM+Erydjxs1IFgsvsPIs2WOPXaVX756auGLFSuydc4UsW7ZyjfRftWoVGQpnzwvPvSjvYzkXA2tiyN9+7C7ztLWYoC9Y+8yzzPjs+qfr325/uP0FfkCW8Cftj766OXEbmTYde9xwqRSqcvuXzBaBwDCIMOL8V5FDLwqMP81/u+JUKZX6rAt/6i1MEghpSkBk4FeSGCWCU9eMPh5Lp3PHlBAryHdXD2wGW91wyaVVwpdDE94+QAHAZgaE8AvAcfgnoHD8AyiKKf0NxHHgrVo2l6++wIyb0Q8Yfjv9K4t1/uf8z/l/0ZF/7bChbl86bsBsf/n5Nxk27CZZvGixKvhr4r/ly5XF0d6nwemxufz0089y9dXXyUqc/BRD1H82q7aZXHLZkIT/XXXlcJk/b0Ei/88773RZvHgxTim5G2XwVkr+b42ZOKefdqLqXyvg+BhywcXIX3/96+QTj8dR2021X4/zOHCeKsUPw1/Ev7ZtdxRuUowUOFeWCb/vt99/t3L59L/NamyGo80HSq3a3JA5VyZPnip33H4v4nlDuXLl5JzzTpPN69ZR/e/jTz6VR/7zJJtYrX0mHHrowdJ+53bYY2cYTrX6JVMuX/v2/vr33/VPQNf1b+ATkR7Itwb8M+wNmSn6c/3TQOf2n6GO7nGD/dCmTZspt4y4w3DKkGe1KzHO+Y/zn7/Mf7t2w3Hg2RB6+OVXpSf4FKf56C8aCUfTHH3KYCIZWiTdwABRwt5DedaDeYZZnJUDIZzDO4vxSZdI4VmrQBlv3+Hv+AfaAIGUcPobhBNNtm3RTL4ag+PAR2NzYvIIp3+nf6f/UkH/xUn+m+PmECot5Mwyd/Zceerp52QKHBOmsq+u//Q9ojecDW1V/3nwgUfls/99sUb9Z+iFZ0nd2nWU/z315Ivy7ru2WW/9evWxVOl0eeDfj8jnn3/J5rV9qksMO+y4vQwY0B+xHFmFk6j+8Y8rZcnipXhet/5VpkxZOeOMk2SLhluo/vXyC6/Ka6+/USD/ObjXAdKhw25sUj76+H/y6H+e0LhdVHmTanBAnXLqCVK3bl00b+2vxGyaq6+5XhbM/2k1/W9zOLROO32wVKpcWdt/hUd9v/raau1v26KpUFa8+857OtsnapiZD7D2bRxi7rr7z/Kuf1LPcP3b7Q9Qk+tff1n/7NcvHAc+fabcejMdN+DX1OPd/l2N/zv/3TDyR0+VimLPME55OhSFTCpFJJ9oVFrEbubqwYfAI0OnDB0+WDuFSBAKfIdB00MZ1oGQqirVEjJQDxmqt+/wNyxJ4UoKaQgdxz/SSfGiv4En2qlSY78aJyNHwXFjJK/8ID44/Tv/c/7v/L+w+X+79m0x4+YQWYUZM599/pXQkcPTnsaP/xpHWX8pP82bLz9ilsyyFctl8zp1ZO99ukmbNn+HHiTYfPdNeeml15SlrUn/2f7vf5Njjj1S9Z/lmNXCE54W/bZI9tu/u25UPILT7lEZxV79BvXl0MN7S+VKFaV27VqSnc3dY4z/L1uxTBYuWChLccLU1KnT5LlnX1IdyhpnoSzp1ecAabJNY6lRs4ZUptNE34Xdhv1jfvxxvs6que/ef8tvv/6W6F908gw4pp9sj82WiY1fT5wsb7z2lsyeM1fogPlbqxZ6mkp22WxZiNlFjRtvjXf5IyDrXSXzcRLVpIlT5OmnsMwq6ohouOFWW8pRRx6OI9Pr6CdOg8EzDd899Zvp+m5LzMjs2Gk3wHmSjIaMSPa4iR8dvt3lf/GT/zQFGFJDqbgVktmhBP+sVKps6iXio4+/j39R0H+5VKpdWxwHPhUzbm65XfmtOgUV03Fx+xdE7Pa/+kg2EP/L4owb5aJEMmCbKQpki4jjzwQxW8sBo7R8LYck/QYWZeAzJLa+g0dNZgFKcSupafbxVipfNop5+w5/4objH2mmJNIfjwNvAcWcjhtVyjPswenf+Z/LHzXUnf8VBf6njpt+feTJJ5+T/777vjSoV08O7LmftGzVEp9H7mzqDZdClcUSKeo2S5Yuk+effVE++PATdmGd+s/Ou7aTHj32lSpVKif8b/68eXBqPySzZ81N9K+tt24oJ590gixF/XS2rCKeaP18DfsQlsmW8mXLymSc/jTqPuwdhqbT7Z+I5VENsTfOyuUr8CP7KlXL6IRiL8rg3UpwCF111XW6vCu//N1xx78LNx+uWb260id+okbduboE7J2331cn1T77dZPOHfcIkjuj/038epLcdecofo3l4cP4Q1+F8hWke/e9ZCcYPDWw1EpD4H9LlyyRN15/R95+5330dSXaZEdd/3T9G5hJe4J4ApQgVhii485n5KnOFJNZgOWtZB7849ysfNkoZvXnx3/HP0LK6W9N9KebE+MEwulTZ8iIEXcaXgFi+RFMMTHwP8c/p7+/wn90xg1xjIEMy9QRPCT8LkTy3hQnMRNMlQdllmSQ5gLXujIXI3rFYkSp3CgjxPIIDeHGuLfv8Hf8I70gkC40GiJ5b8WW/tRxg6Nox4wZi82JMePG6V+Hmxfnf87/nP8VHf7XHMt1doFjhUueOO2dTJfsauvGjbBx8BZSB7NsNq9XB06XqvL7b7/Jl2PGyJgvx8lyOEcygf0JS6oQLUj/qVChvDTAjJpaNavLz7/8Jt/O/A6zfFYVKf5PNbt23VpSv359KV+unMydMwczb+bpzBribJOtG0nN2jWwB9AS7M3Dv8WyBA6YJUvoaOIeP+z86v1nvZyBU7dObSkLBxJnMM2ePUeWLV1epPof5XEQw+yKnXiJiOu/GEXX/93+KaX2X99+h+qMm2kzbHPiDO9nTDmF3Qvgf67/ZqDl+u8f0H91c+IIO0gl9WQT1xg3dAtXPlmwbMslv4ajWvFT45mXQmkVa0F1sTiL8I++G/0xJZTUNonc3r7Dn7gBvCAq2JVPFgw9LNfxL9ALgFIc6G8w9i1osS02J8aMm/tHYhq8DbANLMccz07/AAdhgZuBh1c+WbAny3X8L174T0OVI8c/l3+AgyG4ITaA4vTv/M/5vzEI4/AkDef/Lv+IDRZc/hMbjDqKgv7Tv/+h0hYzbqZhxg1PlQpKWxgtt3+p89hPF27/byj9L8y4ib4uYwl5xQRJhJPEbO8anVWDKKfnYsthu1PbUgoirvJtLWBaWBiyjPDB4PFdlk+m6Hj75mtz+JMlO/4RCjGULPobOPgYnCrVQr76kjNuHkYngwDWcXf8d/x3+nf+V3L5n9K36z+u/7n+6/q/2z8lQv/r2/cw7PXFU6XguBlxF/rk9q/++qq/ygAWatFFrcbt/w3i/+javRcspwhU0hHifNQ5vYzkDWZmWVo6ToWEKjf/qdqVylS3DOvFOWg8Bkt/UUkcOrEg73wV5ViFt2+wUKBkLhFaTEnH+eTwd/wr6vQ3cOCxws0nx3w1Bo6bh1JY7PSvVO78z/m/yz+X/67/uP5DWZAvpHW+dNz1P9d/Xf8vHP1f97iB42aqnipFxw0oM0Wcbv+CNt3+36D+j9QeNylMU9QjG+CixZy8DgHKEhZFyOgWlhizIgu1UlY8Gy9hfg5qtFxjMqEiLejtm8ViUDMoOfwd/0oW/Z2IGTctdMYNjgMf9UBkEbg7/Tv9ZwwV538uf13/cPnv8r9kyX/X/93+oWQrSfZfv34242Y6Ztxwc2Ib4bQuw7Ulbv+6/b/h/B92HDhspmTpE6e7EOfCGfREQlMhI8NBtnrP8BJtLV545zQavTNNK2AEaYhjpo0upbKUTLH4jPe8fTIzojZgpeAD1DmlWv+lBxzZDn/gVMA7YpPiHXEMCEXYGQANuxz/ihT9DRpsx4GPwR43ujkxRsnWKTv+O/07/3P+7/LP5T+Eguufrv+5/qvav9tfRdv+6deXe9zsZHvc3II9btz+IAPHH4LbXxvF/srMuKHBS8NXA41grmmybcLNHjbHjdrFyk6gYjKDRWLAczS/9E17MVpmVopl8CKZUZ7g7Tv8iS8aHP9KKv0NwnHgLVs2w+bE4xPHTRxy5z8B/ckbnf+6/HH5C4KgrmB6BXUG0xqCLsIM1z8i01D9wfWv+Ms2wGGIYxFbn28wcv3T9W+3PzJ8gzG3v5Q3GFD+mP5lS6Vsc+JbR9wRVpY4/3H+G+kKgmgDyx84bvqgVqpEEHisHE/qdLEoJjYgJ25MgzRdHmU/kRutq3A0lSr42LQucgLWaTnJb8msXt/Tq1aGSrWUt+/wd/wjgZRk+huIGTctcarUwoW/yvQZ00H6BdA/YMBk/i36dZE89eSzYBd44H/mOf9ReAAcwThx/ktp4/IHCIFAucury1/XP1z/MjoIc/lc/1TOYFzChKlKEeUVrn8CFmCdJVn/Msng40/5uC7873HAvlKrRo3E/qU+qhP98+mfW2/TSGrVrCnf6ObEdyotufx1/WNj6l9ZXffubXYQEVkRkkQdQkBQPiUEn0RioVgWA6V8j+ozWF/yLl9AINZnMQ/3WBuzYlFvP8AMMIkhgWECsVQkFgp3wNfhT/A4/mWIKtIacKSI0N8gHAe+7bbN8EHKLHRSH2bF44nPGskgNp7nL/hJrvrn8MgxHP/JMzms+YPTv/M/JSnnf0WZ/7n+Q+YVmBhvrv8FsVew/FOmloFYArr87J/y3fU/gsf5X4aoIq0RgRB3+wuAiDAhveFxLfzn3HNPkwZbNFBSS9SuJKLJmQvgO30697i5PVVpbAtJDn/Hvw1If5mlUsFJECfBRPzUO3Ec/JAzt5lP1kiUpLHF37Ti71pGCcjQnMwTC2v1eFfxl0U0xFbw4O0DbIBogFGEjN4d/o5/JYT+DjhwX9mqUcMU/YOpUIIG+g8ZSDHusnDhL/LQQ4/6+JeQ8Xf+b7LT8DxyeZIA4s7/Xf6RFVLeAyWoY+nd5b/zf+f/bn+4/bVJ7c/DD+8ttWrXMoeoiefQvummGfvXePWsWbPk6aeeV84deTceNNPtX4AhyDbCxkKUcnhy/QcA+gP2f9fuvQk9wzyNUUtAJNhTmodH9eYT4uq1YUEWoDRheS2lppbtgW/PieYRHpMbyudizll2ru0xr+msW+vx9h3+QATHv4SuSBdOfwCH8x/nvy5/wAwoKF3+uv73tG9DAAARSUlEQVTh+pfrn65/u/1hlhUdCW5/8Se/EBhRmzImhDvS3P50+7s4+x8w46aXorbu2w2HTfoX0Sx9TlvQQPxADHrjm0olNvOGDgeehMQ0+n6oX6rBqeX4wHR6lVgmtMWCWg2cONqeFrM0ffb283AfgE4Ned4UrgSVw5+zvggQxz/SluGG0x9AEWBhzIhwcf7j/Jc04vLHxLDLX5Ogrn+4/uX6r/IEEgSC6//EB7c/oDUZQihS4IJHSFC3PwgWAsLtL6AEgOH216azP3XGDbl1crwyEdFIVXGScSi5VPaVqesvnlpktYsS82qplmB5vFoF+hwR39t3+Dv+GdEF+omkwUenP+c/zn9d/rj8hYrs+kcwFoKgSN1c/8ojQlOQMZBBiiDN9U9Cw/Vv4EpUstz+cPvD7Y88zDOSBpmo2x9Fz/7QPW7Sg2TCnyKOszgygb/e5/Lna6TGMioOwfSyoE1ZKnLJDVHOFkGxJN/I1GcprAvFQgO8xXTe0+X5PoO3T5gZdCKMFGoOf8c/pz/nP4GDOv91+ePy1/UP179Mi6TumNYno57p+qfr325/kDpIH25/Rb4QbSu3f93+D+4JpZGi5n/QpVJcPpANjOWH0jnAKZIMhsxh3STzkWxpGWJnSSJ5/CWD7zFQWGar+yb1E5n13gok7AIlvX2HP/GLeOP45/Tn/Ed5pPFa57/6swD5g8sfl7+raQ+uf7j+5fqn698pO4N6pNsfbn+5/QkqSNGF2980MFfTIIqj/yGrG44Dp8WsF6qF6onRS/DShDjHn/n4dV8VBRZllqVaXGHCS0AWRsPrkoMHIE58ZIQwpMNI4zFHC4RSzIvp3j5gQRg6/B3/iAegDJKJYYXTX2AZChjnP4YV5J8RLs5/gRoufyI6qMwFfrj8NRpJMEMBFKBE+okE5PoHYAGAuP7h+q/igesfrn+RP5rGpbBQfsmL23/GKwGKKHBd/wJIEimrcHH7/8/rX5njwEmBSeA0qbj4yXCPSwBzoOXpBCrEdZNPevAQeM3moERvliYgUenXalKaZmEGlNU9G+ypgKu37/B3/Is0o+SEi9Of8x/nvyAE/oesyXL5o7JT+YPLX9c/XP8yXVIJAlHXP4OxpD91ZfRs17/d/gCvIJkUHNz+cvvL7a+ibH8ljhsiKr2E+rG45OZgqROWraguUACFs7zmF5AXXDmoL3hetWZcUBYngKeSrU2kIMvi3j6A4fB3/HP6c/7j/NflDwViATLW5a/rH65/QT8tgDaMYPIomqbXoqzrn+AniVpuOjdSXP92+wNY4Paf25+KBm5/FXH7K6trNyyVAraSZM15wmsBBKzM3UoFHsc9EBPBmREBNvAUDjxJzwRr9ODmKWXVhCRv3+Hv+EdicPpz/uP8dzUFyuVPkMvgEVFmuvx1/YO4oLShv/fYA4nH9S/XP13/dvtD+YPbX6ZVB8FpXNLtT8BBJy1DXrj9Xbzs78ypUhT2YaFiehBVHciXZ8YliIDTcZjHgEe+lxPWQBuJWJm0A4fgyUE7WfT6hKBl87URjXhvP8A4NTYOf2KH4ZbjX4aInP6c/zj/tT3AXP5Qcrr8pY7i+gc0BhKEamiuf7n+6fq32x9ufwXNmVJSJyG4/Wtak9v/GSdOUfU/mOMGUl2n3SomY/CUpnGh0oO8XD3jXtVALaE+FxSj3yab+cF6tu4ike+HajRPtQYmWB69fEk6kniErbcf4RsARyA6/B3/nP6c/zj/VV4IzujyBxBw+QsgUIeAiHT9w/Uv1z9BCOQLIAqFBR+DGpno2ZqADP4n7ah+aYVc/3b7w+0vt7/ADTKMw+1PVTCKqv8Djps+4PYYssQ4MGeNjqHJgxA1scAHi2EepkoA+uc4M9eGXV+hRoVnOny4CbEWsGy+HkpSdLAc/rx9h7/jnzIKpQrSAwPJIwTSCtUyBqc/QsL5j/Nf0AOd26AJlz+RNwAYLn8JBNc/XP9y/dP1b7c/KCCDSolYiLr95fYnEQN/bn8XO/s7q0v33qrm6c94HMDgjInkTUK3wQ03/Nxnv3Jpho65ne5BBLAyloNHJLE6puciYoTCXLaDJ7QXDrfWZ6tMC1sZFtWQqTvX23f4A2+IVgyKsopkGRyxHOKc45/TH5GEuOD8x/kvGIIGlz8uf13/cP3L9U/Xv4NU5DRGt39MYVaLMGrYFJgZ3drtL7d/3f4vfPsTM256UYtVQzjav6bchisYmk6lDM4W8rZM4IMpw7xqnkaSZM1NNrFnMl6hCWUeHSRYy95+gE0AJwFjweHv+AfCynb6A88gL4qEwbvzH+e/Ln9ICS5/Xf9w/SsSQriHm+ufUUrg7vo3tAa3P9z+ioqk6ZB6tSi4Riq4/eX2VxG0v3SPm/xKn85UCLhrecBoIDDtpEye5qRsp/CM95KZDowrm+T29pjMns1fuVJEEQjF2kB6rBJ3Rhksz9t3+AMTHP+c/hLeoJxBccKYRXgGz3D+A74Z+KzzX6rpLn9c/rr+4fqX659RLqhy7fq3GhiqOQRY5NUx3f4w2AA4bv+5/QE0cPvfeELgDIVmf2SWSiVeEmXp+CASa0xMPlMzmZz+FSO8kekEmaAGlAySQhlATCZ3ZOVog1PvmKchXcjbd/grYhh2pFGDcce/gB6BdPQWyErJKxKU01+ERAYszn8AE1CR81+XPy5/Xf9QDmksIWGSrn+5/qWql16URqJa7/qX65+uf7v+bZwhCg/c3f4wpIiMklxzI9lfWV33xlIputEY0GD0qOnvlGg0B2nMtW/hkg0s2lCF3xLpiM0fuOdNLirir73ZeDtD5JamGxbjR1AaDtoxb99A6PB3/COtkzRwzXb6c/7j/Nflj/IDigiXv65/uP7l+mdQ2SkbXP8mY8wT3P5w+8vtT7e/S7L/IatLtz6Y9EKPAXgfnSnRyxKEAjcv4/4azGaId6IFpUZWDhwzeD8tP1gmESj6gqbo+1oB2wvqeG4uXDvevsOfKOH45/Tn/CeyRuWhzn9d/rj8df1D1SiIyHh3/QuQcP3T9W+3P9z+cvvT7W/zLuiVMrLE+x+64lSp4ENRrUC91UkC4WC//6emQqiBTV9LtLGsCJUrLntSsCkAC7owF1vdcMk9qg5lQxN81ds3OKZVNI1npkI5/OHgcfxz+nP+Y9zZ+S9kCWeBuvxx+ev6BxUr/BUcXP9y/dP1b7c/3P4Cf3T7k0AwcUHB4PZ38fE/dO2G48CzofRi5ouNHHXgtAOGI6o5+dQBKgfRdGIZPsf3UB6PuVhnlcVfRYARObxrVXjSJVJ41ipQxtt3+Dv+GZWRbpz+lGdkJIrzn8hhgSQhKPNEnPeY6/zXfjgAREhHLn9c/rr+4fqX65+uf7v94faX25+qL7r9DUQgP1AVunj6H/RUqaj2q0VgfYKoy6RG0yCxEYKpYK4eqMrwyNApQ4MTczdVa1agaIUszPRQhpUhJHUinmnJHviut5+BSgKrJGIwc/gTDo5/Tn/Of5z/ghe4/HH56/oHCCEopVS0GFz/cv3T9W+zUahDI6RUabc/AjwUMDA73P6iXeH2l1FJilZSREPouP1JPCkc+zOLM26Ui5FqQbH0xuHKB/0oXbpEwY/ZNdxoOHrrVBfgOyzKgCJZyXT1kKwDnSEAjeGihiZeyJft7Tv8Hf+c/shllKGQEzn/4WxI578uf1z+uv7h+pfrn5CN1BOpb1Pvpqhk4LPr32azABwKFgIIMAmQMq0Cj25/qGal+JMCD8Bk/MX1L8MZ1z9d/y6q9ofOuAFn00CCJbJqSPhdiOS9aSk9cQrFFcHJAcJqK6sgXllfWFKFaPLLMJZHaQg3xr19h7/jn9NfwhcUFHkZT3hy/gMgOf9VXdPlD6iBRpvLXxBFSp9QPmKcAlEqH/iPfHWEuv5h4EnBy/Uv179c/3L9SxkD+YLrXwBCAETem0kVpMHX5foHoOH6B5BhU/o/dHNiE+GKo+rJJ8HiOwKuBgrmkwXLtlzqi0ReYrLGMy+F0urWCa4bi7MI/6g76Y/JoaS2iXq0PuYhnVXblU8WmEYRy3RvP8DL4e/4B5KgYRKIxogFdAK26vRn3EJhQRDxz/mP81+XP4FN8AaicPkf5ClhAZC4/kHEMI2LMQbXv4gbhh2ufwZ6cf3T9U+QhOufgUEqp+TF9W+3Pza8/RVm3MTfWkwk5xXTFFGcpGx716hXCVFuOowth+1ObU8lGBGVb2sBpIW4psVagch8l+UTF5W3b7/1GIwipAhNUxEc/o5/Tn/KT+jVdv7j/Nflj8tf1z9c/1JdEhqT65+merv+HRUEtz/c/jJccPsTcIhWpdvfJcL/0LV7L/pJMbB0pPCGOB91TjEjeQNLxdR0nO+bb5G5yEllqluG9eIcQh5DB1mLgEjSbniHyd6+gcXhb7hAnEiFFFqlUQwlHP+c/ujbd/6jzDdFKM5/wRtc/rj8df3D9S/XP13/dvsD+rLbX25/Rrs73mlGIc5Htz+LtP2Z2uMmpeknZrD9vJ3HIEyNcWZsLTFmRRMa1WhgzdkwrDE/R++sz+pkTgzevlGMwcNg6PCngHH8SzkkIpEBTZz+Im91/kNnTUQN57/GMdKSxeWPy1/XP1z/Ih8gdzAO4fpn5JGUH65/UoJacP2bFOL2h9sfbn+ZrAjadVSywSYK0/6y48DBs5OlT1T/+XHY+dLSIguLAo8fjAK6QQSZHF5Wno+0hPdrBcxEGssyj5kWkmLxGQnePpUJqpaAlYLP4e/4p3MlgBdphdvpz/kPeSqYprLUcOc0Rj6TdxgDMe7q/Nflj8tf1z9c/zJ+iGvCJkOKrrKKSy/JO8lDXf91/V9xwu0f1z9d/844vN3+KAr2R2bGDYWVGgKUZnjQNU30uJJxMcUYGItZGlwMzGCRGPAc3Q/6pr2I4sywN1mZHrGl0jG+iLu3T7CG4PB3/OOcbqc/5z/Of02MuPyhAu3ylyIy4AIRw/WPoDMoWIAfcWaVqV2mV6nSZeU0avDLvIiY61+uf5GeNLj+6fqn65+uf7v9UVTtDzhu+oBdUyWEwA+/2upwkXeDiWfjF9vcuDEN0nR6UHDEqKxnISRSpeSqSQbWxSvvlpPMJQk5Vsoq01q0rLdvQHf4A/cMFI5/Tn/Of5z/QpyAIfA/pZXLH4UHwKG/ibj8df3D9S/XP13/pl1BMeH2B6Hg9pfbn25/Gx2EtSwlxv+Q1XXv3qYHUytWhdiYn15TM2WMFSI1iaTKMQoD0/w+FB9wPSTv8gUEWuJZzFN10+7MikW9/QAzwCSGBIbIQhohl4nEQuHu8Hf8Iwmr+zQSVaQ14g3iTn8ARISJAsv5T0QV57+gEXBZokcMzn8BDwOIy5+AGgkgIpKEu8tfl78qUlz/zQhV8g4SDG+Iu/4BQESYKLJkQOXy1+Wv6x9ByCrHCPhAejEuojGXvwqjzFKpoKTqL5qBpxBQCic+Qx5x5Qbzo/sl+nSjX9NKE8zMyTwlPAnvKv9mEQ2pUfD2ATbALcAoQkbvDn/HP6c/5z/Of13+QCC4/KWGYVoGdQ/XP+x31YzG5fqX658ZbHD9G7AA34y6NXHDQtSy8eT2h9sfbn8lNBIpQ+9ufxY9+7Nr994cG9OENMZRQgRGQnSW866zacjxVGtkQRagNcnyiCJQXbA9qO1ZtauQF1LshrRcbK6ZnWtbHmki69ay3r7DH4jg+JfQldOf8x/nvyAHlz8uf13/ADOkouT6l+ufrn+7/eH2l9ufZla7/V16/A+YcdMruEvgRIHDJj0jJkuf0xY0ECQ4WPTGNxnBhb960eHAk4CYRt8P9Qs1OLQcH5jOWSUsE9piQa3B23f4O/45/SmbMJ7g/Af82PkvpIbigyEFriZKVMa4/CFUXP66/gGicP3L9U/Xv4OdoSaG2x/BFjNjzO0vtz/d/i4J/of/B9+qCgKCZpCnAAAAAElFTkSuQmCC)"
      ],
      "metadata": {
        "id": "bzym7iIMBA8r"
      }
    },
    {
      "cell_type": "markdown",
      "source": [
        "### Conv2D  -- `4Dinput.shape=(batch_size, channels, height, width)`"
      ],
      "metadata": {
        "id": "gOtKIvvR-wdL"
      }
    },
    {
      "cell_type": "code",
      "source": [
        "import torch\n",
        "import torch.nn as nn\n",
        "\n",
        "# Example for 2D convolution\n",
        "in_channels = 3  # Number of input channels (e.g., for RGB images)\n",
        "out_channels = 64  # Number of output channels (number of filters)\n",
        "kernel_size = 3  # Size of the convolutional kernel\n",
        "\n",
        "# Example input tensor for 2D convolution\n",
        "# Assuming a batch of RGB images with size (batch_size, channels, height, width)\n",
        "input_tensor_2d = torch.randn(32, in_channels, 128, 128)\n",
        "\n",
        "# Apply 2D convolution\n",
        "conv_layer_2d = nn.Conv2d(in_channels, out_channels, kernel_size)\n",
        "output_tensor_2d = conv_layer_2d(input_tensor_2d)\n",
        "\n",
        "# Print the shape of the output tensor\n",
        "print(\"2D Convolution Output Shape:\", output_tensor_2d.shape)"
      ],
      "metadata": {
        "colab": {
          "base_uri": "https://localhost:8080/"
        },
        "id": "IyUb3O-m-TQV",
        "outputId": "0e97926d-7365-4d2b-96a5-fe9722c8f53a"
      },
      "execution_count": null,
      "outputs": [
        {
          "output_type": "stream",
          "name": "stdout",
          "text": [
            "2D Convolution Output Shape: torch.Size([32, 64, 126, 126])\n"
          ]
        }
      ]
    },
    {
      "cell_type": "markdown",
      "source": [
        "**Output Size:** By default padding=0 and stride=1 so using output size formula given above we get: (128-3) + 1 = 125 + 1 = 126"
      ],
      "metadata": {
        "id": "4LA2VQigBqHk"
      }
    },
    {
      "cell_type": "markdown",
      "source": [
        "#### **Keeping output image size same as input**\n"
      ],
      "metadata": {
        "id": "_WxXNzyQCfJK"
      }
    },
    {
      "cell_type": "markdown",
      "source": [
        "![Screenshot 2023-10-27 at 12.28.43 PM.png](data:image/png;base64,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)"
      ],
      "metadata": {
        "id": "TBchUYc1CSTW"
      }
    },
    {
      "cell_type": "markdown",
      "source": [
        "padding=(3-1)/2=2/2=1"
      ],
      "metadata": {
        "id": "jgVwDy6JDGI2"
      }
    },
    {
      "cell_type": "code",
      "source": [
        "input=torch.randn(1,3,3,3)\n",
        "model=nn.Conv2d(input.shape[1],input.shape[1],kernel_size=3,padding=1)\n",
        "output=model(input)\n",
        "output.shape,output"
      ],
      "metadata": {
        "colab": {
          "base_uri": "https://localhost:8080/"
        },
        "id": "Si_bBwgwClnF",
        "outputId": "e48be6c9-e6f3-4426-bfcb-dda1248d0a47"
      },
      "execution_count": null,
      "outputs": [
        {
          "output_type": "execute_result",
          "data": {
            "text/plain": [
              "(torch.Size([1, 3, 3, 3]),\n",
              " tensor([[[[-0.3002, -0.3423,  0.3059],\n",
              "           [ 0.2601,  0.8793, -0.7966],\n",
              "           [-0.0209, -0.0814,  0.4434]],\n",
              " \n",
              "          [[ 0.4769, -0.7410,  0.4774],\n",
              "           [ 1.0872,  0.3791, -1.0165],\n",
              "           [-0.2802,  0.2441,  0.0225]],\n",
              " \n",
              "          [[ 0.4102,  0.5678, -0.0358],\n",
              "           [-0.8860, -0.3985, -0.0894],\n",
              "           [ 0.0741, -0.2363,  0.1038]]]], grad_fn=<ConvolutionBackward0>))"
            ]
          },
          "metadata": {},
          "execution_count": 102
        }
      ]
    },
    {
      "cell_type": "markdown",
      "source": [
        "###Conv3D `5Dinput.shape=(batch_size, channels, depth, height, width)`"
      ],
      "metadata": {
        "id": "8NyLDjR7-yJe"
      }
    },
    {
      "cell_type": "code",
      "source": [
        "import torch\n",
        "import torch.nn as nn\n",
        "\n",
        "# Example for 3D convolution\n",
        "in_channels = 3  # Number of input channels (e.g., for RGB videos/volumetric data)\n",
        "out_channels = 64  # Number of output channels (number of filters)\n",
        "kernel_size = 3  # Size of the convolutional kernel\n",
        "\n",
        "# Example input tensor for 3D convolution\n",
        "# Assuming a batch of volumetric data with size (batch_size, channels, depth, height, width)\n",
        "input_tensor_3d = torch.randn(32, in_channels, 64, 64, 64) #5D\n",
        "\n",
        "# Apply 3D convolution\n",
        "conv_layer_3d = nn.Conv3d(in_channels, out_channels, kernel_size)\n",
        "output_tensor_3d = conv_layer_3d(input_tensor_3d)\n",
        "\n",
        "# Print the shape of the output tensor\n",
        "print(\"3D Convolution Output Shape:\", output_tensor_3d.shape)"
      ],
      "metadata": {
        "colab": {
          "base_uri": "https://localhost:8080/"
        },
        "id": "vyHNuNFB-0jB",
        "outputId": "195ff3a4-1f90-4d4c-e0b6-158c3f127ef4"
      },
      "execution_count": null,
      "outputs": [
        {
          "output_type": "stream",
          "name": "stdout",
          "text": [
            "3D Convolution Output Shape: torch.Size([32, 64, 62, 62, 62])\n"
          ]
        }
      ]
    },
    {
      "cell_type": "markdown",
      "source": [
        "## Pooling Layer -- `4Dinput.shape=(batch_size, channels, height, width)`\n",
        "\n"
      ],
      "metadata": {
        "id": "6RSFv_nEEA08"
      }
    },
    {
      "cell_type": "markdown",
      "source": [
        "### MaxPool2d"
      ],
      "metadata": {
        "id": "XnMHgDREEDQT"
      }
    },
    {
      "cell_type": "code",
      "source": [
        "input=torch.randn(1,1,8,8)\n",
        "input.shape"
      ],
      "metadata": {
        "colab": {
          "base_uri": "https://localhost:8080/"
        },
        "id": "K6WQQ-DxLs8W",
        "outputId": "1164e6db-5636-44c3-96df-bb1f30a89edc"
      },
      "execution_count": null,
      "outputs": [
        {
          "output_type": "execute_result",
          "data": {
            "text/plain": [
              "torch.Size([1, 1, 8, 8])"
            ]
          },
          "metadata": {},
          "execution_count": 103
        }
      ]
    },
    {
      "cell_type": "markdown",
      "source": [
        "##### kernel_size and stride are 2"
      ],
      "metadata": {
        "id": "aLhSED2NMBN9"
      }
    },
    {
      "cell_type": "code",
      "source": [
        "model=nn.MaxPool2d(kernel_size=2,stride=2)\n",
        "output=model(input)\n",
        "output.shape"
      ],
      "metadata": {
        "colab": {
          "base_uri": "https://localhost:8080/"
        },
        "id": "09xmVpQWLy_n",
        "outputId": "4d6fadb6-f58b-4cae-c0c6-90bfff70eb9c"
      },
      "execution_count": null,
      "outputs": [
        {
          "output_type": "execute_result",
          "data": {
            "text/plain": [
              "torch.Size([1, 1, 4, 4])"
            ]
          },
          "metadata": {},
          "execution_count": 104
        }
      ]
    },
    {
      "cell_type": "markdown",
      "source": [
        "##### only kernel_size = 2"
      ],
      "metadata": {
        "id": "2ODoEQOSMJny"
      }
    },
    {
      "cell_type": "code",
      "source": [
        "model=nn.MaxPool2d(kernel_size=2,stride=1)\n",
        "model(input).shape # same as from output size formula for conv layer that is (input_size-kernel_size)/stride + 1 =(8-2)+1=7"
      ],
      "metadata": {
        "colab": {
          "base_uri": "https://localhost:8080/"
        },
        "id": "2kjuH4ZHL8zU",
        "outputId": "52307a1e-0c5f-461e-8846-1fbdd9be78be"
      },
      "execution_count": null,
      "outputs": [
        {
          "output_type": "execute_result",
          "data": {
            "text/plain": [
              "torch.Size([1, 1, 7, 7])"
            ]
          },
          "metadata": {},
          "execution_count": 107
        }
      ]
    },
    {
      "cell_type": "markdown",
      "source": [
        "### AvgPool2d"
      ],
      "metadata": {
        "id": "QIzSQC8UNRSQ"
      }
    },
    {
      "cell_type": "code",
      "source": [
        "model=nn.AvgPool2d(kernel_size=2,stride=2)\n",
        "output=model(input)\n",
        "output.shape"
      ],
      "metadata": {
        "colab": {
          "base_uri": "https://localhost:8080/"
        },
        "id": "phbJKlJ7NUbN",
        "outputId": "ec6af285-cb31-46b5-8cec-c9d0aecbd2b9"
      },
      "execution_count": null,
      "outputs": [
        {
          "output_type": "execute_result",
          "data": {
            "text/plain": [
              "torch.Size([1, 1, 4, 4])"
            ]
          },
          "metadata": {},
          "execution_count": 108
        }
      ]
    },
    {
      "cell_type": "markdown",
      "source": [
        "## Pooling Layer versus Convolutional layer\n",
        "\n",
        "**Operation:** Convolutional layers apply a convolution operation, capturing spatial hierarchies and learning features. Max pooling layers perform downsampling by selecting the maximum value from local regions.\n",
        "\n",
        "**Learnable Parameters:** Convolutional layers have learnable weights associated with each filter, allowing them to adapt to specific features. Max pooling layers do not have learnable parameters; they operate on a fixed mechanism.\n",
        "\n",
        "**Purpose:** Convolutional layers are feature extractors, learning hierarchical representations of the input data. Max pooling layers are downsampling operations, reducing spatial dimensions and providing invariance to translation."
      ],
      "metadata": {
        "id": "pd3hSscXM_s1"
      }
    },
    {
      "cell_type": "markdown",
      "source": [
        "## Dropout layer -- any number of dimensions acceptable as input\n",
        "\n",
        "The dropout process looks like this:\n",
        "\n",
        "* For each neuron, a random number is generated from a uniform distribution between 0 and 1.\n",
        "* If the generated number is less than 'p,' the neuron is dropped out (its output is set to zero).\n",
        "* If the generated number is greater than or equal to 'p,' the neuron is kept (its output remains unchanged)."
      ],
      "metadata": {
        "id": "I79lyMx2MRiT"
      }
    },
    {
      "cell_type": "markdown",
      "source": [
        "Using the dropout layer in PyTorch involves creating an instance of the `nn.Dropout` module and applying it to the output of a layer in your neural network. Here's an example of how to use a dropout layer:"
      ],
      "metadata": {
        "id": "lqs1UA4n8jSr"
      }
    },
    {
      "cell_type": "code",
      "source": [
        "import torch\n",
        "import torch.nn as nn\n",
        "\n",
        "p = 0.5  # Probability of an element to be zeroed\n",
        "dropout_layer = nn.Dropout(p)"
      ],
      "metadata": {
        "id": "tgYocsmP8Znw"
      },
      "execution_count": null,
      "outputs": []
    },
    {
      "cell_type": "markdown",
      "source": [
        "In this example:\n",
        "- `p` is the probability of an element to be zeroed. It represents the dropout rate, and a common value is 0.5.\n",
        "- `nn.Dropout(p)` is created as a dropout layer with the specified dropout rate.\n",
        "\n",
        "During the forward pass, the dropout layer randomly sets a fraction of the input elements to zero, helping to prevent overfitting and improving the generalization of the model. It's typically applied after fully connected layers or convolutional layers."
      ],
      "metadata": {
        "id": "JF2UMRTT8oHB"
      }
    },
    {
      "cell_type": "markdown",
      "source": [
        "It's important to note that dropout should be used during training and turned off during evaluation. PyTorch handles this automatically, so you only need to set the model to evaluation mode when making predictions:\n",
        "\n",
        "```python\n",
        "# Set the model to evaluation mode\n",
        "dropout_layer.eval()\n",
        "\n",
        "# Make predictions without dropout\n",
        "prediction = dropout_layer(input_tensor)\n",
        "```\n",
        "\n",
        "This ensures that dropout is not applied during inference."
      ],
      "metadata": {
        "id": "tveq9mQ7F94V"
      }
    },
    {
      "cell_type": "markdown",
      "source": [
        "### Scalar"
      ],
      "metadata": {
        "id": "GCzudlPa8TuW"
      }
    },
    {
      "cell_type": "code",
      "source": [
        "input=torch.tensor(1.) # input should be float\n",
        "output=dropout_layer(input)\n",
        "output # each non-zero value is multiplied by 1/(1-p)=1/0.5=2"
      ],
      "metadata": {
        "colab": {
          "base_uri": "https://localhost:8080/"
        },
        "id": "h-CIaac68WOj",
        "outputId": "a3892a72-eb92-4c9f-bde7-a0750edfb95d"
      },
      "execution_count": null,
      "outputs": [
        {
          "output_type": "execute_result",
          "data": {
            "text/plain": [
              "tensor(2.)"
            ]
          },
          "metadata": {},
          "execution_count": 15
        }
      ]
    },
    {
      "cell_type": "code",
      "source": [
        "output/input"
      ],
      "metadata": {
        "colab": {
          "base_uri": "https://localhost:8080/"
        },
        "id": "8KExcqAV_6hV",
        "outputId": "7074ca12-a14e-4ce4-f12d-60e5e24c7f60"
      },
      "execution_count": null,
      "outputs": [
        {
          "output_type": "execute_result",
          "data": {
            "text/plain": [
              "tensor(2.)"
            ]
          },
          "metadata": {},
          "execution_count": 16
        }
      ]
    },
    {
      "cell_type": "markdown",
      "source": [
        "**Note:** Refer to this link for understanding change in non-zero values https://stackoverflow.com/questions/61873516/using-dropout-on-output-of-embedding-layer-changes-array-values-why. After reading what is mentioned in this link read following points:\n",
        "\n",
        "* During training, the neuron needs to learn to account for the fact that, on average, half of its activations will be zero. So, it effectively \"boosts\" the magnitudes of the activations by 1 / (1 - p). In this case, 1 / (1 - 0.5) = 2.0.\n",
        "* The effect of this scaling will be that if one take average of output (that is sum of all values and divide by num of elements) both in case of inference and training their values will be a bit closer thus generating almost same results. But they will not be exactly same, it's just a way of reducing that gap"
      ],
      "metadata": {
        "id": "Xz8saIgYAS_F"
      }
    },
    {
      "cell_type": "markdown",
      "source": [
        "###Vector"
      ],
      "metadata": {
        "id": "BxitW2QQ-Unn"
      }
    },
    {
      "cell_type": "code",
      "source": [
        "input=torch.randn(3)\n",
        "input,dropout_layer(input) # each non-zero value multiplied by 2.i.e.(1/(1-p))"
      ],
      "metadata": {
        "colab": {
          "base_uri": "https://localhost:8080/"
        },
        "id": "vJ3G1Q0pA22e",
        "outputId": "6ff2f4d2-1ad9-48f4-c60a-cbeb73c95688"
      },
      "execution_count": null,
      "outputs": [
        {
          "output_type": "execute_result",
          "data": {
            "text/plain": [
              "(tensor([ 0.3309,  1.0998, -0.6009]), tensor([ 0.6617,  2.1997, -1.2018]))"
            ]
          },
          "metadata": {},
          "execution_count": 17
        }
      ]
    },
    {
      "cell_type": "markdown",
      "source": [
        "### Matrix"
      ],
      "metadata": {
        "id": "9tgSO895AyWa"
      }
    },
    {
      "cell_type": "code",
      "source": [
        "input=torch.randn(2,3)\n",
        "input,dropout_layer(input) # each non-zero value multiplied by 2.i.e.(1/(1-p))"
      ],
      "metadata": {
        "colab": {
          "base_uri": "https://localhost:8080/"
        },
        "id": "iDLu8sOF-crO",
        "outputId": "a5caa917-7d6c-41c5-e898-ab8299448528"
      },
      "execution_count": null,
      "outputs": [
        {
          "output_type": "execute_result",
          "data": {
            "text/plain": [
              "(tensor([[-0.6368, -0.4105, -0.9556],\n",
              "         [-0.1265,  0.7720,  1.0982]]),\n",
              " tensor([[-0.0000, -0.0000, -0.0000],\n",
              "         [-0.2530,  1.5440,  2.1964]]))"
            ]
          },
          "metadata": {},
          "execution_count": 11
        }
      ]
    },
    {
      "cell_type": "markdown",
      "source": [
        "### Tensor"
      ],
      "metadata": {
        "id": "KJUiztthBEly"
      }
    },
    {
      "cell_type": "code",
      "source": [
        "input=torch.randn(2,3,2)\n",
        "input,dropout_layer(input)"
      ],
      "metadata": {
        "colab": {
          "base_uri": "https://localhost:8080/"
        },
        "id": "y7XrjuDxBFxJ",
        "outputId": "861b8da3-5a48-4e1f-ca1a-30d2266e8111"
      },
      "execution_count": null,
      "outputs": [
        {
          "output_type": "execute_result",
          "data": {
            "text/plain": [
              "(tensor([[[-0.6037,  0.5799],\n",
              "          [-0.7526,  0.2691],\n",
              "          [-0.2839, -1.5384]],\n",
              " \n",
              "         [[-0.0324,  0.5479],\n",
              "          [ 1.9699,  0.2545],\n",
              "          [-0.3466, -0.9529]]]),\n",
              " tensor([[[-0.0000,  0.0000],\n",
              "          [-0.0000,  0.0000],\n",
              "          [-0.5677, -0.0000]],\n",
              " \n",
              "         [[-0.0000,  0.0000],\n",
              "          [ 0.0000,  0.0000],\n",
              "          [-0.6933, -1.9059]]]))"
            ]
          },
          "metadata": {},
          "execution_count": 18
        }
      ]
    },
    {
      "cell_type": "code",
      "source": [
        "dropout_layer.eval()\n",
        "input,dropout_layer(input)"
      ],
      "metadata": {
        "colab": {
          "base_uri": "https://localhost:8080/"
        },
        "id": "kKb99XFHGRGz",
        "outputId": "ee1310f4-322b-4f7e-d0ba-87c888f9758e"
      },
      "execution_count": null,
      "outputs": [
        {
          "output_type": "execute_result",
          "data": {
            "text/plain": [
              "(tensor([[[-0.6037,  0.5799],\n",
              "          [-0.7526,  0.2691],\n",
              "          [-0.2839, -1.5384]],\n",
              " \n",
              "         [[-0.0324,  0.5479],\n",
              "          [ 1.9699,  0.2545],\n",
              "          [-0.3466, -0.9529]]]),\n",
              " tensor([[[-0.6037,  0.5799],\n",
              "          [-0.7526,  0.2691],\n",
              "          [-0.2839, -1.5384]],\n",
              " \n",
              "         [[-0.0324,  0.5479],\n",
              "          [ 1.9699,  0.2545],\n",
              "          [-0.3466, -0.9529]]]))"
            ]
          },
          "metadata": {},
          "execution_count": 21
        }
      ]
    },
    {
      "cell_type": "markdown",
      "source": [
        "##Batch Normalization\n",
        "`Used for for normalizing the activations in a neural network.`\n"
      ],
      "metadata": {
        "id": "3doZJzC6Of1E"
      }
    },
    {
      "cell_type": "markdown",
      "source": [
        "The key steps of BatchNorm are as follows:\n",
        "\n",
        "* For 2D (image) and 3D (video analysis) data each channel values are used for finding mean and variance for that channnel. However, for 1D this mean and variance is found for each feature that is for age feature only its mean and variance will be find using age values. This gives an estimate of the data distribution within the batch.\n",
        "\n",
        "* The input activations are then normalized by subtracting the mean and dividing by the standard deviation (after adding a small epsilon for numerical stability).\n",
        "\n",
        "* The resulting activations are then scaled and shifted using learnable parameters called gamma and beta. These parameters allow the network to adapt and model the best scaling and shifting for the normalized activations.\n",
        "\n",
        "* The formula for BatchNorm can be summarized as:\n",
        "\n",
        "  ```y = gamma * (x - mean) / sqrt(variance + epsilon) + beta```\n",
        "\n",
        "  Here, x represents the input activations, mean and variance are calculated over the mini-batch, gamma and beta are learnable parameters, and epsilon is a small constant to prevent division by zero."
      ],
      "metadata": {
        "id": "anZcAM9mMXM9"
      }
    },
    {
      "cell_type": "markdown",
      "source": [
        "\n",
        "### nn.BatchNorm1d `(2D input - (batch_size,input_size))`\n",
        "Used for batch normalization in 1D data, such as the activations of a fully connected (dense) layer."
      ],
      "metadata": {
        "id": "MRJkIDusJ7S0"
      }
    },
    {
      "cell_type": "code",
      "source": [
        "import torch\n",
        "import torch.nn as nn\n",
        "\n",
        "# Define the number of features (input dimensions) and create a BatchNorm1d layer.\n",
        "num_features = 64\n",
        "batchnorm_1d = nn.BatchNorm1d(num_features)\n",
        "\n",
        "# Example input data (batch of size 32 with 64 features):\n",
        "input_data = torch.randn(32, num_features)\n",
        "\n",
        "# Apply batch normalization to the input data:\n",
        "batchnorm_1d(input_data)"
      ],
      "metadata": {
        "colab": {
          "base_uri": "https://localhost:8080/"
        },
        "id": "aZ20e8xjKX4y",
        "outputId": "90d2db6e-0ef6-4589-9512-998381fdbb94"
      },
      "execution_count": null,
      "outputs": [
        {
          "output_type": "execute_result",
          "data": {
            "text/plain": [
              "tensor([[ 1.2305,  0.5989, -0.5528,  ...,  0.6291,  1.4753, -0.2184],\n",
              "        [ 0.6403, -2.6451, -1.5178,  ..., -1.3031,  0.5511, -1.3790],\n",
              "        [ 0.2051,  0.9713, -0.6188,  ...,  0.8860,  0.5909, -0.1651],\n",
              "        ...,\n",
              "        [-1.6529, -1.0208, -0.1979,  ...,  1.3638,  0.3388, -0.6120],\n",
              "        [ 0.5572, -1.2322, -1.1751,  ..., -0.3401,  0.3257, -0.1173],\n",
              "        [-1.2538,  1.3720, -0.5862,  ...,  0.8383,  1.2061, -1.0674]],\n",
              "       grad_fn=<NativeBatchNormBackward0>)"
            ]
          },
          "metadata": {},
          "execution_count": 22
        }
      ]
    },
    {
      "cell_type": "markdown",
      "source": [
        "### nn.BatchNorm2d `4D input - (batch_size,channels,height,width)`\n",
        "Used for batch normalization in 2D data, such as the activations of a convolutional layer.\n"
      ],
      "metadata": {
        "id": "djvO2bizKG-3"
      }
    },
    {
      "cell_type": "code",
      "source": [
        "import torch\n",
        "import torch.nn as nn\n",
        "\n",
        "# Define the number of channels and create a BatchNorm2d layer.\n",
        "num_channels = 3\n",
        "batchnorm_2d = nn.BatchNorm2d(num_channels)\n",
        "\n",
        "# Example input data (batch of size 32 with 3 channels, height 64, and width 64):\n",
        "input_data = torch.randn(2, num_channels, 3, 4)\n",
        "\n",
        "# Apply batch normalization to the input data:\n",
        "batchnorm_2d(input_data)"
      ],
      "metadata": {
        "colab": {
          "base_uri": "https://localhost:8080/"
        },
        "id": "pCvdyxtQK_8A",
        "outputId": "0e1f57c9-9a71-45f9-9f96-ad257e8e4cc4"
      },
      "execution_count": null,
      "outputs": [
        {
          "output_type": "execute_result",
          "data": {
            "text/plain": [
              "tensor([[[[ 2.2271, -0.0222, -1.1048, -1.5423],\n",
              "          [ 0.5324, -1.1036, -1.1580,  1.7708],\n",
              "          [ 0.5021, -0.2642, -0.2558, -0.7687]],\n",
              "\n",
              "         [[-0.3683, -1.3339, -0.5941, -0.9039],\n",
              "          [ 1.1946, -1.1223,  1.1209,  0.6150],\n",
              "          [ 0.0998,  1.0257,  1.3652,  0.0709]],\n",
              "\n",
              "         [[ 2.0498, -0.0785, -0.5476, -0.8590],\n",
              "          [ 0.2465, -0.0418, -0.4744,  0.1817],\n",
              "          [ 1.0182, -1.1808, -0.7016,  0.5643]]],\n",
              "\n",
              "\n",
              "        [[[-0.9865,  0.8895,  0.3273,  1.4438],\n",
              "          [ 1.1605, -1.3929,  0.3278, -0.1082],\n",
              "          [-0.6258, -0.5496,  0.6519,  0.0496]],\n",
              "\n",
              "         [[-0.3393, -0.3016, -0.7929, -0.9892],\n",
              "          [ 2.3237,  0.7681, -1.1144, -1.1914],\n",
              "          [-0.9949, -0.5100,  1.0309,  0.9413]],\n",
              "\n",
              "         [[-1.7667,  1.5739, -1.4232,  1.1446],\n",
              "          [ 0.2346, -0.3369, -0.7895,  0.4131],\n",
              "          [-1.7499,  0.7065,  1.1128,  0.7040]]]],\n",
              "       grad_fn=<NativeBatchNormBackward0>)"
            ]
          },
          "metadata": {},
          "execution_count": 24
        }
      ]
    },
    {
      "cell_type": "markdown",
      "source": [
        "### nn.BatchNorm3d `5D input - (batch_size,channels, depth,height,width)`\n",
        "Used for batch normalization in 3D data, such as the activations of a 3D convolutional layer (used in applications like video analysis)."
      ],
      "metadata": {
        "id": "pQzgjTRrKPOR"
      }
    },
    {
      "cell_type": "code",
      "source": [
        "import torch\n",
        "import torch.nn as nn\n",
        "\n",
        "# Define the number of channels and create a BatchNorm3d layer.\n",
        "num_channels = 3\n",
        "batchnorm_3d = nn.BatchNorm3d(num_channels)\n",
        "\n",
        "# Example input data (batch of size 32 with 3 channels, depth 16, height 64, and width 64):\n",
        "input_data = torch.randn(2, num_channels, 2, 2, 3)\n",
        "\n",
        "# Apply batch normalization to the input data:\n",
        "batchnorm_3d(input_data)"
      ],
      "metadata": {
        "colab": {
          "base_uri": "https://localhost:8080/"
        },
        "id": "k3OmNFzRLbNm",
        "outputId": "6f7b64db-8d7d-430a-c33d-e9f26d25080a"
      },
      "execution_count": null,
      "outputs": [
        {
          "output_type": "execute_result",
          "data": {
            "text/plain": [
              "tensor([[[[[-8.5591e-01,  6.3258e-01, -1.2983e+00],\n",
              "           [ 1.8176e+00, -1.0299e-01, -2.0984e+00]],\n",
              "\n",
              "          [[-5.8017e-01, -7.1568e-01, -5.3690e-01],\n",
              "           [-1.9349e-01,  4.2353e-01,  5.0391e-01]]],\n",
              "\n",
              "\n",
              "         [[[-3.1138e-01, -1.5463e+00, -8.1643e-01],\n",
              "           [ 9.5183e-01,  3.7878e-01,  4.2795e-01]],\n",
              "\n",
              "          [[-1.3101e-01,  5.8899e-01,  1.6712e+00],\n",
              "           [ 8.6900e-01,  6.5139e-01, -5.1035e-01]]],\n",
              "\n",
              "\n",
              "         [[[ 4.1660e-01, -8.3965e-01,  5.6777e-01],\n",
              "           [ 5.5129e-01,  2.4266e+00, -1.0323e+00]],\n",
              "\n",
              "          [[ 3.0919e-01, -2.3381e-01, -7.3380e-02],\n",
              "           [-1.1001e+00, -1.2140e+00,  1.4746e+00]]]],\n",
              "\n",
              "\n",
              "\n",
              "        [[[[ 6.8394e-01,  1.4007e+00,  2.3364e-03],\n",
              "           [-7.9252e-01,  4.1357e-01,  3.5573e-01]],\n",
              "\n",
              "          [[ 9.4859e-01, -2.8766e-01,  1.0609e+00],\n",
              "           [ 1.4132e+00, -1.0052e-01, -2.0940e+00]]],\n",
              "\n",
              "\n",
              "         [[[ 2.1676e+00, -6.9114e-01, -1.6109e+00],\n",
              "           [ 1.6727e-01,  1.1043e+00,  6.7458e-01]],\n",
              "\n",
              "          [[-1.8635e+00, -8.8994e-01,  2.5642e-01],\n",
              "           [-9.8499e-01, -4.8622e-01, -6.7147e-02]]],\n",
              "\n",
              "\n",
              "         [[[-6.6494e-01,  6.1007e-01, -7.0555e-01],\n",
              "           [-4.0874e-01,  5.8683e-01, -9.7219e-01]],\n",
              "\n",
              "          [[ 1.0560e+00, -4.9624e-02, -2.6842e-01],\n",
              "           [ 4.6166e-01,  1.2762e+00, -2.1741e+00]]]]],\n",
              "       grad_fn=<NativeBatchNormBackward0>)"
            ]
          },
          "metadata": {},
          "execution_count": 26
        }
      ]
    },
    {
      "cell_type": "markdown",
      "source": [
        "## RNN, LSTM, GRU\n",
        "`inputs and outputs for all these three layer types are same`"
      ],
      "metadata": {
        "id": "mYpttMz6V0EO"
      }
    },
    {
      "cell_type": "markdown",
      "source": [
        "### Input\n",
        "`input is 3D tensor with dimensions [sequence_length, batch_size, input_size]`\n",
        "* **Sequence Length:** Maximum sequence length in the batch .i.e. number of words in sentence\n",
        "* **Batch size:** Number of sequences in a mini-batch.i.e. number of sentences in a batch\n",
        "* **input_size:** Dimension of the feature vector at each time step .i.e. length of word_embedding"
      ],
      "metadata": {
        "id": "IAdXu9rpXTWv"
      }
    },
    {
      "cell_type": "code",
      "source": [
        "sequence_length=2\n",
        "batch_size=1\n",
        "input_size=3\n",
        "input=torch.randn(2,1,3)\n",
        "input"
      ],
      "metadata": {
        "colab": {
          "base_uri": "https://localhost:8080/"
        },
        "id": "ua73Ads9XYws",
        "outputId": "51382644-41ed-4fdb-b69f-c90e1628d695"
      },
      "execution_count": null,
      "outputs": [
        {
          "output_type": "execute_result",
          "data": {
            "text/plain": [
              "tensor([[[ 0.1193, -1.2038, -0.0367]],\n",
              "\n",
              "        [[-1.1602, -0.3931,  1.7910]]])"
            ]
          },
          "metadata": {},
          "execution_count": 27
        }
      ]
    },
    {
      "cell_type": "markdown",
      "source": [
        "### Parameters\n",
        "\n",
        "In the context of these layers in PyTorch, the parameters `input_size`, `hidden_size`, and `num_layers` are essential for configuring the model"
      ],
      "metadata": {
        "id": "Gn6TzWa0XkSY"
      }
    },
    {
      "cell_type": "markdown",
      "source": [
        "Here is detail of these parameters:\n",
        "\n",
        "1. **`input_size`**:\n",
        "   - input_size refers to the `dimensionality of the input features` at each time step or sequence step. In the case of text data, this often corresponds to the dimension of word embeddings. It defines the number of features for each input element within a sequence. For example, if you're processing text data and using 50-dimensional word embeddings for each word, input_size would be 50.\n",
        "\n",
        "2. **`hidden_size`**:\n",
        "   - hidden_size represents the number of hidden units or neurons in the layer. It is same as `output_size` in `nn.Linear` and determines output inner most dim length . These hidden units capture and store information from previous time steps in the sequence. The hidden size defines the internal state of the layer. You can think of it as the \"memory\" or capacity of the model to remember and utilize past information. A larger hidden_size allows the model to capture more complex dependencies in the data but also increases the model's complexity.\n",
        "\n",
        "3. **`num_layers`**:\n",
        "   - num_layers specifies the `number of layers in the model`. A single-layer model(num_layers=1) captures sequential dependencies within the input data. If you use multiple layers (num_layers > 1), the model becomes a deep layered network, and each layer feeds into the next. Deep models can capture more complex hierarchical patterns in the data. For example, with num_layers=2, you have a two-layer LSTM where the output of the first layer serves as the input to the second layer."
      ],
      "metadata": {
        "id": "HOJ-EgKUf1E5"
      }
    },
    {
      "cell_type": "code",
      "source": [
        "import torch\n",
        "import torch.nn as nn\n",
        "\n",
        "input_size = input.shape[2]  # Dimension of input features\n",
        "hidden_size = 5  # Number of hidden units in the LSTM\n",
        "num_layers = 2  # Number of LSTM layers\n",
        "\n",
        "# Create an LSTM layer\n",
        "lstm_layer = nn.LSTM(input_size, hidden_size, num_layers)\n",
        "rnn_layer=nn.RNN(input_size,hidden_size,num_layers)\n",
        "gru_layer=nn.GRU(input_size,hidden_size,num_layers)\n",
        "lstm_layer,rnn_layer,gru_layer"
      ],
      "metadata": {
        "colab": {
          "base_uri": "https://localhost:8080/"
        },
        "id": "gBZ99wQoX5WM",
        "outputId": "08921906-f263-46d4-8511-f23f8f9bb962"
      },
      "execution_count": null,
      "outputs": [
        {
          "output_type": "execute_result",
          "data": {
            "text/plain": [
              "(LSTM(3, 5, num_layers=2), RNN(3, 5, num_layers=2), GRU(3, 5, num_layers=2))"
            ]
          },
          "metadata": {},
          "execution_count": 41
        }
      ]
    },
    {
      "cell_type": "markdown",
      "source": [
        "In this example, each layer has 2-layers (num_layers=2), where the input features are 50-dimensional, and each layer has 100 hidden units."
      ],
      "metadata": {
        "id": "oqF95f7rYGxo"
      }
    },
    {
      "cell_type": "markdown",
      "source": [
        "### Output\n",
        "`output_from_layer=output, (hidden_state, cell_state)`"
      ],
      "metadata": {
        "id": "vhVjrVtKZ1tM"
      }
    },
    {
      "cell_type": "code",
      "source": [
        "output, (hidden_state, cell_state) = lstm_layer(input)"
      ],
      "metadata": {
        "id": "i7akYx5HYd0y"
      },
      "execution_count": null,
      "outputs": []
    },
    {
      "cell_type": "code",
      "source": [
        "print(\"Input: \",input)\n",
        "print()\n",
        "print()\n",
        "print(\"Output: \",output)\n",
        "print(\"Input shape: \",input.shape) # [sequence_length, batch_size, feature_size]\n",
        "print(\"Output shape: \",output.shape) # [sequence_length, batch_size, hidden_size]\n",
        "print()\n",
        "print()\n",
        "print(\"Hidden state: \",hidden_state)\n",
        "print(\"Hidden state shape: \",hidden_state.shape) # [num_layers, batch_size, hidden_size]\n",
        "print()\n",
        "print()\n",
        "print(\"Cell State: \",cell_state)\n",
        "print(\"Cell state shape: \",cell_state.shape) # [num_layers, batch_size, hidden_size]"
      ],
      "metadata": {
        "colab": {
          "base_uri": "https://localhost:8080/"
        },
        "id": "LfBOf7wSa2FM",
        "outputId": "560ad4bc-40c1-4d94-cff8-dd8658cd5f99"
      },
      "execution_count": null,
      "outputs": [
        {
          "output_type": "stream",
          "name": "stdout",
          "text": [
            "Input:  tensor([[[ 0.1193, -1.2038, -0.0367]],\n",
            "\n",
            "        [[-1.1602, -0.3931,  1.7910]]])\n",
            "\n",
            "\n",
            "Output:  tensor([[[-0.1005,  0.0319,  0.0785,  0.0018, -0.0938]],\n",
            "\n",
            "        [[-0.1708,  0.0512,  0.1287,  0.0333, -0.1000]]],\n",
            "       grad_fn=<MkldnnRnnLayerBackward0>)\n",
            "Input shape:  torch.Size([2, 1, 3])\n",
            "Output shape:  torch.Size([2, 1, 5])\n",
            "\n",
            "\n",
            "Hidden state:  tensor([[[ 0.0650, -0.0339,  0.1692,  0.1725,  0.1933]],\n",
            "\n",
            "        [[-0.1708,  0.0512,  0.1287,  0.0333, -0.1000]]],\n",
            "       grad_fn=<StackBackward0>)\n",
            "Hidden state shape:  torch.Size([2, 1, 5])\n",
            "\n",
            "\n",
            "Cell State:  tensor([[[ 0.1453, -0.0711,  0.2852,  0.4222,  0.3854]],\n",
            "\n",
            "        [[-0.2723,  0.0918,  0.2381,  0.0608, -0.1883]]],\n",
            "       grad_fn=<StackBackward0>)\n",
            "Cell state shape:  torch.Size([2, 1, 5])\n"
          ]
        }
      ]
    },
    {
      "cell_type": "markdown",
      "source": [
        "#### **Hidden and cell state in detail:**\n",
        "\n",
        "1. **Hidden State (h_t)**:\n",
        "   - The hidden state, h_t, is influenced by the input at the current time step and the previous hidden state (h_{t-1}).\n",
        "   - It can be thought of as capturing the immediate information relevant for the current prediction or output.\n",
        "   - The hidden state is designed to capture short-term dependencies and immediate patterns within the sequence.\n",
        "\n",
        "2. **Cell State (c_t)**:\n",
        "   - The cell state, c_t, is an internal state that stores and manages information over extended sequences.\n",
        "   - It captures and stores information from multiple time steps, making it suitable for modeling long-range dependencies.\n",
        "   - The cell state's primary role is to manage memory and maintain information over the course of the sequence.\n",
        "\n",
        "So, while the hidden state is focused on immediate and short-term information, the cell state acts as a long-term memory that can capture and retain patterns, dependencies, and information over a range of previous time steps. Both the hidden state and cell state are integral to the LSTM's ability to model sequences effectively, with the hidden state serving as the primary output and the cell state managing long-term context."
      ],
      "metadata": {
        "id": "g53ObwpjadMh"
      }
    },
    {
      "cell_type": "code",
      "source": [
        "print(\"RNN layer outputs (output,(hidden_state,cell_state): \")\n",
        "rnn_layer(input)"
      ],
      "metadata": {
        "colab": {
          "base_uri": "https://localhost:8080/"
        },
        "id": "MVMe8byTa3ES",
        "outputId": "831eb3a0-08bc-48bb-b2e9-f491aac1d04e"
      },
      "execution_count": null,
      "outputs": [
        {
          "output_type": "stream",
          "name": "stdout",
          "text": [
            "RNN layer outputs (output,(hidden_state,cell_state): \n"
          ]
        },
        {
          "output_type": "execute_result",
          "data": {
            "text/plain": [
              "(tensor([[[ 0.1095,  0.6302, -0.6164,  0.1935, -0.4423]],\n",
              " \n",
              "         [[-0.2320,  0.0042, -0.7919,  0.1719,  0.1665]]],\n",
              "        grad_fn=<StackBackward0>),\n",
              " tensor([[[-0.3664, -0.7513, -0.4125, -0.7215,  0.6792]],\n",
              " \n",
              "         [[-0.2320,  0.0042, -0.7919,  0.1719,  0.1665]]],\n",
              "        grad_fn=<StackBackward0>))"
            ]
          },
          "metadata": {},
          "execution_count": 47
        }
      ]
    },
    {
      "cell_type": "code",
      "source": [
        "print(\"GRU layer outputs (output,(hidden_state,cell_state): \")\n",
        "gru_layer(input)"
      ],
      "metadata": {
        "colab": {
          "base_uri": "https://localhost:8080/"
        },
        "id": "Cnj6MGAOdxvw",
        "outputId": "ad1a1160-bf61-438e-d045-853f93bea3e9"
      },
      "execution_count": null,
      "outputs": [
        {
          "output_type": "stream",
          "name": "stdout",
          "text": [
            "RNN layer outputs (output,(hidden_state,cell_state): \n"
          ]
        },
        {
          "output_type": "execute_result",
          "data": {
            "text/plain": [
              "(tensor([[[-0.0363,  0.1769, -0.2116, -0.1647,  0.1480]],\n",
              " \n",
              "         [[-0.0461,  0.2273, -0.3436, -0.3138,  0.2479]]],\n",
              "        grad_fn=<StackBackward0>),\n",
              " tensor([[[ 0.4212,  0.4078, -0.0286, -0.0954,  0.1934]],\n",
              " \n",
              "         [[-0.0461,  0.2273, -0.3436, -0.3138,  0.2479]]],\n",
              "        grad_fn=<StackBackward0>))"
            ]
          },
          "metadata": {},
          "execution_count": 46
        }
      ]
    },
    {
      "cell_type": "markdown",
      "source": [
        "## Transformer\n",
        "\n",
        "\n",
        "`nn.Transformer` is a PyTorch module that implements the core components of the Transformer architecture, which is widely used in natural language processing tasks. See video on this link for deep understanding of transformers https://youtu.be/SZorAJ4I-sA?feature=shared"
      ],
      "metadata": {
        "id": "LMxaZ_ktyhA-"
      }
    },
    {
      "cell_type": "markdown",
      "source": [
        "### Initialization\n",
        "   - When you create an instance of `nn.Transformer`, you need to specify the dimensions of the model.\n",
        "   - Typically, you provide the following arguments:\n",
        "     - `d_model`: The dimension of the input and output feature vectors (commonly referred to as the hidden size).\n",
        "     - `nhead`: The number of attention heads in the multi-head self-attention mechanism.\n",
        "     - `num_encoder_layers`: The number of encoder layers in the Transformer.\n",
        "     - `num_decoder_layers`: The number of decoder layers in the Transformer (used for sequence-to-sequence tasks).\n",
        "     - `dim_feedforward`: The dimension of the feedforward neural network inside each layer."
      ],
      "metadata": {
        "id": "n-KnEEWN5FHC"
      }
    },
    {
      "cell_type": "code",
      "source": [
        "import torch\n",
        "import torch.nn as nn\n",
        "\n",
        "d_model = 4  # Hidden size\n",
        "nhead = 2      # Number of attention heads\n",
        "num_layers = 2  # Number of layers\n",
        "\n",
        "# Create a Transformer model\n",
        "transformer = nn.Transformer(d_model, nhead, num_layers)\n",
        "transformer"
      ],
      "metadata": {
        "colab": {
          "base_uri": "https://localhost:8080/"
        },
        "id": "ZaOO-dEv5eBh",
        "outputId": "c19f0eae-966c-45f0-c7fe-15c681fbbee8"
      },
      "execution_count": null,
      "outputs": [
        {
          "output_type": "stream",
          "name": "stderr",
          "text": [
            "/usr/local/lib/python3.10/dist-packages/torch/nn/modules/transformer.py:282: UserWarning: enable_nested_tensor is True, but self.use_nested_tensor is False because encoder_layer.self_attn.batch_first was not True(use batch_first for better inference performance)\n",
            "  warnings.warn(f\"enable_nested_tensor is True, but self.use_nested_tensor is False because {why_not_sparsity_fast_path}\")\n"
          ]
        },
        {
          "output_type": "execute_result",
          "data": {
            "text/plain": [
              "Transformer(\n",
              "  (encoder): TransformerEncoder(\n",
              "    (layers): ModuleList(\n",
              "      (0-1): 2 x TransformerEncoderLayer(\n",
              "        (self_attn): MultiheadAttention(\n",
              "          (out_proj): NonDynamicallyQuantizableLinear(in_features=4, out_features=4, bias=True)\n",
              "        )\n",
              "        (linear1): Linear(in_features=4, out_features=2048, bias=True)\n",
              "        (dropout): Dropout(p=0.1, inplace=False)\n",
              "        (linear2): Linear(in_features=2048, out_features=4, bias=True)\n",
              "        (norm1): LayerNorm((4,), eps=1e-05, elementwise_affine=True)\n",
              "        (norm2): LayerNorm((4,), eps=1e-05, elementwise_affine=True)\n",
              "        (dropout1): Dropout(p=0.1, inplace=False)\n",
              "        (dropout2): Dropout(p=0.1, inplace=False)\n",
              "      )\n",
              "    )\n",
              "    (norm): LayerNorm((4,), eps=1e-05, elementwise_affine=True)\n",
              "  )\n",
              "  (decoder): TransformerDecoder(\n",
              "    (layers): ModuleList(\n",
              "      (0-5): 6 x TransformerDecoderLayer(\n",
              "        (self_attn): MultiheadAttention(\n",
              "          (out_proj): NonDynamicallyQuantizableLinear(in_features=4, out_features=4, bias=True)\n",
              "        )\n",
              "        (multihead_attn): MultiheadAttention(\n",
              "          (out_proj): NonDynamicallyQuantizableLinear(in_features=4, out_features=4, bias=True)\n",
              "        )\n",
              "        (linear1): Linear(in_features=4, out_features=2048, bias=True)\n",
              "        (dropout): Dropout(p=0.1, inplace=False)\n",
              "        (linear2): Linear(in_features=2048, out_features=4, bias=True)\n",
              "        (norm1): LayerNorm((4,), eps=1e-05, elementwise_affine=True)\n",
              "        (norm2): LayerNorm((4,), eps=1e-05, elementwise_affine=True)\n",
              "        (norm3): LayerNorm((4,), eps=1e-05, elementwise_affine=True)\n",
              "        (dropout1): Dropout(p=0.1, inplace=False)\n",
              "        (dropout2): Dropout(p=0.1, inplace=False)\n",
              "        (dropout3): Dropout(p=0.1, inplace=False)\n",
              "      )\n",
              "    )\n",
              "    (norm): LayerNorm((4,), eps=1e-05, elementwise_affine=True)\n",
              "  )\n",
              ")"
            ]
          },
          "metadata": {},
          "execution_count": 1
        }
      ]
    },
    {
      "cell_type": "markdown",
      "source": [
        "### Input\n",
        "\n",
        "The input to nn.Transformer is expected to be in the form of tensors with dimensions `[sequence_length, batch_size, d_model]`. These tensors represent sequences, where each element has a dimension of d_model."
      ],
      "metadata": {
        "id": "TkHTTq4A5oYm"
      }
    },
    {
      "cell_type": "code",
      "source": [
        "# Example input data\n",
        "sequence_length = 2\n",
        "batch_size = 2\n",
        "input_data = torch.randn(sequence_length, batch_size, d_model)\n",
        "input_data[0,:,:],input_data,input_data.shape"
      ],
      "metadata": {
        "colab": {
          "base_uri": "https://localhost:8080/"
        },
        "id": "erGxmUzB55rc",
        "outputId": "c243e213-9e7f-4424-d249-5b9fdaf9333a"
      },
      "execution_count": null,
      "outputs": [
        {
          "output_type": "execute_result",
          "data": {
            "text/plain": [
              "(tensor([[ 0.7465, -0.0621, -0.5430,  1.5333],\n",
              "         [ 0.0638,  0.0911, -0.0814,  1.3126]]),\n",
              " tensor([[[ 0.7465, -0.0621, -0.5430,  1.5333],\n",
              "          [ 0.0638,  0.0911, -0.0814,  1.3126]],\n",
              " \n",
              "         [[-1.0802, -2.3244, -0.0794,  0.2027],\n",
              "          [-0.5772,  1.4485,  0.0437,  0.6017]]]),\n",
              " torch.Size([2, 2, 4]))"
            ]
          },
          "metadata": {},
          "execution_count": 9
        }
      ]
    },
    {
      "cell_type": "markdown",
      "source": [
        "### Output"
      ],
      "metadata": {
        "id": "ENjQuKUP57CW"
      }
    },
    {
      "cell_type": "markdown",
      "source": [
        "During training, both source and target sequences are passed\n",
        "```python\n",
        "output = transformer(source_sequence, target_sequence)\n",
        "```\n",
        "The model uses the source sequence and the target sequence (with \"start\" tokens) to predict the next token in the target sequence. In this way, it learns to generate the target sequence from the source sequence. For actual sequence-to-sequence tasks, you would provide different source and target sequences.However during inference, you typically use the model to generate the target sequence from a given source sequence so both source_sequence and target_sequence are set equal to input_data as done in the following example too."
      ],
      "metadata": {
        "id": "-KT-CpL5-5as"
      }
    },
    {
      "cell_type": "code",
      "source": [
        "output = transformer(input_data,input_data)\n",
        "output,output.shape"
      ],
      "metadata": {
        "colab": {
          "base_uri": "https://localhost:8080/"
        },
        "id": "PjxxXL0E58Po",
        "outputId": "d248e180-ad8c-4c8a-8843-7daa1ff6cc21"
      },
      "execution_count": null,
      "outputs": [
        {
          "output_type": "execute_result",
          "data": {
            "text/plain": [
              "(tensor([[[-0.7786,  0.2235,  1.5404, -0.9853],\n",
              "          [ 1.0581, -1.4349, -0.4241,  0.8009]],\n",
              " \n",
              "         [[-1.2087, -0.4659,  1.5154,  0.1592],\n",
              "          [ 0.9782, -1.3454, -0.5798,  0.9470]]],\n",
              "        grad_fn=<NativeLayerNormBackward0>),\n",
              " torch.Size([2, 2, 4]))"
            ]
          },
          "metadata": {},
          "execution_count": 12
        }
      ]
    },
    {
      "cell_type": "markdown",
      "source": [
        "The output is a tensor with dimensions `[sequence_length, batch_size, d_model]`, providing updated representations of the input sequence."
      ],
      "metadata": {
        "id": "MDm_58cA_tdU"
      }
    },
    {
      "cell_type": "markdown",
      "source": [
        "partial derivative purpose\n",
        "why invented\n",
        "why needed inn deep learning\n",
        "formula understanding, its derivationn\n",
        "mathematical examples\n",
        "how is pytorch implementing it -- what is annd how autograd doinng backward and forward -- follow alonng with manual calculations\n",
        "\n"
      ],
      "metadata": {
        "id": "dJmKc9dAkg-b"
      }
    }
  ]
}