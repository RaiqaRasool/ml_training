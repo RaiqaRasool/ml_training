{
  "nbformat": 4,
  "nbformat_minor": 0,
  "metadata": {
    "colab": {
      "provenance": [],
      "authorship_tag": "ABX9TyMBr9Fho/opHbhmpyARqTFN",
      "include_colab_link": true
    },
    "kernelspec": {
      "name": "python3",
      "display_name": "Python 3"
    },
    "language_info": {
      "name": "python"
    }
  },
  "cells": [
    {
      "cell_type": "markdown",
      "metadata": {
        "id": "view-in-github",
        "colab_type": "text"
      },
      "source": [
        "<a href=\"https://colab.research.google.com/github/RaiqaRasool/ml_training/blob/main/6_Activation_Functions.ipynb\" target=\"_parent\"><img src=\"https://colab.research.google.com/assets/colab-badge.svg\" alt=\"Open In Colab\"/></a>"
      ]
    },
    {
      "cell_type": "markdown",
      "source": [
        "# Activation Functions\n",
        "* **Learning Resource:**[Fundamentals of Deep Learning – Activation Functions and When to Use Them?](https://www.analyticsvidhya.com/blog/2020/01/fundamentals-deep-learning-activation-functions-when-to-use-them/)\n",
        "\n",
        "Activation functions discussed:\n",
        "1. Step function\n",
        "2. Sigmoid\n",
        "3. Tanh\n",
        "4. ReLU\n",
        "5. Softmax"
      ],
      "metadata": {
        "id": "9ZX-oBbVEXQP"
      }
    },
    {
      "cell_type": "markdown",
      "source": [
        "## Step Function"
      ],
      "metadata": {
        "id": "b0SVjVuYX4Bw"
      }
    },
    {
      "cell_type": "code",
      "source": [
        "import numpy as np\n",
        "def step_function(x):\n",
        "  return np.where(x<0,0,1)"
      ],
      "metadata": {
        "id": "IIjNKxdnJzsF"
      },
      "execution_count": null,
      "outputs": []
    },
    {
      "cell_type": "markdown",
      "source": [
        "### Scalar"
      ],
      "metadata": {
        "id": "W2UHUeNTX8sX"
      }
    },
    {
      "cell_type": "code",
      "source": [
        "input=torch.tensor(-1)\n",
        "output=step_function(input)\n",
        "output"
      ],
      "metadata": {
        "colab": {
          "base_uri": "https://localhost:8080/"
        },
        "id": "bSBmys7RYAT5",
        "outputId": "3fd646d4-e16c-4713-9569-fd9bbec47947"
      },
      "execution_count": null,
      "outputs": [
        {
          "output_type": "execute_result",
          "data": {
            "text/plain": [
              "array(0)"
            ]
          },
          "metadata": {},
          "execution_count": 73
        }
      ]
    },
    {
      "cell_type": "markdown",
      "source": [
        "### Vector"
      ],
      "metadata": {
        "id": "HbwSpDKFYPCV"
      }
    },
    {
      "cell_type": "code",
      "source": [
        "input=torch.randn(2)\n",
        "output=step_function(input)\n",
        "input,output"
      ],
      "metadata": {
        "colab": {
          "base_uri": "https://localhost:8080/"
        },
        "id": "sk244T7CYRCN",
        "outputId": "d2ffead7-1945-437f-f0d8-fb6b851199a4"
      },
      "execution_count": null,
      "outputs": [
        {
          "output_type": "execute_result",
          "data": {
            "text/plain": [
              "(tensor([-0.0344, -0.3003]), array([0, 0]))"
            ]
          },
          "metadata": {},
          "execution_count": 74
        }
      ]
    },
    {
      "cell_type": "markdown",
      "source": [
        "### Tensor"
      ],
      "metadata": {
        "id": "qn6fwih-X7Tz"
      }
    },
    {
      "cell_type": "code",
      "source": [
        "input=np.random.randn(3,3,4,5)\n",
        "output=step_function(input)\n",
        "input,output,output.shape"
      ],
      "metadata": {
        "colab": {
          "base_uri": "https://localhost:8080/"
        },
        "id": "CXH3V07pV8m0",
        "outputId": "fa5e235e-5748-492e-e933-a176e7b52fb6"
      },
      "execution_count": null,
      "outputs": [
        {
          "output_type": "execute_result",
          "data": {
            "text/plain": [
              "(array([[[[-2.13297234e-01,  8.45299540e-01,  1.49742115e+00,\n",
              "           -1.53891842e+00,  6.22779806e-01],\n",
              "          [ 8.11517085e-01, -1.28093489e+00, -8.50164337e-01,\n",
              "            4.41293483e-01,  8.05472227e-01],\n",
              "          [-7.87201727e-01,  3.74847559e-01, -4.36181978e-01,\n",
              "           -5.69505621e-01,  4.27891432e-02],\n",
              "          [-4.74572711e-01,  1.93140562e+00, -1.17311182e+00,\n",
              "            1.12009862e+00,  1.91292300e+00]],\n",
              " \n",
              "         [[ 1.25219583e+00, -3.24540430e-01, -5.84981798e-01,\n",
              "            1.44169889e-03,  1.38996262e+00],\n",
              "          [ 6.10201474e-01,  1.11650932e+00,  3.85295510e-01,\n",
              "            6.79707357e-01, -5.20135618e-01],\n",
              "          [-4.34282383e-01, -5.23943164e-01, -1.48347625e+00,\n",
              "            1.24996181e+00,  3.69716433e-01],\n",
              "          [-5.92047877e-01, -6.80181921e-02, -5.32708253e-01,\n",
              "            3.85874368e-01,  1.83697945e-01]],\n",
              " \n",
              "         [[-1.14885952e+00, -1.24971113e+00,  9.31027475e-01,\n",
              "            1.31227864e+00, -4.80637257e-01],\n",
              "          [-7.41140778e-01, -5.58539014e-01, -1.22194814e+00,\n",
              "           -1.44519017e+00, -9.06808993e-01],\n",
              "          [-4.82770891e-01,  4.84786493e-02, -3.01023511e+00,\n",
              "            3.99964299e-01,  1.67765121e-01],\n",
              "          [-7.15623787e-01, -1.06030090e+00, -6.29672830e-01,\n",
              "           -1.11116820e+00, -5.18056144e-01]]],\n",
              " \n",
              " \n",
              "        [[[ 1.57120863e+00, -3.23342393e-01, -3.78192241e-01,\n",
              "            2.23458413e+00,  1.97388266e+00],\n",
              "          [ 3.24232007e-01, -1.59719463e+00, -6.75594511e-02,\n",
              "           -4.22865151e-01, -9.91384871e-01],\n",
              "          [ 1.21776207e+00,  2.40504612e-01,  2.43812950e-01,\n",
              "           -4.23971659e-01,  5.53244975e-01],\n",
              "          [-2.30624785e-01, -2.10371570e+00, -3.70620366e-01,\n",
              "            2.58524850e-01,  1.37425697e+00]],\n",
              " \n",
              "         [[-7.78892608e-02,  6.32478131e-01, -1.01104268e+00,\n",
              "            1.15545740e+00,  1.01700626e+00],\n",
              "          [-3.74510942e-01, -3.72982706e-02, -7.22417471e-03,\n",
              "            1.94124563e-01,  2.78834825e-01],\n",
              "          [ 1.63079593e-02, -9.30719661e-02,  5.90671783e-01,\n",
              "           -1.96618337e+00, -1.33419837e+00],\n",
              "          [ 1.58697159e+00, -2.92179610e-01, -1.73357481e-01,\n",
              "           -9.50413058e-01, -1.90507947e-01]],\n",
              " \n",
              "         [[-3.72149684e+00,  1.83431920e+00, -1.81491834e+00,\n",
              "           -3.84909583e-03, -2.35680878e-02],\n",
              "          [ 7.76746620e-01, -6.58221460e-01, -3.01102242e-01,\n",
              "           -1.31974417e+00, -6.23847988e-01],\n",
              "          [ 2.30882571e-01,  2.40664521e-01,  2.43869803e+00,\n",
              "           -4.82594118e-01, -1.00786636e+00],\n",
              "          [ 2.92492015e-01, -6.40015590e-01,  2.30572142e-01,\n",
              "            1.59310361e+00, -8.06205111e-01]]],\n",
              " \n",
              " \n",
              "        [[[ 8.11516498e-01,  2.20196089e-02,  8.43084772e-01,\n",
              "            1.09541570e+00,  1.77678365e+00],\n",
              "          [ 2.00923071e-01,  1.17462245e+00, -1.97688453e+00,\n",
              "            2.47549902e-01, -5.45653449e-01],\n",
              "          [ 1.87098994e+00,  1.41813055e+00,  2.07816514e-01,\n",
              "            7.21541916e-01, -1.04618589e+00],\n",
              "          [-8.10692938e-01, -3.29862279e-02,  1.02080831e+00,\n",
              "            1.12923633e+00,  1.80948410e-01]],\n",
              " \n",
              "         [[ 1.89047803e+00,  3.21984887e-01,  7.48795101e-01,\n",
              "            2.43318347e+00, -3.42574720e-01],\n",
              "          [ 1.49756543e+00, -1.06808692e-01, -1.31522629e+00,\n",
              "            1.35129897e+00,  5.56003166e-01],\n",
              "          [ 2.59458293e+00,  1.08000205e+00,  2.18331029e+00,\n",
              "           -1.45495548e+00,  2.95915344e-01],\n",
              "          [-1.33376086e-01, -1.17114216e+00, -1.02858067e-01,\n",
              "           -1.02050652e+00,  2.47021154e-01]],\n",
              " \n",
              "         [[-6.97735393e-01,  1.68485806e+00,  9.91351970e-01,\n",
              "           -1.57337857e+00, -6.71106364e-01],\n",
              "          [ 1.09794593e+00,  1.12742102e+00,  1.52271387e+00,\n",
              "            1.22231565e-01,  1.43399024e+00],\n",
              "          [-1.05172936e-01, -1.25276644e+00, -6.82265488e-01,\n",
              "           -8.81694000e-01, -1.49785389e+00],\n",
              "          [ 9.99238898e-01,  2.31949237e-01, -1.16878318e+00,\n",
              "            1.74080734e+00, -1.19519330e-01]]]]),\n",
              " array([[[[0, 1, 1, 0, 1],\n",
              "          [1, 0, 0, 1, 1],\n",
              "          [0, 1, 0, 0, 1],\n",
              "          [0, 1, 0, 1, 1]],\n",
              " \n",
              "         [[1, 0, 0, 1, 1],\n",
              "          [1, 1, 1, 1, 0],\n",
              "          [0, 0, 0, 1, 1],\n",
              "          [0, 0, 0, 1, 1]],\n",
              " \n",
              "         [[0, 0, 1, 1, 0],\n",
              "          [0, 0, 0, 0, 0],\n",
              "          [0, 1, 0, 1, 1],\n",
              "          [0, 0, 0, 0, 0]]],\n",
              " \n",
              " \n",
              "        [[[1, 0, 0, 1, 1],\n",
              "          [1, 0, 0, 0, 0],\n",
              "          [1, 1, 1, 0, 1],\n",
              "          [0, 0, 0, 1, 1]],\n",
              " \n",
              "         [[0, 1, 0, 1, 1],\n",
              "          [0, 0, 0, 1, 1],\n",
              "          [1, 0, 1, 0, 0],\n",
              "          [1, 0, 0, 0, 0]],\n",
              " \n",
              "         [[0, 1, 0, 0, 0],\n",
              "          [1, 0, 0, 0, 0],\n",
              "          [1, 1, 1, 0, 0],\n",
              "          [1, 0, 1, 1, 0]]],\n",
              " \n",
              " \n",
              "        [[[1, 1, 1, 1, 1],\n",
              "          [1, 1, 0, 1, 0],\n",
              "          [1, 1, 1, 1, 0],\n",
              "          [0, 0, 1, 1, 1]],\n",
              " \n",
              "         [[1, 1, 1, 1, 0],\n",
              "          [1, 0, 0, 1, 1],\n",
              "          [1, 1, 1, 0, 1],\n",
              "          [0, 0, 0, 0, 1]],\n",
              " \n",
              "         [[0, 1, 1, 0, 0],\n",
              "          [1, 1, 1, 1, 1],\n",
              "          [0, 0, 0, 0, 0],\n",
              "          [1, 1, 0, 1, 0]]]]),\n",
              " (3, 3, 4, 5))"
            ]
          },
          "metadata": {},
          "execution_count": 76
        }
      ]
    },
    {
      "cell_type": "markdown",
      "source": [
        "## Sigmoid Function\n",
        "`output between 0 to 1`"
      ],
      "metadata": {
        "id": "kEm0Fi8sYoqD"
      }
    },
    {
      "cell_type": "code",
      "source": [
        "import torch\n",
        "import torch.nn as nn\n",
        "\n",
        "class SigmoidLayerModel(nn.Module):\n",
        "  def __init__(self):\n",
        "    super(SigmoidLayerModel,self).__init__()\n",
        "    self.sigmoid=nn.Sigmoid()\n",
        "\n",
        "  def forward(self,x):\n",
        "    return self.sigmoid(x)"
      ],
      "metadata": {
        "id": "Lfcp0OW8Yvm5"
      },
      "execution_count": null,
      "outputs": []
    },
    {
      "cell_type": "code",
      "source": [
        "model=SigmoidLayerModel()"
      ],
      "metadata": {
        "id": "VEO3A1_kZ7xB"
      },
      "execution_count": null,
      "outputs": []
    },
    {
      "cell_type": "markdown",
      "source": [
        "### Scalar"
      ],
      "metadata": {
        "id": "XGTDoRVQbW2o"
      }
    },
    {
      "cell_type": "code",
      "source": [
        "input_data=torch.tensor(-0.8)\n",
        "output=model(input_data)\n",
        "output"
      ],
      "metadata": {
        "colab": {
          "base_uri": "https://localhost:8080/"
        },
        "id": "iNev1pwjbNQc",
        "outputId": "243e41fd-a9a9-44e8-bc75-d17882574623"
      },
      "execution_count": null,
      "outputs": [
        {
          "output_type": "execute_result",
          "data": {
            "text/plain": [
              "tensor(0.3100)"
            ]
          },
          "metadata": {},
          "execution_count": 93
        }
      ]
    },
    {
      "cell_type": "markdown",
      "source": [
        "### Vector"
      ],
      "metadata": {
        "id": "HPhecOOYbkT5"
      }
    },
    {
      "cell_type": "code",
      "source": [
        "input_data=torch.randn(3)\n",
        "output=model(input_data)\n",
        "output"
      ],
      "metadata": {
        "colab": {
          "base_uri": "https://localhost:8080/"
        },
        "id": "jbYBf5VPbmx_",
        "outputId": "19736b00-b886-4405-cb2c-a9a9ba5ab1ae"
      },
      "execution_count": null,
      "outputs": [
        {
          "output_type": "execute_result",
          "data": {
            "text/plain": [
              "tensor([0.2351, 0.5074, 0.2663])"
            ]
          },
          "metadata": {},
          "execution_count": 95
        }
      ]
    },
    {
      "cell_type": "markdown",
      "source": [
        "### Matrix"
      ],
      "metadata": {
        "id": "rZMemOetbZCv"
      }
    },
    {
      "cell_type": "code",
      "source": [
        "input_data=torch.randn(4,4)\n",
        "output=model(input_data)\n",
        "input_data,output"
      ],
      "metadata": {
        "colab": {
          "base_uri": "https://localhost:8080/"
        },
        "id": "zv46SXbYaHPX",
        "outputId": "c9e37621-88c2-406e-a0a4-9d4343474e6d"
      },
      "execution_count": null,
      "outputs": [
        {
          "output_type": "execute_result",
          "data": {
            "text/plain": [
              "(tensor([[ 0.3506, -0.8399,  1.8962,  1.9204],\n",
              "         [ 0.1421, -0.0721, -0.5054, -2.1374],\n",
              "         [-0.2603,  0.7422, -1.0005,  2.0600],\n",
              "         [ 0.1540, -0.4799, -1.1484,  0.8390]]),\n",
              " tensor([[0.5868, 0.3015, 0.8695, 0.8722],\n",
              "         [0.5355, 0.4820, 0.3763, 0.1055],\n",
              "         [0.4353, 0.6775, 0.2688, 0.8870],\n",
              "         [0.5384, 0.3823, 0.2408, 0.6983]]))"
            ]
          },
          "metadata": {},
          "execution_count": 88
        }
      ]
    },
    {
      "cell_type": "markdown",
      "source": [
        "### Tensor"
      ],
      "metadata": {
        "id": "Pu6WezqwbcC8"
      }
    },
    {
      "cell_type": "code",
      "source": [
        "input_data=torch.randn(2,3,2,2)\n",
        "output=model(input_data)\n",
        "output.shape,output"
      ],
      "metadata": {
        "colab": {
          "base_uri": "https://localhost:8080/"
        },
        "id": "8g7zX0_0bCx5",
        "outputId": "515c291f-b257-4d03-b4a7-2109daa86548"
      },
      "execution_count": null,
      "outputs": [
        {
          "output_type": "execute_result",
          "data": {
            "text/plain": [
              "(torch.Size([2, 3, 2, 2]),\n",
              " tensor([[[[0.7227, 0.7755],\n",
              "           [0.5237, 0.8011]],\n",
              " \n",
              "          [[0.8002, 0.8407],\n",
              "           [0.6966, 0.3041]],\n",
              " \n",
              "          [[0.3224, 0.5900],\n",
              "           [0.2798, 0.7505]]],\n",
              " \n",
              " \n",
              "         [[[0.2112, 0.5457],\n",
              "           [0.7609, 0.4307]],\n",
              " \n",
              "          [[0.2455, 0.8455],\n",
              "           [0.1140, 0.4283]],\n",
              " \n",
              "          [[0.5487, 0.8631],\n",
              "           [0.6662, 0.6322]]]]))"
            ]
          },
          "metadata": {},
          "execution_count": 114
        }
      ]
    },
    {
      "cell_type": "markdown",
      "source": [
        "## Tanh Function\n",
        "`output between -1 to 1`"
      ],
      "metadata": {
        "id": "9Ug2Eme4e4Gt"
      }
    },
    {
      "cell_type": "code",
      "source": [
        "class TanhLayerModel(nn.Module):\n",
        "\n",
        "  def __init__(self):\n",
        "    super(TanhLayerModel,self).__init__()\n",
        "    self.tanh=nn.Tanh()\n",
        "\n",
        "  def forward(self,x):\n",
        "    return self.tanh(x)"
      ],
      "metadata": {
        "id": "cPc7GhIce6ww"
      },
      "execution_count": null,
      "outputs": []
    },
    {
      "cell_type": "code",
      "source": [
        "model= TanhLayerModel()"
      ],
      "metadata": {
        "id": "XXzjzW5TfhHs"
      },
      "execution_count": null,
      "outputs": []
    },
    {
      "cell_type": "markdown",
      "source": [
        "### Tensor"
      ],
      "metadata": {
        "id": "EnMrQs-RfvTI"
      }
    },
    {
      "cell_type": "code",
      "source": [
        "model(torch.randn(2,3,2,2))"
      ],
      "metadata": {
        "colab": {
          "base_uri": "https://localhost:8080/"
        },
        "id": "j1uAaHmPfwz0",
        "outputId": "2ea73b53-fd9a-4942-8e31-04e31a8e3c31"
      },
      "execution_count": null,
      "outputs": [
        {
          "output_type": "execute_result",
          "data": {
            "text/plain": [
              "tensor([[[[-0.7677, -0.1839],\n",
              "          [ 0.0665, -0.2444]],\n",
              "\n",
              "         [[-0.7136, -0.0379],\n",
              "          [-0.2928,  0.9034]],\n",
              "\n",
              "         [[-0.5396, -0.9656],\n",
              "          [-0.3856, -0.9937]]],\n",
              "\n",
              "\n",
              "        [[[ 0.8659, -0.5634],\n",
              "          [-0.3280, -0.9861]],\n",
              "\n",
              "         [[-0.5779, -0.0451],\n",
              "          [ 0.8846,  0.8768]],\n",
              "\n",
              "         [[-0.9559, -0.0377],\n",
              "          [ 0.9924,  0.9838]]]])"
            ]
          },
          "metadata": {},
          "execution_count": 109
        }
      ]
    },
    {
      "cell_type": "markdown",
      "source": [
        "## ReLU Function\n",
        "`zero for -ve values and x given positive value x`"
      ],
      "metadata": {
        "id": "lP8NmFQCbx-u"
      }
    },
    {
      "cell_type": "code",
      "source": [
        "import torch\n",
        "import torch.nn as nn\n",
        "\n",
        "class ReLULayerModel(nn.Module):\n",
        "  def __init__(self):\n",
        "    super(ReLULayerModel,self).__init__()\n",
        "    self.relu=nn.ReLU()\n",
        "\n",
        "  def forward(self,x):\n",
        "    return self.relu(x)"
      ],
      "metadata": {
        "id": "ISDYlYWMb7l_"
      },
      "execution_count": null,
      "outputs": []
    },
    {
      "cell_type": "code",
      "source": [
        "model=ReLULayerModel()"
      ],
      "metadata": {
        "id": "zxjPL-I-dlXf"
      },
      "execution_count": null,
      "outputs": []
    },
    {
      "cell_type": "markdown",
      "source": [
        "### Scalar"
      ],
      "metadata": {
        "id": "DE42msPSdboQ"
      }
    },
    {
      "cell_type": "code",
      "source": [
        "model(torch.tensor(9))"
      ],
      "metadata": {
        "colab": {
          "base_uri": "https://localhost:8080/"
        },
        "id": "Z_gHw1pqdsqd",
        "outputId": "f45f41bf-82d3-4fd8-f9bc-6878d5616034"
      },
      "execution_count": null,
      "outputs": [
        {
          "output_type": "execute_result",
          "data": {
            "text/plain": [
              "tensor(9)"
            ]
          },
          "metadata": {},
          "execution_count": 105
        }
      ]
    },
    {
      "cell_type": "markdown",
      "source": [
        "### Tensor"
      ],
      "metadata": {
        "id": "npPTQmNpebCY"
      }
    },
    {
      "cell_type": "code",
      "source": [
        "model(torch.randn(2,3,2,2))"
      ],
      "metadata": {
        "colab": {
          "base_uri": "https://localhost:8080/"
        },
        "id": "erBYFbUkecbm",
        "outputId": "2f43438c-738a-4a08-f515-49a74964b2ee"
      },
      "execution_count": null,
      "outputs": [
        {
          "output_type": "execute_result",
          "data": {
            "text/plain": [
              "tensor([[[[1.9365, 0.0000],\n",
              "          [0.2162, 0.0000]],\n",
              "\n",
              "         [[0.0000, 0.6016],\n",
              "          [0.0000, 1.1288]],\n",
              "\n",
              "         [[0.0000, 0.0000],\n",
              "          [0.8148, 0.0000]]],\n",
              "\n",
              "\n",
              "        [[[0.5097, 0.0000],\n",
              "          [1.0748, 1.1891]],\n",
              "\n",
              "         [[0.8952, 0.2062],\n",
              "          [0.5182, 0.3485]],\n",
              "\n",
              "         [[0.8680, 0.0000],\n",
              "          [0.3097, 0.0000]]]])"
            ]
          },
          "metadata": {},
          "execution_count": 106
        }
      ]
    },
    {
      "cell_type": "markdown",
      "source": [
        "## Softmax Function\n",
        "`input should have float values`\n",
        "\n",
        "`not applied directly to the pixel values of image -- input.shape=(batch_size,num_classes) = 2D input`"
      ],
      "metadata": {
        "id": "s0fUK2jjgj0d"
      }
    },
    {
      "cell_type": "code",
      "source": [
        "import torch\n",
        "import torch.nn as nn\n",
        "\n",
        "class SoftmaxLayerModel(nn.Module):\n",
        "  def __init__(self):\n",
        "    super(SoftmaxLayerModel,self).__init__()\n",
        "    self.softmax_layer = nn.Softmax(dim=1)\n",
        "\n",
        "  def forward(self,x):\n",
        "    return self.softmax_layer(x)"
      ],
      "metadata": {
        "id": "fpxn6CY0gl9T"
      },
      "execution_count": null,
      "outputs": []
    },
    {
      "cell_type": "code",
      "source": [
        "model=SoftmaxLayerModel()"
      ],
      "metadata": {
        "id": "nVSmNVsshXxT"
      },
      "execution_count": null,
      "outputs": []
    },
    {
      "cell_type": "markdown",
      "source": [
        "When working with batched image data, the typical arrangement is that the batch size is the first dimension, and the class probabilities (for each image) are the second dimension. Therefore, you should usually set dim=1 (last dim) when applying softmax to batched image data."
      ],
      "metadata": {
        "id": "lgVNWKHGjL_u"
      }
    },
    {
      "cell_type": "markdown",
      "source": [
        "### Single Data Point"
      ],
      "metadata": {
        "id": "GgaKiQH0mbBa"
      }
    },
    {
      "cell_type": "code",
      "source": [
        "import torch\n",
        "import torch.nn as nn\n",
        "\n",
        "class SoftmaxScalarModel(nn.Module):\n",
        "  def __init__(self):\n",
        "    super(SoftmaxScalarModel,self).__init__()\n",
        "    self.softmax_layer = nn.Softmax(dim=0) #dim set to zero as it is the only one in case of scalar\n",
        "\n",
        "  def forward(self,x):\n",
        "    return self.softmax_layer(x)"
      ],
      "metadata": {
        "id": "-Kjo8uW6n-sA"
      },
      "execution_count": null,
      "outputs": []
    },
    {
      "cell_type": "code",
      "source": [
        "model_scalar=SoftmaxScalarModel()\n",
        "model_scalar(torch.tensor(10.)) # answer will always be one for scalar"
      ],
      "metadata": {
        "colab": {
          "base_uri": "https://localhost:8080/"
        },
        "id": "U_zc1HadoOen",
        "outputId": "3e714a59-c107-4abf-e29f-aeb1febe418c"
      },
      "execution_count": null,
      "outputs": [
        {
          "output_type": "execute_result",
          "data": {
            "text/plain": [
              "tensor(1.)"
            ]
          },
          "metadata": {},
          "execution_count": 133
        }
      ]
    },
    {
      "cell_type": "code",
      "source": [
        "model_scalar(torch.tensor(100.))"
      ],
      "metadata": {
        "colab": {
          "base_uri": "https://localhost:8080/"
        },
        "id": "zIeCI7j-rTLb",
        "outputId": "492e86c7-037e-4874-cb7c-59b8e737106a"
      },
      "execution_count": null,
      "outputs": [
        {
          "output_type": "execute_result",
          "data": {
            "text/plain": [
              "tensor(1.)"
            ]
          },
          "metadata": {},
          "execution_count": 135
        }
      ]
    },
    {
      "cell_type": "markdown",
      "source": [
        "#### Using SoftmaxLayerModel"
      ],
      "metadata": {
        "id": "7ldjPxexrZW9"
      }
    },
    {
      "cell_type": "code",
      "source": [
        "model(torch.randn(1,10))"
      ],
      "metadata": {
        "colab": {
          "base_uri": "https://localhost:8080/"
        },
        "id": "IJlBOzKfmc16",
        "outputId": "64242dd6-6dd9-4616-be32-fdc7b72ff9e6"
      },
      "execution_count": null,
      "outputs": [
        {
          "output_type": "execute_result",
          "data": {
            "text/plain": [
              "tensor([[0.1123, 0.0348, 0.0281, 0.3448, 0.0594, 0.0307, 0.0247, 0.2457, 0.0668,\n",
              "         0.0526]])"
            ]
          },
          "metadata": {},
          "execution_count": 127
        }
      ]
    },
    {
      "cell_type": "markdown",
      "source": [
        "**Note:** In the context of neural networks for multi-class classification, it's common to represent even a single image's class scores as a 2D tensor with shape (1, num_classes) rather than using a scalar value. This consistent representation is used to ensure that the network can handle both single examples and batched examples without having to treat them differently.\n",
        "\n",
        "Using a 2D tensor allows for uniform handling of input data, making it easier to generalize the network architecture and forward pass. Treating a single example as a (1, num_classes) tensor is conceptually simpler and avoids special cases when processing single examples.\n",
        "\n",
        "While it's technically possible to use a scalar as input (i.e., a tensor with shape (1,) or just a single float), it's not the typical practice in multi-class classification with neural networks. Most frameworks, including PyTorch, expect inputs to be tensors with consistent dimensions, making it more practical to represent even single examples as (1, num_classes) tensors."
      ],
      "metadata": {
        "id": "J5yMfI4AmkmX"
      }
    },
    {
      "cell_type": "markdown",
      "source": [
        "### Batch of 5 data points\n"
      ],
      "metadata": {
        "id": "xuxN72hNlU2y"
      }
    },
    {
      "cell_type": "code",
      "source": [
        "model(torch.randn(5,10)) # each row sum in output is 1"
      ],
      "metadata": {
        "colab": {
          "base_uri": "https://localhost:8080/"
        },
        "id": "5lYQHxxGle-5",
        "outputId": "155e3c9f-37cb-421f-bb26-ac51b9c8cb87"
      },
      "execution_count": null,
      "outputs": [
        {
          "output_type": "execute_result",
          "data": {
            "text/plain": [
              "tensor([[0.0574, 0.0931, 0.0401, 0.1473, 0.0054, 0.0387, 0.2657, 0.0488, 0.2298,\n",
              "         0.0737],\n",
              "        [0.0105, 0.2445, 0.2005, 0.1247, 0.1096, 0.0629, 0.0536, 0.0961, 0.0808,\n",
              "         0.0167],\n",
              "        [0.0152, 0.0547, 0.4873, 0.0290, 0.0143, 0.0669, 0.0118, 0.0935, 0.0170,\n",
              "         0.2104],\n",
              "        [0.0450, 0.2133, 0.0324, 0.1698, 0.0764, 0.2187, 0.1282, 0.0846, 0.0168,\n",
              "         0.0148],\n",
              "        [0.0482, 0.0775, 0.0702, 0.2160, 0.0556, 0.0909, 0.2977, 0.0709, 0.0550,\n",
              "         0.0181]])"
            ]
          },
          "metadata": {},
          "execution_count": 126
        }
      ]
    }
  ]
}