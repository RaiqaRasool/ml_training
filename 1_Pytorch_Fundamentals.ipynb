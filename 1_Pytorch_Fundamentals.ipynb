{
  "nbformat": 4,
  "nbformat_minor": 0,
  "metadata": {
    "colab": {
      "provenance": [],
      "gpuType": "T4",
      "mount_file_id": "1Ib4IRKfUmguFc1ZzHNHzyK5HLnfj6NaD",
      "authorship_tag": "ABX9TyNglNVHhzyysLGovuLVkkS8",
      "include_colab_link": true
    },
    "kernelspec": {
      "name": "python3",
      "display_name": "Python 3"
    },
    "language_info": {
      "name": "python"
    },
    "accelerator": "GPU"
  },
  "cells": [
    {
      "cell_type": "markdown",
      "metadata": {
        "id": "view-in-github",
        "colab_type": "text"
      },
      "source": [
        "<a href=\"https://colab.research.google.com/github/RaiqaRasool/ml_training/blob/main/1_Pytorch_Fundamentals.ipynb\" target=\"_parent\"><img src=\"https://colab.research.google.com/assets/colab-badge.svg\" alt=\"Open In Colab\"/></a>"
      ]
    },
    {
      "cell_type": "markdown",
      "source": [
        "# PyTorch Crash Course"
      ],
      "metadata": {
        "id": "MAcpE-kjwVML"
      }
    },
    {
      "cell_type": "markdown",
      "source": [
        "## 1. Tensors\n",
        "\n",
        "Everything in PyTorch is based on Tensor operations. A Tensor is a multi-dimensional matrix containing elements of a single data type:\n"
      ],
      "metadata": {
        "id": "mUT_7ZCPwY9E"
      }
    },
    {
      "cell_type": "code",
      "execution_count": null,
      "metadata": {
        "id": "3mWV8uTgo4Bl",
        "colab": {
          "base_uri": "https://localhost:8080/"
        },
        "outputId": "d5d95b59-0b4b-4654-b361-7b06a7a18c96"
      },
      "outputs": [
        {
          "output_type": "stream",
          "name": "stdout",
          "text": [
            "empty(1): tensor([0.])\n",
            "empty(3): tensor([ 3.3631e-44,  1.3563e-19, -3.8383e+14])\n",
            "empty(2,3): tensor([[4.1288e+29, 3.1116e-41, 4.6171e+29],\n",
            "        [3.1116e-41, 8.9683e-44, 0.0000e+00]])\n",
            "empty(2, 2, 3): tensor([[[ 0.0000e+00,  0.0000e+00,  0.0000e+00],\n",
            "         [ 0.0000e+00,  0.0000e+00,  0.0000e+00]],\n",
            "\n",
            "        [[ 9.1084e-44,  0.0000e+00, -5.8022e+14],\n",
            "         [ 4.3108e-41,  4.1224e+29,  3.1116e-41]]])\n",
            "rand(5,3): tensor([[0.6477, 0.2010, 0.7509],\n",
            "        [0.5010, 0.9053, 0.5927],\n",
            "        [0.8208, 0.4227, 0.9219],\n",
            "        [0.1728, 0.0976, 0.3212],\n",
            "        [0.1968, 0.9312, 0.7002]])\n",
            "zeros(5,3): tensor([[0., 0., 0.],\n",
            "        [0., 0., 0.],\n",
            "        [0., 0., 0.],\n",
            "        [0., 0., 0.],\n",
            "        [0., 0., 0.]])\n"
          ]
        }
      ],
      "source": [
        "import torch\n",
        "\n",
        "# torch.empty(size): uninitiallized\n",
        "x = torch.empty(1) # scalar\n",
        "print(\"empty(1):\", x)\n",
        "x = torch.empty(3) # vector\n",
        "print(\"empty(3):\",x)\n",
        "x = torch.empty(2, 3) # matrix\n",
        "print(\"empty(2,3):\",x)\n",
        "x = torch.empty(2, 2, 3) # tensor, 3 dimensions\n",
        "#x = torch.empty(2,2,2,3) # tensor, 4 dimensions\n",
        "print(\"empty(2, 2, 3):\",x)\n",
        "\n",
        "# torch.rand(size): random numbers [0, 1]\n",
        "x = torch.rand(5, 3)\n",
        "print(\"rand(5,3):\", x)\n",
        "\n",
        "# torch.zeros(size), fill with 0\n",
        "# torch.ones(size), fill with 1\n",
        "x = torch.zeros(5, 3)\n",
        "print(\"zeros(5,3):\", x)"
      ]
    },
    {
      "cell_type": "code",
      "source": [
        "# check size\n",
        "print(\"size\", x.size())  # x.size(0)\n",
        "print(\"shape\", x.shape)  # x.shape[0]"
      ],
      "metadata": {
        "id": "Asq_Sgh7cJnN",
        "colab": {
          "base_uri": "https://localhost:8080/"
        },
        "outputId": "a484d2ac-221c-44e9-cac9-d76c497f31aa"
      },
      "execution_count": null,
      "outputs": [
        {
          "output_type": "stream",
          "name": "stdout",
          "text": [
            "size torch.Size([5, 3])\n",
            "shape torch.Size([5, 3])\n"
          ]
        }
      ]
    },
    {
      "cell_type": "markdown",
      "source": [
        "**.shape** is an alias for **.size()**, and was added to more closely match numpy, see this discussion [here](https://stackoverflow.com/questions/63263292/what-is-the-difference-between-tensor-size-and-tensor-shape-in-pytorch)\n"
      ],
      "metadata": {
        "id": "51ZFmxza9Olj"
      }
    },
    {
      "cell_type": "code",
      "source": [
        "#getting length of first axis\n",
        "print(\"size(0)\", x.size(0))\n",
        "print(\"shape[0]\",x.shape[0])"
      ],
      "metadata": {
        "id": "BrIc_Tqe9lrY",
        "colab": {
          "base_uri": "https://localhost:8080/"
        },
        "outputId": "b79eab97-5201-4ff0-c879-9422a95af78f"
      },
      "execution_count": null,
      "outputs": [
        {
          "output_type": "stream",
          "name": "stdout",
          "text": [
            "size(0) 5\n",
            "shape[0] 5\n"
          ]
        }
      ]
    },
    {
      "cell_type": "code",
      "source": [
        "# check data type\n",
        "print(x.dtype)\n",
        "\n",
        "# specify types, float32 default\n",
        "x = torch.zeros(5, 3, dtype=torch.float16)\n",
        "print(x)\n",
        "\n",
        "# check type\n",
        "print(x.dtype)"
      ],
      "metadata": {
        "id": "DmDNPMrp_zLj",
        "colab": {
          "base_uri": "https://localhost:8080/"
        },
        "outputId": "adf8dd3d-79e5-497e-b98d-aa3fd517cb17"
      },
      "execution_count": null,
      "outputs": [
        {
          "output_type": "stream",
          "name": "stdout",
          "text": [
            "torch.float32\n",
            "tensor([[0., 0., 0.],\n",
            "        [0., 0., 0.],\n",
            "        [0., 0., 0.],\n",
            "        [0., 0., 0.],\n",
            "        [0., 0., 0.]], dtype=torch.float16)\n",
            "torch.float16\n"
          ]
        }
      ]
    },
    {
      "cell_type": "code",
      "source": [
        "# construct from data\n",
        "x = torch.tensor([5.5, 3])\n",
        "print(x, x.dtype)"
      ],
      "metadata": {
        "id": "sj2VAgMM_2Vu",
        "colab": {
          "base_uri": "https://localhost:8080/"
        },
        "outputId": "8acf00f7-baf1-4f05-d95b-07a4acb97014"
      },
      "execution_count": null,
      "outputs": [
        {
          "output_type": "stream",
          "name": "stdout",
          "text": [
            "tensor([5.5000, 3.0000]) torch.float32\n"
          ]
        }
      ]
    },
    {
      "cell_type": "code",
      "source": [
        "# requires_grad argument\n",
        "# This will tell pytorch that it will need to calculate the gradients for this tensor\n",
        "# later in optimization steps\n",
        "# i.e. this is a variable in model that we want to optimize\n",
        "x = torch.tensor([5.5, 3], requires_grad=True)\n",
        "print(x)"
      ],
      "metadata": {
        "id": "uT-3O8wtcMeZ",
        "colab": {
          "base_uri": "https://localhost:8080/"
        },
        "outputId": "ea3ad534-b52b-4b72-8dec-f10ae80f97f0"
      },
      "execution_count": null,
      "outputs": [
        {
          "output_type": "stream",
          "name": "stdout",
          "text": [
            "tensor([5.5000, 3.0000], requires_grad=True)\n"
          ]
        }
      ]
    },
    {
      "cell_type": "markdown",
      "source": [
        "#### Operations with Tensors"
      ],
      "metadata": {
        "id": "_cDRipePEhZ_"
      }
    },
    {
      "cell_type": "code",
      "source": [
        "# Operations\n",
        "x = torch.ones(2, 2)\n",
        "y = torch.rand(2, 2)\n",
        "\n",
        "# elementwise addition\n",
        "z = x + y\n",
        "# torch.add(x,y)\n",
        "\n",
        "# in place addition, everythin with a trailing underscore is an inplace operation\n",
        "# i.e. it will modify the variable\n",
        "# y.add_(x)\n",
        "\n",
        "print(x)\n",
        "print(y)\n",
        "print(z)"
      ],
      "metadata": {
        "id": "3pjK4YL6ES9B",
        "colab": {
          "base_uri": "https://localhost:8080/"
        },
        "outputId": "81a12ecc-108b-4764-9f19-2a204638dc1a"
      },
      "execution_count": null,
      "outputs": [
        {
          "output_type": "stream",
          "name": "stdout",
          "text": [
            "tensor([[1., 1.],\n",
            "        [1., 1.]])\n",
            "tensor([[0.8550, 0.8337],\n",
            "        [0.8552, 0.0211]])\n",
            "tensor([[1.8550, 1.8337],\n",
            "        [1.8552, 1.0211]])\n"
          ]
        }
      ]
    },
    {
      "cell_type": "code",
      "source": [
        "# subtraction\n",
        "z = x - y\n",
        "z = torch.sub(x, y)\n",
        "\n",
        "# multiplication\n",
        "z = x * y\n",
        "z = torch.mul(x,y)\n",
        "\n",
        "# division\n",
        "z = x / y\n",
        "z = torch.div(x,y)"
      ],
      "metadata": {
        "id": "qXEAxoExC2aq"
      },
      "execution_count": null,
      "outputs": []
    },
    {
      "cell_type": "code",
      "source": [
        "# Slicing\n",
        "x = torch.rand(5,3)\n",
        "print(x)\n",
        "print(\"x[:, 0]\", x[:, 0]) # all rows, column 0\n",
        "print(\"x[1, :]\", x[1, :]) # row 1, all columns\n",
        "print(\"x[1, 1]\", x[1,1]) # element at 1, 1\n",
        "\n",
        "# Get the actual value if only 1 element in your tensor\n",
        "print(\"x[1,1].item()\", x[1,1].item())"
      ],
      "metadata": {
        "id": "KPmWwGnIClh_",
        "colab": {
          "base_uri": "https://localhost:8080/"
        },
        "outputId": "da7da119-b1cc-472f-80be-41006060a7bc"
      },
      "execution_count": null,
      "outputs": [
        {
          "output_type": "stream",
          "name": "stdout",
          "text": [
            "tensor([[0.2355, 0.6315, 0.5294],\n",
            "        [0.7079, 0.1320, 0.9746],\n",
            "        [0.4767, 0.1814, 0.3997],\n",
            "        [0.1706, 0.0584, 0.0201],\n",
            "        [0.8826, 0.2055, 0.7359]])\n",
            "x[:, 0] tensor([0.2355, 0.7079, 0.4767, 0.1706, 0.8826])\n",
            "x[1, :] tensor([0.7079, 0.1320, 0.9746])\n",
            "x[1, 1] tensor(0.1320)\n",
            "x[1,1].item() 0.13199615478515625\n"
          ]
        }
      ]
    },
    {
      "cell_type": "markdown",
      "source": [
        "##### **x[0,0] versus x[0:1,0:1]**\n",
        "\n",
        "<u>.item() work for both of them</u>\n",
        "\n",
        "*x[0, 0]:*\n",
        "This expression accesses a single element in the array x. The indices 0, 0 refer to the specific element at the first row and first column.\n",
        "The result is a scalar value, and you're accessing a single element.\n",
        "\n",
        "*x[0:1, 0:1]:*\n",
        "This expression accesses a subarray or submatrix of x, specifically a 1x1 subarray. The notation 0:1 specifies a range of indices from 0 (inclusive) to 1 (exclusive), which effectively selects a single row (the first row) and 0:1 for columns also selects a single column (the first column).\n",
        "The result is a subarray with a shape of (1, 1), and you're accessing a portion of the original array."
      ],
      "metadata": {
        "id": "bdBk85znDg2K"
      }
    },
    {
      "cell_type": "code",
      "source": [
        "print(\"x[0:1,0:1]: \", x[0:1,0:1], \",  x[0:1,0:1].shape: \", x[0:1,0:1].shape, \",  x[0:1,0:1].item(): \", x[0:1,0:1].item() )\n",
        "print(\"x[0,0]: \", x[0,0], \", x[0,0].shape: \", x[0,0].shape, \", x[0,0].item(): \", x[0,0].item())"
      ],
      "metadata": {
        "id": "Dx84dZm3DV_9",
        "colab": {
          "base_uri": "https://localhost:8080/"
        },
        "outputId": "56aace71-7492-4f5b-e8e2-f0ab1fcd5fa2"
      },
      "execution_count": null,
      "outputs": [
        {
          "output_type": "stream",
          "name": "stdout",
          "text": [
            "x[0:1,0:1]:  tensor([[0.2355]]) ,  x[0:1,0:1].shape:  torch.Size([1, 1]) ,  x[0:1,0:1].item():  0.23549479246139526\n",
            "x[0,0]:  tensor(0.2355) , x[0,0].shape:  torch.Size([]) , x[0,0].item():  0.23549479246139526\n"
          ]
        }
      ]
    },
    {
      "cell_type": "markdown",
      "source": [
        "##### **torch.rand() versus torch.randn()**\n",
        "\n",
        "*torch.rand():*\n",
        "* This function generates random numbers from a uniform distribution between 0 (inclusive) and 1 (exclusive).\n",
        "* In a uniform distribution, all values have an equal probability of being sampled. It results in a flat or rectangular-shaped distribution.\n",
        "\n",
        "*torch.randn():*\n",
        "* This function generates random numbers from a standard normal distribution (mean = 0, standard deviation = 1).\n",
        "* In a normal distribution, data around the mean occur more frequently, thus following a bell shaped curve. It's also known as a Gaussian distribution."
      ],
      "metadata": {
        "id": "ETsv9siWHhUI"
      }
    },
    {
      "cell_type": "code",
      "source": [
        "torch.rand(2,2),torch.randn(2,2)"
      ],
      "metadata": {
        "id": "4VL_zrTXIaZb",
        "colab": {
          "base_uri": "https://localhost:8080/"
        },
        "outputId": "b27179c5-87aa-45e3-97a2-8f8d6ac321f5"
      },
      "execution_count": null,
      "outputs": [
        {
          "output_type": "execute_result",
          "data": {
            "text/plain": [
              "(tensor([[0.3450, 0.4698],\n",
              "         [0.8379, 0.1016]]),\n",
              " tensor([[ 0.5095, -2.9783],\n",
              "         [-1.0667,  0.2969]]))"
            ]
          },
          "metadata": {},
          "execution_count": 11
        }
      ]
    },
    {
      "cell_type": "code",
      "source": [
        "# Reshape with torch.view()\n",
        "x = torch.randn(4, 4)\n",
        "y = x.view(16)\n",
        "z = x.view(-1, 8)  # the size -1 is inferred from other dimensions\n",
        "# if -1 it pytorch will automatically determine the necessary size\n",
        "print(x.size(), y.size(), z.size())"
      ],
      "metadata": {
        "id": "f2D2dznXCouO",
        "colab": {
          "base_uri": "https://localhost:8080/"
        },
        "outputId": "62b4aa7c-30d6-4fd8-e95d-dff5d127ca6e"
      },
      "execution_count": null,
      "outputs": [
        {
          "output_type": "stream",
          "name": "stdout",
          "text": [
            "torch.Size([4, 4]) torch.Size([16]) torch.Size([2, 8])\n"
          ]
        }
      ]
    },
    {
      "cell_type": "markdown",
      "source": [
        "#### NumPy\n",
        "\n",
        "Converting a Torch Tensor to a NumPy array and vice versa is very easy"
      ],
      "metadata": {
        "id": "rRbfGqafEu77"
      }
    },
    {
      "cell_type": "code",
      "source": [
        "a = torch.ones(5)\n",
        "print(a)\n",
        "\n",
        "# torch to numpy with .numpy()\n",
        "b = a.numpy()\n",
        "print(b)\n",
        "print(type(b))"
      ],
      "metadata": {
        "id": "JB1OCRrUEyBr",
        "colab": {
          "base_uri": "https://localhost:8080/"
        },
        "outputId": "9950410c-6ec7-415b-af6d-977411f3ce98"
      },
      "execution_count": null,
      "outputs": [
        {
          "output_type": "stream",
          "name": "stdout",
          "text": [
            "tensor([1., 1., 1., 1., 1.])\n",
            "[1. 1. 1. 1. 1.]\n",
            "<class 'numpy.ndarray'>\n"
          ]
        }
      ]
    },
    {
      "cell_type": "code",
      "source": [
        "# Careful: If the Tensor is on the CPU (not the GPU),\n",
        "# both objects will share the same memory location, so changing one\n",
        "# will also change the other\n",
        "a.add_(1)\n",
        "print(a)\n",
        "print(b)"
      ],
      "metadata": {
        "id": "kUzV6XdhdwYJ",
        "colab": {
          "base_uri": "https://localhost:8080/"
        },
        "outputId": "1be5658e-87eb-4dde-f206-0b21f2bb6b7b"
      },
      "execution_count": null,
      "outputs": [
        {
          "output_type": "stream",
          "name": "stdout",
          "text": [
            "tensor([2., 2., 2., 2., 2.])\n",
            "[2. 2. 2. 2. 2.]\n"
          ]
        }
      ]
    },
    {
      "cell_type": "code",
      "source": [
        "# numpy to torch with .from_numpy(x), or torch.tensor() to copy it\n",
        "import numpy as np\n",
        "a = np.ones(5)\n",
        "b = torch.from_numpy(a)\n",
        "c = torch.tensor(a)\n",
        "print(a)\n",
        "print(b)\n",
        "print(c)\n",
        "\n",
        "# again be careful when modifying\n",
        "a += 1\n",
        "print(a)\n",
        "print(b)\n",
        "print(c)"
      ],
      "metadata": {
        "id": "SjHqp4sCeFip",
        "colab": {
          "base_uri": "https://localhost:8080/"
        },
        "outputId": "ccba4291-1814-4003-e145-78afff05edaf"
      },
      "execution_count": null,
      "outputs": [
        {
          "output_type": "stream",
          "name": "stdout",
          "text": [
            "[1. 1. 1. 1. 1.]\n",
            "tensor([1., 1., 1., 1., 1.], dtype=torch.float64)\n",
            "tensor([1., 1., 1., 1., 1.], dtype=torch.float64)\n",
            "[2. 2. 2. 2. 2.]\n",
            "tensor([2., 2., 2., 2., 2.], dtype=torch.float64)\n",
            "tensor([1., 1., 1., 1., 1.], dtype=torch.float64)\n"
          ]
        }
      ]
    },
    {
      "cell_type": "markdown",
      "source": [
        "#### GPU Support\n",
        "\n",
        "By default all tensors are created on the CPU. But we can also move them to the GPU (if it's available ), or create them directly on the GPU."
      ],
      "metadata": {
        "id": "d0JweYJEFKSC"
      }
    },
    {
      "cell_type": "code",
      "source": [
        "torch.cuda.is_available()"
      ],
      "metadata": {
        "colab": {
          "base_uri": "https://localhost:8080/"
        },
        "id": "GtvKkgl3P9iq",
        "outputId": "bc40b317-f371-474a-d946-ff6fba49811e"
      },
      "execution_count": null,
      "outputs": [
        {
          "output_type": "execute_result",
          "data": {
            "text/plain": [
              "True"
            ]
          },
          "metadata": {},
          "execution_count": 16
        }
      ]
    },
    {
      "cell_type": "code",
      "source": [
        "device = torch.device('cuda' if torch.cuda.is_available() else 'cpu')\n",
        "\n",
        "x = torch.rand(2,2).to(device)  # move tensors to GPU device\n",
        "#x = x.to(\"cpu\")\n",
        "#x = x.to(\"cuda\")\n",
        "\n",
        "x = torch.rand(2,2, device=device)  # or directy create them on GPU\n",
        "x"
      ],
      "metadata": {
        "id": "ZKe9RBTzFMRP",
        "colab": {
          "base_uri": "https://localhost:8080/"
        },
        "outputId": "89ee3323-9be3-4d72-e30a-98f57b02d9c4"
      },
      "execution_count": null,
      "outputs": [
        {
          "output_type": "execute_result",
          "data": {
            "text/plain": [
              "tensor([[0.6252, 0.9534],\n",
              "        [0.5378, 0.5673]], device='cuda:0')"
            ]
          },
          "metadata": {},
          "execution_count": 17
        }
      ]
    }
  ]
}