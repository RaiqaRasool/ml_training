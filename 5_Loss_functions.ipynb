{
  "nbformat": 4,
  "nbformat_minor": 0,
  "metadata": {
    "colab": {
      "provenance": [],
      "authorship_tag": "ABX9TyNa/yPIbHVlQUsze73Fwyx4",
      "include_colab_link": true
    },
    "kernelspec": {
      "name": "python3",
      "display_name": "Python 3"
    },
    "language_info": {
      "name": "python"
    }
  },
  "cells": [
    {
      "cell_type": "markdown",
      "metadata": {
        "id": "view-in-github",
        "colab_type": "text"
      },
      "source": [
        "<a href=\"https://colab.research.google.com/github/RaiqaRasool/ml_training/blob/main/5_Loss_functions.ipynb\" target=\"_parent\"><img src=\"https://colab.research.google.com/assets/colab-badge.svg\" alt=\"Open In Colab\"/></a>"
      ]
    },
    {
      "cell_type": "markdown",
      "source": [
        "#Loss Functions\n",
        "\n",
        "* Mean squared error\n",
        "* Mean absolute error\n",
        "* Binary Cross Entropy\n",
        "* Hinge loss\n",
        "* Huber loss\n",
        "* Categorical cross-entropy\n"
      ],
      "metadata": {
        "id": "6NRht7e4jDLw"
      }
    },
    {
      "cell_type": "code",
      "source": [
        "import torch\n",
        "import torch.nn as nn"
      ],
      "metadata": {
        "id": "INsBrnL7lAy0"
      },
      "execution_count": null,
      "outputs": []
    },
    {
      "cell_type": "markdown",
      "source": [
        "## MSE\n",
        "`\n",
        "Always expects input to be of float type not long(int) and both target and prediction shape should be same\n",
        "`"
      ],
      "metadata": {
        "id": "RZGNzSsmlKr_"
      }
    },
    {
      "cell_type": "markdown",
      "source": [
        "### Scalar"
      ],
      "metadata": {
        "id": "vlfpuLbFlUQO"
      }
    },
    {
      "cell_type": "code",
      "source": [
        "# Define target and prediction tensors\n",
        "target = torch.tensor(1.)\n",
        "prediction = torch.tensor(2.)\n",
        "\n",
        "# Create the MSE loss function\n",
        "criterion = nn.MSELoss()\n",
        "\n",
        "# Compute the loss\n",
        "loss = criterion(prediction, target)\n",
        "loss"
      ],
      "metadata": {
        "colab": {
          "base_uri": "https://localhost:8080/"
        },
        "id": "DbhEU4u4lI1u",
        "outputId": "d9b12dfb-6057-4570-85d0-7cdce46e769c"
      },
      "execution_count": null,
      "outputs": [
        {
          "output_type": "execute_result",
          "data": {
            "text/plain": [
              "tensor(1.)"
            ]
          },
          "metadata": {},
          "execution_count": 4
        }
      ]
    },
    {
      "cell_type": "markdown",
      "source": [
        "### Vector\n"
      ],
      "metadata": {
        "id": "E7fvX73inQtq"
      }
    },
    {
      "cell_type": "code",
      "source": [
        "target=torch.randn(3)\n",
        "prediction=torch.randn(3)\n",
        "\n",
        "criterion=nn.MSELoss()\n",
        "loss=criterion(target,prediction)\n",
        "loss"
      ],
      "metadata": {
        "colab": {
          "base_uri": "https://localhost:8080/"
        },
        "id": "y1G1epzFnWLt",
        "outputId": "9fbf376a-c201-4ca1-8451-0dfbe63880a4"
      },
      "execution_count": null,
      "outputs": [
        {
          "output_type": "execute_result",
          "data": {
            "text/plain": [
              "tensor(0.3785)"
            ]
          },
          "metadata": {},
          "execution_count": 10
        }
      ]
    },
    {
      "cell_type": "markdown",
      "source": [
        "### Matrix"
      ],
      "metadata": {
        "id": "WYKeCippl946"
      }
    },
    {
      "cell_type": "code",
      "source": [
        "target=torch.ones(2,2)\n",
        "prediction=torch.zeros(2,2)\n",
        "\n",
        "criterion=nn.MSELoss()\n",
        "\n",
        "loss=criterion(prediction,target)\n",
        "loss"
      ],
      "metadata": {
        "colab": {
          "base_uri": "https://localhost:8080/"
        },
        "id": "T92JjQBMlRAD",
        "outputId": "db7ea0a5-7314-4377-e0ec-55d3a8197eb7"
      },
      "execution_count": null,
      "outputs": [
        {
          "output_type": "execute_result",
          "data": {
            "text/plain": [
              "tensor(1.)"
            ]
          },
          "metadata": {},
          "execution_count": 5
        }
      ]
    },
    {
      "cell_type": "code",
      "source": [
        "target=torch.ones(4,5)\n",
        "prediction=torch.randn(4,5)\n",
        "\n",
        "criterion=nn.MSELoss()\n",
        "loss=criterion(prediction,target)\n",
        "loss,loss.shape"
      ],
      "metadata": {
        "colab": {
          "base_uri": "https://localhost:8080/"
        },
        "id": "kA1kxiaKmMyV",
        "outputId": "db96f6ef-a36d-4bab-bf85-3b6ef16bdcf6"
      },
      "execution_count": null,
      "outputs": [
        {
          "output_type": "execute_result",
          "data": {
            "text/plain": [
              "(tensor(1.9798), torch.Size([]))"
            ]
          },
          "metadata": {},
          "execution_count": 9
        }
      ]
    },
    {
      "cell_type": "markdown",
      "source": [
        "### Tensor"
      ],
      "metadata": {
        "id": "7kiLOU8_nOxR"
      }
    },
    {
      "cell_type": "code",
      "source": [
        "target=torch.ones(3,2,2)\n",
        "prediction=torch.randn(3,2,2)\n",
        "\n",
        "criterion=nn.MSELoss()\n",
        "loss=criterion(prediction,target)\n",
        "loss"
      ],
      "metadata": {
        "colab": {
          "base_uri": "https://localhost:8080/"
        },
        "id": "cG7LWH-Inque",
        "outputId": "fca749c9-af85-49d5-96f8-9e4d3ca93f03"
      },
      "execution_count": null,
      "outputs": [
        {
          "output_type": "execute_result",
          "data": {
            "text/plain": [
              "tensor(1.4896)"
            ]
          },
          "metadata": {},
          "execution_count": 11
        }
      ]
    },
    {
      "cell_type": "markdown",
      "source": [
        "**Observation:** MSELoss output is always scalar irrespective of input shape"
      ],
      "metadata": {
        "id": "Q_teedhvmmA7"
      }
    },
    {
      "cell_type": "markdown",
      "source": [
        "## MAE (L1Loss)\n",
        "\n",
        "`Same as MSE from inputs and output point of view`"
      ],
      "metadata": {
        "id": "ieIzL_E-mcb9"
      }
    },
    {
      "cell_type": "markdown",
      "source": [
        "### Scalar"
      ],
      "metadata": {
        "id": "HAIOnbWzoSly"
      }
    },
    {
      "cell_type": "code",
      "source": [
        "target= torch.tensor(2.)\n",
        "prediction= torch.tensor(3.)\n",
        "\n",
        "criterion=nn.L1Loss()\n",
        "loss=criterion(target,prediction)\n",
        "loss"
      ],
      "metadata": {
        "colab": {
          "base_uri": "https://localhost:8080/"
        },
        "id": "rFchNJ_om_Io",
        "outputId": "128cbe3f-0643-457f-fe8a-bf3e9b7d320d"
      },
      "execution_count": null,
      "outputs": [
        {
          "output_type": "execute_result",
          "data": {
            "text/plain": [
              "tensor(1.)"
            ]
          },
          "metadata": {},
          "execution_count": 17
        }
      ]
    },
    {
      "cell_type": "markdown",
      "source": [
        "### Vector"
      ],
      "metadata": {
        "id": "VQ6WaDg6ovGX"
      }
    },
    {
      "cell_type": "code",
      "source": [
        "target= torch.randn(3)\n",
        "prediction = torch.randn(3)\n",
        "criterion= nn.L1Loss()\n",
        "loss=criterion(target,prediction)\n",
        "loss"
      ],
      "metadata": {
        "colab": {
          "base_uri": "https://localhost:8080/"
        },
        "id": "kyDuTgeEop60",
        "outputId": "6308b4aa-4583-4356-c155-ca18ffff7c0b"
      },
      "execution_count": null,
      "outputs": [
        {
          "output_type": "execute_result",
          "data": {
            "text/plain": [
              "tensor(0.3342)"
            ]
          },
          "metadata": {},
          "execution_count": 18
        }
      ]
    },
    {
      "cell_type": "markdown",
      "source": [
        "### Matrix"
      ],
      "metadata": {
        "id": "GxFDUXMapTBB"
      }
    },
    {
      "cell_type": "code",
      "source": [
        "target=torch.ones(4,5)\n",
        "prediction=torch.randn(4,5)\n",
        "\n",
        "criterion=nn.L1Loss()\n",
        "loss=criterion(prediction,target)\n",
        "loss,loss.shape"
      ],
      "metadata": {
        "colab": {
          "base_uri": "https://localhost:8080/"
        },
        "id": "TZh9H-4kpNHx",
        "outputId": "79783c35-729c-4b55-a7b4-9c68167baaf8"
      },
      "execution_count": null,
      "outputs": [
        {
          "output_type": "execute_result",
          "data": {
            "text/plain": [
              "(tensor(0.9652), torch.Size([]))"
            ]
          },
          "metadata": {},
          "execution_count": 16
        }
      ]
    },
    {
      "cell_type": "markdown",
      "source": [
        "### Tensor"
      ],
      "metadata": {
        "id": "AZxi7revpZOi"
      }
    },
    {
      "cell_type": "code",
      "source": [
        "target=torch.ones(10,3,2,2)\n",
        "prediction=torch.randn(10,3,2,2)\n",
        "\n",
        "criterion=nn.L1Loss()\n",
        "loss=criterion(prediction,target)\n",
        "loss"
      ],
      "metadata": {
        "colab": {
          "base_uri": "https://localhost:8080/"
        },
        "id": "LfiU8bw8pUk5",
        "outputId": "9d51c1b6-30f9-4c28-a8e1-0d78525b2262"
      },
      "execution_count": null,
      "outputs": [
        {
          "output_type": "execute_result",
          "data": {
            "text/plain": [
              "tensor(1.2406)"
            ]
          },
          "metadata": {},
          "execution_count": 44
        }
      ]
    },
    {
      "cell_type": "markdown",
      "source": [
        "## Binary Cross Entropy\n",
        "`\n",
        "All elements of target and prediction should be between 0 and 1\n",
        "`"
      ],
      "metadata": {
        "id": "amoqRmnkpkQY"
      }
    },
    {
      "cell_type": "markdown",
      "source": [
        "### Scalar"
      ],
      "metadata": {
        "id": "OshqPR3wqvya"
      }
    },
    {
      "cell_type": "code",
      "source": [
        "target=torch.tensor(1.) # Binary label (0 to 1)\n",
        "prediction=torch.tensor(0.5) # Predicted probability between 0 and 1\n",
        "criterion=nn.BCELoss()\n",
        "\n",
        "loss = criterion(prediction,target)\n",
        "loss"
      ],
      "metadata": {
        "colab": {
          "base_uri": "https://localhost:8080/"
        },
        "id": "1T9EtOiqqys1",
        "outputId": "988bad82-128e-4fc4-bd9d-571c4793aac7"
      },
      "execution_count": null,
      "outputs": [
        {
          "output_type": "execute_result",
          "data": {
            "text/plain": [
              "tensor(0.6931)"
            ]
          },
          "metadata": {},
          "execution_count": 23
        }
      ]
    },
    {
      "cell_type": "markdown",
      "source": [
        "### Vector"
      ],
      "metadata": {
        "id": "aR9MX5gZrHbG"
      }
    },
    {
      "cell_type": "code",
      "source": [
        "target = torch.tensor([0.0,1.])\n",
        "prediction = torch.tensor([0.7,0.5])\n",
        "\n",
        "criterion = nn.BCELoss()\n",
        "\n",
        "loss = criterion(prediction, target)\n",
        "print(loss,loss.item())  # Convert the loss tensor to a scalar using .item()"
      ],
      "metadata": {
        "colab": {
          "base_uri": "https://localhost:8080/"
        },
        "id": "tSADrqu8qf-x",
        "outputId": "0e22c6da-21cb-46ba-84a7-61d162b64024"
      },
      "execution_count": null,
      "outputs": [
        {
          "output_type": "stream",
          "name": "stdout",
          "text": [
            "tensor(0.9486) 0.9485599994659424\n"
          ]
        }
      ]
    },
    {
      "cell_type": "markdown",
      "source": [
        "### Matrix"
      ],
      "metadata": {
        "id": "57ylw2HZrZzn"
      }
    },
    {
      "cell_type": "code",
      "source": [
        "target=torch.rand(5,4)\n",
        "prediction=torch.rand(5,4)\n",
        "\n",
        "criterion=nn.BCELoss()\n",
        "loss=criterion(target,prediction)\n",
        "loss"
      ],
      "metadata": {
        "colab": {
          "base_uri": "https://localhost:8080/"
        },
        "id": "7YpfLze2qqfC",
        "outputId": "7829b83e-46f2-4bc5-d167-5fcb59431d44"
      },
      "execution_count": null,
      "outputs": [
        {
          "output_type": "execute_result",
          "data": {
            "text/plain": [
              "tensor(0.8786)"
            ]
          },
          "metadata": {},
          "execution_count": 29
        }
      ]
    },
    {
      "cell_type": "markdown",
      "source": [
        "### Tensor"
      ],
      "metadata": {
        "id": "gYdGOL7_sJC9"
      }
    },
    {
      "cell_type": "code",
      "source": [
        "target=torch.rand(10,3,2,2)\n",
        "prediction=torch.rand(10,3,2,2)\n",
        "\n",
        "criterion=nn.BCELoss()\n",
        "loss=criterion(prediction,target)\n",
        "loss"
      ],
      "metadata": {
        "colab": {
          "base_uri": "https://localhost:8080/"
        },
        "id": "QL5Np59orn5v",
        "outputId": "32a93a45-0421-4801-b46f-d582373d0c93"
      },
      "execution_count": null,
      "outputs": [
        {
          "output_type": "execute_result",
          "data": {
            "text/plain": [
              "tensor(1.0210)"
            ]
          },
          "metadata": {},
          "execution_count": 43
        }
      ]
    },
    {
      "cell_type": "markdown",
      "source": [
        "## Hinge Loss\n",
        "\n",
        "* The Hinge Loss, also known as the SVM (Support Vector Machine) loss, is used for binary classification problems.\n",
        "* Target and prediction specifications:\n",
        "  * target = Any real number between -1 and 1\n",
        "  * prediction = Predicted score (-1 to 1)\n"
      ],
      "metadata": {
        "id": "OgtpLPK-sQjs"
      }
    },
    {
      "cell_type": "markdown",
      "source": [
        "### Tensor"
      ],
      "metadata": {
        "id": "KZ7MsNWTtdl_"
      }
    },
    {
      "cell_type": "code",
      "source": [
        "target=torch.randn(10,3,4,4) # Target can be any real number\n",
        "prediction=torch.randn(10,3,4,4)\n",
        "\n",
        "target,prediction"
      ],
      "metadata": {
        "colab": {
          "base_uri": "https://localhost:8080/"
        },
        "id": "KxCuGaEtt56t",
        "outputId": "e703f8e3-dea2-41c2-bb51-1644c66b3cb5"
      },
      "execution_count": null,
      "outputs": [
        {
          "output_type": "execute_result",
          "data": {
            "text/plain": [
              "(tensor([[[[-6.9586e-01,  1.6418e-01, -3.4649e-01,  1.7809e-01],\n",
              "           [-2.4927e-01,  7.6966e-01,  6.7387e-01,  1.8234e+00],\n",
              "           [-2.2043e-01,  7.5013e-01, -8.1630e-01, -3.6333e-01],\n",
              "           [-1.9450e+00,  2.6724e-01, -9.7928e-01,  5.8647e-01]],\n",
              " \n",
              "          [[-2.2903e+00,  1.2768e+00,  3.4296e-01,  6.1557e-01],\n",
              "           [ 1.3530e+00,  1.5101e-01, -1.4324e+00,  1.4130e+00],\n",
              "           [-2.0392e+00, -1.0579e-01, -6.3347e-01,  1.1691e+00],\n",
              "           [-7.3620e-01, -7.1013e-01,  1.9480e-01,  1.9140e+00]],\n",
              " \n",
              "          [[ 1.2282e+00, -1.4125e-01,  1.8195e-01, -1.3566e+00],\n",
              "           [ 1.5543e+00,  5.4357e-02, -2.9478e-01,  5.0594e-01],\n",
              "           [-3.1402e-01, -2.8661e-01, -8.8597e-01, -1.4155e+00],\n",
              "           [ 3.1009e-01,  4.9749e-01,  1.0067e+00, -8.7040e-01]]],\n",
              " \n",
              " \n",
              "         [[[-5.9823e-01, -3.7837e-01, -3.0665e+00, -1.3459e+00],\n",
              "           [-1.4093e-01,  5.8868e-01, -2.7226e-01, -5.4819e-02],\n",
              "           [-3.4894e-01,  1.0159e+00,  5.9375e-01,  2.0438e-01],\n",
              "           [-1.6500e-01, -1.1053e+00, -1.6527e-01, -8.2960e-01]],\n",
              " \n",
              "          [[-9.2308e-01, -2.3158e-01,  1.6191e+00, -9.9566e-01],\n",
              "           [-1.9153e-01, -1.0540e+00, -3.3158e-01,  2.0965e+00],\n",
              "           [ 1.0608e+00, -2.0193e+00,  2.8458e-01, -1.1388e+00],\n",
              "           [-3.8235e-01, -1.1822e+00,  1.5300e+00,  5.2087e-01]],\n",
              " \n",
              "          [[ 8.1101e-01, -2.1691e+00, -9.9296e-01,  2.7129e-02],\n",
              "           [-3.2390e-01, -2.1660e+00, -6.1136e-01, -3.1846e-03],\n",
              "           [ 1.3516e+00,  1.2964e-01, -1.9960e-01,  1.1250e+00],\n",
              "           [ 1.1991e+00,  3.8610e-01,  8.9401e-01,  1.2718e+00]]],\n",
              " \n",
              " \n",
              "         [[[ 7.4314e-01, -8.3446e-01, -7.4141e-01,  2.5326e-01],\n",
              "           [-1.8454e-01, -3.2316e-01,  3.2785e-01, -8.2026e-01],\n",
              "           [-1.3313e+00,  9.0754e-01,  2.0361e-01,  6.6217e-01],\n",
              "           [ 2.7433e-01, -3.8381e-01,  6.8278e-01, -1.2487e+00]],\n",
              " \n",
              "          [[-1.5171e+00,  9.7754e-01,  1.3020e+00,  1.2275e+00],\n",
              "           [-1.1083e+00,  8.7627e-01, -8.8132e-02, -1.1591e+00],\n",
              "           [ 8.1358e-01,  1.2554e+00, -1.2511e+00, -8.0574e-01],\n",
              "           [-1.6834e+00, -1.2398e+00, -1.5924e+00, -8.7999e-01]],\n",
              " \n",
              "          [[-1.3915e-02,  2.2880e-01,  1.1902e+00, -1.9114e+00],\n",
              "           [ 1.9668e-01,  1.8489e-01,  6.9737e-01,  3.5555e-01],\n",
              "           [ 2.3000e-01, -3.8157e-01, -1.9597e-01,  3.1280e-01],\n",
              "           [ 2.8399e-01,  6.7579e-01, -6.5003e-01,  1.5620e+00]]],\n",
              " \n",
              " \n",
              "         [[[ 9.4679e-01, -1.4524e+00,  3.6580e+00, -6.7150e-01],\n",
              "           [ 1.1522e+00,  2.0851e-01,  7.6484e-01,  2.7257e-02],\n",
              "           [-8.6999e-01,  1.4582e+00,  9.3414e-01, -3.0192e-01],\n",
              "           [-1.6270e+00,  1.5193e+00, -1.3542e+00,  3.0002e-01]],\n",
              " \n",
              "          [[-6.9924e-01, -3.0704e-01, -4.0251e-01,  1.1150e+00],\n",
              "           [-1.0761e+00,  8.6278e-01,  2.6662e+00, -1.1651e+00],\n",
              "           [ 2.0547e+00,  5.5472e-01,  2.9926e-01,  4.5654e-01],\n",
              "           [-1.3550e+00, -1.2650e+00,  1.0408e+00,  2.3723e+00]],\n",
              " \n",
              "          [[ 5.1877e-01, -8.0948e-01,  4.6075e-01, -2.5340e-01],\n",
              "           [ 1.8033e-01, -1.3859e+00,  4.6146e-01, -1.5088e+00],\n",
              "           [-1.4602e-01, -8.0007e-01, -5.8602e-02,  6.2633e-01],\n",
              "           [ 1.4626e+00,  4.0060e-01,  2.7949e+00, -4.1361e-01]]],\n",
              " \n",
              " \n",
              "         [[[ 2.0229e-01,  1.0711e+00,  5.6102e-01, -3.3936e-02],\n",
              "           [-1.6375e+00,  1.2715e+00,  4.0151e-01,  1.5642e-01],\n",
              "           [-2.4275e-01, -1.0265e+00,  1.5980e+00,  3.2093e-01],\n",
              "           [-1.4566e+00,  5.7390e-01, -9.1757e-01, -2.6438e+00]],\n",
              " \n",
              "          [[-2.8656e-01,  9.7663e-01,  1.0644e+00,  5.8424e-01],\n",
              "           [-6.0080e-01,  1.9170e+00,  5.6168e-02,  3.4985e-01],\n",
              "           [ 1.3142e+00,  4.3928e-01, -7.0565e-01, -1.0219e+00],\n",
              "           [ 1.4194e-01, -5.9311e-02,  5.7729e-01, -1.2763e+00]],\n",
              " \n",
              "          [[-7.8990e-01, -5.8170e-01,  2.9120e-01,  7.5982e-01],\n",
              "           [-2.0962e+00, -5.4995e-01,  2.3600e-02, -1.6205e+00],\n",
              "           [ 4.4079e-01, -1.1076e+00, -1.8735e+00, -8.8219e-01],\n",
              "           [-2.1745e+00, -6.0677e-01,  1.6800e+00,  7.4438e-01]]],\n",
              " \n",
              " \n",
              "         [[[ 2.2894e+00,  1.1641e+00,  1.2684e+00, -2.1056e+00],\n",
              "           [ 1.9115e+00,  1.5226e-01, -1.5132e+00, -3.6657e-01],\n",
              "           [ 9.2550e-02,  7.5931e-01, -9.0952e-01, -9.3682e-01],\n",
              "           [ 1.3142e+00, -6.9381e-02,  9.0440e-01,  1.1383e+00]],\n",
              " \n",
              "          [[ 1.7920e-01,  5.5869e-01, -7.0498e-01, -8.5947e-01],\n",
              "           [ 1.0634e+00, -1.6869e+00, -3.6728e-01, -1.2732e-01],\n",
              "           [-1.0391e+00, -1.9470e-01, -6.2572e-02,  1.3425e+00],\n",
              "           [ 3.7937e-01, -3.6462e-01,  7.4964e-01, -1.0278e+00]],\n",
              " \n",
              "          [[ 1.6697e-01,  1.4614e+00, -9.6144e-01,  7.6891e-01],\n",
              "           [ 2.1122e+00,  2.2638e-01, -1.5899e+00,  1.5153e+00],\n",
              "           [ 7.3965e-01, -1.6120e+00,  7.1291e-01,  7.8734e-01],\n",
              "           [-5.7635e-01, -6.6669e-01, -1.3381e-01,  2.9385e-01]]],\n",
              " \n",
              " \n",
              "         [[[-8.4530e-01,  1.7928e-01,  1.1839e+00, -4.3462e-01],\n",
              "           [ 8.0395e-01, -4.8844e-02,  8.9704e-01, -8.5169e-01],\n",
              "           [-6.9014e-01, -3.3180e-01,  1.6916e+00, -9.3039e-01],\n",
              "           [ 1.3700e+00,  2.4172e-02,  1.5117e+00,  8.8672e-01]],\n",
              " \n",
              "          [[-2.8133e-01,  4.4850e-01,  6.0374e-01,  8.3649e-01],\n",
              "           [-1.0031e+00,  1.0938e+00,  7.1400e-01, -5.5043e-01],\n",
              "           [ 1.6025e+00,  2.5909e-01, -4.5387e-01,  9.7759e-01],\n",
              "           [-4.2871e-01,  3.2892e-01,  6.6092e-01, -7.5766e-01]],\n",
              " \n",
              "          [[ 3.6670e-01, -4.3212e-01, -1.4820e+00, -1.7855e-01],\n",
              "           [ 2.5651e-01,  1.0975e+00,  1.8370e+00, -4.6514e-02],\n",
              "           [-8.0688e-01,  5.2822e-02, -1.1037e-01,  2.0199e+00],\n",
              "           [ 1.3455e+00, -1.4037e+00,  1.6372e+00, -8.8014e-01]]],\n",
              " \n",
              " \n",
              "         [[[-7.5408e-02,  1.4986e+00, -1.0908e+00,  6.9385e-01],\n",
              "           [ 1.1079e+00, -2.9335e+00,  1.3738e+00,  9.3945e-01],\n",
              "           [ 3.1959e-01, -7.7914e-02,  4.8057e-01,  2.6518e+00],\n",
              "           [-3.8968e-01, -6.7001e-01,  7.9930e-01,  2.0744e+00]],\n",
              " \n",
              "          [[-2.2839e+00, -1.1498e+00, -2.0673e-01,  1.7756e-01],\n",
              "           [-9.0258e-01,  1.6667e+00, -1.6591e+00,  8.7998e-01],\n",
              "           [-1.3097e+00, -1.5919e+00,  2.0325e-01, -8.8598e-01],\n",
              "           [ 3.7990e-01,  1.5614e+00,  4.9533e-01, -1.2605e+00]],\n",
              " \n",
              "          [[ 7.7528e-01,  1.0655e+00, -2.9245e-01,  7.3670e-01],\n",
              "           [ 1.6386e-01, -1.1278e+00, -1.2282e+00,  2.6232e-01],\n",
              "           [-6.0402e-01,  4.9242e-01,  2.7338e-01, -1.6726e+00],\n",
              "           [ 4.8320e-01,  8.7364e-02,  4.5244e-01,  9.7245e-01]]],\n",
              " \n",
              " \n",
              "         [[[ 2.6407e-01,  5.3460e-01,  2.4726e-01, -8.3728e-02],\n",
              "           [-3.2974e-01, -4.2141e-01, -6.6941e-01, -1.6899e+00],\n",
              "           [ 1.2435e+00, -1.7173e+00, -9.7817e-01,  1.7552e+00],\n",
              "           [ 1.6927e+00, -1.2350e+00,  8.3815e-01,  2.7925e-01]],\n",
              " \n",
              "          [[ 8.7899e-01,  1.4519e-01, -2.8850e-02, -3.8522e-01],\n",
              "           [ 1.2618e+00, -2.5094e-02, -6.2448e-01, -7.2774e-01],\n",
              "           [ 2.0709e+00,  3.3504e-01,  1.8187e+00,  4.0966e-01],\n",
              "           [-2.5346e+00,  1.3245e+00, -8.4345e-01, -8.0898e-01]],\n",
              " \n",
              "          [[ 1.0552e+00, -7.3303e-01, -1.5065e+00,  6.1862e-01],\n",
              "           [-4.1447e-01,  1.2533e+00,  4.3958e-02,  1.1869e+00],\n",
              "           [ 1.7787e+00, -2.3247e+00, -9.6547e-01, -1.8992e-01],\n",
              "           [ 6.4210e-01,  1.0682e+00,  7.1708e-01, -6.3795e-01]]],\n",
              " \n",
              " \n",
              "         [[[ 8.6087e-01,  4.4736e-01, -4.7764e-01, -5.9212e-01],\n",
              "           [ 4.7393e-01, -3.0511e-01,  2.9609e-01, -5.0471e-01],\n",
              "           [ 8.5696e-01, -1.4053e+00,  1.3673e+00, -5.5008e-01],\n",
              "           [-1.1448e+00,  1.0046e+00,  6.2199e-01, -1.6698e+00]],\n",
              " \n",
              "          [[ 5.5125e-01, -7.9718e-02,  1.2584e+00, -9.4880e-01],\n",
              "           [-1.0073e+00,  1.0344e+00, -3.4843e-01,  2.4890e-01],\n",
              "           [ 5.4636e-01, -3.9973e-01,  1.1735e-01, -5.9510e-02],\n",
              "           [-7.5332e-03,  3.3328e-01,  9.7549e-01, -6.2795e-01]],\n",
              " \n",
              "          [[ 1.5439e+00,  1.9647e-01,  1.2518e+00,  5.0087e-01],\n",
              "           [ 1.0144e+00,  4.1540e-01, -3.5983e-01,  9.6884e-01],\n",
              "           [-1.7913e+00,  1.0878e-01, -1.9681e+00, -8.9097e-01],\n",
              "           [ 1.3941e-01, -5.8520e-01, -2.0592e-01,  8.6398e-01]]]]),\n",
              " tensor([[[[-1.9936e+00,  7.4660e-01, -2.0063e-01,  9.4984e-01],\n",
              "           [-1.2655e+00,  1.5287e+00,  9.9945e-01,  1.6440e+00],\n",
              "           [ 2.5295e+00,  8.4912e-01, -1.1364e+00, -1.4337e+00],\n",
              "           [ 6.5226e-01,  8.4956e-01,  8.5121e-01,  4.7006e-01]],\n",
              " \n",
              "          [[ 8.7691e-01, -1.7220e-01,  3.8938e-02, -7.9542e-01],\n",
              "           [-1.1673e+00,  1.6678e+00,  3.9801e-02,  1.3743e+00],\n",
              "           [ 4.7443e-01, -3.3783e-02,  8.3628e-01, -3.0797e-01],\n",
              "           [ 1.2278e+00, -8.7665e-01, -9.0788e-01,  1.7834e+00]],\n",
              " \n",
              "          [[ 2.3268e-01, -1.0458e-02,  8.2263e-01, -1.2477e+00],\n",
              "           [-4.7396e-01,  1.1664e+00,  4.3409e-01,  6.8851e-01],\n",
              "           [-3.5630e-01,  1.1669e+00,  1.1990e+00, -7.5048e-01],\n",
              "           [ 1.1530e+00, -5.2490e-01,  1.2774e+00, -1.3117e+00]]],\n",
              " \n",
              " \n",
              "         [[[-1.3108e+00, -3.4593e-02, -4.4009e-01,  1.7650e-01],\n",
              "           [-4.2451e-01, -4.3699e-01,  6.6173e-01, -1.4330e+00],\n",
              "           [ 1.4514e+00,  1.6264e-01, -9.0881e-01,  1.6265e+00],\n",
              "           [ 1.9821e-01, -1.3074e-02, -1.0175e+00,  5.9079e-01]],\n",
              " \n",
              "          [[-2.7786e-01, -7.8220e-02, -1.6747e+00, -6.9338e-01],\n",
              "           [ 6.3474e-01,  1.9634e+00,  7.1077e-01, -5.5534e-01],\n",
              "           [ 6.1625e-01,  2.0766e+00,  1.8143e+00, -6.4987e-01],\n",
              "           [ 1.0569e+00, -8.5560e-01,  1.6237e+00, -2.1078e-01]],\n",
              " \n",
              "          [[ 2.1731e+00, -2.7834e+00,  5.5050e-01,  6.9966e-01],\n",
              "           [ 8.0890e-01, -2.7775e-01, -7.9552e-01,  1.8329e+00],\n",
              "           [ 8.7154e-01,  4.7026e-01, -1.2925e+00, -8.4743e-02],\n",
              "           [-8.0756e-01,  1.5483e+00,  2.9613e-01,  9.5201e-01]]],\n",
              " \n",
              " \n",
              "         [[[ 3.8420e-01,  1.5883e-01,  9.0424e-01, -1.4275e+00],\n",
              "           [-3.7320e-01,  1.7471e+00,  5.5600e-01,  7.1425e-01],\n",
              "           [ 2.2198e-01,  5.4726e-01, -6.7849e-01, -5.7638e-01],\n",
              "           [-1.1012e-01,  6.8380e-01,  3.1708e-01, -1.8506e+00]],\n",
              " \n",
              "          [[ 9.5512e-02,  1.8463e+00,  2.3806e-01,  8.1712e-01],\n",
              "           [ 6.9069e-01, -8.4467e-01,  5.3416e-01,  5.0638e-01],\n",
              "           [ 2.3839e+00, -1.3102e+00, -1.8233e+00, -8.0210e-01],\n",
              "           [-1.0434e+00,  4.1242e-01,  1.0612e+00, -6.4391e-01]],\n",
              " \n",
              "          [[-1.3337e-01, -2.7353e-01, -8.5742e-01,  5.1475e-01],\n",
              "           [ 2.3485e-01,  2.6356e-01,  8.4572e-01,  1.5672e+00],\n",
              "           [ 7.0436e-01, -8.4908e-01,  1.4146e-01, -7.4758e-01],\n",
              "           [-1.6415e+00, -3.3663e-01,  1.1933e-01, -5.8559e-01]]],\n",
              " \n",
              " \n",
              "         [[[-7.0760e-01, -4.6566e-01,  4.8827e-01, -1.1252e+00],\n",
              "           [ 1.8359e+00, -1.3418e-01, -3.9649e-01, -1.0178e-01],\n",
              "           [ 1.0701e+00,  7.5411e-01, -5.2153e-01,  1.3198e+00],\n",
              "           [-1.0775e+00,  1.3409e+00,  2.0982e+00, -9.9599e-02]],\n",
              " \n",
              "          [[-1.3517e+00,  2.3620e-01, -1.4614e+00, -1.9232e-01],\n",
              "           [ 1.7545e+00,  1.4926e+00,  4.8652e-01,  1.3587e+00],\n",
              "           [-1.0438e+00,  1.0579e+00,  1.9138e-01,  2.6464e-01],\n",
              "           [-3.1207e-01,  6.7131e-02,  3.6210e-02,  8.9734e-01]],\n",
              " \n",
              "          [[ 3.7140e-01,  5.7617e-01, -1.2118e+00,  1.3193e+00],\n",
              "           [-4.3947e-01,  9.8109e-01,  7.8455e-01, -7.8985e-01],\n",
              "           [ 8.3777e-01,  1.2699e+00, -7.3125e-01,  7.2150e-01],\n",
              "           [-1.4267e+00, -2.9726e-01,  1.8588e-02, -1.3458e-01]]],\n",
              " \n",
              " \n",
              "         [[[-9.4136e-01, -8.9565e-01, -7.0712e-01,  1.8713e-01],\n",
              "           [-1.0158e+00, -2.1660e-01, -1.0148e-01, -1.8119e+00],\n",
              "           [ 3.2783e-01, -4.5406e-02,  7.2175e-01,  9.4253e-01],\n",
              "           [ 1.1079e+00,  2.5814e+00,  3.4935e-01, -4.1799e-01]],\n",
              " \n",
              "          [[ 6.0509e-01,  8.3500e-01,  2.1255e-01, -6.2661e-01],\n",
              "           [-1.6545e+00,  1.2735e+00,  1.3273e+00,  2.0126e+00],\n",
              "           [ 4.3467e-01,  7.2074e-01, -6.0473e-01, -7.8640e-01],\n",
              "           [-1.0678e+00,  1.5937e+00,  1.0073e+00, -1.1881e+00]],\n",
              " \n",
              "          [[ 8.7290e-01,  7.5866e-01,  6.0682e-02,  9.2116e-01],\n",
              "           [-6.2804e-01,  1.0705e+00,  1.3025e+00, -4.9900e-01],\n",
              "           [ 7.7007e-01, -9.7220e-01,  9.9391e-01, -1.7194e+00],\n",
              "           [-7.8699e-01,  3.3687e-02,  6.6973e-01, -1.4605e+00]]],\n",
              " \n",
              " \n",
              "         [[[ 1.2606e+00,  8.5920e-01, -6.1345e-01, -4.1524e-01],\n",
              "           [-9.6495e-01,  1.4965e+00,  8.5548e-01,  8.0918e-02],\n",
              "           [ 1.6987e+00,  1.3438e-01,  1.3119e-01,  1.3209e+00],\n",
              "           [ 3.0377e-01,  6.5780e-01, -2.0382e+00, -1.0644e+00]],\n",
              " \n",
              "          [[ 1.2165e+00, -4.2555e-01,  2.4586e-01, -3.3692e-01],\n",
              "           [-6.6899e-01, -6.2262e-01, -1.9892e+00,  7.7923e-01],\n",
              "           [ 7.3672e-01,  1.4083e-01, -3.9100e-01,  1.1778e+00],\n",
              "           [ 2.4408e-01,  2.0616e+00,  7.4461e-01,  8.1168e-01]],\n",
              " \n",
              "          [[-4.0079e-02,  7.4616e-01, -2.7857e-01, -5.3684e-01],\n",
              "           [-1.2199e+00, -1.3999e+00,  5.0637e-01, -5.0844e-01],\n",
              "           [-2.8780e-01,  3.6117e-01, -5.9137e-01,  1.1175e+00],\n",
              "           [ 2.0575e+00, -1.3033e+00, -1.0575e+00,  1.6345e+00]]],\n",
              " \n",
              " \n",
              "         [[[ 1.8413e-01, -1.7952e+00,  8.0912e-01,  7.3493e-01],\n",
              "           [ 4.5118e-01, -6.5837e-01, -5.3213e-01,  2.6079e-01],\n",
              "           [-1.0415e+00,  3.1785e-01, -5.0449e-02,  1.1386e+00],\n",
              "           [ 4.2748e-01,  1.8480e+00,  4.0219e-02,  8.8108e-01]],\n",
              " \n",
              "          [[ 2.1883e-01,  9.9013e-01, -3.1771e-01, -6.7380e-01],\n",
              "           [ 6.1394e-01, -7.9744e-01,  1.1501e+00, -3.9825e-01],\n",
              "           [-2.1225e+00, -1.3365e-01, -1.3249e+00,  1.6829e+00],\n",
              "           [ 2.0099e-01, -1.8029e+00,  1.0148e+00, -1.0336e+00]],\n",
              " \n",
              "          [[-2.7810e-01,  1.5923e-02,  7.1253e-02, -2.7739e+00],\n",
              "           [ 6.5492e-01,  8.8546e-01,  3.5444e-01,  1.4121e+00],\n",
              "           [ 2.3284e-01, -1.3403e+00,  1.0114e-01, -1.1804e+00],\n",
              "           [-1.1842e+00,  6.1556e-01,  2.5317e-01,  5.8320e-01]]],\n",
              " \n",
              " \n",
              "         [[[ 1.7502e+00, -2.7069e-01,  9.1296e-02, -3.0590e-01],\n",
              "           [-1.1223e+00,  5.5440e-01,  4.8144e-02,  4.5000e-01],\n",
              "           [ 8.7166e-02, -3.3787e-01, -6.7795e-01,  2.4716e-01],\n",
              "           [-6.8110e-01, -1.1511e+00,  1.0425e+00,  2.3091e-01]],\n",
              " \n",
              "          [[-6.5997e-01, -7.6790e-01, -1.9621e+00,  1.4450e+00],\n",
              "           [-6.0136e-01, -1.6183e+00,  5.1105e-01, -3.5501e-01],\n",
              "           [-4.4364e-01,  1.9858e+00, -5.8846e-01,  1.4296e+00],\n",
              "           [ 6.1567e-01, -1.8212e+00,  2.1033e+00, -7.6534e-01]],\n",
              " \n",
              "          [[ 5.3054e-01, -1.0723e+00, -1.1307e+00, -8.3849e-01],\n",
              "           [ 7.5399e-01,  1.0753e+00,  1.4632e+00,  1.5906e+00],\n",
              "           [ 7.6958e-01,  8.6614e-01, -5.1164e-01,  1.3913e+00],\n",
              "           [-3.7356e-01,  9.2844e-01, -3.1325e-02,  1.5013e-01]]],\n",
              " \n",
              " \n",
              "         [[[ 1.7025e+00,  1.6845e-01,  6.8645e-01, -8.4411e-01],\n",
              "           [-2.1087e-01, -1.1864e+00,  1.3621e+00,  1.7033e-03],\n",
              "           [-1.0526e+00, -1.0778e+00, -2.9219e-01,  1.2969e+00],\n",
              "           [ 4.7113e-01, -1.9916e+00,  1.6466e+00, -3.3126e-01]],\n",
              " \n",
              "          [[ 3.5162e-01,  1.7855e+00,  9.3663e-01, -2.6326e+00],\n",
              "           [-4.2338e-01,  4.7434e-01, -4.8385e-01, -9.9553e-01],\n",
              "           [ 1.9632e-01, -8.3913e-01,  2.5047e-01, -1.5125e+00],\n",
              "           [ 3.7394e-01,  1.2050e-01,  2.2796e-01,  1.4577e+00]],\n",
              " \n",
              "          [[-2.7262e-01,  1.0611e+00,  2.5587e+00, -4.8884e-01],\n",
              "           [-1.6216e+00,  3.3476e-02,  1.1622e+00,  5.5620e-01],\n",
              "           [-1.2570e+00, -9.1966e-01,  1.5375e-01,  2.4554e-01],\n",
              "           [ 3.2321e-01, -1.5257e+00,  5.8916e-01,  4.5968e-01]]],\n",
              " \n",
              " \n",
              "         [[[ 4.2515e-01, -1.4175e+00,  7.6471e-01,  1.6210e-01],\n",
              "           [ 8.5890e-01,  1.6327e+00, -1.5514e+00,  7.7851e-01],\n",
              "           [-3.5144e-01, -5.8922e-01,  1.1793e-01,  4.0161e-01],\n",
              "           [-6.0538e-01, -5.6437e-01,  5.4951e-01, -2.6375e-01]],\n",
              " \n",
              "          [[ 2.5413e-01, -2.0970e-01,  1.4715e+00, -6.4088e-01],\n",
              "           [ 5.5237e-01,  3.3820e-01, -6.9151e-01,  6.1196e-01],\n",
              "           [-1.1406e-03,  1.2442e+00,  4.3905e-01,  2.7749e+00],\n",
              "           [ 1.5620e-01,  1.9082e+00,  2.1927e-01, -1.3615e+00]],\n",
              " \n",
              "          [[-3.0524e-01,  1.3674e-01, -6.8359e-01,  2.2419e+00],\n",
              "           [ 1.9802e+00,  6.3865e-01, -5.2042e-01,  2.3091e+00],\n",
              "           [-4.6319e-02,  9.4794e-01,  1.3080e-01,  1.8600e+00],\n",
              "           [ 1.3080e+00,  5.5762e-02,  8.0844e-02,  3.8278e-01]]]]))"
            ]
          },
          "metadata": {},
          "execution_count": 47
        }
      ]
    },
    {
      "cell_type": "code",
      "source": [
        "criterion=nn.HingeEmbeddingLoss()\n",
        "loss=criterion(target,prediction)\n",
        "loss"
      ],
      "metadata": {
        "colab": {
          "base_uri": "https://localhost:8080/"
        },
        "id": "vL7MOxl-st-r",
        "outputId": "6b73f159-0978-40f4-f468-189c8e9e0c9a"
      },
      "execution_count": null,
      "outputs": [
        {
          "output_type": "execute_result",
          "data": {
            "text/plain": [
              "tensor(1.0142)"
            ]
          },
          "metadata": {},
          "execution_count": 49
        }
      ]
    },
    {
      "cell_type": "markdown",
      "source": [
        "## Huber Loss\n",
        "* Huber Loss is a combination of Mean Absolute Error (MAE) and Mean Squared Error (MSE) loss functions. It is less sensitive to outliers compared to MSE."
      ],
      "metadata": {
        "id": "I38C6ZE7t1sK"
      }
    },
    {
      "cell_type": "markdown",
      "source": [
        "### Tensor"
      ],
      "metadata": {
        "id": "NDytGUWauNOr"
      }
    },
    {
      "cell_type": "code",
      "source": [
        "import torch\n",
        "import torch.nn as nn\n",
        "target=torch.ones(10,3,4,5)\n",
        "prediction=torch.ones(10,3,4,5)\n",
        "\n",
        "criterion = nn.SmoothL1Loss()\n",
        "\n",
        "loss=criterion(target,prediction)\n",
        "loss"
      ],
      "metadata": {
        "colab": {
          "base_uri": "https://localhost:8080/"
        },
        "id": "c5NHxH6mv7MF",
        "outputId": "056a893d-d0cc-415d-c47a-c73bbbd10060"
      },
      "execution_count": null,
      "outputs": [
        {
          "output_type": "execute_result",
          "data": {
            "text/plain": [
              "tensor(0.)"
            ]
          },
          "metadata": {},
          "execution_count": 42
        }
      ]
    },
    {
      "cell_type": "markdown",
      "source": [
        "## Categorical cross-entropy\n",
        "`target single value vector, prediction a vector of num_classes size`\n"
      ],
      "metadata": {
        "id": "hHkJLNDKwPLr"
      }
    },
    {
      "cell_type": "markdown",
      "source": [
        "### Single Data Point"
      ],
      "metadata": {
        "id": "IcMvfk0wEIMJ"
      }
    },
    {
      "cell_type": "code",
      "source": [
        "import torch\n",
        "import torch.nn as nn\n",
        "\n",
        "# Define sample target and prediction for multi-class classification\n",
        "num_classes = 5\n",
        "target = torch.tensor([2])  # Ground truth class index (0 to num_classes-1)\n",
        "prediction = torch.rand(1, num_classes)  # Predicted class probabilities\n",
        "print(\"Target: \",target,\",Prediction: \",prediction)"
      ],
      "metadata": {
        "colab": {
          "base_uri": "https://localhost:8080/"
        },
        "id": "K-8iGaToxSxR",
        "outputId": "f78e468f-d7c6-4fcb-e7e0-5607cc0ce20a"
      },
      "execution_count": null,
      "outputs": [
        {
          "output_type": "stream",
          "name": "stdout",
          "text": [
            "Target:  tensor([2]) ,Prediction:  tensor([[0.1620, 0.6975, 0.7500, 0.8617, 0.4498]])\n"
          ]
        }
      ]
    },
    {
      "cell_type": "code",
      "source": [
        "criterion = nn.CrossEntropyLoss()\n",
        "\n",
        "loss = criterion(prediction, target)\n",
        "loss"
      ],
      "metadata": {
        "colab": {
          "base_uri": "https://localhost:8080/"
        },
        "id": "VmE9QqYPx5ui",
        "outputId": "1dda25ba-749c-4828-f198-6dd9a04fa7d4"
      },
      "execution_count": null,
      "outputs": [
        {
          "output_type": "execute_result",
          "data": {
            "text/plain": [
              "tensor(1.4732)"
            ]
          },
          "metadata": {},
          "execution_count": 41
        }
      ]
    },
    {
      "cell_type": "markdown",
      "source": [
        "### Batch"
      ],
      "metadata": {
        "id": "Cc-3R5bPEOUf"
      }
    },
    {
      "cell_type": "code",
      "source": [
        "import torch\n",
        "import torch.nn as nn\n",
        "\n",
        "# Define sample targets and predictions for multi-class classification in a batch\n",
        "num_classes = 5\n",
        "batch_size = 3  # Number of data points in the batch\n",
        "targets = torch.tensor([2, 1, 4])  # Ground truth class indices for each data point\n",
        "predictions = torch.rand(batch_size, num_classes)  # Predicted class probabilities for each data point\n",
        "\n",
        "# Create the Categorical Cross-Entropy loss function\n",
        "criterion = nn.CrossEntropyLoss()\n",
        "\n",
        "# Compute the loss\n",
        "loss = criterion(predictions, targets)\n",
        "print(loss.item())  # Convert the loss tensor to a scalar using .item()"
      ],
      "metadata": {
        "colab": {
          "base_uri": "https://localhost:8080/"
        },
        "id": "3t_wIVkNEUsK",
        "outputId": "3e8c371d-02cf-4de4-d340-3e65a6ab9937"
      },
      "execution_count": null,
      "outputs": [
        {
          "output_type": "stream",
          "name": "stdout",
          "text": [
            "1.302597165107727\n"
          ]
        }
      ]
    }
  ]
}