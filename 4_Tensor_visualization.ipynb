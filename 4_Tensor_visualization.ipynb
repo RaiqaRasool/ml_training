{
  "nbformat": 4,
  "nbformat_minor": 0,
  "metadata": {
    "colab": {
      "provenance": [],
      "include_colab_link": true
    },
    "kernelspec": {
      "name": "python3",
      "display_name": "Python 3"
    },
    "language_info": {
      "name": "python"
    }
  },
  "cells": [
    {
      "cell_type": "markdown",
      "metadata": {
        "id": "view-in-github",
        "colab_type": "text"
      },
      "source": [
        "<a href=\"https://colab.research.google.com/github/RaiqaRasool/ml_training/blob/main/4_Tensor_visualization.ipynb\" target=\"_parent\"><img src=\"https://colab.research.google.com/assets/colab-badge.svg\" alt=\"Open In Colab\"/></a>"
      ]
    },
    {
      "cell_type": "markdown",
      "source": [
        "## Torch Tensor Visualization"
      ],
      "metadata": {
        "id": "K_8HZ2w-_LoO"
      }
    },
    {
      "cell_type": "code",
      "execution_count": null,
      "metadata": {
        "colab": {
          "base_uri": "https://localhost:8080/"
        },
        "id": "-hHByTayF7lf",
        "outputId": "100d74d4-c34e-4525-eee0-5c3b80795be5"
      },
      "outputs": [
        {
          "output_type": "execute_result",
          "data": {
            "text/plain": [
              "tensor([[1., 1.],\n",
              "        [1., 1.]])"
            ]
          },
          "metadata": {},
          "execution_count": 1
        }
      ],
      "source": [
        "import torch\n",
        "v1=torch.ones(2,2) # (row,col)\n",
        "v1"
      ]
    },
    {
      "cell_type": "code",
      "source": [
        "v2=torch.ones(2,2,5) # (channel, row, col)\n",
        "v2"
      ],
      "metadata": {
        "colab": {
          "base_uri": "https://localhost:8080/"
        },
        "id": "KKrQUM_LGFfH",
        "outputId": "234ec62d-459a-4d67-98b7-511dcf44c2aa"
      },
      "execution_count": null,
      "outputs": [
        {
          "output_type": "execute_result",
          "data": {
            "text/plain": [
              "tensor([[[1., 1., 1., 1., 1.],\n",
              "         [1., 1., 1., 1., 1.]],\n",
              "\n",
              "        [[1., 1., 1., 1., 1.],\n",
              "         [1., 1., 1., 1., 1.]]])"
            ]
          },
          "metadata": {},
          "execution_count": 2
        }
      ]
    },
    {
      "cell_type": "code",
      "source": [
        "v3=torch.ones(5,2,2,5) # (batch_size, channel, row, col)\n",
        "v3"
      ],
      "metadata": {
        "colab": {
          "base_uri": "https://localhost:8080/"
        },
        "id": "SS2E9wSlGMqW",
        "outputId": "b973da7f-7e65-419a-ab5d-ae55f30ef8c4"
      },
      "execution_count": null,
      "outputs": [
        {
          "output_type": "execute_result",
          "data": {
            "text/plain": [
              "tensor([[[[1., 1., 1., 1., 1.],\n",
              "          [1., 1., 1., 1., 1.]],\n",
              "\n",
              "         [[1., 1., 1., 1., 1.],\n",
              "          [1., 1., 1., 1., 1.]]],\n",
              "\n",
              "\n",
              "        [[[1., 1., 1., 1., 1.],\n",
              "          [1., 1., 1., 1., 1.]],\n",
              "\n",
              "         [[1., 1., 1., 1., 1.],\n",
              "          [1., 1., 1., 1., 1.]]],\n",
              "\n",
              "\n",
              "        [[[1., 1., 1., 1., 1.],\n",
              "          [1., 1., 1., 1., 1.]],\n",
              "\n",
              "         [[1., 1., 1., 1., 1.],\n",
              "          [1., 1., 1., 1., 1.]]],\n",
              "\n",
              "\n",
              "        [[[1., 1., 1., 1., 1.],\n",
              "          [1., 1., 1., 1., 1.]],\n",
              "\n",
              "         [[1., 1., 1., 1., 1.],\n",
              "          [1., 1., 1., 1., 1.]]],\n",
              "\n",
              "\n",
              "        [[[1., 1., 1., 1., 1.],\n",
              "          [1., 1., 1., 1., 1.]],\n",
              "\n",
              "         [[1., 1., 1., 1., 1.],\n",
              "          [1., 1., 1., 1., 1.]]]])"
            ]
          },
          "metadata": {},
          "execution_count": 3
        }
      ]
    },
    {
      "cell_type": "markdown",
      "source": [
        "## Numpy Tensor Visualization"
      ],
      "metadata": {
        "id": "lcKiJS5z_1gw"
      }
    },
    {
      "cell_type": "code",
      "source": [
        "import numpy as np\n",
        "np1=np.ones((2,2))\n",
        "np1"
      ],
      "metadata": {
        "colab": {
          "base_uri": "https://localhost:8080/"
        },
        "outputId": "2fd6978e-b514-405f-8aa6-55e71c65ff1c",
        "id": "mMyIbrSk_1gw"
      },
      "execution_count": null,
      "outputs": [
        {
          "output_type": "execute_result",
          "data": {
            "text/plain": [
              "array([[1., 1.],\n",
              "       [1., 1.]])"
            ]
          },
          "metadata": {},
          "execution_count": 4
        }
      ]
    },
    {
      "cell_type": "code",
      "source": [
        "np2=np.ones((2,2,5)) # (channel, row, col)\n",
        "np2"
      ],
      "metadata": {
        "colab": {
          "base_uri": "https://localhost:8080/"
        },
        "outputId": "fa70cc81-61d2-4d73-c306-9da32a963320",
        "id": "zdH_cKCY_1gx"
      },
      "execution_count": null,
      "outputs": [
        {
          "output_type": "execute_result",
          "data": {
            "text/plain": [
              "array([[[1., 1., 1., 1., 1.],\n",
              "        [1., 1., 1., 1., 1.]],\n",
              "\n",
              "       [[1., 1., 1., 1., 1.],\n",
              "        [1., 1., 1., 1., 1.]]])"
            ]
          },
          "metadata": {},
          "execution_count": 5
        }
      ]
    },
    {
      "cell_type": "code",
      "source": [
        "np3=np.ones((5,2,2,5)) # (batch_size, channel, row, col)\n",
        "np3"
      ],
      "metadata": {
        "colab": {
          "base_uri": "https://localhost:8080/"
        },
        "outputId": "6378b93a-99dc-4df3-8732-a5cf1cd055c6",
        "id": "iUQkuJdA_1gx"
      },
      "execution_count": null,
      "outputs": [
        {
          "output_type": "execute_result",
          "data": {
            "text/plain": [
              "array([[[[1., 1., 1., 1., 1.],\n",
              "         [1., 1., 1., 1., 1.]],\n",
              "\n",
              "        [[1., 1., 1., 1., 1.],\n",
              "         [1., 1., 1., 1., 1.]]],\n",
              "\n",
              "\n",
              "       [[[1., 1., 1., 1., 1.],\n",
              "         [1., 1., 1., 1., 1.]],\n",
              "\n",
              "        [[1., 1., 1., 1., 1.],\n",
              "         [1., 1., 1., 1., 1.]]],\n",
              "\n",
              "\n",
              "       [[[1., 1., 1., 1., 1.],\n",
              "         [1., 1., 1., 1., 1.]],\n",
              "\n",
              "        [[1., 1., 1., 1., 1.],\n",
              "         [1., 1., 1., 1., 1.]]],\n",
              "\n",
              "\n",
              "       [[[1., 1., 1., 1., 1.],\n",
              "         [1., 1., 1., 1., 1.]],\n",
              "\n",
              "        [[1., 1., 1., 1., 1.],\n",
              "         [1., 1., 1., 1., 1.]]],\n",
              "\n",
              "\n",
              "       [[[1., 1., 1., 1., 1.],\n",
              "         [1., 1., 1., 1., 1.]],\n",
              "\n",
              "        [[1., 1., 1., 1., 1.],\n",
              "         [1., 1., 1., 1., 1.]]]])"
            ]
          },
          "metadata": {},
          "execution_count": 6
        }
      ]
    },
    {
      "cell_type": "markdown",
      "source": [
        "## Memory storage of Tensor"
      ],
      "metadata": {
        "id": "KUF1rSsV_QGt"
      }
    },
    {
      "cell_type": "markdown",
      "source": [
        "**Contiguous array:**\n",
        "The commonly used way to store such data is in a single array that is laid out as a single, contiguous block within memory. More concretely, a 3x3x3 tensor would be stored simply as a single array of 27 values, one after the other.\n",
        "\n",
        "The only place where the dimensions are used is to calculate the mapping between the (many) coordinates and the offset within that array. For example, to fetch the item [3, 1, 1] you would need to know if it is a 3x3x3 matrix, a 9x3x1 matrix, or a 27x1x1 matrix - in all cases the \"storage\" would be 27 items long, but the interpretation of \"coordinates\" would be different. If you use zero-based indexing, the calculation is trivial, but you need to know the length of each dimension.\n",
        "\n",
        "This does mean that resizing and similar operations may require copying the whole array, but that's ok, you trade off the performance of those (rare) operations to gain performance for the much more common operations, e.g. sequential reads"
      ],
      "metadata": {
        "id": "5WcE4-zgGpL0"
      }
    },
    {
      "cell_type": "markdown",
      "source": [
        "Sure, let's use a practical example with a 3x3x3 tensor, which is essentially a three-dimensional array of numbers. Consider a tensor representing the RGB values of a 3x3 image:\n",
        "\n",
        "```python\n",
        "# Original 3x3x3 tensor representing an image\n",
        "tensor_3x3x3 = [\n",
        "    [[r00, g00, b00], [r01, g01, b01], [r02, g02, b02]],\n",
        "    [[r10, g10, b10], [r11, g11, b11], [r12, g12, b12]],\n",
        "    [[r20, g20, b20], [r21, g21, b21], [r22, g22, b22]]\n",
        "]\n",
        "```\n",
        "\n",
        "Now, let's flatten this tensor into a contiguous array:\n",
        "\n",
        "```python\n",
        "# Flattened contiguous array\n",
        "flat_array = [r00, g00, b00, r01, g01, b01, r02, g02, b02,\n",
        "              r10, g10, b10, r11, g11, b11, r12, g12, b12,\n",
        "              r20, g20, b20, r21, g21, b21, r22, g22, b22]\n",
        "```\n",
        "\n",
        "To find the RGB values at coordinates [2, 1, 0] in the original tensor, you need to do some calculations based on the dimensions. The formula would be:\n",
        "\n",
        "```python\n",
        "# Formula for calculating the index in the flattened array\n",
        "index = 2 * (3 * 3) + 1 * 3 + 0\n",
        "```\n",
        "\n",
        "Now, you can use this index to access the corresponding values in the flattened array:\n",
        "\n",
        "```python\n",
        "# Accessing values in the flattened array using the calculated index\n",
        "rgb_values = flat_array[index]\n",
        "```\n",
        "\n",
        "In this example, if you were using a zero-based indexing system, you'd find the RGB values at coordinates [2, 1, 0] in the original tensor by accessing the element at index 21 in the flattened array.\n",
        "\n",
        "This way of organizing data makes sequential operations, like reading all the RGB values sequentially, very efficient. However, if you want to resize the image or perform other operations that change the dimensions, you might need to rearrange the data, which could be less efficient."
      ],
      "metadata": {
        "id": "D_429yxjNIBK"
      }
    },
    {
      "cell_type": "code",
      "source": [
        "v4=torch.empty(3,3,3)\n",
        "v4"
      ],
      "metadata": {
        "colab": {
          "base_uri": "https://localhost:8080/"
        },
        "id": "KO9Qdpy4Jw4k",
        "outputId": "7c8e29e8-d034-4121-abb0-712b6c379c87"
      },
      "execution_count": null,
      "outputs": [
        {
          "output_type": "execute_result",
          "data": {
            "text/plain": [
              "tensor([[[ 0.0000e+00,  0.0000e+00,  0.0000e+00],\n",
              "         [ 0.0000e+00, -2.8733e+26,  3.1281e-41],\n",
              "         [-7.6040e+24,  3.1281e-41, -6.4386e-05]],\n",
              "\n",
              "        [[ 4.3629e-41,  1.4013e-45,  0.0000e+00],\n",
              "         [ 3.7835e-44,  0.0000e+00,  0.0000e+00],\n",
              "         [ 0.0000e+00,  0.0000e+00,  0.0000e+00]],\n",
              "\n",
              "        [[ 0.0000e+00,  0.0000e+00,  0.0000e+00],\n",
              "         [ 0.0000e+00,  1.4013e-45,  0.0000e+00],\n",
              "         [ 0.0000e+00,  0.0000e+00,  0.0000e+00]]])"
            ]
          },
          "metadata": {},
          "execution_count": 9
        }
      ]
    },
    {
      "cell_type": "markdown",
      "source": [
        "### Channel First Versus Channel Last"
      ],
      "metadata": {
        "id": "-u9cuwUutYWc"
      }
    },
    {
      "cell_type": "markdown",
      "source": [
        "\n",
        "In a convolutional neural network (CNN), one of the fundamental operations is the convolution operation, where a filter (also called a kernel) is applied to the input image to produce a feature map. The efficiency of performing convolutions can be influenced by how the data is laid out in memory.\n",
        "\n",
        "Consider a convolution operation that involves a filter sliding over an input image. Each position of the filter involves a set of multiplications and additions. The order in which these multiplications and additions occur can impact the efficiency of computation due to cache locality and memory access patterns.\n",
        "\n",
        "1. **Contiguous Memory Access:**\n",
        "   - Many modern CPUs and GPUs have cache systems that operate more efficiently when memory accesses are contiguous.\n",
        "   - When the channel dimension is the innermost dimension (last in memory), consecutive elements in the channel are often accessed together, leading to better cache locality.\n",
        "\n",
        "   Example (TensorFlow convention):\n",
        "   ```python\n",
        "   # TensorFlow convention: (height, width, channels)\n",
        "   image_tf = tf.constant(...)  # Assuming a TensorFlow tensor\n",
        "   conv_result_tf = tf.nn.conv2d(image_tf, filter_tf, strides=[1, 1, 1, 1], padding='SAME')\n",
        "   ```\n",
        "\n",
        "2. **Channel-First (PyTorch Convention):**\n",
        "   - In the PyTorch convention (channels, height, width), the channel dimension is the innermost dimension.\n",
        "   - This layout may lead to better performance in certain convolution implementations optimized for this memory order.\n",
        "\n",
        "   Example (PyTorch convention):\n",
        "   ```python\n",
        "   # PyTorch convention: (channels, height, width)\n",
        "   image_pt = torch.tensor(...)  # Assuming a PyTorch tensor\n",
        "   conv_result_pt = F.conv2d(image_pt, filter_pt, stride=1, padding=1)\n",
        "   ```\n",
        "\n",
        "It's important to note that the impact on performance might vary depending on the specific convolution implementation and the hardware architecture. In many cases, modern deep learning libraries, like TensorFlow and PyTorch, are optimized to handle these details for you, and the difference might not be significant for typical use cases.\n",
        "\n",
        "Ultimately, the choice of channel order is often guided by the conventions of the deep learning framework being used, and these frameworks are designed to handle the underlying performance considerations."
      ],
      "metadata": {
        "id": "m6Nd75mWtTjN"
      }
    },
    {
      "cell_type": "code",
      "source": [
        "v6=torch.tensor([\n",
        "              [\n",
        "               [1,2,3],\n",
        "               [4,5,6],\n",
        "               [7,8,9],\n",
        "               ],\n",
        "               [\n",
        "               [10,11,12],\n",
        "               [13,14,15],\n",
        "               [16,17,18],\n",
        "               ],\n",
        "               [\n",
        "               [10,11,12],\n",
        "               [13,14,15],\n",
        "               [16,17,18],\n",
        "               ]\n",
        "              ])\n",
        "v6.shape"
      ],
      "metadata": {
        "colab": {
          "base_uri": "https://localhost:8080/"
        },
        "id": "P3IBzWCRJR-L",
        "outputId": "490092d2-2dc7-4b07-cd3e-07f277d2efc8"
      },
      "execution_count": null,
      "outputs": [
        {
          "output_type": "execute_result",
          "data": {
            "text/plain": [
              "torch.Size([3, 3, 3])"
            ]
          },
          "metadata": {},
          "execution_count": 13
        }
      ]
    },
    {
      "cell_type": "code",
      "source": [
        "v6[2,1,1]"
      ],
      "metadata": {
        "colab": {
          "base_uri": "https://localhost:8080/"
        },
        "id": "PX8WWkFoJeLy",
        "outputId": "683c7156-e3b7-4875-c1ce-72d6e3c74dbc"
      },
      "execution_count": null,
      "outputs": [
        {
          "output_type": "execute_result",
          "data": {
            "text/plain": [
              "tensor(14)"
            ]
          },
          "metadata": {},
          "execution_count": 14
        }
      ]
    },
    {
      "cell_type": "markdown",
      "source": [
        "## Image Tensor Visualization"
      ],
      "metadata": {
        "id": "kyGEWfwZ_lqH"
      }
    },
    {
      "cell_type": "code",
      "source": [
        "import torch\n",
        "import torchvision\n",
        "import torchvision.transforms as transforms\n",
        "\n",
        "train_set=torchvision.datasets.MNIST(\n",
        "    root='./data',\n",
        "    train=True,\n",
        "    download=True,\n",
        "    transform=transforms.Compose([\n",
        "        transforms.ToTensor()\n",
        "    ])\n",
        ")"
      ],
      "metadata": {
        "id": "cCmZLYO6KuPx",
        "colab": {
          "base_uri": "https://localhost:8080/"
        },
        "outputId": "ecd4aa87-11f5-4689-932c-018bd3db9c10"
      },
      "execution_count": null,
      "outputs": [
        {
          "output_type": "stream",
          "name": "stdout",
          "text": [
            "Downloading http://yann.lecun.com/exdb/mnist/train-images-idx3-ubyte.gz\n",
            "Downloading http://yann.lecun.com/exdb/mnist/train-images-idx3-ubyte.gz to ./data/MNIST/raw/train-images-idx3-ubyte.gz\n"
          ]
        },
        {
          "output_type": "stream",
          "name": "stderr",
          "text": [
            "100%|██████████| 9912422/9912422 [00:00<00:00, 100744664.79it/s]\n"
          ]
        },
        {
          "output_type": "stream",
          "name": "stdout",
          "text": [
            "Extracting ./data/MNIST/raw/train-images-idx3-ubyte.gz to ./data/MNIST/raw\n",
            "\n",
            "Downloading http://yann.lecun.com/exdb/mnist/train-labels-idx1-ubyte.gz\n",
            "Downloading http://yann.lecun.com/exdb/mnist/train-labels-idx1-ubyte.gz to ./data/MNIST/raw/train-labels-idx1-ubyte.gz\n"
          ]
        },
        {
          "output_type": "stream",
          "name": "stderr",
          "text": [
            "100%|██████████| 28881/28881 [00:00<00:00, 65161750.31it/s]\n"
          ]
        },
        {
          "output_type": "stream",
          "name": "stdout",
          "text": [
            "Extracting ./data/MNIST/raw/train-labels-idx1-ubyte.gz to ./data/MNIST/raw\n",
            "\n",
            "Downloading http://yann.lecun.com/exdb/mnist/t10k-images-idx3-ubyte.gz\n",
            "Downloading http://yann.lecun.com/exdb/mnist/t10k-images-idx3-ubyte.gz to ./data/MNIST/raw/t10k-images-idx3-ubyte.gz\n"
          ]
        },
        {
          "output_type": "stream",
          "name": "stderr",
          "text": [
            "100%|██████████| 1648877/1648877 [00:00<00:00, 29173836.77it/s]\n"
          ]
        },
        {
          "output_type": "stream",
          "name": "stdout",
          "text": [
            "Extracting ./data/MNIST/raw/t10k-images-idx3-ubyte.gz to ./data/MNIST/raw\n",
            "\n",
            "Downloading http://yann.lecun.com/exdb/mnist/t10k-labels-idx1-ubyte.gz\n",
            "Downloading http://yann.lecun.com/exdb/mnist/t10k-labels-idx1-ubyte.gz to ./data/MNIST/raw/t10k-labels-idx1-ubyte.gz\n"
          ]
        },
        {
          "output_type": "stream",
          "name": "stderr",
          "text": [
            "100%|██████████| 4542/4542 [00:00<00:00, 20528587.03it/s]\n"
          ]
        },
        {
          "output_type": "stream",
          "name": "stdout",
          "text": [
            "Extracting ./data/MNIST/raw/t10k-labels-idx1-ubyte.gz to ./data/MNIST/raw\n",
            "\n"
          ]
        }
      ]
    },
    {
      "cell_type": "code",
      "source": [
        "image,label=train_set[0]\n",
        "image.shape"
      ],
      "metadata": {
        "colab": {
          "base_uri": "https://localhost:8080/"
        },
        "id": "rwsAG-IeljE9",
        "outputId": "84026c67-3ec0-4e15-8e4c-7f8972113450"
      },
      "execution_count": null,
      "outputs": [
        {
          "output_type": "execute_result",
          "data": {
            "text/plain": [
              "torch.Size([1, 28, 28])"
            ]
          },
          "metadata": {},
          "execution_count": 14
        }
      ]
    },
    {
      "cell_type": "code",
      "source": [
        "image[0,:10,:10]"
      ],
      "metadata": {
        "colab": {
          "base_uri": "https://localhost:8080/"
        },
        "id": "09zeJBFDnaBJ",
        "outputId": "43ad86f6-4c30-4756-c02e-c91b469701c7"
      },
      "execution_count": null,
      "outputs": [
        {
          "output_type": "execute_result",
          "data": {
            "text/plain": [
              "tensor([[0.0000, 0.0000, 0.0000, 0.0000, 0.0000, 0.0000, 0.0000, 0.0000, 0.0000,\n",
              "         0.0000],\n",
              "        [0.0000, 0.0000, 0.0000, 0.0000, 0.0000, 0.0000, 0.0000, 0.0000, 0.0000,\n",
              "         0.0000],\n",
              "        [0.0000, 0.0000, 0.0000, 0.0000, 0.0000, 0.0000, 0.0000, 0.0000, 0.0000,\n",
              "         0.0000],\n",
              "        [0.0000, 0.0000, 0.0000, 0.0000, 0.0000, 0.0000, 0.0000, 0.0000, 0.0000,\n",
              "         0.0000],\n",
              "        [0.0000, 0.0000, 0.0000, 0.0000, 0.0000, 0.0000, 0.0000, 0.0000, 0.0000,\n",
              "         0.0000],\n",
              "        [0.0000, 0.0000, 0.0000, 0.0000, 0.0000, 0.0000, 0.0000, 0.0000, 0.0000,\n",
              "         0.0000],\n",
              "        [0.0000, 0.0000, 0.0000, 0.0000, 0.0000, 0.0000, 0.0000, 0.0000, 0.1176,\n",
              "         0.1412],\n",
              "        [0.0000, 0.0000, 0.0000, 0.0000, 0.0000, 0.0000, 0.0000, 0.1922, 0.9333,\n",
              "         0.9922],\n",
              "        [0.0000, 0.0000, 0.0000, 0.0000, 0.0000, 0.0000, 0.0000, 0.0706, 0.8588,\n",
              "         0.9922],\n",
              "        [0.0000, 0.0000, 0.0000, 0.0000, 0.0000, 0.0000, 0.0000, 0.0000, 0.3137,\n",
              "         0.6118]])"
            ]
          },
          "metadata": {},
          "execution_count": 17
        }
      ]
    },
    {
      "cell_type": "code",
      "source": [
        "image"
      ],
      "metadata": {
        "colab": {
          "base_uri": "https://localhost:8080/"
        },
        "id": "uAb0ZNYJoElV",
        "outputId": "5faca4d3-bc67-4264-b66e-8c6dfb52c7b7"
      },
      "execution_count": null,
      "outputs": [
        {
          "output_type": "execute_result",
          "data": {
            "text/plain": [
              "tensor([[[0.0000, 0.0000, 0.0000, 0.0000, 0.0000, 0.0000, 0.0000, 0.0000,\n",
              "          0.0000, 0.0000, 0.0000, 0.0000, 0.0000, 0.0000, 0.0000, 0.0000,\n",
              "          0.0000, 0.0000, 0.0000, 0.0000, 0.0000, 0.0000, 0.0000, 0.0000,\n",
              "          0.0000, 0.0000, 0.0000, 0.0000],\n",
              "         [0.0000, 0.0000, 0.0000, 0.0000, 0.0000, 0.0000, 0.0000, 0.0000,\n",
              "          0.0000, 0.0000, 0.0000, 0.0000, 0.0000, 0.0000, 0.0000, 0.0000,\n",
              "          0.0000, 0.0000, 0.0000, 0.0000, 0.0000, 0.0000, 0.0000, 0.0000,\n",
              "          0.0000, 0.0000, 0.0000, 0.0000],\n",
              "         [0.0000, 0.0000, 0.0000, 0.0000, 0.0000, 0.0000, 0.0000, 0.0000,\n",
              "          0.0000, 0.0000, 0.0000, 0.0000, 0.0000, 0.0000, 0.0000, 0.0000,\n",
              "          0.0000, 0.0000, 0.0000, 0.0000, 0.0000, 0.0000, 0.0000, 0.0000,\n",
              "          0.0000, 0.0000, 0.0000, 0.0000],\n",
              "         [0.0000, 0.0000, 0.0000, 0.0000, 0.0000, 0.0000, 0.0000, 0.0000,\n",
              "          0.0000, 0.0000, 0.0000, 0.0000, 0.0000, 0.0000, 0.0000, 0.0000,\n",
              "          0.0000, 0.0000, 0.0000, 0.0000, 0.0000, 0.0000, 0.0000, 0.0000,\n",
              "          0.0000, 0.0000, 0.0000, 0.0000],\n",
              "         [0.0000, 0.0000, 0.0000, 0.0000, 0.0000, 0.0000, 0.0000, 0.0000,\n",
              "          0.0000, 0.0000, 0.0000, 0.0000, 0.0000, 0.0000, 0.0000, 0.0000,\n",
              "          0.0000, 0.0000, 0.0000, 0.0000, 0.0000, 0.0000, 0.0000, 0.0000,\n",
              "          0.0000, 0.0000, 0.0000, 0.0000],\n",
              "         [0.0000, 0.0000, 0.0000, 0.0000, 0.0000, 0.0000, 0.0000, 0.0000,\n",
              "          0.0000, 0.0000, 0.0000, 0.0000, 0.0118, 0.0706, 0.0706, 0.0706,\n",
              "          0.4941, 0.5333, 0.6863, 0.1020, 0.6510, 1.0000, 0.9686, 0.4980,\n",
              "          0.0000, 0.0000, 0.0000, 0.0000],\n",
              "         [0.0000, 0.0000, 0.0000, 0.0000, 0.0000, 0.0000, 0.0000, 0.0000,\n",
              "          0.1176, 0.1412, 0.3686, 0.6039, 0.6667, 0.9922, 0.9922, 0.9922,\n",
              "          0.9922, 0.9922, 0.8824, 0.6745, 0.9922, 0.9490, 0.7647, 0.2510,\n",
              "          0.0000, 0.0000, 0.0000, 0.0000],\n",
              "         [0.0000, 0.0000, 0.0000, 0.0000, 0.0000, 0.0000, 0.0000, 0.1922,\n",
              "          0.9333, 0.9922, 0.9922, 0.9922, 0.9922, 0.9922, 0.9922, 0.9922,\n",
              "          0.9922, 0.9843, 0.3647, 0.3216, 0.3216, 0.2196, 0.1529, 0.0000,\n",
              "          0.0000, 0.0000, 0.0000, 0.0000],\n",
              "         [0.0000, 0.0000, 0.0000, 0.0000, 0.0000, 0.0000, 0.0000, 0.0706,\n",
              "          0.8588, 0.9922, 0.9922, 0.9922, 0.9922, 0.9922, 0.7765, 0.7137,\n",
              "          0.9686, 0.9451, 0.0000, 0.0000, 0.0000, 0.0000, 0.0000, 0.0000,\n",
              "          0.0000, 0.0000, 0.0000, 0.0000],\n",
              "         [0.0000, 0.0000, 0.0000, 0.0000, 0.0000, 0.0000, 0.0000, 0.0000,\n",
              "          0.3137, 0.6118, 0.4196, 0.9922, 0.9922, 0.8039, 0.0431, 0.0000,\n",
              "          0.1686, 0.6039, 0.0000, 0.0000, 0.0000, 0.0000, 0.0000, 0.0000,\n",
              "          0.0000, 0.0000, 0.0000, 0.0000],\n",
              "         [0.0000, 0.0000, 0.0000, 0.0000, 0.0000, 0.0000, 0.0000, 0.0000,\n",
              "          0.0000, 0.0549, 0.0039, 0.6039, 0.9922, 0.3529, 0.0000, 0.0000,\n",
              "          0.0000, 0.0000, 0.0000, 0.0000, 0.0000, 0.0000, 0.0000, 0.0000,\n",
              "          0.0000, 0.0000, 0.0000, 0.0000],\n",
              "         [0.0000, 0.0000, 0.0000, 0.0000, 0.0000, 0.0000, 0.0000, 0.0000,\n",
              "          0.0000, 0.0000, 0.0000, 0.5451, 0.9922, 0.7451, 0.0078, 0.0000,\n",
              "          0.0000, 0.0000, 0.0000, 0.0000, 0.0000, 0.0000, 0.0000, 0.0000,\n",
              "          0.0000, 0.0000, 0.0000, 0.0000],\n",
              "         [0.0000, 0.0000, 0.0000, 0.0000, 0.0000, 0.0000, 0.0000, 0.0000,\n",
              "          0.0000, 0.0000, 0.0000, 0.0431, 0.7451, 0.9922, 0.2745, 0.0000,\n",
              "          0.0000, 0.0000, 0.0000, 0.0000, 0.0000, 0.0000, 0.0000, 0.0000,\n",
              "          0.0000, 0.0000, 0.0000, 0.0000],\n",
              "         [0.0000, 0.0000, 0.0000, 0.0000, 0.0000, 0.0000, 0.0000, 0.0000,\n",
              "          0.0000, 0.0000, 0.0000, 0.0000, 0.1373, 0.9451, 0.8824, 0.6275,\n",
              "          0.4235, 0.0039, 0.0000, 0.0000, 0.0000, 0.0000, 0.0000, 0.0000,\n",
              "          0.0000, 0.0000, 0.0000, 0.0000],\n",
              "         [0.0000, 0.0000, 0.0000, 0.0000, 0.0000, 0.0000, 0.0000, 0.0000,\n",
              "          0.0000, 0.0000, 0.0000, 0.0000, 0.0000, 0.3176, 0.9412, 0.9922,\n",
              "          0.9922, 0.4667, 0.0980, 0.0000, 0.0000, 0.0000, 0.0000, 0.0000,\n",
              "          0.0000, 0.0000, 0.0000, 0.0000],\n",
              "         [0.0000, 0.0000, 0.0000, 0.0000, 0.0000, 0.0000, 0.0000, 0.0000,\n",
              "          0.0000, 0.0000, 0.0000, 0.0000, 0.0000, 0.0000, 0.1765, 0.7294,\n",
              "          0.9922, 0.9922, 0.5882, 0.1059, 0.0000, 0.0000, 0.0000, 0.0000,\n",
              "          0.0000, 0.0000, 0.0000, 0.0000],\n",
              "         [0.0000, 0.0000, 0.0000, 0.0000, 0.0000, 0.0000, 0.0000, 0.0000,\n",
              "          0.0000, 0.0000, 0.0000, 0.0000, 0.0000, 0.0000, 0.0000, 0.0627,\n",
              "          0.3647, 0.9882, 0.9922, 0.7333, 0.0000, 0.0000, 0.0000, 0.0000,\n",
              "          0.0000, 0.0000, 0.0000, 0.0000],\n",
              "         [0.0000, 0.0000, 0.0000, 0.0000, 0.0000, 0.0000, 0.0000, 0.0000,\n",
              "          0.0000, 0.0000, 0.0000, 0.0000, 0.0000, 0.0000, 0.0000, 0.0000,\n",
              "          0.0000, 0.9765, 0.9922, 0.9765, 0.2510, 0.0000, 0.0000, 0.0000,\n",
              "          0.0000, 0.0000, 0.0000, 0.0000],\n",
              "         [0.0000, 0.0000, 0.0000, 0.0000, 0.0000, 0.0000, 0.0000, 0.0000,\n",
              "          0.0000, 0.0000, 0.0000, 0.0000, 0.0000, 0.0000, 0.1804, 0.5098,\n",
              "          0.7176, 0.9922, 0.9922, 0.8118, 0.0078, 0.0000, 0.0000, 0.0000,\n",
              "          0.0000, 0.0000, 0.0000, 0.0000],\n",
              "         [0.0000, 0.0000, 0.0000, 0.0000, 0.0000, 0.0000, 0.0000, 0.0000,\n",
              "          0.0000, 0.0000, 0.0000, 0.0000, 0.1529, 0.5804, 0.8980, 0.9922,\n",
              "          0.9922, 0.9922, 0.9804, 0.7137, 0.0000, 0.0000, 0.0000, 0.0000,\n",
              "          0.0000, 0.0000, 0.0000, 0.0000],\n",
              "         [0.0000, 0.0000, 0.0000, 0.0000, 0.0000, 0.0000, 0.0000, 0.0000,\n",
              "          0.0000, 0.0000, 0.0941, 0.4471, 0.8667, 0.9922, 0.9922, 0.9922,\n",
              "          0.9922, 0.7882, 0.3059, 0.0000, 0.0000, 0.0000, 0.0000, 0.0000,\n",
              "          0.0000, 0.0000, 0.0000, 0.0000],\n",
              "         [0.0000, 0.0000, 0.0000, 0.0000, 0.0000, 0.0000, 0.0000, 0.0000,\n",
              "          0.0902, 0.2588, 0.8353, 0.9922, 0.9922, 0.9922, 0.9922, 0.7765,\n",
              "          0.3176, 0.0078, 0.0000, 0.0000, 0.0000, 0.0000, 0.0000, 0.0000,\n",
              "          0.0000, 0.0000, 0.0000, 0.0000],\n",
              "         [0.0000, 0.0000, 0.0000, 0.0000, 0.0000, 0.0000, 0.0706, 0.6706,\n",
              "          0.8588, 0.9922, 0.9922, 0.9922, 0.9922, 0.7647, 0.3137, 0.0353,\n",
              "          0.0000, 0.0000, 0.0000, 0.0000, 0.0000, 0.0000, 0.0000, 0.0000,\n",
              "          0.0000, 0.0000, 0.0000, 0.0000],\n",
              "         [0.0000, 0.0000, 0.0000, 0.0000, 0.2157, 0.6745, 0.8863, 0.9922,\n",
              "          0.9922, 0.9922, 0.9922, 0.9569, 0.5216, 0.0431, 0.0000, 0.0000,\n",
              "          0.0000, 0.0000, 0.0000, 0.0000, 0.0000, 0.0000, 0.0000, 0.0000,\n",
              "          0.0000, 0.0000, 0.0000, 0.0000],\n",
              "         [0.0000, 0.0000, 0.0000, 0.0000, 0.5333, 0.9922, 0.9922, 0.9922,\n",
              "          0.8314, 0.5294, 0.5176, 0.0627, 0.0000, 0.0000, 0.0000, 0.0000,\n",
              "          0.0000, 0.0000, 0.0000, 0.0000, 0.0000, 0.0000, 0.0000, 0.0000,\n",
              "          0.0000, 0.0000, 0.0000, 0.0000],\n",
              "         [0.0000, 0.0000, 0.0000, 0.0000, 0.0000, 0.0000, 0.0000, 0.0000,\n",
              "          0.0000, 0.0000, 0.0000, 0.0000, 0.0000, 0.0000, 0.0000, 0.0000,\n",
              "          0.0000, 0.0000, 0.0000, 0.0000, 0.0000, 0.0000, 0.0000, 0.0000,\n",
              "          0.0000, 0.0000, 0.0000, 0.0000],\n",
              "         [0.0000, 0.0000, 0.0000, 0.0000, 0.0000, 0.0000, 0.0000, 0.0000,\n",
              "          0.0000, 0.0000, 0.0000, 0.0000, 0.0000, 0.0000, 0.0000, 0.0000,\n",
              "          0.0000, 0.0000, 0.0000, 0.0000, 0.0000, 0.0000, 0.0000, 0.0000,\n",
              "          0.0000, 0.0000, 0.0000, 0.0000],\n",
              "         [0.0000, 0.0000, 0.0000, 0.0000, 0.0000, 0.0000, 0.0000, 0.0000,\n",
              "          0.0000, 0.0000, 0.0000, 0.0000, 0.0000, 0.0000, 0.0000, 0.0000,\n",
              "          0.0000, 0.0000, 0.0000, 0.0000, 0.0000, 0.0000, 0.0000, 0.0000,\n",
              "          0.0000, 0.0000, 0.0000, 0.0000]]])"
            ]
          },
          "metadata": {},
          "execution_count": 18
        }
      ]
    },
    {
      "cell_type": "code",
      "source": [
        "import matplotlib.pyplot as plt\n",
        "plt.imshow(image.view(28,28,1),cmap='gray_r')"
      ],
      "metadata": {
        "colab": {
          "base_uri": "https://localhost:8080/",
          "height": 448
        },
        "id": "OYapp-HHlsps",
        "outputId": "bed1a006-1047-41e1-db9b-d235b2b310df"
      },
      "execution_count": null,
      "outputs": [
        {
          "output_type": "execute_result",
          "data": {
            "text/plain": [
              "<matplotlib.image.AxesImage at 0x7ca798bf0280>"
            ]
          },
          "metadata": {},
          "execution_count": 9
        },
        {
          "output_type": "display_data",
          "data": {
            "text/plain": [
              "<Figure size 640x480 with 1 Axes>"
            ],
            "image/png": "[encoded data removed]"
          },
          "metadata": {}
        }
      ]
    },
    {
      "cell_type": "code",
      "source": [
        "image.view(28,28,1)"
      ],
      "metadata": {
        "colab": {
          "base_uri": "https://localhost:8080/"
        },
        "id": "gNN_reEpl4NG",
        "outputId": "49beef10-68f9-4110-8a00-7f5461f4f2e3"
      },
      "execution_count": null,
      "outputs": [
        {
          "output_type": "execute_result",
          "data": {
            "text/plain": [
              "tensor([[[0.0000],\n",
              "         [0.0000],\n",
              "         [0.0000],\n",
              "         [0.0000],\n",
              "         [0.0000],\n",
              "         [0.0000],\n",
              "         [0.0000],\n",
              "         [0.0000],\n",
              "         [0.0000],\n",
              "         [0.0000],\n",
              "         [0.0000],\n",
              "         [0.0000],\n",
              "         [0.0000],\n",
              "         [0.0000],\n",
              "         [0.0000],\n",
              "         [0.0000],\n",
              "         [0.0000],\n",
              "         [0.0000],\n",
              "         [0.0000],\n",
              "         [0.0000],\n",
              "         [0.0000],\n",
              "         [0.0000],\n",
              "         [0.0000],\n",
              "         [0.0000],\n",
              "         [0.0000],\n",
              "         [0.0000],\n",
              "         [0.0000],\n",
              "         [0.0000]],\n",
              "\n",
              "        [[0.0000],\n",
              "         [0.0000],\n",
              "         [0.0000],\n",
              "         [0.0000],\n",
              "         [0.0000],\n",
              "         [0.0000],\n",
              "         [0.0000],\n",
              "         [0.0000],\n",
              "         [0.0000],\n",
              "         [0.0000],\n",
              "         [0.0000],\n",
              "         [0.0000],\n",
              "         [0.0000],\n",
              "         [0.0000],\n",
              "         [0.0000],\n",
              "         [0.0000],\n",
              "         [0.0000],\n",
              "         [0.0000],\n",
              "         [0.0000],\n",
              "         [0.0000],\n",
              "         [0.0000],\n",
              "         [0.0000],\n",
              "         [0.0000],\n",
              "         [0.0000],\n",
              "         [0.0000],\n",
              "         [0.0000],\n",
              "         [0.0000],\n",
              "         [0.0000]],\n",
              "\n",
              "        [[0.0000],\n",
              "         [0.0000],\n",
              "         [0.0000],\n",
              "         [0.0000],\n",
              "         [0.0000],\n",
              "         [0.0000],\n",
              "         [0.0000],\n",
              "         [0.0000],\n",
              "         [0.0000],\n",
              "         [0.0000],\n",
              "         [0.0000],\n",
              "         [0.0000],\n",
              "         [0.0000],\n",
              "         [0.0000],\n",
              "         [0.0000],\n",
              "         [0.0000],\n",
              "         [0.0000],\n",
              "         [0.0000],\n",
              "         [0.0000],\n",
              "         [0.0000],\n",
              "         [0.0000],\n",
              "         [0.0000],\n",
              "         [0.0000],\n",
              "         [0.0000],\n",
              "         [0.0000],\n",
              "         [0.0000],\n",
              "         [0.0000],\n",
              "         [0.0000]],\n",
              "\n",
              "        [[0.0000],\n",
              "         [0.0000],\n",
              "         [0.0000],\n",
              "         [0.0000],\n",
              "         [0.0000],\n",
              "         [0.0000],\n",
              "         [0.0000],\n",
              "         [0.0000],\n",
              "         [0.0000],\n",
              "         [0.0000],\n",
              "         [0.0000],\n",
              "         [0.0000],\n",
              "         [0.0000],\n",
              "         [0.0000],\n",
              "         [0.0000],\n",
              "         [0.0000],\n",
              "         [0.0000],\n",
              "         [0.0000],\n",
              "         [0.0000],\n",
              "         [0.0000],\n",
              "         [0.0000],\n",
              "         [0.0000],\n",
              "         [0.0000],\n",
              "         [0.0000],\n",
              "         [0.0000],\n",
              "         [0.0000],\n",
              "         [0.0000],\n",
              "         [0.0000]],\n",
              "\n",
              "        [[0.0000],\n",
              "         [0.0000],\n",
              "         [0.0000],\n",
              "         [0.0000],\n",
              "         [0.0000],\n",
              "         [0.0000],\n",
              "         [0.0000],\n",
              "         [0.0000],\n",
              "         [0.0000],\n",
              "         [0.0000],\n",
              "         [0.0000],\n",
              "         [0.0000],\n",
              "         [0.0000],\n",
              "         [0.0000],\n",
              "         [0.0000],\n",
              "         [0.0000],\n",
              "         [0.0000],\n",
              "         [0.0000],\n",
              "         [0.0000],\n",
              "         [0.0000],\n",
              "         [0.0000],\n",
              "         [0.0000],\n",
              "         [0.0000],\n",
              "         [0.0000],\n",
              "         [0.0000],\n",
              "         [0.0000],\n",
              "         [0.0000],\n",
              "         [0.0000]],\n",
              "\n",
              "        [[0.0000],\n",
              "         [0.0000],\n",
              "         [0.0000],\n",
              "         [0.0000],\n",
              "         [0.0000],\n",
              "         [0.0000],\n",
              "         [0.0000],\n",
              "         [0.0000],\n",
              "         [0.0000],\n",
              "         [0.0000],\n",
              "         [0.0000],\n",
              "         [0.0000],\n",
              "         [0.0118],\n",
              "         [0.0706],\n",
              "         [0.0706],\n",
              "         [0.0706],\n",
              "         [0.4941],\n",
              "         [0.5333],\n",
              "         [0.6863],\n",
              "         [0.1020],\n",
              "         [0.6510],\n",
              "         [1.0000],\n",
              "         [0.9686],\n",
              "         [0.4980],\n",
              "         [0.0000],\n",
              "         [0.0000],\n",
              "         [0.0000],\n",
              "         [0.0000]],\n",
              "\n",
              "        [[0.0000],\n",
              "         [0.0000],\n",
              "         [0.0000],\n",
              "         [0.0000],\n",
              "         [0.0000],\n",
              "         [0.0000],\n",
              "         [0.0000],\n",
              "         [0.0000],\n",
              "         [0.1176],\n",
              "         [0.1412],\n",
              "         [0.3686],\n",
              "         [0.6039],\n",
              "         [0.6667],\n",
              "         [0.9922],\n",
              "         [0.9922],\n",
              "         [0.9922],\n",
              "         [0.9922],\n",
              "         [0.9922],\n",
              "         [0.8824],\n",
              "         [0.6745],\n",
              "         [0.9922],\n",
              "         [0.9490],\n",
              "         [0.7647],\n",
              "         [0.2510],\n",
              "         [0.0000],\n",
              "         [0.0000],\n",
              "         [0.0000],\n",
              "         [0.0000]],\n",
              "\n",
              "        [[0.0000],\n",
              "         [0.0000],\n",
              "         [0.0000],\n",
              "         [0.0000],\n",
              "         [0.0000],\n",
              "         [0.0000],\n",
              "         [0.0000],\n",
              "         [0.1922],\n",
              "         [0.9333],\n",
              "         [0.9922],\n",
              "         [0.9922],\n",
              "         [0.9922],\n",
              "         [0.9922],\n",
              "         [0.9922],\n",
              "         [0.9922],\n",
              "         [0.9922],\n",
              "         [0.9922],\n",
              "         [0.9843],\n",
              "         [0.3647],\n",
              "         [0.3216],\n",
              "         [0.3216],\n",
              "         [0.2196],\n",
              "         [0.1529],\n",
              "         [0.0000],\n",
              "         [0.0000],\n",
              "         [0.0000],\n",
              "         [0.0000],\n",
              "         [0.0000]],\n",
              "\n",
              "        [[0.0000],\n",
              "         [0.0000],\n",
              "         [0.0000],\n",
              "         [0.0000],\n",
              "         [0.0000],\n",
              "         [0.0000],\n",
              "         [0.0000],\n",
              "         [0.0706],\n",
              "         [0.8588],\n",
              "         [0.9922],\n",
              "         [0.9922],\n",
              "         [0.9922],\n",
              "         [0.9922],\n",
              "         [0.9922],\n",
              "         [0.7765],\n",
              "         [0.7137],\n",
              "         [0.9686],\n",
              "         [0.9451],\n",
              "         [0.0000],\n",
              "         [0.0000],\n",
              "         [0.0000],\n",
              "         [0.0000],\n",
              "         [0.0000],\n",
              "         [0.0000],\n",
              "         [0.0000],\n",
              "         [0.0000],\n",
              "         [0.0000],\n",
              "         [0.0000]],\n",
              "\n",
              "        [[0.0000],\n",
              "         [0.0000],\n",
              "         [0.0000],\n",
              "         [0.0000],\n",
              "         [0.0000],\n",
              "         [0.0000],\n",
              "         [0.0000],\n",
              "         [0.0000],\n",
              "         [0.3137],\n",
              "         [0.6118],\n",
              "         [0.4196],\n",
              "         [0.9922],\n",
              "         [0.9922],\n",
              "         [0.8039],\n",
              "         [0.0431],\n",
              "         [0.0000],\n",
              "         [0.1686],\n",
              "         [0.6039],\n",
              "         [0.0000],\n",
              "         [0.0000],\n",
              "         [0.0000],\n",
              "         [0.0000],\n",
              "         [0.0000],\n",
              "         [0.0000],\n",
              "         [0.0000],\n",
              "         [0.0000],\n",
              "         [0.0000],\n",
              "         [0.0000]],\n",
              "\n",
              "        [[0.0000],\n",
              "         [0.0000],\n",
              "         [0.0000],\n",
              "         [0.0000],\n",
              "         [0.0000],\n",
              "         [0.0000],\n",
              "         [0.0000],\n",
              "         [0.0000],\n",
              "         [0.0000],\n",
              "         [0.0549],\n",
              "         [0.0039],\n",
              "         [0.6039],\n",
              "         [0.9922],\n",
              "         [0.3529],\n",
              "         [0.0000],\n",
              "         [0.0000],\n",
              "         [0.0000],\n",
              "         [0.0000],\n",
              "         [0.0000],\n",
              "         [0.0000],\n",
              "         [0.0000],\n",
              "         [0.0000],\n",
              "         [0.0000],\n",
              "         [0.0000],\n",
              "         [0.0000],\n",
              "         [0.0000],\n",
              "         [0.0000],\n",
              "         [0.0000]],\n",
              "\n",
              "        [[0.0000],\n",
              "         [0.0000],\n",
              "         [0.0000],\n",
              "         [0.0000],\n",
              "         [0.0000],\n",
              "         [0.0000],\n",
              "         [0.0000],\n",
              "         [0.0000],\n",
              "         [0.0000],\n",
              "         [0.0000],\n",
              "         [0.0000],\n",
              "         [0.5451],\n",
              "         [0.9922],\n",
              "         [0.7451],\n",
              "         [0.0078],\n",
              "         [0.0000],\n",
              "         [0.0000],\n",
              "         [0.0000],\n",
              "         [0.0000],\n",
              "         [0.0000],\n",
              "         [0.0000],\n",
              "         [0.0000],\n",
              "         [0.0000],\n",
              "         [0.0000],\n",
              "         [0.0000],\n",
              "         [0.0000],\n",
              "         [0.0000],\n",
              "         [0.0000]],\n",
              "\n",
              "        [[0.0000],\n",
              "         [0.0000],\n",
              "         [0.0000],\n",
              "         [0.0000],\n",
              "         [0.0000],\n",
              "         [0.0000],\n",
              "         [0.0000],\n",
              "         [0.0000],\n",
              "         [0.0000],\n",
              "         [0.0000],\n",
              "         [0.0000],\n",
              "         [0.0431],\n",
              "         [0.7451],\n",
              "         [0.9922],\n",
              "         [0.2745],\n",
              "         [0.0000],\n",
              "         [0.0000],\n",
              "         [0.0000],\n",
              "         [0.0000],\n",
              "         [0.0000],\n",
              "         [0.0000],\n",
              "         [0.0000],\n",
              "         [0.0000],\n",
              "         [0.0000],\n",
              "         [0.0000],\n",
              "         [0.0000],\n",
              "         [0.0000],\n",
              "         [0.0000]],\n",
              "\n",
              "        [[0.0000],\n",
              "         [0.0000],\n",
              "         [0.0000],\n",
              "         [0.0000],\n",
              "         [0.0000],\n",
              "         [0.0000],\n",
              "         [0.0000],\n",
              "         [0.0000],\n",
              "         [0.0000],\n",
              "         [0.0000],\n",
              "         [0.0000],\n",
              "         [0.0000],\n",
              "         [0.1373],\n",
              "         [0.9451],\n",
              "         [0.8824],\n",
              "         [0.6275],\n",
              "         [0.4235],\n",
              "         [0.0039],\n",
              "         [0.0000],\n",
              "         [0.0000],\n",
              "         [0.0000],\n",
              "         [0.0000],\n",
              "         [0.0000],\n",
              "         [0.0000],\n",
              "         [0.0000],\n",
              "         [0.0000],\n",
              "         [0.0000],\n",
              "         [0.0000]],\n",
              "\n",
              "        [[0.0000],\n",
              "         [0.0000],\n",
              "         [0.0000],\n",
              "         [0.0000],\n",
              "         [0.0000],\n",
              "         [0.0000],\n",
              "         [0.0000],\n",
              "         [0.0000],\n",
              "         [0.0000],\n",
              "         [0.0000],\n",
              "         [0.0000],\n",
              "         [0.0000],\n",
              "         [0.0000],\n",
              "         [0.3176],\n",
              "         [0.9412],\n",
              "         [0.9922],\n",
              "         [0.9922],\n",
              "         [0.4667],\n",
              "         [0.0980],\n",
              "         [0.0000],\n",
              "         [0.0000],\n",
              "         [0.0000],\n",
              "         [0.0000],\n",
              "         [0.0000],\n",
              "         [0.0000],\n",
              "         [0.0000],\n",
              "         [0.0000],\n",
              "         [0.0000]],\n",
              "\n",
              "        [[0.0000],\n",
              "         [0.0000],\n",
              "         [0.0000],\n",
              "         [0.0000],\n",
              "         [0.0000],\n",
              "         [0.0000],\n",
              "         [0.0000],\n",
              "         [0.0000],\n",
              "         [0.0000],\n",
              "         [0.0000],\n",
              "         [0.0000],\n",
              "         [0.0000],\n",
              "         [0.0000],\n",
              "         [0.0000],\n",
              "         [0.1765],\n",
              "         [0.7294],\n",
              "         [0.9922],\n",
              "         [0.9922],\n",
              "         [0.5882],\n",
              "         [0.1059],\n",
              "         [0.0000],\n",
              "         [0.0000],\n",
              "         [0.0000],\n",
              "         [0.0000],\n",
              "         [0.0000],\n",
              "         [0.0000],\n",
              "         [0.0000],\n",
              "         [0.0000]],\n",
              "\n",
              "        [[0.0000],\n",
              "         [0.0000],\n",
              "         [0.0000],\n",
              "         [0.0000],\n",
              "         [0.0000],\n",
              "         [0.0000],\n",
              "         [0.0000],\n",
              "         [0.0000],\n",
              "         [0.0000],\n",
              "         [0.0000],\n",
              "         [0.0000],\n",
              "         [0.0000],\n",
              "         [0.0000],\n",
              "         [0.0000],\n",
              "         [0.0000],\n",
              "         [0.0627],\n",
              "         [0.3647],\n",
              "         [0.9882],\n",
              "         [0.9922],\n",
              "         [0.7333],\n",
              "         [0.0000],\n",
              "         [0.0000],\n",
              "         [0.0000],\n",
              "         [0.0000],\n",
              "         [0.0000],\n",
              "         [0.0000],\n",
              "         [0.0000],\n",
              "         [0.0000]],\n",
              "\n",
              "        [[0.0000],\n",
              "         [0.0000],\n",
              "         [0.0000],\n",
              "         [0.0000],\n",
              "         [0.0000],\n",
              "         [0.0000],\n",
              "         [0.0000],\n",
              "         [0.0000],\n",
              "         [0.0000],\n",
              "         [0.0000],\n",
              "         [0.0000],\n",
              "         [0.0000],\n",
              "         [0.0000],\n",
              "         [0.0000],\n",
              "         [0.0000],\n",
              "         [0.0000],\n",
              "         [0.0000],\n",
              "         [0.9765],\n",
              "         [0.9922],\n",
              "         [0.9765],\n",
              "         [0.2510],\n",
              "         [0.0000],\n",
              "         [0.0000],\n",
              "         [0.0000],\n",
              "         [0.0000],\n",
              "         [0.0000],\n",
              "         [0.0000],\n",
              "         [0.0000]],\n",
              "\n",
              "        [[0.0000],\n",
              "         [0.0000],\n",
              "         [0.0000],\n",
              "         [0.0000],\n",
              "         [0.0000],\n",
              "         [0.0000],\n",
              "         [0.0000],\n",
              "         [0.0000],\n",
              "         [0.0000],\n",
              "         [0.0000],\n",
              "         [0.0000],\n",
              "         [0.0000],\n",
              "         [0.0000],\n",
              "         [0.0000],\n",
              "         [0.1804],\n",
              "         [0.5098],\n",
              "         [0.7176],\n",
              "         [0.9922],\n",
              "         [0.9922],\n",
              "         [0.8118],\n",
              "         [0.0078],\n",
              "         [0.0000],\n",
              "         [0.0000],\n",
              "         [0.0000],\n",
              "         [0.0000],\n",
              "         [0.0000],\n",
              "         [0.0000],\n",
              "         [0.0000]],\n",
              "\n",
              "        [[0.0000],\n",
              "         [0.0000],\n",
              "         [0.0000],\n",
              "         [0.0000],\n",
              "         [0.0000],\n",
              "         [0.0000],\n",
              "         [0.0000],\n",
              "         [0.0000],\n",
              "         [0.0000],\n",
              "         [0.0000],\n",
              "         [0.0000],\n",
              "         [0.0000],\n",
              "         [0.1529],\n",
              "         [0.5804],\n",
              "         [0.8980],\n",
              "         [0.9922],\n",
              "         [0.9922],\n",
              "         [0.9922],\n",
              "         [0.9804],\n",
              "         [0.7137],\n",
              "         [0.0000],\n",
              "         [0.0000],\n",
              "         [0.0000],\n",
              "         [0.0000],\n",
              "         [0.0000],\n",
              "         [0.0000],\n",
              "         [0.0000],\n",
              "         [0.0000]],\n",
              "\n",
              "        [[0.0000],\n",
              "         [0.0000],\n",
              "         [0.0000],\n",
              "         [0.0000],\n",
              "         [0.0000],\n",
              "         [0.0000],\n",
              "         [0.0000],\n",
              "         [0.0000],\n",
              "         [0.0000],\n",
              "         [0.0000],\n",
              "         [0.0941],\n",
              "         [0.4471],\n",
              "         [0.8667],\n",
              "         [0.9922],\n",
              "         [0.9922],\n",
              "         [0.9922],\n",
              "         [0.9922],\n",
              "         [0.7882],\n",
              "         [0.3059],\n",
              "         [0.0000],\n",
              "         [0.0000],\n",
              "         [0.0000],\n",
              "         [0.0000],\n",
              "         [0.0000],\n",
              "         [0.0000],\n",
              "         [0.0000],\n",
              "         [0.0000],\n",
              "         [0.0000]],\n",
              "\n",
              "        [[0.0000],\n",
              "         [0.0000],\n",
              "         [0.0000],\n",
              "         [0.0000],\n",
              "         [0.0000],\n",
              "         [0.0000],\n",
              "         [0.0000],\n",
              "         [0.0000],\n",
              "         [0.0902],\n",
              "         [0.2588],\n",
              "         [0.8353],\n",
              "         [0.9922],\n",
              "         [0.9922],\n",
              "         [0.9922],\n",
              "         [0.9922],\n",
              "         [0.7765],\n",
              "         [0.3176],\n",
              "         [0.0078],\n",
              "         [0.0000],\n",
              "         [0.0000],\n",
              "         [0.0000],\n",
              "         [0.0000],\n",
              "         [0.0000],\n",
              "         [0.0000],\n",
              "         [0.0000],\n",
              "         [0.0000],\n",
              "         [0.0000],\n",
              "         [0.0000]],\n",
              "\n",
              "        [[0.0000],\n",
              "         [0.0000],\n",
              "         [0.0000],\n",
              "         [0.0000],\n",
              "         [0.0000],\n",
              "         [0.0000],\n",
              "         [0.0706],\n",
              "         [0.6706],\n",
              "         [0.8588],\n",
              "         [0.9922],\n",
              "         [0.9922],\n",
              "         [0.9922],\n",
              "         [0.9922],\n",
              "         [0.7647],\n",
              "         [0.3137],\n",
              "         [0.0353],\n",
              "         [0.0000],\n",
              "         [0.0000],\n",
              "         [0.0000],\n",
              "         [0.0000],\n",
              "         [0.0000],\n",
              "         [0.0000],\n",
              "         [0.0000],\n",
              "         [0.0000],\n",
              "         [0.0000],\n",
              "         [0.0000],\n",
              "         [0.0000],\n",
              "         [0.0000]],\n",
              "\n",
              "        [[0.0000],\n",
              "         [0.0000],\n",
              "         [0.0000],\n",
              "         [0.0000],\n",
              "         [0.2157],\n",
              "         [0.6745],\n",
              "         [0.8863],\n",
              "         [0.9922],\n",
              "         [0.9922],\n",
              "         [0.9922],\n",
              "         [0.9922],\n",
              "         [0.9569],\n",
              "         [0.5216],\n",
              "         [0.0431],\n",
              "         [0.0000],\n",
              "         [0.0000],\n",
              "         [0.0000],\n",
              "         [0.0000],\n",
              "         [0.0000],\n",
              "         [0.0000],\n",
              "         [0.0000],\n",
              "         [0.0000],\n",
              "         [0.0000],\n",
              "         [0.0000],\n",
              "         [0.0000],\n",
              "         [0.0000],\n",
              "         [0.0000],\n",
              "         [0.0000]],\n",
              "\n",
              "        [[0.0000],\n",
              "         [0.0000],\n",
              "         [0.0000],\n",
              "         [0.0000],\n",
              "         [0.5333],\n",
              "         [0.9922],\n",
              "         [0.9922],\n",
              "         [0.9922],\n",
              "         [0.8314],\n",
              "         [0.5294],\n",
              "         [0.5176],\n",
              "         [0.0627],\n",
              "         [0.0000],\n",
              "         [0.0000],\n",
              "         [0.0000],\n",
              "         [0.0000],\n",
              "         [0.0000],\n",
              "         [0.0000],\n",
              "         [0.0000],\n",
              "         [0.0000],\n",
              "         [0.0000],\n",
              "         [0.0000],\n",
              "         [0.0000],\n",
              "         [0.0000],\n",
              "         [0.0000],\n",
              "         [0.0000],\n",
              "         [0.0000],\n",
              "         [0.0000]],\n",
              "\n",
              "        [[0.0000],\n",
              "         [0.0000],\n",
              "         [0.0000],\n",
              "         [0.0000],\n",
              "         [0.0000],\n",
              "         [0.0000],\n",
              "         [0.0000],\n",
              "         [0.0000],\n",
              "         [0.0000],\n",
              "         [0.0000],\n",
              "         [0.0000],\n",
              "         [0.0000],\n",
              "         [0.0000],\n",
              "         [0.0000],\n",
              "         [0.0000],\n",
              "         [0.0000],\n",
              "         [0.0000],\n",
              "         [0.0000],\n",
              "         [0.0000],\n",
              "         [0.0000],\n",
              "         [0.0000],\n",
              "         [0.0000],\n",
              "         [0.0000],\n",
              "         [0.0000],\n",
              "         [0.0000],\n",
              "         [0.0000],\n",
              "         [0.0000],\n",
              "         [0.0000]],\n",
              "\n",
              "        [[0.0000],\n",
              "         [0.0000],\n",
              "         [0.0000],\n",
              "         [0.0000],\n",
              "         [0.0000],\n",
              "         [0.0000],\n",
              "         [0.0000],\n",
              "         [0.0000],\n",
              "         [0.0000],\n",
              "         [0.0000],\n",
              "         [0.0000],\n",
              "         [0.0000],\n",
              "         [0.0000],\n",
              "         [0.0000],\n",
              "         [0.0000],\n",
              "         [0.0000],\n",
              "         [0.0000],\n",
              "         [0.0000],\n",
              "         [0.0000],\n",
              "         [0.0000],\n",
              "         [0.0000],\n",
              "         [0.0000],\n",
              "         [0.0000],\n",
              "         [0.0000],\n",
              "         [0.0000],\n",
              "         [0.0000],\n",
              "         [0.0000],\n",
              "         [0.0000]],\n",
              "\n",
              "        [[0.0000],\n",
              "         [0.0000],\n",
              "         [0.0000],\n",
              "         [0.0000],\n",
              "         [0.0000],\n",
              "         [0.0000],\n",
              "         [0.0000],\n",
              "         [0.0000],\n",
              "         [0.0000],\n",
              "         [0.0000],\n",
              "         [0.0000],\n",
              "         [0.0000],\n",
              "         [0.0000],\n",
              "         [0.0000],\n",
              "         [0.0000],\n",
              "         [0.0000],\n",
              "         [0.0000],\n",
              "         [0.0000],\n",
              "         [0.0000],\n",
              "         [0.0000],\n",
              "         [0.0000],\n",
              "         [0.0000],\n",
              "         [0.0000],\n",
              "         [0.0000],\n",
              "         [0.0000],\n",
              "         [0.0000],\n",
              "         [0.0000],\n",
              "         [0.0000]]])"
            ]
          },
          "metadata": {},
          "execution_count": 19
        }
      ]
    }
  ]
}